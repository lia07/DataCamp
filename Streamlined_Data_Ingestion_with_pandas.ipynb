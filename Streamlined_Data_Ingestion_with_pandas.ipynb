{
  "nbformat": 4,
  "nbformat_minor": 0,
  "metadata": {
    "colab": {
      "provenance": [],
      "authorship_tag": "ABX9TyNyeT+qjlmzdhtw9ime4k0u",
      "include_colab_link": true
    },
    "kernelspec": {
      "name": "python3",
      "display_name": "Python 3"
    },
    "language_info": {
      "name": "python"
    }
  },
  "cells": [
    {
      "cell_type": "markdown",
      "metadata": {
        "id": "view-in-github",
        "colab_type": "text"
      },
      "source": [
        "<a href=\"https://colab.research.google.com/github/lia07/DataCamp/blob/main/Streamlined_Data_Ingestion_with_pandas.ipynb\" target=\"_parent\"><img src=\"https://colab.research.google.com/assets/colab-badge.svg\" alt=\"Open In Colab\"/></a>"
      ]
    },
    {
      "cell_type": "code",
      "execution_count": null,
      "metadata": {
        "id": "ypBHGgl_tJmc"
      },
      "outputs": [],
      "source": [
        "Instructions\n",
        "100 XP\n",
        "Import the pandas library as pd.\n",
        "Use read_csv() to load vt_tax_data_2016.csv and assign it to the variable data.\n",
        "View the first few lines of the dataframe with the head() method. This code has been written for you.\n",
        "\n",
        "# Import pandas as pd\n",
        "import pandas as pd\n",
        "\n",
        "# Read the CSV and assign it to the variable data\n",
        "data = pd.read_csv(\"vt_tax_data_2016.csv\")\n",
        "\n",
        "# View the first few lines of data\n",
        "print(data.head())\n"
      ]
    },
    {
      "cell_type": "code",
      "source": [
        "Instructions\n",
        "100 XP\n",
        "Import pandas with the alias pd.\n",
        "Load vt_tax_data_2016.tsv, making sure to set the correct delimiter with the sep keyword argument.\n",
        "\n",
        "# Import pandas with the alias pd\n",
        "import pandas as pd\n",
        "\n",
        "# Load TSV using the sep keyword argument to set delimiter\n",
        "data = pd.read_csv(\"vt_tax_data_2016.tsv\", sep=\"\\t\")\n",
        "\n",
        "# Plot the total number of tax returns by income group\n",
        "counts = data.groupby(\"agi_stub\").N1.sum()\n",
        "counts.plot.bar()\n",
        "plt.show()"
      ],
      "metadata": {
        "id": "wqP0BmmEtcRe"
      },
      "execution_count": null,
      "outputs": []
    },
    {
      "cell_type": "code",
      "source": [
        "Instructions\n",
        "100 XP\n",
        "Create a list of columns to use: zipcode, agi_stub (income group), mars1 (number of single households), MARS2 (number of households filing as married), and NUMDEP (number of dependents).\n",
        "Create a dataframe from vt_tax_data_2016.csv that uses only the selected columns.\n",
        "\n",
        "\n",
        "# Create list of columns to use\n",
        "cols = [\"zipcode\", \"agi_stub\", \"mars1\", \"MARS2\", \"NUMDEP\"]\n",
        "\n",
        "# Create dataframe from csv using only selected columns\n",
        "data = pd.read_csv(\"vt_tax_data_2016.csv\", usecols=cols)\n",
        "\n",
        "# View counts of dependents and tax returns by income level\n",
        "print(data.groupby(\"agi_stub\").sum())\n"
      ],
      "metadata": {
        "id": "ZxJ7CIEatcN8"
      },
      "execution_count": null,
      "outputs": []
    },
    {
      "cell_type": "code",
      "source": [],
      "metadata": {
        "id": "S_rDnggxteOl"
      },
      "execution_count": null,
      "outputs": []
    },
    {
      "cell_type": "code",
      "source": [],
      "metadata": {
        "id": "eFttUidEtcL4"
      },
      "execution_count": null,
      "outputs": []
    },
    {
      "cell_type": "code",
      "source": [],
      "metadata": {
        "id": "nTKaZpeFtcJQ"
      },
      "execution_count": null,
      "outputs": []
    },
    {
      "cell_type": "code",
      "source": [],
      "metadata": {
        "id": "JC53m6yHtcHC"
      },
      "execution_count": null,
      "outputs": []
    },
    {
      "cell_type": "code",
      "source": [],
      "metadata": {
        "id": "TLX1N7kttcEQ"
      },
      "execution_count": null,
      "outputs": []
    }
  ]
}