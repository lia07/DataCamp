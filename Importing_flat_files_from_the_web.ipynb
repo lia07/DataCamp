{
  "nbformat": 4,
  "nbformat_minor": 0,
  "metadata": {
    "colab": {
      "name": "Importing_flat_files_from_the_web.ipynb",
      "provenance": [],
      "authorship_tag": "ABX9TyNP6LwZCfRFyrsXeWXl5tao",
      "include_colab_link": true
    },
    "kernelspec": {
      "name": "python3",
      "display_name": "Python 3"
    },
    "language_info": {
      "name": "python"
    }
  },
  "cells": [
    {
      "cell_type": "markdown",
      "metadata": {
        "id": "view-in-github",
        "colab_type": "text"
      },
      "source": [
        "<a href=\"https://colab.research.google.com/github/lia07/DataCamp/blob/main/Importing_flat_files_from_the_web.ipynb\" target=\"_parent\"><img src=\"https://colab.research.google.com/assets/colab-badge.svg\" alt=\"Open In Colab\"/></a>"
      ]
    },
    {
      "cell_type": "markdown",
      "metadata": {
        "id": "Qp0SxVKYJ4gs"
      },
      "source": [
        "Importing flat files from the web\n"
      ]
    },
    {
      "cell_type": "markdown",
      "metadata": {
        "id": "feivtB0WTMJQ"
      },
      "source": [
        "1"
      ]
    },
    {
      "cell_type": "code",
      "metadata": {
        "id": "B-jaukn7J5pS"
      },
      "source": [
        "Instructions\n",
        "70 XP\n",
        "Import the function urlretrieve from the subpackage urllib.request.\n",
        "Assign the URL of the file to the variable url.\n",
        "Use the function urlretrieve() to save the file locally as 'winequality-red.csv'.\n",
        "Execute the remaining code to load 'winequality-red.csv' in a pandas DataFrame and to print its head to the shell.\n",
        "\n",
        "# Import package\n",
        "from urllib.request import urlretrieve\n",
        "\n",
        "# Import pandas\n",
        "import pandas as pd\n",
        "\n",
        "# Assign url of file: url\n",
        "url = 'https://s3.amazonaws.com/assets.datacamp.com/production/course_1606/datasets/winequality-red.csv'\n",
        "\n",
        "# Save file locally\n",
        "urlretrieve(url, 'winequality-red.csv')\n",
        "\n",
        "# Read file into a DataFrame and print its head\n",
        "df = pd.read_csv('winequality-red.csv', sep=';')\n",
        "print(df.head())"
      ],
      "execution_count": null,
      "outputs": []
    },
    {
      "cell_type": "code",
      "metadata": {
        "id": "pbjn2pBBSCcj"
      },
      "source": [
        "Instructions\n",
        "100 XP\n",
        "Assign the URL of the file to the variable url.\n",
        "Read file into a DataFrame df using pd.read_csv(), recalling that the separator in the file is ';'.\n",
        "Print the head of the DataFrame df.\n",
        "Execute the rest of the code to plot histogram of the first feature in the DataFrame df.\n",
        "\n",
        "# Import packages\n",
        "import matplotlib.pyplot as plt\n",
        "import pandas as pd\n",
        "\n",
        "# Assign url of file: url\n",
        "url = 'https://s3.amazonaws.com/assets.datacamp.com/production/course_1606/datasets/winequality-red.csv'\n",
        "\n",
        "# Read file into a DataFrame: df\n",
        "df = pd.read_csv(url, sep=';')\n",
        "\n",
        "# Print the head of the DataFrame\n",
        "print(df.head())\n",
        "\n",
        "# Plot first column of df\n",
        "pd.DataFrame.hist(df.ix[:, 0:1])\n",
        "plt.xlabel('fixed acidity (g(tartaric acid)/dm$^3$)')\n",
        "plt.ylabel('count')\n",
        "plt.show()\n"
      ],
      "execution_count": null,
      "outputs": []
    },
    {
      "cell_type": "code",
      "metadata": {
        "id": "gcovHfctYAR5"
      },
      "source": [
        "Instructions\n",
        "100 XP\n",
        "Assign the URL of the file to the variable url.\n",
        "Read the file in url into a dictionary xls using pd.read_excel() recalling that, in order to import all sheets you need to pass None to the argument sheet_name.\n",
        "Print the names of the sheets in the Excel spreadsheet; these will be the keys of the dictionary xls.\n",
        "Print the head of the first sheet using the sheet name, not the index of the sheet! The sheet name is '1700'\n",
        "\n",
        "# Import package\n",
        "import pandas as pd\n",
        "\n",
        "# Assign url of file: url\n",
        "url = 'http://s3.amazonaws.com/assets.datacamp.com/course/importing_data_into_r/latitude.xls'\n",
        "\n",
        "# Read in all sheets of Excel file: xls\n",
        "xls = pd.read_excel(url, sheet_name=None)\n",
        "\n",
        "# Print the sheetnames to the shell\n",
        "print(xls.keys())\n",
        "\n",
        "# Print the head of the first sheet (using its name, NOT its index)\n",
        "print(xls['1700'].head())"
      ],
      "execution_count": null,
      "outputs": []
    },
    {
      "cell_type": "code",
      "metadata": {
        "id": "G-NNnnn90-so"
      },
      "source": [
        "Instructions\n",
        "100 XP\n",
        "Import the functions urlopen and Request from the subpackage urllib.request.\n",
        "Package the request to the url \"https://campus.datacamp.com/courses/1606/4135?ex=2\" using the function Request() and assign it to request.\n",
        "Send the request and catch the response in the variable response with the function urlopen().\n",
        "Run the rest of the code to see the datatype of response and to close the connection!\n",
        "\n",
        "# Import packages\n",
        "from urllib.request import urlopen, Request\n",
        "\n",
        "# Specify the url\n",
        "url = \"https://campus.datacamp.com/courses/1606/4135?ex=2\"\n",
        "\n",
        "# This packages the request: request\n",
        "request = Request(url)\n",
        "\n",
        "# Sends the request and catches the response: response\n",
        "response = urlopen(request)\n",
        "\n",
        "# Print the datatype of response\n",
        "print(type(response))\n",
        "\n",
        "# Be polite and close the response!\n",
        "response.close()"
      ],
      "execution_count": null,
      "outputs": []
    },
    {
      "cell_type": "code",
      "metadata": {
        "id": "_Lta_aLkE8j8"
      },
      "source": [
        "Instructions\n",
        "100 XP\n",
        "Send the request and catch the response in the variable response with the function urlopen(), as in the previous exercise.\n",
        "Extract the response using the read() method and store the result in the variable html.\n",
        "Print the string html.\n",
        "Hit submit to perform all of the above and to close the response: be tidy!\n",
        "\n",
        "# Import packages\n",
        "from urllib.request import urlopen, Request\n",
        "\n",
        "# Specify the url\n",
        "url = \"https://campus.datacamp.com/courses/1606/4135?ex=2\"\n",
        "\n",
        "# This packages the request\n",
        "request = Request(url)\n",
        "\n",
        "# Sends the request and catches the response: response\n",
        "response = urlopen(request)\n",
        "\n",
        "# Extract the response: html\n",
        "html = response.read()\n",
        "\n",
        "# Print the html\n",
        "print(html)\n",
        "\n",
        "# Be polite and close the response!\n",
        "response.close()"
      ],
      "execution_count": null,
      "outputs": []
    },
    {
      "cell_type": "code",
      "metadata": {
        "id": "hTmPhPmSLQVq"
      },
      "source": [
        "Instructions\n",
        "100 XP\n",
        "Import the package requests.\n",
        "Assign the URL of interest to the variable url.\n",
        "Package the request to the URL, send the request and catch the response with a single function requests.get(), assigning the response to the variable r.\n",
        "Use the text attribute of the object r to return the HTML of the webpage as a string; store the result in a variable text.\n",
        "Hit submit to print the HTML of the webpage.\n",
        "\n",
        "# Import package\n",
        "import requests\n",
        "\n",
        "# Specify the url: url\n",
        "url = \"http://www.datacamp.com/teach/documentation\"\n",
        "\n",
        "# Packages the request, send the request and catch the response: r\n",
        "r = requests.get(url)\n",
        "\n",
        "# Extract the response: text\n",
        "text = r.text\n",
        "\n",
        "# Print the html\n",
        "print(text)"
      ],
      "execution_count": null,
      "outputs": []
    },
    {
      "cell_type": "code",
      "metadata": {
        "id": "kHQPyYIFMjLT"
      },
      "source": [
        "Instructions\n",
        "100 XP\n",
        "Import the function BeautifulSoup from the package bs4.\n",
        "Assign the URL of interest to the variable url.\n",
        "Package the request to the URL, send the request and catch the response with a single function requests.get(), assigning the response to the variable r.\n",
        "Use the text attribute of the object r to return the HTML of the webpage as a string; store the result in a variable html_doc.\n",
        "Create a BeautifulSoup object soup from the resulting HTML using the function BeautifulSoup().\n",
        "Use the method prettify() on soup and assign the result to pretty_soup.\n",
        "Hit submit to print to prettified HTML to your shell!\n",
        "\n",
        "# Import packages\n",
        "import requests\n",
        "from bs4 import BeautifulSoup\n",
        "\n",
        "# Specify url: url\n",
        "url = 'https://www.python.org/~guido/'\n",
        "\n",
        "# Package the request, send the request and catch the response: r\n",
        "r = requests.get(url)\n",
        "\n",
        "# Extracts the response as html: html_doc\n",
        "html_doc = r.text\n",
        "\n",
        "# Create a BeautifulSoup object from the HTML: soup\n",
        "soup = BeautifulSoup(html_doc)\n",
        "\n",
        "# Prettify the BeautifulSoup object: pretty_soup\n",
        "pretty_soup = soup.prettify()\n",
        "\n",
        "# Print the response\n",
        "print(pretty_soup)"
      ],
      "execution_count": null,
      "outputs": []
    },
    {
      "cell_type": "code",
      "metadata": {
        "id": "MqIPMo3fRqO9"
      },
      "source": [
        "Instructions\n",
        "100 XP\n",
        "In the sample code, the HTML response object html_doc has already been created: your first task is to Soupify it using the function BeautifulSoup() and to assign the resulting soup to the variable soup.\n",
        "Extract the title from the HTML soup soup using the attribute title and assign the result to guido_title.\n",
        "Print the title of Guido's webpage to the shell using the print() function.\n",
        "Extract the text from the HTML soup soup using the method get_text() and assign to guido_text.\n",
        "Hit submit to print the text from Guido's webpage to the shell.\n",
        "\n",
        "# Import packages\n",
        "import requests\n",
        "from bs4 import BeautifulSoup\n",
        "\n",
        "# Specify url: url\n",
        "url = 'https://www.python.org/~guido/'\n",
        "\n",
        "# Package the request, send the request and catch the response: r\n",
        "r = requests.get(url)\n",
        "\n",
        "# Extract the response as html: html_doc\n",
        "html_doc = r.text\n",
        "\n",
        "# Create a BeautifulSoup object from the HTML: soup\n",
        "soup = BeautifulSoup(html_doc)\n",
        "\n",
        "# Get the title of Guido's webpage: guido_title\n",
        "guido_title = soup.title\n",
        "\n",
        "# Print the title of Guido's webpage to the shell\n",
        "print(guido_title)\n",
        "\n",
        "# Get Guido's text: guido_text\n",
        "guido_text = soup.get_text()\n",
        "\n",
        "# Print Guido's text to the shell\n",
        "print(guido_text)"
      ],
      "execution_count": null,
      "outputs": []
    },
    {
      "cell_type": "code",
      "metadata": {
        "id": "lubCHMn_SI11"
      },
      "source": [
        "Instructions\n",
        "100 XP\n",
        "Use the method find_all() to find all hyperlinks in soup, remembering that hyperlinks are defined by the HTML tag <a> but passed to find_all() without angle brackets; store the result in the variable a_tags.\n",
        "The variable a_tags is a results set: your job now is to enumerate over it, using a for loop and to print the actual URLs of the hyperlinks; to do this, for every element link in a_tags, you want to print() link.get('href').\n",
        "\n",
        "# Import packages\n",
        "import requests\n",
        "from bs4 import BeautifulSoup\n",
        "\n",
        "# Specify url\n",
        "url = 'https://www.python.org/~guido/'\n",
        "\n",
        "# Package the request, send the request and catch the response: r\n",
        "r = requests.get(url)\n",
        "\n",
        "# Extracts the response as html: html_doc\n",
        "html_doc = r.text\n",
        "\n",
        "# create a BeautifulSoup object from the HTML: soup\n",
        "soup = BeautifulSoup(html_doc)\n",
        "\n",
        "# Print the title of Guido's webpage\n",
        "print(soup.title)\n",
        "\n",
        "# Find all 'a' tags (which define hyperlinks): a_tags\n",
        "a_tags = soup.find_all('a')\n",
        "\n",
        "# Print the URLs to the shell\n",
        "for link in a_tags:\n",
        "    print(link.get('href'))"
      ],
      "execution_count": null,
      "outputs": []
    },
    {
      "cell_type": "markdown",
      "metadata": {
        "id": "oUBbYmQqTI_q"
      },
      "source": [
        "2. Introduction to APIs and JSONs\n"
      ]
    },
    {
      "cell_type": "code",
      "metadata": {
        "id": "kI87R8BGTyO2"
      },
      "source": [
        "The function json.load() will load the JSON into Python as a list"
      ],
      "execution_count": null,
      "outputs": []
    },
    {
      "cell_type": "code",
      "metadata": {
        "id": "i_z-1GM_UAqV"
      },
      "source": [
        "Instructions\n",
        "100 XP\n",
        "Load the JSON 'a_movie.json' into the variable json_data within the context provided by the with statement. To do so, use the function json.load() within the context manager.\n",
        "Use a for loop to print all key-value pairs in the dictionary json_data. Recall that you can access a value in a dictionary using the syntax: dictionary[key].\n",
        "\n",
        "# Load JSON: json_data\n",
        "with open(\"a_movie.json\") as json_file:\n",
        "    json_data = json.load(json_file)\n",
        "\n",
        "# Print each key-value pair in json_data\n",
        "for k in json_data.keys():\n",
        "    print(k + ': ', json_data[k])"
      ],
      "execution_count": null,
      "outputs": []
    },
    {
      "cell_type": "code",
      "metadata": {
        "id": "Il0UBSUdFJCM"
      },
      "source": [
        "Import the requests package.\n",
        "Assign to the variable url the URL of interest in order to query 'http://www.omdbapi.com' for the data corresponding to the movie The Social Network. The query string should have two arguments: apikey=72bc447a and t=the+social+network. You can combine them as follows: apikey=72bc447a&t=the+social+network.\n",
        "Print the text of the response object r by using its text attribute and passing the result to the print() function.\n",
        "\n",
        "# Import requests package\n",
        "import requests\n",
        "\n",
        "# Assign URL to variable: url\n",
        "url = 'http://www.omdbapi.com/?apikey=72bc447a&t=the+social+network'\n",
        "\n",
        "# Package the request, send the request and catch the response: r\n",
        "r = requests.get(url)\n",
        "\n",
        "# Print the text of the response\n",
        "print(r.text)"
      ],
      "execution_count": null,
      "outputs": []
    },
    {
      "cell_type": "code",
      "metadata": {
        "id": "AZi9uoHkZbk5"
      },
      "source": [
        "Instructions\n",
        "100 XP\n",
        "Pass the variable url to the requests.get() function in order to send the relevant request and catch the response, assigning the resultant response message to the variable r.\n",
        "Apply the json() method to the response object r and store the resulting dictionary in the variable json_data.\n",
        "Hit Submit Answer to print the key-value pairs of the dictionary json_data to the shell.\n",
        "\n",
        "# Import package\n",
        "import requests\n",
        "\n",
        "# Assign URL to variable: url\n",
        "url = 'http://www.omdbapi.com/?apikey=72bc447a&t=social+network'\n",
        "\n",
        "# Package the request, send the request and catch the response: r\n",
        "r = requests.get(url)\n",
        "\n",
        "# Decode the JSON data into a dictionary: json_data\n",
        "json_data = r.json()\n",
        "\n",
        "# Print each key-value pair in json_data\n",
        "for k in json_data.keys():\n",
        "    print(k + ': ', json_data[k])\n",
        "\n"
      ],
      "execution_count": null,
      "outputs": []
    }
  ]
}