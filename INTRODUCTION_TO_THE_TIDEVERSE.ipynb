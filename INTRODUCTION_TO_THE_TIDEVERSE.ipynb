{
  "nbformat": 4,
  "nbformat_minor": 0,
  "metadata": {
    "colab": {
      "name": "INTRODUCTION_TO_THE_TIDEVERSE.ipynb",
      "provenance": [],
      "authorship_tag": "ABX9TyNCBYJRdWfJOMSwiu6QF61I",
      "include_colab_link": true
    },
    "kernelspec": {
      "name": "python3",
      "display_name": "Python 3"
    },
    "language_info": {
      "name": "python"
    }
  },
  "cells": [
    {
      "cell_type": "markdown",
      "metadata": {
        "id": "view-in-github",
        "colab_type": "text"
      },
      "source": [
        "<a href=\"https://colab.research.google.com/github/lia07/DataCamp/blob/main/INTRODUCTION_TO_THE_TIDEVERSE.ipynb\" target=\"_parent\"><img src=\"https://colab.research.google.com/assets/colab-badge.svg\" alt=\"Open In Colab\"/></a>"
      ]
    },
    {
      "cell_type": "markdown",
      "source": [
        "INTRODUCTION_TO_THE_TIDEVERSE"
      ],
      "metadata": {
        "id": "4FaeKhnPczh2"
      }
    },
    {
      "cell_type": "markdown",
      "source": [
        "1"
      ],
      "metadata": {
        "id": "3HhffVeZeoxW"
      }
    },
    {
      "cell_type": "code",
      "source": [
        "Instructions\n",
        "100 XP\n",
        "Use the library() function to load the dplyr package, just like we've loaded the gapminder package for you.\n",
        "Type gapminder, on its own line, to look at the gapminder dataset.\n",
        "\n",
        "\n",
        "# Load the gapminder package\n",
        "library(gapminder)\n",
        "\n",
        "# Load the dplyr package\n",
        "library(dplyr)\n",
        "\n",
        "# Look at the gapminder dataset\n",
        "gapminder"
      ],
      "metadata": {
        "id": "wImDO4IEepqy"
      },
      "execution_count": null,
      "outputs": []
    },
    {
      "cell_type": "code",
      "source": [
        "Instructions\n",
        "100 XP\n",
        "Add a filter() line after the pipe (%>%) to extract only the observations from the year 1957. Remember that you use == to compare two values.\n",
        "\n",
        "library(gapminder)\n",
        "library(dplyr)\n",
        "\n",
        "# Filter the gapminder dataset for the year 1957\n",
        "gapminder %>%\n",
        "  filter(year == 1957)\n",
        "\n",
        "  "
      ],
      "metadata": {
        "id": "Mevhq4b1BZfI"
      },
      "execution_count": null,
      "outputs": []
    },
    {
      "cell_type": "code",
      "source": [
        "Instructions\n",
        "100 XP\n",
        "Filter the gapminder data to retrieve only the observation from China in the year 2002.\n",
        "\n",
        "library(gapminder)\n",
        "library(dplyr)\n",
        "\n",
        "# Filter for China in 2002\n",
        "gapminder %>%\n",
        "  filter(country == \"China\", year == 2002)\n"
      ],
      "metadata": {
        "id": "Xe4tTCRDc68Z"
      },
      "execution_count": null,
      "outputs": []
    },
    {
      "cell_type": "code",
      "source": [
        "Instructions\n",
        "100 XP\n",
        "Sort the gapminder dataset in ascending order of life expectancy (lifeExp).\n",
        "Sort the gapminder dataset in descending order of life expectancy.\n",
        "\n",
        "library(gapminder)\n",
        "library(dplyr)\n",
        "\n",
        "# Sort in ascending order of lifeExp\n",
        "gapminder %>%\n",
        "  arrange(lifeExp)\n",
        "  \n",
        "# Sort in descending order of lifeExp\n",
        "gapminder %>%\n",
        "  arrange(desc(lifeExp))"
      ],
      "metadata": {
        "id": "PZjsavjQc_cQ"
      },
      "execution_count": null,
      "outputs": []
    },
    {
      "cell_type": "code",
      "source": [
        "Instructions\n",
        "100 XP\n",
        "Use filter() to extract observations from just the year 1957, then use arrange() to sort in descending order of population (pop).\n",
        "\n",
        "library(gapminder)\n",
        "library(dplyr)\n",
        "\n",
        "# Filter for the year 1957, then arrange in descending order of population\n",
        "gapminder %>%\n",
        "  filter(year == 1957) %>%\n",
        "  arrange(desc(pop))"
      ],
      "metadata": {
        "id": "3AqNjwH8c_Yq"
      },
      "execution_count": null,
      "outputs": []
    },
    {
      "cell_type": "code",
      "source": [
        "Instructions\n",
        "100 XP\n",
        "Use mutate() to change the existing lifeExp column, by multiplying it by 12: 12 * lifeExp.\n",
        "Use mutate() to add a new column, called lifeExpMonths, calculated as 12 * lifeExp.\n",
        "\n",
        "library(gapminder)\n",
        "library(dplyr)\n",
        "\n",
        "# Use mutate to change lifeExp to be in months\n",
        "gapminder %>%\n",
        "  mutate(lifeExp = lifeExp * 12)\n",
        "\n",
        "# Use mutate to create a new column called lifeExpMonths\n",
        "gapminder %>%\n",
        "  mutate(lifeExpMonths = lifeExp * 12)"
      ],
      "metadata": {
        "id": "s3cUyLyJc_V3"
      },
      "execution_count": null,
      "outputs": []
    },
    {
      "cell_type": "code",
      "source": [
        "Instructions\n",
        "100 XP\n",
        "In one sequence of pipes on the gapminder dataset:\n",
        "filter() for observations from the year 2007,\n",
        "mutate() to create a column lifeExpMonths, calculated as 12 * lifeExp, and\n",
        "arrange() in descending order of that new column\n",
        "\n",
        "\n",
        "library(gapminder)\n",
        "library(dplyr)\n",
        "\n",
        "# Filter, mutate, and arrange the gapminder dataset\n",
        "gapminder %>%\n",
        "  filter(year == 2007) %>%\n",
        "  mutate(lifeExpMonths = 12 * lifeExp) %>%\n",
        "  arrange(desc(lifeExpMonths))\n",
        "  "
      ],
      "metadata": {
        "id": "2B4L_e6wc_SQ"
      },
      "execution_count": null,
      "outputs": []
    },
    {
      "cell_type": "code",
      "source": [
        "Instructions\n",
        "100 XP\n",
        "Load the ggplot2 package after the gapminder and dplyr packages.\n",
        "Filter gapminder for observations from the year 1952, and assign it to a new dataset gapminder_1952 using the assignment operator (<-).\n",
        "\n",
        "\n",
        "# Load the ggplot2 package as well\n",
        "library(gapminder)\n",
        "library(dplyr)\n",
        "library(ggplot2)\n",
        "\n",
        "# Create gapminder_1952\n",
        "gapminder_1952 <- gapminder %>%\n",
        "  filter(year == 1952)"
      ],
      "metadata": {
        "id": "_cNmU3dnc_PT"
      },
      "execution_count": null,
      "outputs": []
    },
    {
      "cell_type": "code",
      "source": [
        "Instructions\n",
        "100 XP\n",
        "Change the scatter plot of gapminder_1952 so that (pop) is on the x-axis and GDP per capita (gdpPercap) is on the y-axis.\n",
        "\n",
        "library(gapminder)\n",
        "library(dplyr)\n",
        "library(ggplot2)\n",
        "\n",
        "gapminder_1952 <- gapminder %>%\n",
        "  filter(year == 1952)\n",
        "\n",
        "# Change to put pop on the x-axis and gdpPercap on the y-axis\n",
        "ggplot(gapminder_1952, aes(x = pop, y = gdpPercap)) +\n",
        "  geom_point()\n",
        "  "
      ],
      "metadata": {
        "id": "tX6LeS4Yc_Kt"
      },
      "execution_count": null,
      "outputs": []
    },
    {
      "cell_type": "code",
      "source": [
        "Instructions\n",
        "100 XP\n",
        "Create a scatter plot of gapminder_1952 with population (pop) is on the x-axis and life expectancy (lifeExp) on the y-axis.\n",
        "\n",
        "\n",
        "library(gapminder)\n",
        "library(dplyr)\n",
        "library(ggplot2)\n",
        "\n",
        "gapminder_1952 <- gapminder %>%\n",
        "  filter(year == 1952)\n",
        "\n",
        "# Create a scatter plot with pop on the x-axis and lifeExp on the y-axis\n",
        "ggplot(gapminder_1952, aes(x = pop, y = lifeExp)) +\n",
        "  geom_point()"
      ],
      "metadata": {
        "id": "4mQ5Mx77c_IG"
      },
      "execution_count": null,
      "outputs": []
    },
    {
      "cell_type": "code",
      "source": [
        "Instructions\n",
        "100 XP\n",
        "Change the existing scatter plot (code provided) to put the x-axis (representing population) on a log scale.\n",
        "\n",
        "\n",
        "library(gapminder)\n",
        "library(dplyr)\n",
        "library(ggplot2)\n",
        "\n",
        "gapminder_1952 <- gapminder %>%\n",
        "  filter(year == 1952)\n",
        "\n",
        "# Change this plot to put the x-axis on a log scale\n",
        "ggplot(gapminder_1952, aes(x = pop, y = lifeExp)) +\n",
        "  geom_point() +\n",
        "  scale_x_log10()"
      ],
      "metadata": {
        "id": "0mHDeIHhc_DT"
      },
      "execution_count": null,
      "outputs": []
    },
    {
      "cell_type": "code",
      "source": [
        "Instructions\n",
        "100 XP\n",
        "Create a scatter plot with population (pop) on the x-axis and GDP per capita (gdpPercap) on the y-axis. Put both the x- and y- axes on a log scale.\n",
        "\n",
        "\n",
        "library(gapminder)\n",
        "library(dplyr)\n",
        "library(ggplot2)\n",
        "\n",
        "gapminder_1952 <- gapminder %>%\n",
        "  filter(year == 1952)\n",
        "\n",
        "# Scatter plot comparing pop and gdpPercap, with both axes on a log scale\n",
        "ggplot(gapminder_1952, aes(x = pop, y = gdpPercap)) +\n",
        "  geom_point() +\n",
        "  scale_x_log10() +\n",
        "  scale_y_log10()"
      ],
      "metadata": {
        "id": "jn6r-lLu_PfV"
      },
      "execution_count": null,
      "outputs": []
    },
    {
      "cell_type": "code",
      "source": [
        "Instructions\n",
        "100 XP\n",
        "Create a scatter plot with population (pop) on the x-axis, life expectancy (lifeExp) on the y-axis, and with continent (continent) represented by the color of the points. Put the x-axis on a log scale.\n",
        "\n",
        "\n",
        "library(gapminder)\n",
        "library(dplyr)\n",
        "library(ggplot2)\n",
        "\n",
        "gapminder_1952 <- gapminder %>%\n",
        "  filter(year == 1952)\n",
        "\n",
        "# Scatter plot comparing pop and lifeExp, with color representing continent\n",
        "ggplot(gapminder_1952, aes(x = pop, y = lifeExp, color = continent)) +\n",
        "  geom_point() +\n",
        "  scale_x_log10()"
      ],
      "metadata": {
        "id": "yEsfi3QVGrT2"
      },
      "execution_count": null,
      "outputs": []
    },
    {
      "cell_type": "code",
      "source": [
        "Instructions\n",
        "100 XP\n",
        "Modify the scatter plot so that the size of the points represents each country's GDP per capita (gdpPercap).\n",
        "\n",
        "library(gapminder)\n",
        "library(dplyr)\n",
        "library(ggplot2)\n",
        "\n",
        "gapminder_1952 <- gapminder %>%\n",
        "  filter(year == 1952)\n",
        "\n",
        "# Add the size aesthetic to represent a country's gdpPercap\n",
        "ggplot(gapminder_1952, aes(x = pop, y = lifeExp, color = continent, size = gdpPercap)) +\n",
        "  geom_point() +\n",
        "  scale_x_log10()\n",
        "  "
      ],
      "metadata": {
        "id": "nnnyETeM_PbQ"
      },
      "execution_count": null,
      "outputs": []
    },
    {
      "cell_type": "code",
      "source": [
        "Instructions\n",
        "100 XP\n",
        "Create a scatter plot of gapminder_1952 with the x-axis representing population (pop), the y-axis representing life expectancy (lifeExp), and faceted to have one subplot per continent (continent). Put the x-axis on a log scale.\n",
        "\n",
        "library(gapminder)\n",
        "library(dplyr)\n",
        "library(ggplot2)\n",
        "\n",
        "gapminder_1952 <- gapminder %>%\n",
        "  filter(year == 1952)\n",
        "\n",
        "# Scatter plot comparing pop and lifeExp, faceted by continent\n",
        "ggplot(gapminder_1952, aes(x = pop, y = lifeExp)) +\n",
        "  geom_point() +\n",
        "  scale_x_log10() +\n",
        "  facet_wrap(~ continent)"
      ],
      "metadata": {
        "id": "6K0z6-lL_PX0"
      },
      "execution_count": null,
      "outputs": []
    },
    {
      "cell_type": "code",
      "source": [
        "Instructions\n",
        "100 XP\n",
        "Create a scatter plot of the gapminder data:\n",
        "Put GDP per capita (gdpPercap) on the x-axis and life expectancy (lifeExp) on the y-axis, with continent (continent) represented by color and population (pop) represented by size.\n",
        "Put the x-axis on a log scale\n",
        "Facet by the year variable\n",
        "\n",
        "library(gapminder)\n",
        "library(dplyr)\n",
        "library(ggplot2)\n",
        "\n",
        "# Scatter plot comparing gdpPercap and lifeExp, with color representing continent\n",
        "# and size representing population, faceted by year\n",
        "ggplot(gapminder, aes(x = gdpPercap, y = lifeExp, color = continent, size = pop)) +\n",
        "  geom_point() +\n",
        "  scale_x_log10() +\n",
        "  facet_wrap(~ year)"
      ],
      "metadata": {
        "id": "ghAF_p81c_Av"
      },
      "execution_count": null,
      "outputs": []
    },
    {
      "cell_type": "markdown",
      "source": [
        "3"
      ],
      "metadata": {
        "id": "bnaTxErrPqje"
      }
    },
    {
      "cell_type": "code",
      "source": [
        "Instructions\n",
        "100 XP\n",
        "Use the median() function within a summarize() to find the median life expectancy. Save it into a column called medianLifeExp.\n",
        "\n",
        "library(gapminder)\n",
        "library(dplyr)\n",
        "\n",
        "# Summarize to find the median life expectancy\n",
        "gapminder %>%\n",
        "  summarize(medianLifeExp = median(lifeExp))\n",
        "  "
      ],
      "metadata": {
        "id": "zjN9-l6UPtBp"
      },
      "execution_count": null,
      "outputs": []
    },
    {
      "cell_type": "code",
      "source": [
        "Instructions\n",
        "100 XP\n",
        "Filter for the year 1957, then use the median() function within a summarize() to calculate the median life expectancy into a column called medianLifeExp.\n",
        "\n",
        "\n",
        "library(gapminder)\n",
        "library(dplyr)\n",
        "\n",
        "# Filter for 1957 then summarize the median life expectancy\n",
        "gapminder %>%\n",
        "  filter(year == 1957) %>%\n",
        "  summarize(medianLifeExp = median(lifeExp))"
      ],
      "metadata": {
        "id": "xMkk-FfvPsOi"
      },
      "execution_count": null,
      "outputs": []
    },
    {
      "cell_type": "code",
      "source": [
        "Instructions\n",
        "100 XP\n",
        "Find both the median life expectancy (lifeExp) and the maximum GDP per capita (gdpPercap) in the year 1957, calling them medianLifeExp and maxGdpPercap respectively. You can use the max() function to find the maximum.\n",
        "\n",
        "\n",
        "library(gapminder)\n",
        "library(dplyr)\n",
        "\n",
        "# Filter for 1957 then summarize the median life expectancy and the maximum GDP per capita\n",
        "gapminder %>%\n",
        "  filter(year == 1957) %>%\n",
        "  summarize(medianLifeExp = median(lifeExp),\n",
        "            maxGdpPercap = max(gdpPercap))"
      ],
      "metadata": {
        "id": "H79vvR_SRNbf"
      },
      "execution_count": null,
      "outputs": []
    },
    {
      "cell_type": "code",
      "source": [
        "Instructions\n",
        "100 XP\n",
        "Find the median life expectancy (lifeExp) and maximum GDP per capita (gdpPercap) within each year, saving them into medianLifeExp and maxGdpPercap, respectively.\n",
        "\n",
        "library(gapminder)\n",
        "library(dplyr)\n",
        "\n",
        "# Find median life expectancy and maximum GDP per capita in each year\n",
        "gapminder %>%\n",
        "  group_by(year) %>%\n",
        "  summarize(medianLifeExp = median(lifeExp),\n",
        "            maxGdpPercap = max(gdpPercap))\n",
        "  "
      ],
      "metadata": {
        "id": "xUqKcBJP_PKU"
      },
      "execution_count": null,
      "outputs": []
    },
    {
      "cell_type": "code",
      "source": [
        "Instructions\n",
        "100 XP\n",
        "Filter the gapminder data for the year 1957. Then find the median life expectancy (lifeExp) and maximum GDP per capita (gdpPercap) within each continent, saving them into medianLifeExp and maxGdpPercap, respectively.\n",
        "\n",
        "\n",
        "library(gapminder)\n",
        "library(dplyr)\n",
        "\n",
        "# Find median life expectancy and maximum GDP per capita in each continent in 1957\n",
        "gapminder %>%\n",
        "  filter(year == 1957) %>%\n",
        "  group_by(continent) %>%\n",
        "  summarize(medianLifeExp = median(lifeExp),\n",
        "            maxGdpPercap = max(gdpPercap))"
      ],
      "metadata": {
        "id": "ceKSvSPDMlMS"
      },
      "execution_count": null,
      "outputs": []
    },
    {
      "cell_type": "code",
      "source": [
        "Instructions\n",
        "100 XP\n",
        "Find the median life expectancy (lifeExp) and maximum GDP per capita (gdpPercap) within each combination of continent and year, saving them into medianLifeExp and maxGdpPercap, respectively.\n",
        "\n",
        "\n",
        "library(gapminder)\n",
        "library(dplyr)\n",
        "\n",
        "# Find median life expectancy and maximum GDP per capita in each continent/year combination\n",
        "gapminder %>%\n",
        "  group_by(continent, year) %>%\n",
        "  summarize(medianLifeExp = median(lifeExp),\n",
        "            maxGdpPercap = max(gdpPercap))"
      ],
      "metadata": {
        "id": "Rjql3w8WRNYX"
      },
      "execution_count": null,
      "outputs": []
    },
    {
      "cell_type": "code",
      "source": [
        "Instructions\n",
        "100 XP\n",
        "Use the by_year dataset to create a scatter plot showing the change of median life expectancy over time, with year on the x-axis and medianLifeExp on the y-axis. Be sure to add expand_limits(y = 0) to make sure the plot's y-axis includes zero.\n",
        "\n",
        "library(gapminder)\n",
        "library(dplyr)\n",
        "library(ggplot2)\n",
        "\n",
        "by_year <- gapminder %>%\n",
        "  group_by(year) %>%\n",
        "  summarize(medianLifeExp = median(lifeExp),\n",
        "            maxGdpPercap = max(gdpPercap))\n",
        "\n",
        "# Create a scatter plot showing the change in medianLifeExp over time\n",
        "ggplot(by_year, aes(x = year, y = medianLifeExp)) +\n",
        "  geom_point() +\n",
        "  expand_limits(y = 0)\n"
      ],
      "metadata": {
        "id": "JkiGQJn6RNTV"
      },
      "execution_count": null,
      "outputs": []
    },
    {
      "cell_type": "code",
      "source": [
        "Instructions\n",
        "100 XP\n",
        "Summarize the gapminder dataset by continent and year, finding the median GDP per capita (gdpPercap) within each and putting it into a column called medianGdpPercap. Use the assignment operator <- to save this summarized data as by_year_continent.\n",
        "Create a scatter plot showing the change in medianGdpPercap by continent over time. Use color to distinguish between continents, and be sure to add expand_limits(y = 0) so that the y-axis starts at zero.\n",
        "\n",
        "\n",
        "library(gapminder)\n",
        "library(dplyr)\n",
        "library(ggplot2)\n",
        "\n",
        "# Summarize medianGdpPercap within each continent within each year: by_year_continent\n",
        "by_year_continent <- gapminder %>%\n",
        "  group_by(continent, year) %>%\n",
        "  summarize(medianGdpPercap = median(gdpPercap))\n",
        "\n",
        "# Plot the change in medianGdpPercap in each continent over time\n",
        "ggplot(by_year_continent, aes(x = year, y = medianGdpPercap, color = continent)) +\n",
        "  geom_point() +\n",
        "  expand_limits(y = 0)"
      ],
      "metadata": {
        "id": "nuaaz1usWotq"
      },
      "execution_count": null,
      "outputs": []
    },
    {
      "cell_type": "code",
      "source": [
        "Instructions\n",
        "100 XP\n",
        "Filter the gapminder dataset for the year 2007, then summarize the median GDP per capita and the median life expectancy within each continent, into columns called medianLifeExp and medianGdpPercap. Save this as by_continent_2007.\n",
        "Use the by_continent_2007 data to create a scatterplot comparing these summary statistics for continents in 2007, putting the median GDP per capita on the x-axis to the median life expectancy on the y-axis. Color the scatter plot by continent. You don't need to add expand_limits(y = 0) for this plot.\n",
        "\n",
        "library(gapminder)\n",
        "library(dplyr)\n",
        "library(ggplot2)\n",
        "\n",
        "# Summarize the median GDP and median life expectancy per continent in 2007\n",
        "by_continent_2007 <- gapminder %>%\n",
        "  filter(year == 2007) %>%\n",
        "  group_by(continent) %>%\n",
        "  summarize(medianGdpPercap = median(gdpPercap),\n",
        "            medianLifeExp = median(lifeExp))\n",
        "\n",
        "# Use a scatter plot to compare the median GDP and median life expectancy\n",
        "ggplot(by_continent_2007, aes(x = medianGdpPercap, y = medianLifeExp, color = continent)) +\n",
        "  geom_point()\n",
        "  "
      ],
      "metadata": {
        "id": "5crSce2KWoNx"
      },
      "execution_count": null,
      "outputs": []
    },
    {
      "cell_type": "markdown",
      "source": [
        "4"
      ],
      "metadata": {
        "id": "dXbDdieAY_Jh"
      }
    },
    {
      "cell_type": "code",
      "source": [
        "Instructions\n",
        "100 XP\n",
        "Use group_by() and summarize() to find the median GDP per capita within each year, calling the output column medianGdpPercap. Use the assignment operator <- to save it to a dataset called by_year.\n",
        "Use the by_year dataset to create a line plot showing the change in median GDP per capita over time. Be sure to use expand_limits(y = 0) to include 0 on the y-axis.\n",
        "\n",
        "library(gapminder)\n",
        "library(dplyr)\n",
        "library(ggplot2)\n",
        "\n",
        "# Summarize the median gdpPercap by year, then save it as by_year\n",
        "by_year <- gapminder %>%\n",
        "  group_by(year) %>%\n",
        "  summarize(medianGdpPercap = median(gdpPercap))\n",
        "\n",
        "# Create a line plot showing the change in medianGdpPercap over time\n",
        "ggplot(by_year, aes(x = year, y = medianGdpPercap)) +\n",
        "  geom_line() +\n",
        "  expand_limits(y = 0)"
      ],
      "metadata": {
        "id": "tQZXMfjSZA7Q"
      },
      "execution_count": null,
      "outputs": []
    },
    {
      "cell_type": "code",
      "source": [
        "Instructions\n",
        "100 XP\n",
        "Use group_by() and summarize() to find the median GDP per capita within each year and continent, calling the output column medianGdpPercap. Use the assignment operator <- to save it to a dataset called by_year_continent.\n",
        "Use the by_year_continent dataset to create a line plot showing the change in median GDP per capita over time, with color representing continent. Be sure to use expand_limits(y = 0) to include 0 on the y-axis.\n",
        "\n",
        "library(gapminder)\n",
        "library(dplyr)\n",
        "library(ggplot2)\n",
        "\n",
        "# Summarize the median gdpPercap by year & continent, save as by_year_continent\n",
        "by_year_continent <- gapminder %>%\n",
        "  group_by(year, continent) %>%\n",
        "  summarize(medianGdpPercap = median(gdpPercap))\n",
        "\n",
        "# Create a line plot showing the change in medianGdpPercap by continent over time\n",
        "ggplot(by_year_continent, aes(x = year, y = medianGdpPercap, color = continent)) +\n",
        "  geom_line() +\n",
        "  expand_limits(y = 0)"
      ],
      "metadata": {
        "id": "zXUiU4ifRNQN"
      },
      "execution_count": null,
      "outputs": []
    },
    {
      "cell_type": "code",
      "source": [
        "Instructions\n",
        "100 XP\n",
        "Use group_by() and summarize() to find the median GDP per capita within each continent in the year 1952, calling the output column medianGdpPercap. Use the assignment operator <- to save it to a dataset called by_continent.\n",
        "Use the by_continent dataset to create a bar plot showing the median GDP per capita in each continent.\n",
        "\n",
        "library(gapminder)\n",
        "library(dplyr)\n",
        "library(ggplot2)\n",
        "\n",
        "# Summarize the median gdpPercap by continent in 1952\n",
        "by_continent <- gapminder %>%\n",
        "  filter(year == 1952) %>%\n",
        "  group_by(continent) %>%\n",
        "  summarize(medianGdpPercap = median(gdpPercap))\n",
        "\n",
        "# Create a bar plot showing medianGdp by continent\n",
        "ggplot(by_continent, aes(x = continent, y = medianGdpPercap)) +\n",
        "  geom_col()"
      ],
      "metadata": {
        "id": "6YMX5jZJPRs7"
      },
      "execution_count": null,
      "outputs": []
    },
    {
      "cell_type": "code",
      "source": [
        "Instructions\n",
        "100 XP\n",
        "Filter for observations in the Oceania continent in the year 1952. Save this as oceania_1952.\n",
        "Use the oceania_1952 dataset to create a bar plot, with country on the x-axis and gdpPercap on the y-axis.\n",
        "\n",
        "\n",
        "library(gapminder)\n",
        "library(dplyr)\n",
        "library(ggplot2)\n",
        "\n",
        "# Filter for observations in the Oceania continent in 1952\n",
        "oceania_1952 <- gapminder %>%\n",
        "  filter(continent == \"Oceania\", year == 1952)\n",
        "\n",
        "# Create a bar plot of gdpPercap by country\n",
        "ggplot(oceania_1952, aes(x = country, y = gdpPercap)) +\n",
        "  geom_col()\n",
        "  "
      ],
      "metadata": {
        "id": "Q_NA0vOtJlQR"
      },
      "execution_count": null,
      "outputs": []
    },
    {
      "cell_type": "code",
      "source": [
        "Instructions\n",
        "100 XP\n",
        "Filter for observations in the Oceania continent in the year 1952. Save this as oceania_1952.\n",
        "Use the oceania_1952 dataset to create a bar plot, with country on the x-axis and gdpPercap on the y-axis.\n",
        "\n",
        "\n",
        "library(gapminder)\n",
        "library(dplyr)\n",
        "library(ggplot2)\n",
        "\n",
        "# Filter for observations in the Oceania continent in 1952\n",
        "oceania_1952 <- gapminder %>%\n",
        "  filter(continent == \"Oceania\", year == 1952)\n",
        "\n",
        "# Create a bar plot of gdpPercap by country\n",
        "ggplot(oceania_1952, aes(x = country, y = gdpPercap)) +\n",
        "  geom_col()"
      ],
      "metadata": {
        "id": "Ff7D41hnJk_B"
      },
      "execution_count": null,
      "outputs": []
    },
    {
      "cell_type": "code",
      "source": [
        "Instructions\n",
        "100 XP\n",
        "Use the gapminder_1952 dataset to create a histogram of country population (pop_by_mil) in the year 1952. Inside the histogram geom, set the number of bins to 50.\n",
        "\n",
        "\n",
        "library(gapminder)\n",
        "library(dplyr)\n",
        "library(ggplot2)\n",
        "\n",
        "gapminder_1952 <- gapminder %>%\n",
        "  filter(year == 1952) %>%\n",
        "  mutate(pop_by_mil = pop / 1000000)\n",
        "\n",
        "# Create a histogram of population (pop_by_mil)\n",
        "ggplot(gapminder_1952, aes(x = pop_by_mil)) +\n",
        "  geom_histogram(bins = 50)\n",
        "  "
      ],
      "metadata": {
        "id": "_hWz7k-0oaP6"
      },
      "execution_count": null,
      "outputs": []
    },
    {
      "cell_type": "code",
      "source": [
        "Instructions\n",
        "100 XP\n",
        "Use the gapminder_1952 dataset (code is provided) to create a histogram of country population (pop) in the year 1952, putting the x-axis on a log scale with scale_x_log10().\n",
        "\n",
        "\n",
        "library(gapminder)\n",
        "library(dplyr)\n",
        "library(ggplot2)\n",
        "\n",
        "gapminder_1952 <- gapminder %>%\n",
        "  filter(year == 1952)\n",
        "\n",
        "# Create a histogram of population (pop), with x on a log scale\n",
        "ggplot(gapminder_1952, aes(x = pop)) +\n",
        "  geom_histogram() +\n",
        "  scale_x_log10()"
      ],
      "metadata": {
        "id": "MCKFrGY3oaLz"
      },
      "execution_count": null,
      "outputs": []
    },
    {
      "cell_type": "code",
      "source": [
        "Instructions\n",
        "100 XP\n",
        "Use the gapminder_1952 dataset (code is provided) to create a boxplot comparing GDP per capita (gdpPercap) among continents. Put the y-axis on a log scale with scale_y_log10().\n",
        "\n",
        "\n",
        "library(gapminder)\n",
        "library(dplyr)\n",
        "library(ggplot2)\n",
        "\n",
        "gapminder_1952 <- gapminder %>%\n",
        "  filter(year == 1952)\n",
        "\n",
        "# Create a boxplot comparing gdpPercap among continents\n",
        "ggplot(gapminder_1952, aes(x = continent, y = gdpPercap)) +\n",
        "  geom_boxplot() +\n",
        "  scale_y_log10()"
      ],
      "metadata": {
        "id": "lNnd8OHXrD4N"
      },
      "execution_count": null,
      "outputs": []
    },
    {
      "cell_type": "code",
      "source": [
        "Instructions\n",
        "100 XP\n",
        "Add a title to the graph: Comparing GDP per capita across continents. Use a search engine, such as Google or Bing, to learn how to do so.\n",
        "After this exercise you are almost done with your course. If you enjoyed the material, feel free to send Dave a thank you via twitter. He'll appreciate it. Tweet to Dave\n",
        "\n",
        "library(gapminder)\n",
        "library(dplyr)\n",
        "library(ggplot2)\n",
        "\n",
        "gapminder_1952 <- gapminder %>%\n",
        "  filter(year == 1952)\n",
        "\n",
        "# Add a title to this graph: \"Comparing GDP per capita across continents\"\n",
        "ggplot(gapminder_1952, aes(x = continent, y = gdpPercap)) +\n",
        "  geom_boxplot() +\n",
        "  scale_y_log10() +\n",
        "  ggtitle(\"Comparing GDP per capita across continents\")\n",
        "\n"
      ],
      "metadata": {
        "id": "sVmGAUwcuhE6"
      },
      "execution_count": null,
      "outputs": []
    },
    {
      "cell_type": "code",
      "source": [
        ""
      ],
      "metadata": {
        "id": "TOkuHpN9rDkk"
      },
      "execution_count": null,
      "outputs": []
    }
  ]
}