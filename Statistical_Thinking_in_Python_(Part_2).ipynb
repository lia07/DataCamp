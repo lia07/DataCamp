{
  "nbformat": 4,
  "nbformat_minor": 0,
  "metadata": {
    "colab": {
      "name": "Statistical Thinking in Python (Part 2).ipynb",
      "provenance": [],
      "authorship_tag": "ABX9TyMHOvcFCGYMQZv3MyAoe7jU",
      "include_colab_link": true
    },
    "kernelspec": {
      "name": "python3",
      "display_name": "Python 3"
    },
    "language_info": {
      "name": "python"
    }
  },
  "cells": [
    {
      "cell_type": "markdown",
      "metadata": {
        "id": "view-in-github",
        "colab_type": "text"
      },
      "source": [
        "<a href=\"https://colab.research.google.com/github/lia07/DataCamp/blob/main/Statistical_Thinking_in_Python_(Part_2).ipynb\" target=\"_parent\"><img src=\"https://colab.research.google.com/assets/colab-badge.svg\" alt=\"Open In Colab\"/></a>"
      ]
    },
    {
      "cell_type": "markdown",
      "metadata": {
        "id": "anQIoCwbpNvt"
      },
      "source": [
        "Statistical Thinking in Python (Part 2)"
      ]
    },
    {
      "cell_type": "markdown",
      "metadata": {
        "id": "Ad60-VsCtCan"
      },
      "source": [
        "1"
      ]
    },
    {
      "cell_type": "code",
      "metadata": {
        "id": "0kiygGNjpPM8"
      },
      "source": [
        "Instructions\n",
        "100 XP\n",
        "Seed the random number generator with 42.\n",
        "Compute the mean time (in units of number of games) between no-hitters.\n",
        "Draw 100,000 samples from an Exponential distribution with the parameter you computed from the mean of the inter-no-hitter times.\n",
        "Plot the theoretical PDF using plt.hist(). Remember to use keyword arguments bins=50, normed=True, and histtype='step'. Be sure to label your axes.\n",
        "Show your plot.\n",
        "\n",
        "# Seed random number generator\n",
        "np.random.seed(42)\n",
        "\n",
        "# Compute mean no-hitter time: tau\n",
        "tau = np.mean(nohitter_times)\n",
        "\n",
        "# Draw out of an exponential distribution with parameter tau: inter_nohitter_time\n",
        "inter_nohitter_time = np.random.exponential(tau, 100000)\n",
        "\n",
        "# Plot the PDF and label axes\n",
        "_ = plt.hist(inter_nohitter_time,\n",
        "             bins=50, normed=True, histtype='step')\n",
        "_ = plt.xlabel('Games between no-hitters')\n",
        "_ = plt.ylabel('PDF')\n",
        "\n",
        "# Show the plot\n",
        "plt.show()"
      ],
      "execution_count": null,
      "outputs": []
    },
    {
      "cell_type": "code",
      "metadata": {
        "id": "zgeCGVg0tosi"
      },
      "source": [
        "Instructions\n",
        "100 XP\n",
        "Compute an ECDF from the actual time between no-hitters (nohitter_times). Use the ecdf() function you wrote in the prequel course.\n",
        "Create a CDF from the theoretical samples you took in the last exercise (inter_nohitter_time).\n",
        "Plot x_theor and y_theor as a line using plt.plot(). Then overlay the ECDF of the real data x and y as points. To do this, you have to specify the keyword arguments marker = '.' and linestyle = 'none' in addition to x and y inside plt.plot().\n",
        "Set a 2% margin on the plot.\n",
        "Show the plot.\n",
        "\n",
        "# Create an ECDF from real data: x, y\n",
        "x, y = ecdf(nohitter_times)\n",
        "\n",
        "# Create a CDF from theoretical samples: x_theor, y_theor\n",
        "x_theor, y_theor = ecdf(inter_nohitter_time)\n",
        "\n",
        "# Overlay the plots\n",
        "plt.plot(x_theor, y_theor)\n",
        "plt.plot(x, y, marker='.', linestyle='none')\n",
        "\n",
        "# Margins and axis labels\n",
        "plt.margins(0.02)\n",
        "plt.xlabel('Games between no-hitters')\n",
        "plt.ylabel('CDF')\n",
        "\n",
        "# Show the plot\n",
        "plt.show()"
      ],
      "execution_count": null,
      "outputs": []
    },
    {
      "cell_type": "code",
      "metadata": {
        "id": "GZo8U1NfwtPH"
      },
      "source": [
        "Instructions\n",
        "100 XP\n",
        "Take 10000 samples out of an Exponential distribution with parameter  = tau/2.\n",
        "Take 10000 samples out of an Exponential distribution with parameter  = 2*tau.\n",
        "Generate CDFs from these two sets of samples using your ecdf() function.\n",
        "Add these two CDFs as lines to your plot. This has been done for you, so hit 'Submit Answer' to view the plot!\n",
        "\n",
        "# Plot the theoretical CDFs\n",
        "plt.plot(x_theor, y_theor)\n",
        "plt.plot(x, y, marker='.', linestyle='none')\n",
        "plt.margins(0.02)\n",
        "plt.xlabel('Games between no-hitters')\n",
        "plt.ylabel('CDF')\n",
        "\n",
        "# Take samples with half tau: samples_half\n",
        "samples_half = np.random.exponential(tau/2, 10000)\n",
        "\n",
        "# Take samples with double tau: samples_double\n",
        "samples_double = np.random.exponential(2*tau, 10000)\n",
        "\n",
        "# Generate CDFs from these samples\n",
        "x_half, y_half = ecdf(samples_half)\n",
        "x_double, y_double = ecdf(samples_double)\n",
        "\n",
        "# Plot these CDFs as lines\n",
        "_ = plt.plot(x_half, y_half)\n",
        "_ = plt.plot(x_double, y_double)\n",
        "\n",
        "# Show the plot\n",
        "plt.show()"
      ],
      "execution_count": null,
      "outputs": []
    },
    {
      "cell_type": "code",
      "metadata": {
        "id": "ouAZzkFdz8zI"
      },
      "source": [
        "Instructions\n",
        "100 XP\n",
        "Plot fertility (y-axis) versus illiteracy (x-axis) as a scatter plot.\n",
        "Set a 2% margin.\n",
        "Compute and print the Pearson correlation coefficient between illiteracy and fertility.\n",
        "\n",
        "# Plot the illiteracy rate versus fertility\n",
        "_ = plt.plot(illiteracy, fertility, marker='.', linestyle='none')\n",
        "\n",
        "# Set the margins and label axes\n",
        "plt.margins(0.02)\n",
        "_ = plt.xlabel('percent illiterate')\n",
        "_ = plt.ylabel('fertility')\n",
        "\n",
        "# Show the plot\n",
        "plt.show()\n",
        "\n",
        "# Show the Pearson correlation coefficient\n",
        "print(pearson_r(illiteracy, fertility))"
      ],
      "execution_count": null,
      "outputs": []
    },
    {
      "cell_type": "code",
      "metadata": {
        "id": "DN2nBadEMDyO"
      },
      "source": [
        "Instructions\n",
        "100 XP\n",
        "Compute the slope and intercept of the regression line using np.polyfit(). Remember, fertility is on the y-axis and illiteracy on the x-axis.\n",
        "Print out the slope and intercept from the linear regression.\n",
        "To plot the best fit line, create an array x that consists of 0 and 100 using np.array(). Then, compute the theoretical values of y based on your regression parameters. I.e., y = a * x + b.\n",
        "Plot the data and the regression line on the same plot. Be sure to label your axes.\n",
        "Hit 'Submit Answer' to display your plot.\n",
        "\n",
        "\n",
        "#abicii the nights\n",
        "\n",
        "# Plot the illiteracy rate versus fertility\n",
        "_ = plt.plot(illiteracy, fertility, marker='.', linestyle='none')\n",
        "plt.margins(0.02)\n",
        "_ = plt.xlabel('percent illiterate')\n",
        "_ = plt.ylabel('fertility')\n",
        "\n",
        "# Perform a linear regression using np.polyfit(): a, b\n",
        "a, b = np.polyfit(illiteracy, fertility, 1)\n",
        "\n",
        "# Print the results to the screen\n",
        "print('slope =', a, 'children per woman / percent illiterate')\n",
        "print('intercept =', b, 'children per woman')\n",
        "\n",
        "# Make theoretical line to plot\n",
        "x = np.array([0, 100])\n",
        "y = a * x + b\n",
        "\n",
        "# Add regression line to your plot\n",
        "_ = plt.plot(x, y)\n",
        "\n",
        "# Draw the plot\n",
        "plt.show()"
      ],
      "execution_count": null,
      "outputs": []
    },
    {
      "cell_type": "code",
      "metadata": {
        "id": "LgiWTHF2WSHE"
      },
      "source": [
        "Instructions\n",
        "100 XP\n",
        "Specify the values of the slope to compute the RSS. Use np.linspace() to get 200 points in the range between 0 and 0.1. For example, to get 100 points in the range between 0 and 0.5, you could use np.linspace() like so: np.linspace(0, 0.5, 100).\n",
        "Initialize an array, rss, to contain the RSS using np.empty_like() and the array you created above. The empty_like() function returns a new array with the same shape and type as a given array (in this case, a_vals).\n",
        "Write a for loop to compute the sum of RSS of the slope. Hint: the RSS is given by np.sum((y_data - a * x_data - b)**2). The variable b you computed in the last exercise is already in your namespace. Here, fertility is the y_data and illiteracy the x_data.\n",
        "Plot the RSS (rss) versus slope (a_vals).\n",
        "Hit 'Submit Answer' to see the plot!\n",
        "\n",
        "\n",
        "# Specify slopes to consider: a_vals\n",
        "a_vals = np.linspace(0, 0.1, 200)\n",
        "\n",
        "# Initialize sum of square of residuals: rss\n",
        "rss = np.empty_like(a_vals)\n",
        "\n",
        "# Compute sum of square of residuals for each value of a_vals\n",
        "for i, a in enumerate(a_vals):\n",
        "    rss[i] = np.sum((fertility - a*illiteracy - b)**2)\n",
        "\n",
        "# Plot the RSS\n",
        "plt.plot(a_vals, rss, '-')\n",
        "plt.xlabel('slope (children per woman / percent illiterate)')\n",
        "plt.ylabel('sum of square of residuals')\n",
        "\n",
        "plt.show()"
      ],
      "execution_count": null,
      "outputs": []
    },
    {
      "cell_type": "code",
      "metadata": {
        "id": "SwVz3aw5udTx"
      },
      "source": [
        "Instructions\n",
        "100 XP\n",
        "Compute the parameters for the slope and intercept using np.polyfit(). The Anscombe data are stored in the arrays x and y.\n",
        "Print the slope a and intercept b.\n",
        "Generate theoretical  and  data from the linear regression. Your  array, which you can create with np.array(), should consist of 3 and 15. To generate the  data, multiply the slope by x_theor and add the intercept.\n",
        "Plot the Anscombe data as a scatter plot and then plot the theoretical line. Remember to include the marker='.' and linestyle='none' keyword arguments in addition to x and y when to plot the Anscombe data as a scatter plot. You do not need these arguments when plotting the theoretical line.\n",
        "Hit 'Submit Answer' to see the plot!\n",
        "\n",
        "\n",
        "# Perform linear regression: a, b\n",
        "a, b = np.polyfit(x, y, 1)\n",
        "\n",
        "# Print the slope and intercept\n",
        "print(a, b)\n",
        "\n",
        "# Generate theoretical x and y data: x_theor, y_theor\n",
        "x_theor = np.array([3, 15])\n",
        "y_theor = a * x_theor + b\n",
        "\n",
        "# Plot the Anscombe data and theoretical line\n",
        "_ = plt.plot(x, y, marker='.', linestyle='none')\n",
        "_ = plt.plot(x_theor, y_theor)\n",
        "\n",
        "# Label the axes\n",
        "plt.xlabel('x')\n",
        "plt.ylabel('y')\n",
        "\n",
        "# Show the plot\n",
        "plt.show()"
      ],
      "execution_count": null,
      "outputs": []
    },
    {
      "cell_type": "code",
      "metadata": {
        "id": "XY6MtQxOv7lz"
      },
      "source": [
        "Instructions\n",
        "100 XP\n",
        "Write a for loop to do the following for each Anscombe data set.\n",
        "Compute the slope and intercept.\n",
        "Print the slope and intercept.\n",
        "\n",
        "\n",
        "# Iterate through x,y pairs\n",
        "for x, y in zip(anscombe_x, anscombe_y):\n",
        "    # Compute the slope and intercept: a, b\n",
        "    a, b = np.polyfit(x, y, 1)\n",
        "\n",
        "    # Print the result\n",
        "    print('slope:', a, 'intercept:', b)"
      ],
      "execution_count": null,
      "outputs": []
    },
    {
      "cell_type": "markdown",
      "metadata": {
        "id": "wTfvUKVytmul"
      },
      "source": [
        "2"
      ]
    },
    {
      "cell_type": "code",
      "metadata": {
        "id": "_zoMjRKRwSiy"
      },
      "source": [
        "Instructions\n",
        "100 XP\n",
        "Write a for loop to acquire 50 bootstrap samples of the rainfall data and plot their ECDF.\n",
        "Use np.random.choice() to generate a bootstrap sample from the NumPy array rainfall. Be sure that the size of the resampled array is len(rainfall).\n",
        "Use the function ecdf() that you wrote in the prequel to this course to generate the x and y values for the ECDF of the bootstrap sample bs_sample.\n",
        "Plot the ECDF values. Specify color='gray' (to make gray dots) and alpha=0.1 (to make them semi-transparent, since we are overlaying so many) in addition to the marker='.' and linestyle='none' keyword arguments.\n",
        "Use ecdf() to generate x and y values for the ECDF of the original rainfall data available in the array rainfall.\n",
        "Plot the ECDF values of the original data.\n",
        "Hit 'Submit Answer' to visualize the samples!\n",
        "\n",
        "\n",
        "for _ in range(50):\n",
        "    # Generate bootstrap sample: bs_sample\n",
        "    bs_sample = np.random.choice(rainfall, size=len(rainfall))\n",
        "\n",
        "    # Compute and plot ECDF from bootstrap sample\n",
        "    x, y = ecdf(bs_sample)\n",
        "    _ = plt.plot(x, y, marker='.', linestyle='none',\n",
        "                 color='gray', alpha=0.1)\n",
        "\n",
        "# Compute and plot ECDF from original data\n",
        "x, y = ecdf(rainfall)\n",
        "_ = plt.plot(x, y, marker='.')\n",
        "\n",
        "# Make margins and label axes\n",
        "plt.margins(0.02)\n",
        "_ = plt.xlabel('yearly rainfall (mm)')\n",
        "_ = plt.ylabel('ECDF')\n",
        "\n",
        "# Show the plot\n",
        "plt.show()"
      ],
      "execution_count": null,
      "outputs": []
    },
    {
      "cell_type": "code",
      "metadata": {
        "id": "LENn9yiX137r"
      },
      "source": [
        "Instructions\n",
        "100 XP\n",
        "Define a function with call signature draw_bs_reps(data, func, size=1).\n",
        "Using np.empty(), initialize an array called bs_replicates of size size to hold all of the bootstrap replicates.\n",
        "Write a for loop that ranges over size and computes a replicate using bootstrap_replicate_1d(). Refer to the exercise description above to see the function signature of bootstrap_replicate_1d(). Store the replicate in the appropriate index of bs_replicates.\n",
        "Return the array of replicates bs_replicates. This has already been done for you.\n",
        "\n",
        "\n",
        "def draw_bs_reps(data, func, size=1):\n",
        "    \"\"\"Draw bootstrap replicates.\"\"\"\n",
        "\n",
        "    # Initialize array of replicates: bs_replicates\n",
        "    bs_replicates = np.empty(size)\n",
        "\n",
        "    # Generate replicates\n",
        "    for i in range(size):\n",
        "        bs_replicates[i] = bootstrap_replicate_1d(data, func)\n",
        "\n",
        "    return bs_replicates"
      ],
      "execution_count": null,
      "outputs": []
    },
    {
      "cell_type": "code",
      "metadata": {
        "id": "-MULqudhvY7a"
      },
      "source": [
        "Instructions\n",
        "100 XP\n",
        "Draw 10000 bootstrap replicates of the mean annual rainfall using your draw_bs_reps() function and the rainfall array. Hint: Pass in np.mean for func to compute the mean.\n",
        "As a reminder, draw_bs_reps() accepts 3 arguments: data, func, and size.\n",
        "Compute and print the standard error of the mean of rainfall.\n",
        "The formula to compute this is np.std(data) / np.sqrt(len(data)).\n",
        "Compute and print the standard deviation of your bootstrap replicates bs_replicates.\n",
        "Make a histogram of the replicates using the normed=True keyword argument and 50 bins.\n",
        "Hit 'Submit Answer' to see the plot!\n",
        "\n",
        "\n",
        "# Take 10,000 bootstrap replicates of the mean: bs_replicates\n",
        "bs_replicates = draw_bs_reps(rainfall, np.mean, size=10000)\n",
        "\n",
        "# Compute and print SEM\n",
        "sem = np.std(rainfall) / np.sqrt(len(rainfall))\n",
        "print(sem)\n",
        "\n",
        "# Compute and print standard deviation of bootstrap replicates\n",
        "bs_std = np.std(bs_replicates)\n",
        "print(bs_std)\n",
        "\n",
        "# Make a histogram of the results\n",
        "_ = plt.hist(bs_replicates, bins=50, normed=True)\n",
        "_ = plt.xlabel('mean annual rainfall (mm)')\n",
        "_ = plt.ylabel('PDF')\n",
        "\n",
        "# Show the plot\n",
        "plt.show()"
      ],
      "execution_count": null,
      "outputs": []
    },
    {
      "cell_type": "code",
      "metadata": {
        "id": "P-iYqq1Wz6ZS"
      },
      "source": [
        "Instructions\n",
        "100 XP\n",
        "Draw 10000 bootstrap replicates of the variance in annual rainfall, stored in the rainfall dataset, using your draw_bs_reps() function. Hint: Pass in np.var for computing the variance.\n",
        "Divide your variance replicates (bs_replicates) by 100 to put the variance in units of square centimeters for convenience.\n",
        "Make a histogram of bs_replicates using the normed=True keyword argument and 50 bins.\n",
        "\n",
        "\n",
        "# Generate 10,000 bootstrap replicates of the variance: bs_replicates\n",
        "bs_replicates = draw_bs_reps(rainfall, np.var, size=10000)\n",
        "\n",
        "# Put the variance in units of square centimeters\n",
        "bs_replicates /= 100\n",
        "\n",
        "# Make a histogram of the results\n",
        "_ = plt.hist(bs_replicates, bins=50, normed=True)\n",
        "_ = plt.xlabel('variance of annual rainfall (sq. cm)')\n",
        "_ = plt.ylabel('PDF')\n",
        "\n",
        "# Show the plot\n",
        "plt.show()"
      ],
      "execution_count": null,
      "outputs": []
    },
    {
      "cell_type": "code",
      "metadata": {
        "id": "8OtAeY5-4lvr"
      },
      "source": [
        "Instructions\n",
        "100 XP\n",
        "Generate 10000 bootstrap replicates of  from the nohitter_times data using your draw_bs_reps() function. Recall that the optimal  is calculated as the mean of the data.\n",
        "Compute the 95% confidence interval using np.percentile() and passing in two arguments: The array bs_replicates, and the list of percentiles - in this case 2.5 and 97.5.\n",
        "Print the confidence interval.\n",
        "Plot a histogram of your bootstrap replicates. This has been done for you, so hit 'Submit Answer' to see the plot!\n",
        "\n",
        "\n",
        "# Draw bootstrap replicates of the mean no-hitter time (equal to tau): bs_replicates\n",
        "bs_replicates = draw_bs_reps(nohitter_times, np.mean, size=10000)\n",
        "\n",
        "# Compute the 95% confidence interval: conf_int\n",
        "conf_int = np.percentile(bs_replicates, [2.5, 97.5])\n",
        "\n",
        "# Print the confidence interval\n",
        "print('95% confidence interval =', conf_int, 'games')\n",
        "\n",
        "# Plot the histogram of the replicates\n",
        "_ = plt.hist(bs_replicates, bins=50, normed=True)\n",
        "_ = plt.xlabel(r'$\\tau$ (games)')\n",
        "_ = plt.ylabel('PDF')\n",
        "\n",
        "# Show the plot\n",
        "plt.show()\n"
      ],
      "execution_count": null,
      "outputs": []
    },
    {
      "cell_type": "code",
      "metadata": {
        "id": "-x_B8dW15TOG"
      },
      "source": [
        "Instructions\n",
        "100 XP\n",
        "Instructions\n",
        "100 XP\n",
        "Define a function with call signature draw_bs_pairs_linreg(x, y, size=1) to perform pairs bootstrap estimates on linear regression parameters.\n",
        "Use np.arange() to set up an array of indices going from 0 to len(x). These are what you will resample and use them to pick values out of the x and y arrays.\n",
        "Use np.empty() to initialize the slope and intercept replicate arrays to be of size size.\n",
        "Write a for loop to:\n",
        "Resample the indices inds. Use np.random.choice() to do this.\n",
        "Make new  and  arrays bs_x and bs_y using the the resampled indices bs_inds. To do this, slice x and y with bs_inds.\n",
        "Use np.polyfit() on the new  and  arrays and store the computed slope and intercept.\n",
        "Return the pair bootstrap replicates of the slope and intercept.\n",
        "\n",
        "\n",
        "def draw_bs_pairs_linreg(x, y, size=1):\n",
        "    \"\"\"Perform pairs bootstrap for linear regression.\"\"\"\n",
        "\n",
        "    # Set up array of indices to sample from: inds\n",
        "    inds = np.arange(len(x))\n",
        "\n",
        "    # Initialize replicates: bs_slope_reps, bs_intercept_reps\n",
        "    bs_slope_reps = np.empty(size)\n",
        "    bs_intercept_reps = np.empty(size)\n",
        "\n",
        "    # Generate replicates\n",
        "    for i in range(size):\n",
        "        bs_inds = np.random.choice(inds, size=len(inds))\n",
        "        bs_x, bs_y = x[bs_inds], y[bs_inds]\n",
        "        bs_slope_reps[i], bs_intercept_reps[i] = np.polyfit(bs_x, bs_y, 1)\n",
        "\n",
        "    return bs_slope_reps, bs_intercept_reps\n",
        "    "
      ],
      "execution_count": null,
      "outputs": []
    },
    {
      "cell_type": "code",
      "metadata": {
        "id": "RvXKbBGT9Lps"
      },
      "source": [
        "Instructions\n",
        "100 XP\n",
        "Use your draw_bs_pairs_linreg() function to take 1000 bootstrap replicates of the slope and intercept. The x-axis data is illiteracy and y-axis data is fertility.\n",
        "Compute and print the 95% bootstrap confidence interval for the slope.\n",
        "Plot and show a histogram of the slope replicates. Be sure to label your axes. This has been done for you, so click 'Submit Answer' to see your histogram!\n",
        "\n",
        "\n",
        "# Generate replicates of slope and intercept using pairs bootstrap\n",
        "bs_slope_reps, bs_intercept_reps = draw_bs_pairs_linreg(\n",
        "                    illiteracy, fertility, size=1000)\n",
        "\n",
        "# Compute and print 95% CI for slope\n",
        "print(np.percentile(bs_slope_reps, [2.5, 97.5]))\n",
        "\n",
        "# Plot the histogram\n",
        "_ = plt.hist(bs_slope_reps, bins=50, normed=True)\n",
        "_ = plt.xlabel('slope')\n",
        "_ = plt.ylabel('PDF')\n",
        "plt.show()"
      ],
      "execution_count": null,
      "outputs": []
    },
    {
      "cell_type": "code",
      "metadata": {
        "id": "oYXoy0M7-KVc"
      },
      "source": [
        "Instructions\n",
        "100 XP\n",
        "Generate an array of -values consisting of 0 and 100 for the plot of the regression lines. Use the np.array() function for this.\n",
        "Write a for loop in which you plot a regression line with a slope and intercept given by the pairs bootstrap replicates. Do this for 100 lines.\n",
        "When plotting the regression lines in each iteration of the for loop, recall the regression equation y = a*x + b. Here, a is bs_slope_reps[i] and b is bs_intercept_reps[i].\n",
        "Specify the keyword arguments linewidth=0.5, alpha=0.2, and color='red' in your call to plt.plot().\n",
        "Make a scatter plot with illiteracy on the x-axis and fertility on the y-axis. Remember to specify the marker='.' and linestyle='none' keyword arguments.\n",
        "Label the axes, set a 2% margin, and show the plot. This has been done for you, so hit 'Submit Answer' to visualize the bootstrap regressions!\n",
        "\n",
        "\n",
        "# Generate array of x-values for bootstrap lines: x\n",
        "x = np.array([0, 100])\n",
        "\n",
        "# Plot the bootstrap lines\n",
        "for i in range(100):\n",
        "    _ = plt.plot(x, \n",
        "                 bs_slope_reps[i] * x + bs_intercept_reps[i],\n",
        "                 linewidth=0.5, alpha=0.2, color='red')\n",
        "\n",
        "# Plot the data\n",
        "_ = plt.plot(illiteracy, fertility, marker='.', linestyle='none')\n",
        "\n",
        "# Label axes, set the margins, and show the plot\n",
        "_ = plt.xlabel('illiteracy')\n",
        "_ = plt.ylabel('fertility')\n",
        "plt.margins(0.02)\n",
        "plt.show()"
      ],
      "execution_count": null,
      "outputs": []
    },
    {
      "cell_type": "markdown",
      "metadata": {
        "id": "xwwF41IQ-cXK"
      },
      "source": [
        "3"
      ]
    },
    {
      "cell_type": "code",
      "metadata": {
        "id": "jd-1vn_s-UuG"
      },
      "source": [
        "Instructions\n",
        "100 XP\n",
        "Concatenate the two input arrays into one using np.concatenate(). Be sure to pass in data1 and data2 as one argument (data1, data2).\n",
        "Use np.random.permutation() to permute the concatenated array.\n",
        "Store the first len(data1) entries of permuted_data as perm_sample_1 and the last len(data2) entries of permuted_data as perm_sample_2. In practice, this can be achieved by using :len(data1) and len(data1): to slice permuted_data.\n",
        "Return perm_sample_1 and perm_sample_2.\n",
        "\n",
        "\n",
        "def permutation_sample(data1, data2):\n",
        "    \"\"\"Generate a permutation sample from two data sets.\"\"\"\n",
        "\n",
        "    # Concatenate the data sets: data\n",
        "    data = np.concatenate((data1, data2))\n",
        "\n",
        "    # Permute the concatenated array: permuted_data\n",
        "    permuted_data = np.random.permutation(data)\n",
        "\n",
        "    # Split the permuted array into two: perm_sample_1, perm_sample_2\n",
        "    perm_sample_1 = permuted_data[:len(data1)]\n",
        "    perm_sample_2 = permuted_data[len(data1):]\n",
        "\n",
        "    return perm_sample_1, perm_sample_2"
      ],
      "execution_count": null,
      "outputs": []
    },
    {
      "cell_type": "code",
      "metadata": {
        "id": "eCIGJwJHrUrw"
      },
      "source": [
        "Instructions\n",
        "100 XP\n",
        "Instructions\n",
        "100 XP\n",
        "Write a for loop to generate 50 permutation samples, compute their ECDFs, and plot them.\n",
        "Generate a permutation sample pair from rain_june and rain_november using your permutation_sample() function.\n",
        "Generate the x and y values for an ECDF for each of the two permutation samples for the ECDF using your ecdf() function.\n",
        "Plot the ECDF of the first permutation sample (x_1 and y_1) as dots. Do the same for the second permutation sample (x_2 and y_2).\n",
        "Generate x and y values for ECDFs for the rain_june and rain_november data and plot the ECDFs using respectively the keyword arguments color='red' and color='blue'.\n",
        "Label your axes, set a 2% margin, and show your plot. This has been done for you, so just hit 'Submit Answer' to view the plot!\n",
        "\n",
        "\n",
        "for _ in range(50):\n",
        "    # Generate permutation samples\n",
        "    perm_sample_1, perm_sample_2 = permutation_sample(\n",
        "                                    rain_june, rain_november)\n",
        "\n",
        "    # Compute ECDFs\n",
        "    x_1, y_1 = ecdf(perm_sample_1)\n",
        "    x_2, y_2 = ecdf(perm_sample_2)\n",
        "\n",
        "    # Plot ECDFs of permutation sample\n",
        "    _ = plt.plot(x_1, y_1, marker='.', linestyle='none',\n",
        "                 color='red', alpha=0.02)\n",
        "    _ = plt.plot(x_2, y_2, marker='.', linestyle='none',\n",
        "                 color='blue', alpha=0.02)\n",
        "\n",
        "# Create and plot ECDFs from original data\n",
        "x_1, y_1 = ecdf(rain_june)\n",
        "x_2, y_2 = ecdf(rain_november)\n",
        "_ = plt.plot(x_1, y_1, marker='.', linestyle='none', color='red')\n",
        "_ = plt.plot(x_2, y_2, marker='.', linestyle='none', color='blue')\n",
        "\n",
        "# Label axes, set margin, and show plot\n",
        "plt.margins(0.02)\n",
        "_ = plt.xlabel('monthly rainfall (mm)')\n",
        "_ = plt.ylabel('ECDF')\n",
        "plt.show()\n"
      ],
      "execution_count": null,
      "outputs": []
    },
    {
      "cell_type": "code",
      "metadata": {
        "id": "goMFxfPCAuP2"
      },
      "source": [
        "Instructions\n",
        "100 XP\n",
        "Define a function with this signature: draw_perm_reps(data_1, data_2, func, size=1).\n",
        "Initialize an array to hold the permutation replicates using np.empty().\n",
        "Write a for loop to:\n",
        "Compute a permutation sample using your permutation_sample() function\n",
        "Pass the samples into func() to compute the replicate and store the result in your array of replicates.\n",
        "Return the array of replicates.\n",
        "\n",
        "\n",
        "def draw_perm_reps(data_1, data_2, func, size=1):\n",
        "    \"\"\"Generate multiple permutation replicates.\"\"\"\n",
        "\n",
        "    # Initialize array of replicates: perm_replicates\n",
        "    perm_replicates = np.empty(size)\n",
        "\n",
        "    for i in range(size):\n",
        "        # Generate permutation sample\n",
        "        perm_sample_1, perm_sample_2 = permutation_sample(data_1, data_2)\n",
        "\n",
        "        # Compute the test statistic\n",
        "        perm_replicates[i] = func(perm_sample_1, perm_sample_2)\n",
        "\n",
        "    return perm_replicates"
      ],
      "execution_count": null,
      "outputs": []
    },
    {
      "cell_type": "code",
      "metadata": {
        "id": "hyZvnnVTA4MT"
      },
      "source": [
        "Instructions\n",
        "100 XP\n",
        "Use sns.swarmplot() to make a bee swarm plot of the data by specifying the x, y, and data keyword arguments.\n",
        "Label your axes.\n",
        "Show the plot.\n",
        "\n",
        "\n",
        "# Make bee swarm plot\n",
        "_ = sns.swarmplot(x='ID', y='impact_force', data=df)\n",
        "\n",
        "# Label axes\n",
        "_ = plt.xlabel('frog')\n",
        "_ = plt.ylabel('impact force (N)')\n",
        "\n",
        "# Show the plot\n",
        "plt.show()\n"
      ],
      "execution_count": null,
      "outputs": []
    },
    {
      "cell_type": "code",
      "metadata": {
        "id": "J6Tvl_AABsAu"
      },
      "source": [
        "Instructions\n",
        "100 XP\n",
        "Define a function with this signature: draw_perm_reps(data_1, data_2, func, size=1).\n",
        "Initialize an array to hold the permutation replicates using np.empty().\n",
        "Write a for loop to:\n",
        "Compute a permutation sample using your permutation_sample() function\n",
        "Pass the samples into func() to compute the replicate and store the result in your array of replicates.\n",
        "Return the array of replicates.\n",
        "\n",
        "\n",
        "def diff_of_means(data_1, data_2):\n",
        "    \"\"\"Difference in means of two arrays.\"\"\"\n",
        "\n",
        "    # The difference of means of data_1, data_2: diff\n",
        "    diff = np.mean(data_1)-np.mean(data_2)\n",
        "\n",
        "    return diff\n",
        "\n",
        "# Compute difference of mean impact force from experiment: empirical_diff_means\n",
        "empirical_diff_means = diff_of_means(force_a, force_b)\n",
        "\n",
        "# Draw 10,000 permutation replicates: perm_replicates\n",
        "perm_replicates = draw_perm_reps(force_a, force_b,\n",
        "                                 diff_of_means, size=10000)\n",
        "\n",
        "# Compute p-value: p\n",
        "p = np.sum(perm_replicates >= empirical_diff_means) / len(perm_replicates)\n",
        "\n",
        "# Print the result\n",
        "print('p-value =', p)"
      ],
      "execution_count": null,
      "outputs": []
    },
    {
      "cell_type": "code",
      "metadata": {
        "id": "-AWklr8N5x-f"
      },
      "source": [
        "Instructions\n",
        "100 XP\n",
        "Translate the impact forces of Frog B such that its mean is 0.55 N.\n",
        "Use your draw_bs_reps() function to take 10,000 bootstrap replicates of the mean of your translated forces.\n",
        "Compute the p-value by finding the fraction of your bootstrap replicates that are less than the observed mean impact force of Frog B. Note that the variable of interest here is force_b.\n",
        "Print your p-value.\n",
        "\n",
        "\n",
        "# Make an array of translated impact forces: translated_force_b\n",
        "translated_force_b = force_b - np.mean(force_b) + 0.55\n",
        "\n",
        "# Take bootstrap replicates of Frog B's translated impact forces: bs_replicates\n",
        "bs_replicates = draw_bs_reps(translated_force_b, np.mean, 10000)\n",
        "\n",
        "# Compute fraction of replicates that are less than the observed Frog B force: p\n",
        "p = np.sum(bs_replicates <= np.mean(force_b)) / 10000\n",
        "\n",
        "# Print the p-value\n",
        "print('p = ', p)\n"
      ],
      "execution_count": null,
      "outputs": []
    },
    {
      "cell_type": "code",
      "metadata": {
        "id": "zHonzC5dxy_H"
      },
      "source": [
        "Instructions\n",
        "100 XP\n",
        "Compute the mean of all forces (from forces_concat) using np.mean().\n",
        "Generate shifted data sets for both force_a and force_b such that the mean of each is the mean of the concatenated array of impact forces.\n",
        "Generate 10,000 bootstrap replicates of the mean each for the two shifted arrays.\n",
        "Compute the bootstrap replicates of the difference of means by subtracting the replicates of the shifted impact force of Frog B from those of Frog A.\n",
        "Compute and print the p-value from your bootstrap replicates.\n",
        "\n",
        "\n",
        "# Compute mean of all forces: mean_force\n",
        "mean_force = np.mean(forces_concat)\n",
        "\n",
        "# Generate shifted arrays\n",
        "force_a_shifted = force_a - np.mean(force_a) + mean_force\n",
        "force_b_shifted = force_b - np.mean(force_b) + mean_force\n",
        "\n",
        "# Compute 10,000 bootstrap replicates from shifted arrays\n",
        "bs_replicates_a = draw_bs_reps(force_a_shifted, np.mean, size=10000)\n",
        "bs_replicates_b = draw_bs_reps(force_b_shifted, np.mean, size=10000)\n",
        "\n",
        "# Get replicates of difference of means: bs_replicates\n",
        "bs_replicates = bs_replicates_a - bs_replicates_b\n",
        "\n",
        "# Compute and print p-value: p\n",
        "p = np.sum(bs_replicates >= empirical_diff_means) / len(bs_replicates)\n",
        "print('p-value =', p)\n"
      ],
      "execution_count": null,
      "outputs": []
    },
    {
      "cell_type": "code",
      "metadata": {
        "id": "rIovTkTPyVNv"
      },
      "source": [
        "Instructions\n",
        "100 XP\n",
        "Compute the mean of all forces (from forces_concat) using np.mean().\n",
        "Generate shifted data sets for both force_a and force_b such that the mean of each is the mean of the concatenated array of impact forces.\n",
        "Generate 10,000 bootstrap replicates of the mean each for the two shifted arrays.\n",
        "Compute the bootstrap replicates of the difference of means by subtracting the replicates of the shifted impact force of Frog B from those of Frog A.\n",
        "Compute and print the p-value from your bootstrap replicates.\n",
        "\n"
      ],
      "execution_count": null,
      "outputs": []
    },
    {
      "cell_type": "markdown",
      "metadata": {
        "id": "rQn08BskzA3M"
      },
      "source": [
        "4"
      ]
    },
    {
      "cell_type": "code",
      "metadata": {
        "id": "BtIqzAN4zB77"
      },
      "source": [
        "Instructions\n",
        "100 XP\n",
        "Construct Boolean arrays, dems and reps that contain the votes of the respective parties; e.g., dems has 153 True entries and 91 False entries.\n",
        "Write a function, frac_yea_dems(dems, reps) that returns the fraction of Democrats that voted yea. The first input is an array of Booleans, Two inputs are required to use your draw_perm_reps() function, but the second is not used.\n",
        "Use your draw_perm_reps() function to draw 10,000 permutation replicates of the fraction of Democrat yea votes.\n",
        "Compute and print the p-value.\n",
        "\n",
        "\n",
        "# Construct arrays of data: dems, reps\n",
        "dems = np.array([True] * 153 + [False] * 91)\n",
        "reps = np.array([True] * 136 + [False] * 35)\n",
        "\n",
        "def frac_yea_dems(dems, reps):\n",
        "    \"\"\"Compute fraction of Democrat yea votes.\"\"\"\n",
        "    frac = np.sum(dems) / len(dems)\n",
        "    return frac\n",
        "\n",
        "# Acquire permutation samples: perm_replicates\n",
        "perm_replicates = draw_perm_reps(dems, reps, frac_yea_dems, 10000)\n",
        "\n",
        "# Compute and print p-value: p\n",
        "p = np.sum(perm_replicates <= 153/244) / len(perm_replicates)\n",
        "print('p-value =', p)\n"
      ],
      "execution_count": null,
      "outputs": []
    },
    {
      "cell_type": "code",
      "metadata": {
        "id": "e06_d8kXGNFD"
      },
      "source": [
        "Instructions\n",
        "100 XP\n",
        "Compute the observed difference in mean inter-nohitter time using diff_of_means().\n",
        "Generate 10,000 permutation replicates of the difference of means using draw_perm_reps().\n",
        "Compute and print the p-value.\n",
        "\n",
        "\n",
        "# Compute the observed difference in mean inter-no-hitter times: nht_diff_obs\n",
        "nht_diff_obs = diff_of_means(nht_dead, nht_live)\n",
        "\n",
        "# Acquire 10,000 permutation replicates of difference in mean no-hitter time: perm_replicates\n",
        "perm_replicates = draw_perm_reps(nht_dead, nht_live,\n",
        "                                 diff_of_means, size=10000)\n",
        "\n",
        "\n",
        "# Compute and print the p-value: p\n",
        "p = np.sum(perm_replicates <= nht_diff_obs) / len(perm_replicates)\n",
        "print('p-val =', p)"
      ],
      "execution_count": null,
      "outputs": []
    },
    {
      "cell_type": "code",
      "metadata": {
        "id": "NH_aJ2NuHjqy"
      },
      "source": [
        "Instructions\n",
        "100 XP\n",
        "Compute the observed Pearson correlation between illiteracy and fertility.\n",
        "Initialize an array to store your permutation replicates.\n",
        "Write a for loop to draw 10,000 replicates:\n",
        "Permute the illiteracy measurements using np.random.permutation().\n",
        "Compute the Pearson correlation between the permuted illiteracy array, illiteracy_permuted, and fertility.\n",
        "Compute and print the p-value from the replicates.\n",
        "\n",
        "# Compute observed correlation: r_obs\n",
        "r_obs = pearson_r(illiteracy, fertility)\n",
        "\n",
        "# Initialize permutation replicates: perm_replicates\n",
        "perm_replicates = np.empty(10000)\n",
        "\n",
        "# Draw replicates\n",
        "for i in range(10000):\n",
        "    # Permute illiteracy measurments: illiteracy_permuted\n",
        "    illiteracy_permuted = np.random.permutation(illiteracy)\n",
        "\n",
        "    # Compute Pearson correlation\n",
        "    perm_replicates[i] = pearson_r(illiteracy_permuted, fertility)"
      ],
      "execution_count": null,
      "outputs": []
    },
    {
      "cell_type": "code",
      "metadata": {
        "id": "-RqIC7c1lRJx"
      },
      "source": [
        "Instructions\n",
        "100 XP\n",
        "Use your ecdf() function to generate x,y values from the control and treated arrays for plotting the ECDFs.\n",
        "Plot the ECDFs on the same plot.\n",
        "The margins have been set for you, along with the legend and axis labels. Hit 'Submit Answer' to see the result!\n",
        "\n",
        "\n",
        "# Compute x,y values for ECDFs\n",
        "x_control, y_control = ecdf(control)\n",
        "x_treated, y_treated = ecdf(treated)\n",
        "\n",
        "# Plot the ECDFs\n",
        "plt.plot(x_control, y_control, marker='.', linestyle='none')\n",
        "plt.plot(x_treated, y_treated, marker='.', linestyle='none')\n",
        "\n",
        "# Set the margins\n",
        "plt.margins(0.02)\n",
        "\n",
        "# Add a legend\n",
        "plt.legend(('control', 'treated'), loc='lower right')\n",
        "\n",
        "# Label axes and show plot\n",
        "plt.xlabel('millions of alive sperm per mL')\n",
        "plt.ylabel('ECDF')\n",
        "plt.show()"
      ],
      "execution_count": null,
      "outputs": []
    },
    {
      "cell_type": "code",
      "metadata": {
        "id": "cndPd-Uyr-4n"
      },
      "source": [
        "Instructions\n",
        "100 XP\n",
        "Compute the mean alive sperm count of control minus that of treated.\n",
        "Compute the mean of all alive sperm counts. To do this, first concatenate control and treated and take the mean of the concatenated array.\n",
        "Generate shifted data sets for both control and treated such that the shifted data sets have the same mean. This has already been done for you.\n",
        "Generate 10,000 bootstrap replicates of the mean each for the two shifted arrays. Use your draw_bs_reps() function.\n",
        "Compute the bootstrap replicates of the difference of means.\n",
        "The code to compute and print the p-value has been written for you. Hit 'Submit Answer' to see the result!\n",
        "\n",
        "\n",
        "# Compute the difference in mean sperm count: diff_means\n",
        "diff_means = np.mean(control) - np.mean(treated)\n",
        "\n",
        "# Compute mean of pooled data: mean_count\n",
        "mean_count = np.mean(np.concatenate((control, treated)))\n",
        "\n",
        "# Generate shifted data sets\n",
        "control_shifted = control - np.mean(control) + mean_count\n",
        "treated_shifted = treated - np.mean(treated) + mean_count\n",
        "\n",
        "# Generate bootstrap replicates\n",
        "bs_reps_control = draw_bs_reps(control_shifted,\n",
        "                               np.mean, size=10000)\n",
        "bs_reps_treated = draw_bs_reps(treated_shifted,\n",
        "                               np.mean, size=10000)\n",
        "\n",
        "# Get replicates of difference of means: bs_replicates\n",
        "bs_replicates = bs_reps_control - bs_reps_treated\n",
        "\n",
        "# Compute and print p-value: p\n",
        "p = np.sum(bs_replicates >= np.mean(control) - np.mean(treated)) \\\n",
        "            / len(bs_replicates)\n",
        "print('p-value =', p)"
      ],
      "execution_count": null,
      "outputs": []
    },
    {
      "cell_type": "markdown",
      "metadata": {
        "id": "3_2NLNeO0euj"
      },
      "source": [
        "5"
      ]
    },
    {
      "cell_type": "code",
      "metadata": {
        "id": "ZaHAG41r0gTK"
      },
      "source": [
        "Instructions\n",
        "100 XP\n",
        "Create the beeswarm plot.\n",
        "Label the axes.\n",
        "Show the plot.\n",
        "\n",
        "\n",
        "# Create bee swarm plot\n",
        "_ = sns.swarmplot(data=df, x='year', y='beak_depth')\n",
        "\n",
        "# Label the axes\n",
        "_ = plt.xlabel('year')\n",
        "_ = plt.ylabel('beak depth (mm)')\n",
        "\n",
        "# Show the plot\n",
        "plt.show()\n",
        "\n"
      ],
      "execution_count": null,
      "outputs": []
    },
    {
      "cell_type": "code",
      "metadata": {
        "id": "H2UtH40IAgZ7"
      },
      "source": [
        "Instructions\n",
        "100 XP\n",
        "Compute the ECDF for the 1975 and 2012 data.\n",
        "Plot the two ECDFs.\n",
        "Set a 2% margin and add axis labels and a legend to the plot.\n",
        "Hit 'Submit Answer' to view the plot!\n",
        "\n",
        "# Compute ECDFs\n",
        "x_1975, y_1975 = ecdf(bd_1975)\n",
        "x_2012, y_2012 = ecdf(bd_2012)\n",
        "\n",
        "# Plot the ECDFs\n",
        "_ = plt.plot(x_1975, y_1975, marker='.', linestyle='none')\n",
        "_ = plt.plot(x_2012, y_2012, marker='.', linestyle='none')\n",
        "\n",
        "# Set margins\n",
        "plt.margins(0.02)\n",
        "\n",
        "# Add axis labels and legend\n",
        "_ = plt.xlabel('beak depth (mm)')\n",
        "_ = plt.ylabel('ECDF')\n",
        "_ = plt.legend(('1975', '2012'), loc='lower right')\n",
        "\n",
        "# Show the plot\n",
        "plt.show()"
      ],
      "execution_count": null,
      "outputs": []
    },
    {
      "cell_type": "code",
      "metadata": {
        "id": "nhsI7zWVAqTQ"
      },
      "source": [
        "Instructions\n",
        "100 XP\n",
        "Compute the difference of the sample means.\n",
        "Take 10,000 bootstrap replicates of the mean for the 1975 beak depths using your draw_bs_reps() function. Also get 10,000 bootstrap replicates of the mean for the 2012 beak depths.\n",
        "Subtract the 1975 replicates from the 2012 replicates to get bootstrap replicates of the difference of means.\n",
        "Use the replicates to compute the 95% confidence interval.\n",
        "Hit 'Submit Answer' to view the results!\n",
        "\n",
        "# Compute the difference of the sample means: mean_diff\n",
        "mean_diff = np.mean(bd_2012) - np.mean(bd_1975)\n",
        "\n",
        "# Get bootstrap replicates of means\n",
        "bs_replicates_1975 = draw_bs_reps(bd_1975, np.mean, 10000)\n",
        "bs_replicates_2012 = draw_bs_reps(bd_2012, np.mean, 10000)\n",
        "\n",
        "# Compute samples of difference of means: bs_diff_replicates\n",
        "bs_diff_replicates = bs_replicates_2012 - bs_replicates_1975\n",
        "\n",
        "# Compute 95% confidence interval: conf_int\n",
        "conf_int = np.percentile(bs_diff_replicates, [2.5, 97.5])\n",
        "\n",
        "# Print the results\n",
        "print('difference of means =', mean_diff, 'mm')\n",
        "print('95% confidence interval =', conf_int, 'mm')\n"
      ],
      "execution_count": null,
      "outputs": []
    },
    {
      "cell_type": "code",
      "metadata": {
        "id": "M3D8H5kLA5Bf"
      },
      "source": [
        "Instructions\n",
        "100 XP\n",
        "Make a concatenated array of the 1975 and 2012 beak depths and compute and store its mean.\n",
        "Shift bd_1975 and bd_2012 such that their means are equal to the one you just computed for the combined data set.\n",
        "Take 10,000 bootstrap replicates of the mean each for the 1975 and 2012 beak depths.\n",
        "Subtract the 1975 replicates from the 2012 replicates to get bootstrap replicates of the difference.\n",
        "Compute and print the p-value. The observed difference in means you computed in the last exercise is still in your namespace as mean_diff.\n",
        "\n",
        "# Compute mean of combined data set: combined_mean\n",
        "combined_mean = np.mean(np.concatenate((bd_1975, bd_2012)))\n",
        "\n",
        "# Shift the samples\n",
        "bd_1975_shifted = bd_1975 - np.mean(bd_1975) + combined_mean\n",
        "bd_2012_shifted = bd_2012 - np.mean(bd_2012) + combined_mean\n",
        "\n",
        "# Get bootstrap replicates of shifted data sets\n",
        "bs_replicates_1975 = draw_bs_reps(bd_1975_shifted, np.mean, 10000)\n",
        "bs_replicates_2012 = draw_bs_reps(bd_2012_shifted, np.mean, 10000)\n",
        "\n",
        "# Compute replicates of difference of means: bs_diff_replicates\n",
        "bs_diff_replicates = bs_replicates_2012 - bs_replicates_1975\n",
        "\n",
        "# Compute the p-value: p\n",
        "p = np.sum(bs_diff_replicates >= mean_diff) / len(bs_diff_replicates)\n",
        "\n",
        "# Print p-value\n",
        "print('p =', p)"
      ],
      "execution_count": null,
      "outputs": []
    },
    {
      "cell_type": "code",
      "metadata": {
        "id": "_nMjmYgrA-20"
      },
      "source": [
        "Instructions\n",
        "100 XP\n",
        "Make a scatter plot of the 1975 data. Use the color='blue' keyword argument. Also use an alpha=0.5 keyword argument to have transparency in case data points overlap.\n",
        "Do the same for the 2012 data, but use the color='red' keyword argument.\n",
        "Add a legend and label the axes.\n",
        "Show your plot.\n",
        "\n",
        "# Make scatter plot of 1975 data\n",
        "_ = plt.plot(bl_1975, bd_1975, marker='.',\n",
        "             linestyle='None', color='blue', alpha=0.5)\n",
        "\n",
        "# Make scatter plot of 2012 data\n",
        "_ = plt.plot(bl_2012, bd_2012, marker='.',\n",
        "             linestyle='None', color='red', alpha=0.5)\n",
        "\n",
        "# Label axes and make legend\n",
        "_ = plt.xlabel('beak length (mm)')\n",
        "_ = plt.ylabel('beak depth (mm)')\n",
        "_ = plt.legend(('1975', '2012'), loc='upper left')\n",
        "\n",
        "# Show the plot\n",
        "plt.show()"
      ],
      "execution_count": null,
      "outputs": []
    },
    {
      "cell_type": "code",
      "metadata": {
        "id": "UtRAvPBFCP1q"
      },
      "source": [
        "Instructions\n",
        "100 XP\n",
        "Compute the slope and intercept for both the 1975 and 2012 data sets.\n",
        "Obtain 1000 pairs bootstrap samples for the linear regressions using your draw_bs_pairs_linreg() function.\n",
        "Compute 95% confidence intervals for the slopes and the intercepts.\n",
        "\n",
        "\n",
        "# Compute the linear regressions\n",
        "slope_1975, intercept_1975 = np.polyfit(bl_1975, bd_1975, 1)\n",
        "slope_2012, intercept_2012 = np.polyfit(bl_2012, bd_2012, 1)\n",
        "\n",
        "# Perform pairs bootstrap for the linear regressions\n",
        "bs_slope_reps_1975, bs_intercept_reps_1975 = \\\n",
        "        draw_bs_pairs_linreg(bl_1975, bd_1975, 1000)\n",
        "bs_slope_reps_2012, bs_intercept_reps_2012 = \\\n",
        "        draw_bs_pairs_linreg(bl_2012, bd_2012, 1000)\n",
        "\n",
        "# Compute confidence intervals of slopes\n",
        "slope_conf_int_1975 = np.percentile(bs_slope_reps_1975, [2.5, 97.5])\n",
        "slope_conf_int_2012 = np.percentile(bs_slope_reps_2012, [2.5, 97.5])\n",
        "intercept_conf_int_1975 = np.percentile(\n",
        "                            bs_intercept_reps_1975, [2.5, 97.5])\n",
        "intercept_conf_int_2012 = np.percentile(\n",
        "                            bs_intercept_reps_2012, [2.5, 97.5])\n",
        "\n",
        "# Print the results\n",
        "print('1975: slope =', slope_1975,\n",
        "      'conf int =', slope_conf_int_1975)\n",
        "print('1975: intercept =', intercept_1975,\n",
        "      'conf int =', intercept_conf_int_1975)\n",
        "print('2012: slope =', slope_2012,\n",
        "      'conf int =', slope_conf_int_2012)\n",
        "print('2012: intercept =', intercept_2012,\n",
        "      'conf int =', intercept_conf_int_2012)\n",
        "\n"
      ],
      "execution_count": null,
      "outputs": []
    },
    {
      "cell_type": "code",
      "metadata": {
        "id": "R1EAdq4KCVvB"
      },
      "source": [
        "Instructions\n",
        "100 XP\n",
        "Generate the -values for the bootstrap lines using np.array(). They should consist of 10 mm and 17 mm.\n",
        "Write a for loop to plot 100 of the bootstrap lines for the 1975 and 2012 data sets. The lines for the 1975 data set should be 'blue' and those for the 2012 data set should be 'red'.\n",
        "Hit 'Submit Answer' to view the plot!\n",
        "\n",
        "# Make scatter plot of 1975 data\n",
        "_ = plt.plot(bl_1975, bd_1975, marker='.',\n",
        "             linestyle='none', color='blue', alpha=0.5)\n",
        "\n",
        "# Make scatter plot of 2012 data\n",
        "_ = plt.plot(bl_2012, bd_2012, marker='.',\n",
        "             linestyle='none', color='red', alpha=0.5)\n",
        "\n",
        "# Label axes and make legend\n",
        "_ = plt.xlabel('beak length (mm)')\n",
        "_ = plt.ylabel('beak depth (mm)')\n",
        "_ = plt.legend(('1975', '2012'), loc='upper left')\n",
        "\n",
        "# Generate x-values for bootstrap lines: x\n",
        "x = np.array([10, 17])\n",
        "\n",
        "# Plot the bootstrap lines\n",
        "for i in range(100):\n",
        "    plt.plot(x, bs_slope_reps_1975[i] * x + bs_intercept_reps_1975[i],\n",
        "             linewidth=0.5, alpha=0.2, color='blue')\n",
        "    plt.plot(x, bs_slope_reps_2012[i] * x + bs_intercept_reps_2012[i],\n",
        "             linewidth=0.5, alpha=0.2, color='red')\n",
        "\n",
        "# Draw the plot again\n",
        "plt.show()"
      ],
      "execution_count": null,
      "outputs": []
    },
    {
      "cell_type": "code",
      "metadata": {
        "id": "qk57HFphCqNG"
      },
      "source": [
        "Instructions\n",
        "100 XP\n",
        "Make arrays of the beak length to depth ratio of each bird for 1975 and for 2012.\n",
        "Compute the mean of the length to depth ratio for 1975 and for 2012.\n",
        "Generate 10,000 bootstrap replicates each for the mean ratio for 1975 and 2012 using your draw_bs_reps() function.\n",
        "Get a 99% bootstrap confidence interval for the length to depth ratio for 1975 and 2012.\n",
        "Print the results.\n",
        "\n",
        "# Compute length-to-depth ratios\n",
        "ratio_1975 = bl_1975 / bd_1975\n",
        "ratio_2012 = bl_2012 / bd_2012\n",
        "\n",
        "# Compute means\n",
        "mean_ratio_1975 = np.mean(ratio_1975)\n",
        "mean_ratio_2012 = np.mean(ratio_2012)\n",
        "\n",
        "# Generate bootstrap replicates of the means\n",
        "bs_replicates_1975 = draw_bs_reps(ratio_1975, np.mean, size=10000)\n",
        "bs_replicates_2012 = draw_bs_reps(ratio_2012, np.mean, size=10000)\n",
        "\n",
        "# Compute the 99% confidence intervals\n",
        "conf_int_1975 = np.percentile(bs_replicates_1975, [0.5, 99.5])\n",
        "conf_int_2012 = np.percentile(bs_replicates_2012, [0.5, 99.5])\n",
        "\n",
        "# Print the results\n",
        "print('1975: mean ratio =', mean_ratio_1975,\n",
        "      'conf int =', conf_int_1975)\n",
        "print('2012: mean ratio =', mean_ratio_2012,\n",
        "      'conf int =', conf_int_2012)\n",
        "\n"
      ],
      "execution_count": null,
      "outputs": []
    },
    {
      "cell_type": "code",
      "metadata": {
        "id": "5lKdNDFcCz0p"
      },
      "source": [
        "Instructions\n",
        "100 XP\n",
        "Generate scatter plots for both species. Display the data for G. fortis in blue and G. scandens in red.\n",
        "Set the axis labels, make a legend, and show the plot.\n",
        "\n",
        "# Make scatter plots\n",
        "_ = plt.plot(bd_parent_fortis, bd_offspring_fortis,\n",
        "             marker='.', linestyle='none', color='blue', alpha=0.5)\n",
        "_ = plt.plot(bd_parent_scandens, bd_offspring_scandens,\n",
        "             marker='.', linestyle='none', color='red', alpha=0.5)\n",
        "\n",
        "# Label axes\n",
        "_ = plt.xlabel('parental beak depth (mm)')\n",
        "_ = plt.ylabel('offspring beak depth (mm)')\n",
        "\n",
        "# Add legend\n",
        "_ = plt.legend(('G. fortis', 'G. scandens'), loc='lower right')\n",
        "\n",
        "# Show plot\n",
        "plt.show()"
      ],
      "execution_count": null,
      "outputs": []
    },
    {
      "cell_type": "code",
      "metadata": {
        "id": "2Y59_BHjDehU"
      },
      "source": [
        "Instructions\n",
        "100 XP\n",
        "Set up an array of indices to sample from. (Remember, when doing pairs bootstrap, we randomly choose indices and use those to get the pairs.)\n",
        "Initialize the array of bootstrap replicates. This should be a one-dimensional array of length size.\n",
        "Write a for loop to draw the samples.\n",
        "Randomly choose indices from the array of indices you previously set up.\n",
        "Extract x values and y values from the input array using the indices you just chose to generate a bootstrap sample.\n",
        "Use func to compute the statistic of interest from the bootstrap samples of x and y and store it in your array of bootstrap replicates.\n",
        "Return the array of bootstrap replicates.\n",
        "\n",
        "def draw_bs_pairs(x, y, func, size=1):\n",
        "    \"\"\"Perform pairs bootstrap for a single statistic.\"\"\"\n",
        "\n",
        "    # Set up array of indices to sample from: inds\n",
        "    inds = np.arange(len(x))\n",
        "\n",
        "    # Initialize replicates: bs_replicates\n",
        "    bs_replicates = np.empty(size)\n",
        "\n",
        "    # Generate replicates\n",
        "    for i in range(size):\n",
        "        bs_inds = np.random.choice(inds, len(inds))\n",
        "        bs_x, bs_y = x[bs_inds], y[bs_inds]\n",
        "        bs_replicates[i] = func(bs_x, bs_y)\n",
        "\n",
        "    return bs_replicates\n",
        "\n",
        "    "
      ],
      "execution_count": null,
      "outputs": []
    },
    {
      "cell_type": "code",
      "metadata": {
        "id": "ahwe1bS-DpRU"
      },
      "source": [
        "Instructions\n",
        "100 XP\n",
        "Use the pearson_r() function you wrote in the prequel to this course to compute the Pearson correlation coefficient for G. scandens and G. fortis.\n",
        "Acquire 1000 pairs bootstrap replicates of the Pearson correlation coefficient using the draw_bs_pairs() function you wrote in the previous exercise for G. scandens and G. fortis.\n",
        "Compute the 95% confidence interval for both using your bootstrap replicates.\n",
        "\n",
        "# Compute the Pearson correlation coefficients\n",
        "r_scandens = pearson_r(bd_parent_scandens, bd_offspring_scandens)\n",
        "r_fortis = pearson_r(bd_parent_fortis, bd_offspring_fortis)\n",
        "\n",
        "# Acquire 1000 bootstrap replicates of Pearson r\n",
        "bs_replicates_scandens = draw_bs_pairs(\n",
        "        bd_parent_scandens, bd_offspring_scandens, pearson_r, size=1000)\n",
        "bs_replicates_fortis = draw_bs_pairs(\n",
        "        bd_parent_fortis, bd_offspring_fortis, pearson_r, size=1000)\n",
        "\n",
        "# Compute 95% confidence intervals\n",
        "conf_int_scandens = np.percentile(bs_replicates_scandens, [2.5, 97.5])\n",
        "conf_int_fortis = np.percentile(bs_replicates_fortis, [2.5, 97.5])\n",
        "\n",
        "# Print results\n",
        "print('G. scandens:', r_scandens, conf_int_scandens)\n",
        "print('G. fortis:', r_fortis, conf_int_fortis)\n",
        "\n"
      ],
      "execution_count": null,
      "outputs": []
    },
    {
      "cell_type": "code",
      "metadata": {
        "id": "N8KSz6Z2D24-"
      },
      "source": [
        "Instructions\n",
        "100 XP\n",
        "Write a function heritability(parents, offspring) that computes heritability defined as the ratio of the covariance of the trait in parents and offspring divided by the variance of the trait in the parents. Hint: Remind yourself of the np.cov() function we covered in the prequel to this course.\n",
        "Use this function to compute the heritability for G. scandens and G. fortis.\n",
        "Acquire 1000 bootstrap replicates of the heritability using pairs bootstrap for G. scandens and G. fortis.\n",
        "Compute the 95% confidence interval for both using your bootstrap replicates.\n",
        "Print the results.\n",
        "\n",
        "\n",
        "def heritability(parents, offspring):\n",
        "    \"\"\"Compute the heritability from parent and offspring samples.\"\"\"\n",
        "    covariance_matrix = np.cov(parents, offspring)\n",
        "    return covariance_matrix[0,1] / covariance_matrix[0,0]\n",
        "\n",
        "# Compute the heritability\n",
        "heritability_scandens = heritability(bd_parent_scandens,\n",
        "                                     bd_offspring_scandens)\n",
        "heritability_fortis = heritability(bd_parent_fortis,\n",
        "                                   bd_offspring_fortis)\n",
        "\n",
        "# Acquire 1000 bootstrap replicates of heritability\n",
        "replicates_scandens = draw_bs_pairs(\n",
        "        bd_parent_scandens, bd_offspring_scandens, heritability, size=1000)\n",
        "replicates_fortis = draw_bs_pairs(\n",
        "        bd_parent_fortis, bd_offspring_fortis, heritability, size=1000)\n",
        "\n",
        "# Compute 95% confidence intervals\n",
        "conf_int_scandens = np.percentile(replicates_scandens, [2.5, 97.5])\n",
        "conf_int_fortis = np.percentile(replicates_fortis, [2.5, 97.5])\n",
        "\n",
        "# Print results\n",
        "print('G. scandens:', heritability_scandens, conf_int_scandens)\n",
        "print('G. fortis:', heritability_fortis, conf_int_fortis)"
      ],
      "execution_count": null,
      "outputs": []
    },
    {
      "cell_type": "code",
      "metadata": {
        "id": "suSy9fRVD-5Y"
      },
      "source": [
        "Instructions\n",
        "100 XP\n",
        "Initialize your array of replicates of heritability. We will take 10,000 pairs permutation replicates.\n",
        "Write a for loop to generate your replicates.\n",
        "Permute the bd_parent_scandens array using np.random.permutation().\n",
        "Compute the heritability between the permuted array and the bd_offspring_scandens array using the heritability() function you wrote in the last exercise. Store the result in the replicates array.\n",
        "Compute the p-value as the number of replicates that are greater than the observed heritability_scandens you computed in the last exercise.\n",
        "\n",
        "# Initialize array of replicates: perm_replicates\n",
        "perm_replicates = np.empty(10000)\n",
        "\n",
        "# Draw replicates\n",
        "for i in range(10000):\n",
        "    # Permute parent beak depths\n",
        "    bd_parent_permuted = np.random.permutation(bd_parent_scandens)\n",
        "    perm_replicates[i] = heritability(bd_parent_permuted,\n",
        "                                      bd_offspring_scandens)\n",
        "\n",
        "# Compute p-value: p\n",
        "p = np.sum(perm_replicates >= heritability_scandens) / len(perm_replicates)\n",
        "\n",
        "# Print the p-value\n",
        "print('p-val =', p)"
      ],
      "execution_count": null,
      "outputs": []
    },
    {
      "cell_type": "code",
      "metadata": {
        "id": "M_OxXR-TEHpp"
      },
      "source": [
        ""
      ],
      "execution_count": null,
      "outputs": []
    }
  ]
}