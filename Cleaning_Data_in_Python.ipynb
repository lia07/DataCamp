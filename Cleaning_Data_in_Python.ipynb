{
  "nbformat": 4,
  "nbformat_minor": 0,
  "metadata": {
    "colab": {
      "name": "Cleaning_Data_in_Python.ipynb",
      "provenance": [],
      "authorship_tag": "ABX9TyOMYQAmXjgLhrl70nTQjnp2",
      "include_colab_link": true
    },
    "kernelspec": {
      "name": "python3",
      "display_name": "Python 3"
    },
    "language_info": {
      "name": "python"
    }
  },
  "cells": [
    {
      "cell_type": "markdown",
      "metadata": {
        "id": "view-in-github",
        "colab_type": "text"
      },
      "source": [
        "<a href=\"https://colab.research.google.com/github/lia07/DataCamp/blob/main/Cleaning_Data_in_Python.ipynb\" target=\"_parent\"><img src=\"https://colab.research.google.com/assets/colab-badge.svg\" alt=\"Open In Colab\"/></a>"
      ]
    },
    {
      "cell_type": "markdown",
      "metadata": {
        "id": "jhY6RjrbuU8R"
      },
      "source": [
        "Cleaning Data in Python"
      ]
    },
    {
      "cell_type": "markdown",
      "metadata": {
        "id": "ee57CeSuLz3C"
      },
      "source": [
        "1"
      ]
    },
    {
      "cell_type": "code",
      "metadata": {
        "id": "Lf-Z4rrDua-h"
      },
      "source": [
        "Instructions 1/3\n",
        "35 XP\n",
        "1\n",
        "2\n",
        "3\n",
        "Print the information of ride_sharing.\n",
        "Use .describe() to print the summary statistics of the user_type column from ride_sharing.\n",
        "\n",
        "# Print the information of ride_sharing\n",
        "print(ride_sharing.info())\n",
        "\n",
        "# Print summary statistics of user_type column\n",
        "print(ride_sharing['user_type'].describe())\n",
        "\n",
        "Instructions 2/3\n",
        "35 XP\n",
        "2\n",
        "3\n",
        "Question\n",
        "By looking at the summary statistics - they don't really seem to offer much description on how users are distributed along their purchase type, why do you think that is?\n",
        "\n",
        "The user_type column has an finite set of possible values that represent groupings of data, it should be converted to category.\n",
        "\n",
        "Instructions 3/3\n",
        "30 XP\n",
        "3\n",
        "Convert user_type into categorical by assigning it the 'category' data type and store it in the user_type_cat column.\n",
        "Make sure you converted user_type_cat correctly by using an assert statement.\n",
        "\n",
        "# Print the information of ride_sharing\n",
        "print(ride_sharing.info())\n",
        "\n",
        "# Print summary statistics of user_type column\n",
        "print(ride_sharing['user_type'].describe())\n",
        "\n",
        "# Convert user_type from integer to category\n",
        "ride_sharing['user_type_cat'] = ride_sharing['user_type'].astype('category')\n",
        "\n",
        "# Write an assert statement confirming the change\n",
        "assert ride_sharing['user_type_cat'].dtype == 'category'\n",
        "\n",
        "# Print new summary statistics \n",
        "print(ride_sharing['user_type_cat'].describe())"
      ],
      "execution_count": null,
      "outputs": []
    },
    {
      "cell_type": "code",
      "metadata": {
        "id": "-Nkxu_9NyTAU"
      },
      "source": [
        "Instructions\n",
        "100 XP\n",
        "Use the .strip() method to strip duration of \"minutes\" and store it in the duration_trim column.\n",
        "Convert duration_trim to int and store it in the duration_time column.\n",
        "Write an assert statement that checks if duration_time's data type is now an int.\n",
        "Print the average ride duration.\n",
        "\n",
        "# Strip duration of minutes\n",
        "ride_sharing['duration_trim'] = ride_sharing['duration'].str.strip('minutes') \n",
        "\n",
        "# Convert duration to integer\n",
        "ride_sharing['duration_time'] = ride_sharing['duration_trim'].astype('int')\n",
        "\n",
        "# Write an assert statement making sure of conversion\n",
        "assert ride_sharing['duration_time'].dtype == 'int'\n",
        "\n",
        "# Print formed columns and calculate average ride duration \n",
        "print(ride_sharing[['duration','duration_trim','duration_time']])\n",
        "print(ride_sharing['duration_time'].mean())"
      ],
      "execution_count": null,
      "outputs": []
    },
    {
      "cell_type": "code",
      "metadata": {
        "id": "tsXs-36Mwju7"
      },
      "source": [
        "Instructions\n",
        "100 XP\n",
        "Convert the tire_sizes column from category to 'int'.\n",
        "Use .loc[] to set all values of tire_sizes above 27 to 27.\n",
        "Reconvert back tire_sizes to 'category' from int.\n",
        "Print the description of the tire_sizes.\n",
        "\n",
        "# Convert tire_sizes to integer\n",
        "ride_sharing['tire_sizes'] = ride_sharing['tire_sizes'].astype('int')\n",
        "\n",
        "# Set all values above 27 to 27\n",
        "ride_sharing.loc[ride_sharing['tire_sizes'] > 27, 'tire_sizes'] = 27\n",
        "\n",
        "# Reconvert tire_sizes back to categorical\n",
        "ride_sharing['tire_sizes'] = ride_sharing['tire_sizes'].astype('category')\n",
        "\n",
        "# Print tire size description\n",
        "print(ride_sharing['tire_sizes'].describe())\n"
      ],
      "execution_count": null,
      "outputs": []
    },
    {
      "cell_type": "code",
      "metadata": {
        "id": "-u2q9XDQ_tuj"
      },
      "source": [
        "Instructions\n",
        "100 XP\n",
        "Convert ride_date to a datetime object and store it in ride_dt column using to_datetime().\n",
        "Create the variable today, which stores today's date by using the dt.date.today() function.\n",
        "For all instances of ride_dt in the future, set them to today's date.\n",
        "Print the maximum date in the ride_dt column.\n",
        "\n",
        "# Convert ride_date to datetime\n",
        "ride_sharing['ride_dt'] = pd.to_datetime(ride_sharing['ride_date'])\n",
        "\n",
        "# Save today's date\n",
        "today = dt.date.today()\n",
        "\n",
        "# Set all in the future to today's date\n",
        "ride_sharing.loc[ride_sharing['ride_dt'] > today, 'ride_dt'] = today\n",
        "\n",
        "# Print maximum of ride_dt column\n",
        "print(ride_sharing['ride_dt'].max())"
      ],
      "execution_count": null,
      "outputs": []
    },
    {
      "cell_type": "code",
      "metadata": {
        "id": "UN92GaEu_7Gm"
      },
      "source": [
        "Instructions\n",
        "100 XP\n",
        "Find duplicated rows of ride_id in the ride_sharing DataFrame while setting keep to False.\n",
        "Subset ride_sharing on duplicates and sort by ride_id and assign the results to duplicated_rides.\n",
        "Print the ride_id, duration and user_birth_year columns of duplicated_rides in that order.\n",
        "\n",
        "# Find duplicates\n",
        "duplicates = ride_sharing.duplicated(subset = 'ride_id', keep = False)\n",
        "\n",
        "# Sort your duplicated rides\n",
        "duplicated_rides = ride_sharing[duplicates].sort_values('ride_id')\n",
        "\n",
        "# Print relevant columns\n",
        "print(duplicated_rides[['ride_id','duration','user_birth_year']])"
      ],
      "execution_count": null,
      "outputs": []
    },
    {
      "cell_type": "code",
      "metadata": {
        "id": "B7bBXMlOI0kC"
      },
      "source": [
        "Instructions\n",
        "100 XP\n",
        "Drop complete duplicates in ride_sharing and store the results in ride_dup.\n",
        "Create the statistics dictionary which holds minimum aggregation for user_birth_year and mean aggregation for duration.\n",
        "Drop incomplete duplicates by grouping by ride_id and applying the aggregation in statistics.\n",
        "Find duplicates again and run the assert statement to verify de-duplication.\n",
        "\n",
        "# Drop complete duplicates from ride_sharing\n",
        "ride_dup = ride_sharing.drop_duplicates()\n",
        "\n",
        "# Create statistics dictionary for aggregation function\n",
        "statistics = {'user_birth_year': 'min', 'duration': 'mean'}\n",
        "\n",
        "# Group by ride_id and compute new statistics\n",
        "ride_unique = ride_dup.groupby('ride_id').agg(statistics).reset_index()\n",
        "\n",
        "# Find duplicated values again\n",
        "duplicates = ride_unique.duplicated(subset = 'ride_id', keep = False)\n",
        "duplicated_rides = ride_unique[duplicates == True]\n",
        "\n",
        "# Assert duplicates are processed\n",
        "assert duplicated_rides.shape[0] == 0"
      ],
      "execution_count": null,
      "outputs": []
    },
    {
      "cell_type": "markdown",
      "metadata": {
        "id": "h2bHGyYpLwrD"
      },
      "source": [
        "2"
      ]
    },
    {
      "cell_type": "code",
      "metadata": {
        "id": "iY_2wt6lLp-P"
      },
      "source": [
        ""
      ],
      "execution_count": null,
      "outputs": []
    }
  ]
}