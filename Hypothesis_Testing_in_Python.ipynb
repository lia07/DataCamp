{
  "nbformat": 4,
  "nbformat_minor": 0,
  "metadata": {
    "colab": {
      "provenance": [],
      "authorship_tag": "ABX9TyNvcFXF61nNbjRBE02dO8w5",
      "include_colab_link": true
    },
    "kernelspec": {
      "name": "python3",
      "display_name": "Python 3"
    },
    "language_info": {
      "name": "python"
    }
  },
  "cells": [
    {
      "cell_type": "markdown",
      "metadata": {
        "id": "view-in-github",
        "colab_type": "text"
      },
      "source": [
        "<a href=\"https://colab.research.google.com/github/lia07/DataCamp/blob/main/Hypothesis_Testing_in_Python.ipynb\" target=\"_parent\"><img src=\"https://colab.research.google.com/assets/colab-badge.svg\" alt=\"Open In Colab\"/></a>"
      ]
    },
    {
      "cell_type": "code",
      "execution_count": null,
      "metadata": {
        "id": "ox6r4WCgdMZk"
      },
      "outputs": [],
      "source": [
        "Instructions 1/2\n",
        "50 XP\n",
        "2\n",
        "Print the late_shipments dataset.\n",
        "\n",
        "\n",
        "# Print the late_shipments dataset\n",
        "print(late_shipments)\n",
        "\n",
        "\n",
        "Instructions 2/2\n",
        "50 XP\n",
        "2\n",
        "Calculate the proportion of late shipments in the sample; that is, the mean cases where the late column is \"Yes\".\n",
        "\n",
        "# Print the late_shipments dataset\n",
        "print(late_shipments)\n",
        "\n",
        "# Calculate the proportion of late shipments\n",
        "late_prop_samp = (late_shipments['late'] == \"Yes\").mean()\n",
        "\n",
        "# Print the results\n",
        "print(late_prop_samp)"
      ]
    },
    {
      "cell_type": "code",
      "source": [
        "Instructions\n",
        "100 XP\n",
        "Hypothesize that the proportion of late shipments is 6%.\n",
        "Calculate the standard error from the standard deviation of the bootstrap distribution.\n",
        "Calculate the z-score.\n",
        "\n",
        "# Hypothesize that the proportion is 6%\n",
        "late_prop_hyp = 0.06\n",
        "\n",
        "# Calculate the standard error\n",
        "std_error = np.std(late_shipments_boot_distn, ddof=1)\n",
        "\n",
        "# Find z-score of late_prop_samp\n",
        "z_score = (late_prop_samp - late_prop_hyp) / std_error\n",
        "\n",
        "# Print z_score\n",
        "print(z_score)\n"
      ],
      "metadata": {
        "id": "408dLCoMf7V7"
      },
      "execution_count": null,
      "outputs": []
    },
    {
      "cell_type": "code",
      "source": [
        "Instructions 2/2\n",
        "50 XP\n",
        "2\n",
        "Calculate the z-score of late_prop_samp.\n",
        "Calculate the p-value for the z-score, using a right-tailed test.\n",
        "\n",
        "# Calculate the z-score of late_prop_samp\n",
        "z_score = (late_prop_samp - late_prop_hyp) / std_error\n",
        "\n",
        "# Calculate the p-value\n",
        "p_value = 1 - norm.cdf(z_score)\n",
        "                 \n",
        "# Print the p-value\n",
        "print(p_value) "
      ],
      "metadata": {
        "id": "6V_UJz3kkcIr"
      },
      "execution_count": null,
      "outputs": []
    }
  ]
}