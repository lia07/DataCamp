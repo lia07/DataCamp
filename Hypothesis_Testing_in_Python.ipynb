{
  "nbformat": 4,
  "nbformat_minor": 0,
  "metadata": {
    "colab": {
      "provenance": [],
      "authorship_tag": "ABX9TyOFyGn51Y8PV7vRvrvRcEgB",
      "include_colab_link": true
    },
    "kernelspec": {
      "name": "python3",
      "display_name": "Python 3"
    },
    "language_info": {
      "name": "python"
    }
  },
  "cells": [
    {
      "cell_type": "markdown",
      "metadata": {
        "id": "view-in-github",
        "colab_type": "text"
      },
      "source": [
        "<a href=\"https://colab.research.google.com/github/lia07/DataCamp/blob/main/Hypothesis_Testing_in_Python.ipynb\" target=\"_parent\"><img src=\"https://colab.research.google.com/assets/colab-badge.svg\" alt=\"Open In Colab\"/></a>"
      ]
    },
    {
      "cell_type": "code",
      "execution_count": null,
      "metadata": {
        "id": "ox6r4WCgdMZk"
      },
      "outputs": [],
      "source": [
        "Instructions 1/2\n",
        "50 XP\n",
        "2\n",
        "Print the late_shipments dataset.\n",
        "\n",
        "\n",
        "# Print the late_shipments dataset\n",
        "print(late_shipments)\n",
        "\n",
        "\n",
        "Instructions 2/2\n",
        "50 XP\n",
        "2\n",
        "Calculate the proportion of late shipments in the sample; that is, the mean cases where the late column is \"Yes\".\n",
        "\n",
        "# Print the late_shipments dataset\n",
        "print(late_shipments)\n",
        "\n",
        "# Calculate the proportion of late shipments\n",
        "late_prop_samp = (late_shipments['late'] == \"Yes\").mean()\n",
        "\n",
        "# Print the results\n",
        "print(late_prop_samp)"
      ]
    }
  ]
}