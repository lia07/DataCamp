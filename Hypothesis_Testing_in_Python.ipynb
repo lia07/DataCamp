{
  "nbformat": 4,
  "nbformat_minor": 0,
  "metadata": {
    "colab": {
      "provenance": [],
      "authorship_tag": "ABX9TyM7fCdg6w9sQPC2gFgw/ge+",
      "include_colab_link": true
    },
    "kernelspec": {
      "name": "python3",
      "display_name": "Python 3"
    },
    "language_info": {
      "name": "python"
    }
  },
  "cells": [
    {
      "cell_type": "markdown",
      "metadata": {
        "id": "view-in-github",
        "colab_type": "text"
      },
      "source": [
        "<a href=\"https://colab.research.google.com/github/lia07/DataCamp/blob/main/Hypothesis_Testing_in_Python.ipynb\" target=\"_parent\"><img src=\"https://colab.research.google.com/assets/colab-badge.svg\" alt=\"Open In Colab\"/></a>"
      ]
    },
    {
      "cell_type": "code",
      "execution_count": null,
      "metadata": {
        "id": "ox6r4WCgdMZk"
      },
      "outputs": [],
      "source": [
        "Instructions 1/2\n",
        "50 XP\n",
        "2\n",
        "Print the late_shipments dataset.\n",
        "\n",
        "\n",
        "# Print the late_shipments dataset\n",
        "print(late_shipments)\n",
        "\n",
        "\n",
        "Instructions 2/2\n",
        "50 XP\n",
        "2\n",
        "Calculate the proportion of late shipments in the sample; that is, the mean cases where the late column is \"Yes\".\n",
        "\n",
        "# Print the late_shipments dataset\n",
        "print(late_shipments)\n",
        "\n",
        "# Calculate the proportion of late shipments\n",
        "late_prop_samp = (late_shipments['late'] == \"Yes\").mean()\n",
        "\n",
        "# Print the results\n",
        "print(late_prop_samp)"
      ]
    },
    {
      "cell_type": "code",
      "source": [
        "Instructions\n",
        "100 XP\n",
        "Hypothesize that the proportion of late shipments is 6%.\n",
        "Calculate the standard error from the standard deviation of the bootstrap distribution.\n",
        "Calculate the z-score.\n",
        "\n",
        "# Hypothesize that the proportion is 6%\n",
        "late_prop_hyp = 0.06\n",
        "\n",
        "# Calculate the standard error\n",
        "std_error = np.std(late_shipments_boot_distn, ddof=1)\n",
        "\n",
        "# Find z-score of late_prop_samp\n",
        "z_score = (late_prop_samp - late_prop_hyp) / std_error\n",
        "\n",
        "# Print z_score\n",
        "print(z_score)\n"
      ],
      "metadata": {
        "id": "408dLCoMf7V7"
      },
      "execution_count": null,
      "outputs": []
    },
    {
      "cell_type": "code",
      "source": [
        "Instructions 2/2\n",
        "50 XP\n",
        "2\n",
        "Calculate the z-score of late_prop_samp.\n",
        "Calculate the p-value for the z-score, using a right-tailed test.\n",
        "\n",
        "# Calculate the z-score of late_prop_samp\n",
        "z_score = (late_prop_samp - late_prop_hyp) / std_error\n",
        "\n",
        "# Calculate the p-value\n",
        "p_value = 1 - norm.cdf(z_score)\n",
        "                 \n",
        "# Print the p-value\n",
        "print(p_value) "
      ],
      "metadata": {
        "id": "6V_UJz3kkcIr"
      },
      "execution_count": null,
      "outputs": []
    },
    {
      "cell_type": "code",
      "source": [
        "Instructions 1/2\n",
        "50 XP\n",
        "1\n",
        "2\n",
        "Calculate a 95% confidence interval from late_shipments_boot_distn using the quantile method, labeling the lower and upper intervals lower and upper.\n",
        "\n",
        "# Calculate 95% confidence interval using quantile method\n",
        "lower = np.quantile(late_shipments_boot_distn, 0.025)\n",
        "upper = np.quantile(late_shipments_boot_distn, 0.975)\n",
        "\n",
        "# Print the confidence interval\n",
        "print((lower, upper))\n",
        "\n"
      ],
      "metadata": {
        "id": "2bwdPO8wlaiF"
      },
      "execution_count": null,
      "outputs": []
    },
    {
      "cell_type": "code",
      "source": [
        "Instructions\n",
        "100 XP\n",
        "Calculate the numerator of the test statistic.\n",
        "Calculate the denominator of the test statistic.\n",
        "Use those two numbers to calculate the test statistic.\n",
        "\n",
        "# Calculate the numerator of the test statistic\n",
        "numerator = xbar_no - xbar_yes\n",
        "\n",
        "# Calculate the denominator of the test statistic\n",
        "denominator = np.sqrt(s_no ** 2 / n_no + s_yes ** 2 / n_yes)\n",
        "\n",
        "# Calculate the test statistic\n",
        "t_stat = numerator / denominator\n",
        "\n",
        "# Print the test statistic\n",
        "print(t_stat)"
      ],
      "metadata": {
        "id": "xfm5dJxKuH18"
      },
      "execution_count": null,
      "outputs": []
    },
    {
      "cell_type": "code",
      "source": [
        "Instructions 2/3\n",
        "35 XP\n",
        "2\n",
        "3\n",
        "Calculate the degrees of freedom for the test.\n",
        "Compute the p-value using the test statistic, t_stat.\n",
        "\n",
        "# Calculate the degrees of freedom\n",
        "degrees_of_freedom = n_no + n_yes - 2\n",
        "\n",
        "# Calculate the p-value from the test stat\n",
        "p_value = t.cdf(t_stat, df=degrees_of_freedom)\n",
        "\n",
        "# Print the p_value\n",
        "print(p_value)"
      ],
      "metadata": {
        "id": "zpoChYXz0RpA"
      },
      "execution_count": null,
      "outputs": []
    },
    {
      "cell_type": "code",
      "source": [
        "Instructions 1/4\n",
        "25 XP\n",
        "\n",
        "Create a new diff column containing the percentage of votes for the democratic candidate in 2012 minus the percentage of votes for the democratic candidate in 2016.\n",
        "\n",
        "# Calculate the differences from 2012 to 2016\n",
        "sample_dem_data['diff'] = sample_dem_data['dem_percent_12'] - sample_dem_data['dem_percent_16']\n",
        "\n",
        "# Print sample_dem_data\n",
        "print(sample_dem_data)\n",
        "\n",
        "Instructions 2/4\n",
        "25 XP\n",
        "2\n",
        "3\n",
        "4\n",
        "Calculate the mean of the diff column as xbar_diff.\n",
        "\n"
      ],
      "metadata": {
        "id": "tVH55Kb22WE7"
      },
      "execution_count": null,
      "outputs": []
    }
  ]
}