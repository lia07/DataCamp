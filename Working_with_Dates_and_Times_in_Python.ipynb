{
  "nbformat": 4,
  "nbformat_minor": 0,
  "metadata": {
    "colab": {
      "name": "Working with_Dates_and_Times_in_Python.ipynb",
      "provenance": [],
      "authorship_tag": "ABX9TyOC/C0kQtFGwBBOd5YFR7pd",
      "include_colab_link": true
    },
    "kernelspec": {
      "name": "python3",
      "display_name": "Python 3"
    },
    "language_info": {
      "name": "python"
    }
  },
  "cells": [
    {
      "cell_type": "markdown",
      "metadata": {
        "id": "view-in-github",
        "colab_type": "text"
      },
      "source": [
        "<a href=\"https://colab.research.google.com/github/lia07/DataCamp/blob/main/Working_with_Dates_and_Times_in_Python.ipynb\" target=\"_parent\"><img src=\"https://colab.research.google.com/assets/colab-badge.svg\" alt=\"Open In Colab\"/></a>"
      ]
    },
    {
      "cell_type": "markdown",
      "metadata": {
        "id": "bOrP55lzVsV3"
      },
      "source": [
        "Working with Dates and Times in Python"
      ]
    },
    {
      "cell_type": "code",
      "metadata": {
        "id": "6_J_JuhmVu-W"
      },
      "source": [
        "Instructions 1/3\n",
        "35 XP\n",
        "1\n",
        "2\n",
        "3\n",
        "Import date from datetime.\n",
        "\n",
        "# Import date from datetime\n",
        "from datetime import date\n",
        "\n",
        "Instructions 2/3\n",
        "35 XP\n",
        "2\n",
        "3\n",
        "Create a date object for August 24, 1992.\n",
        "\n",
        "# Import date from datetime\n",
        "from datetime import date\n",
        "\n",
        "# Create a date object\n",
        "hurricane_andrew = date(1992, 8, 24)\n",
        "\n",
        "Instructions 3/3\n",
        "30 XP\n",
        "3\n",
        "Now ask Python what day of the week Hurricane Andrew hit (remember that Python counts days of the week starting from Monday as 0, Tuesday as 1, and so on).\n",
        "\n",
        "# Import date from datetime\n",
        "from datetime import date\n",
        "\n",
        "# Create a date object\n",
        "hurricane_andrew = date(1992, 8, 24)\n",
        "\n",
        "# Which day of the week is the date?\n",
        "print(hurricane_andrew.weekday())\n"
      ],
      "execution_count": null,
      "outputs": []
    },
    {
      "cell_type": "code",
      "metadata": {
        "id": "pwBM17TO7U_9"
      },
      "source": [
        "Instructions\n",
        "100 XP\n",
        "Complete the for loop to iterate through florida_hurricane_dates.\n",
        "Complete the if statement to increment the counter (early_hurricanes) if the hurricane made landfall before June.\n",
        "\n",
        "# Counter for how many before June 1\n",
        "early_hurricanes = 0\n",
        "\n",
        "# We loop over the dates\n",
        "for hurricane in florida_hurricane_dates:\n",
        "  # Check if the month is before June (month number 6)\n",
        "  if hurricane.month < 6:\n",
        "    early_hurricanes = early_hurricanes + 1\n",
        "    \n",
        "print(early_hurricanes)"
      ],
      "execution_count": null,
      "outputs": []
    },
    {
      "cell_type": "code",
      "metadata": {
        "id": "Kd6zuJvt7cV4"
      },
      "source": [
        "Instructions\n",
        "100 XP\n",
        "Import date from datetime.\n",
        "Create a date object for May 9th, 2007, and assign it to the start variable.\n",
        "Create a date object for December 13th, 2007, and assign it to the end variable.\n",
        "Subtract start from end, to print the number of days in the resulting timedelta object.\n",
        "\n",
        "# Import date\n",
        "from datetime import date\n",
        "\n",
        "# Create a date object for May 9th, 2007\n",
        "start = date(2007, 5, 9)\n",
        "\n",
        "# Create a date object for December 13th, 2007\n",
        "end = date(2007, 12, 13)\n",
        "\n",
        "# Subtract the two dates and print the number of days\n",
        "print((end - start).days)"
      ],
      "execution_count": null,
      "outputs": []
    },
    {
      "cell_type": "code",
      "metadata": {
        "id": "T9wR601sK2lO"
      },
      "source": [
        "Instructions\n",
        "100 XP\n",
        "Within the for loop:\n",
        "Assign month to be the month of that hurricane.\n",
        "Increment hurricanes_each_month for the relevant month by 1.\n",
        "\n",
        "# A dictionary to count hurricanes per calendar month\n",
        "hurricanes_each_month = {1: 0, 2: 0, 3: 0, 4: 0, 5: 0, 6:0,\n",
        "\t\t  \t\t\t\t 7: 0, 8:0, 9:0, 10:0, 11:0, 12:0}\n",
        "\n",
        "# Loop over all hurricanes\n",
        "for hurricane in florida_hurricane_dates:\n",
        "  # Pull out the month\n",
        "  month = hurricane.month\n",
        "  # Increment the count in your dictionary by one\n",
        "  hurricanes_each_month[month] += 1\n",
        "  \n",
        "print(hurricanes_each_month)"
      ],
      "execution_count": null,
      "outputs": []
    },
    {
      "cell_type": "code",
      "metadata": {
        "id": "8l-zx_d2nZ9a"
      },
      "source": [
        "Instructions 1/2\n",
        "50 XP\n",
        "1\n",
        "2\n",
        "Print the first and last dates in dates_scrambled.\n",
        "\n",
        "# Print the first and last scrambled dates\n",
        "print(dates_scrambled[0])\n",
        "print(dates_scrambled[-1])\n",
        "\n",
        " Instructions 2/2\n",
        "50 XP\n",
        "2\n",
        "Sort dates_scrambled using Python's built-in sorted() method, and save the results to dates_ordered.\n",
        "Print the first and last dates in dates_ordered.\n",
        "\n",
        "# Print the first and last scrambled dates\n",
        "print(dates_scrambled[0])\n",
        "print(dates_scrambled[-1])\n",
        "\n",
        "# Put the dates in order\n",
        "dates_ordered = sorted(dates_scrambled)\n",
        "\n",
        "# Print the first and last ordered dates\n",
        "print(dates_ordered[0])\n",
        "print(dates_ordered[-1])"
      ],
      "execution_count": null,
      "outputs": []
    },
    {
      "cell_type": "code",
      "metadata": {
        "id": "8dRK2jXQATRU"
      },
      "source": [
        "Instructions\n",
        "100 XP\n",
        "Assign the earliest date in florida_hurricane_dates to first_date.\n",
        "Print first_date in the ISO standard. For example, December 1st, 2000 would be \"2000-12-01\".\n",
        "Print first_date in the US style, using .strftime(). For example, December 1st, 2000 would be \"12/1/2000\" .\n",
        "\n",
        "# Assign the earliest date to first_date\n",
        "first_date = min(florida_hurricane_dates)\n",
        "\n",
        "# Convert to ISO and US formats\n",
        "iso = \"Our earliest hurricane date: \" + first_date.isoformat()\n",
        "us = \"Our earliest hurricane date: \" + first_date.strftime(\"%m/%d/%Y\")\n",
        "\n",
        "print(\"ISO: \" + iso)\n",
        "print(\"US: \" + us)\n"
      ],
      "execution_count": null,
      "outputs": []
    },
    {
      "cell_type": "code",
      "metadata": {
        "id": "qx3Wgg6QAS1f"
      },
      "source": [
        "Instructions 1/3\n",
        "35 XP\n",
        "1\n",
        "Print andrew in the format 'YYYY-MM'.\n",
        "\n",
        "# Import date\n",
        "from datetime import date\n",
        "\n",
        "# Create a date object\n",
        "andrew = date(1992, 8, 26)\n",
        "\n",
        "# Print the date in the format 'YYYY-MM'\n",
        "print(andrew.strftime('%Y-%m'))\n",
        "\n",
        "\n",
        "Instructions 2/3\n",
        "35 XP\n",
        "Print andrew in the format 'YYYY-MM'.\n",
        "\n",
        "2\n",
        "Print andrew in the format 'MONTH (YYYY)', using %B for the month's full name, which in this case will be August.\n",
        "\n",
        "# Import date\n",
        "from datetime import date\n",
        "\n",
        "# Create a date object\n",
        "andrew = date(1992, 8, 26)\n",
        "\n",
        "# Print the date in the format 'MONTH (YYYY)'\n",
        "print(andrew.strftime('%B (%Y)'))\n",
        "\n",
        "\n",
        "Instructions 3/3\n",
        "30 XP\n",
        "Print andrew in the format 'YYYY-MM'.\n",
        "\n",
        "Print andrew in the format 'MONTH (YYYY)', using %B for the month's full name, which in this case will be August.\n",
        "\n",
        "3\n",
        "Print andrew in the format 'YYYY-DDD' (where DDD is the day of the year) using %j.\n",
        "\n",
        "# Import date\n",
        "from datetime import date\n",
        "\n",
        "# Create a date object\n",
        "andrew = date(1992, 8, 26)\n",
        "\n",
        "# Print the date in the format 'YYYY-DDD'\n",
        "print(andrew.strftime(\"%Y-%j\"))\n"
      ],
      "execution_count": null,
      "outputs": []
    },
    {
      "cell_type": "code",
      "metadata": {
        "id": "H0EngVZKASfK"
      },
      "source": [
        ""
      ],
      "execution_count": null,
      "outputs": []
    },
    {
      "cell_type": "code",
      "metadata": {
        "id": "Bd9A-4acAQ-a"
      },
      "source": [
        ""
      ],
      "execution_count": null,
      "outputs": []
    }
  ]
}