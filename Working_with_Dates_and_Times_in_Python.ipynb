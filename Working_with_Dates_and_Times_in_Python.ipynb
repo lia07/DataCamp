{
  "nbformat": 4,
  "nbformat_minor": 0,
  "metadata": {
    "colab": {
      "name": "Working with_Dates_and_Times_in_Python.ipynb",
      "provenance": [],
      "authorship_tag": "ABX9TyON5epYqOJeLAUW06yiVRQm",
      "include_colab_link": true
    },
    "kernelspec": {
      "name": "python3",
      "display_name": "Python 3"
    },
    "language_info": {
      "name": "python"
    }
  },
  "cells": [
    {
      "cell_type": "markdown",
      "metadata": {
        "id": "view-in-github",
        "colab_type": "text"
      },
      "source": [
        "<a href=\"https://colab.research.google.com/github/lia07/DataCamp/blob/main/Working_with_Dates_and_Times_in_Python.ipynb\" target=\"_parent\"><img src=\"https://colab.research.google.com/assets/colab-badge.svg\" alt=\"Open In Colab\"/></a>"
      ]
    },
    {
      "cell_type": "markdown",
      "metadata": {
        "id": "bOrP55lzVsV3"
      },
      "source": [
        "Working with Dates and Times in Python"
      ]
    },
    {
      "cell_type": "markdown",
      "metadata": {
        "id": "-pMR6cIrSz7v"
      },
      "source": [
        "1"
      ]
    },
    {
      "cell_type": "code",
      "metadata": {
        "id": "6_J_JuhmVu-W"
      },
      "source": [
        "Instructions 1/3\n",
        "35 XP\n",
        "1\n",
        "2\n",
        "3\n",
        "Import date from datetime.\n",
        "\n",
        "# Import date from datetime\n",
        "from datetime import date\n",
        "\n",
        "Instructions 2/3\n",
        "35 XP\n",
        "2\n",
        "3\n",
        "Create a date object for August 24, 1992.\n",
        "\n",
        "# Import date from datetime\n",
        "from datetime import date\n",
        "\n",
        "# Create a date object\n",
        "hurricane_andrew = date(1992, 8, 24)\n",
        "\n",
        "Instructions 3/3\n",
        "30 XP\n",
        "3\n",
        "Now ask Python what day of the week Hurricane Andrew hit (remember that Python counts days of the week starting from Monday as 0, Tuesday as 1, and so on).\n",
        "\n",
        "# Import date from datetime\n",
        "from datetime import date\n",
        "\n",
        "# Create a date object\n",
        "hurricane_andrew = date(1992, 8, 24)\n",
        "\n",
        "# Which day of the week is the date?\n",
        "print(hurricane_andrew.weekday())\n"
      ],
      "execution_count": null,
      "outputs": []
    },
    {
      "cell_type": "code",
      "metadata": {
        "id": "pwBM17TO7U_9"
      },
      "source": [
        "Instructions\n",
        "100 XP\n",
        "Complete the for loop to iterate through florida_hurricane_dates.\n",
        "Complete the if statement to increment the counter (early_hurricanes) if the hurricane made landfall before June.\n",
        "\n",
        "# Counter for how many before June 1\n",
        "early_hurricanes = 0\n",
        "\n",
        "# We loop over the dates\n",
        "for hurricane in florida_hurricane_dates:\n",
        "  # Check if the month is before June (month number 6)\n",
        "  if hurricane.month < 6:\n",
        "    early_hurricanes = early_hurricanes + 1\n",
        "    \n",
        "print(early_hurricanes)"
      ],
      "execution_count": null,
      "outputs": []
    },
    {
      "cell_type": "code",
      "metadata": {
        "id": "Kd6zuJvt7cV4"
      },
      "source": [
        "Instructions\n",
        "100 XP\n",
        "Import date from datetime.\n",
        "Create a date object for May 9th, 2007, and assign it to the start variable.\n",
        "Create a date object for December 13th, 2007, and assign it to the end variable.\n",
        "Subtract start from end, to print the number of days in the resulting timedelta object.\n",
        "\n",
        "# Import date\n",
        "from datetime import date\n",
        "\n",
        "# Create a date object for May 9th, 2007\n",
        "start = date(2007, 5, 9)\n",
        "\n",
        "# Create a date object for December 13th, 2007\n",
        "end = date(2007, 12, 13)\n",
        "\n",
        "# Subtract the two dates and print the number of days\n",
        "print((end - start).days)"
      ],
      "execution_count": null,
      "outputs": []
    },
    {
      "cell_type": "code",
      "metadata": {
        "id": "T9wR601sK2lO"
      },
      "source": [
        "Instructions\n",
        "100 XP\n",
        "Within the for loop:\n",
        "Assign month to be the month of that hurricane.\n",
        "Increment hurricanes_each_month for the relevant month by 1.\n",
        "\n",
        "# A dictionary to count hurricanes per calendar month\n",
        "hurricanes_each_month = {1: 0, 2: 0, 3: 0, 4: 0, 5: 0, 6:0,\n",
        "\t\t  \t\t\t\t 7: 0, 8:0, 9:0, 10:0, 11:0, 12:0}\n",
        "\n",
        "# Loop over all hurricanes\n",
        "for hurricane in florida_hurricane_dates:\n",
        "  # Pull out the month\n",
        "  month = hurricane.month\n",
        "  # Increment the count in your dictionary by one\n",
        "  hurricanes_each_month[month] += 1\n",
        "  \n",
        "print(hurricanes_each_month)"
      ],
      "execution_count": null,
      "outputs": []
    },
    {
      "cell_type": "code",
      "metadata": {
        "id": "8l-zx_d2nZ9a"
      },
      "source": [
        "Instructions 1/2\n",
        "50 XP\n",
        "1\n",
        "2\n",
        "Print the first and last dates in dates_scrambled.\n",
        "\n",
        "# Print the first and last scrambled dates\n",
        "print(dates_scrambled[0])\n",
        "print(dates_scrambled[-1])\n",
        "\n",
        " Instructions 2/2\n",
        "50 XP\n",
        "2\n",
        "Sort dates_scrambled using Python's built-in sorted() method, and save the results to dates_ordered.\n",
        "Print the first and last dates in dates_ordered.\n",
        "\n",
        "# Print the first and last scrambled dates\n",
        "print(dates_scrambled[0])\n",
        "print(dates_scrambled[-1])\n",
        "\n",
        "# Put the dates in order\n",
        "dates_ordered = sorted(dates_scrambled)\n",
        "\n",
        "# Print the first and last ordered dates\n",
        "print(dates_ordered[0])\n",
        "print(dates_ordered[-1])"
      ],
      "execution_count": null,
      "outputs": []
    },
    {
      "cell_type": "code",
      "metadata": {
        "id": "8dRK2jXQATRU"
      },
      "source": [
        "Instructions\n",
        "100 XP\n",
        "Assign the earliest date in florida_hurricane_dates to first_date.\n",
        "Print first_date in the ISO standard. For example, December 1st, 2000 would be \"2000-12-01\".\n",
        "Print first_date in the US style, using .strftime(). For example, December 1st, 2000 would be \"12/1/2000\" .\n",
        "\n",
        "# Assign the earliest date to first_date\n",
        "first_date = min(florida_hurricane_dates)\n",
        "\n",
        "# Convert to ISO and US formats\n",
        "iso = \"Our earliest hurricane date: \" + first_date.isoformat()\n",
        "us = \"Our earliest hurricane date: \" + first_date.strftime(\"%m/%d/%Y\")\n",
        "\n",
        "print(\"ISO: \" + iso)\n",
        "print(\"US: \" + us)\n"
      ],
      "execution_count": null,
      "outputs": []
    },
    {
      "cell_type": "code",
      "metadata": {
        "id": "qx3Wgg6QAS1f"
      },
      "source": [
        "Instructions 1/3\n",
        "35 XP\n",
        "1\n",
        "Print andrew in the format 'YYYY-MM'.\n",
        "\n",
        "# Import date\n",
        "from datetime import date\n",
        "\n",
        "# Create a date object\n",
        "andrew = date(1992, 8, 26)\n",
        "\n",
        "# Print the date in the format 'YYYY-MM'\n",
        "print(andrew.strftime('%Y-%m'))\n",
        "\n",
        "\n",
        "Instructions 2/3\n",
        "35 XP\n",
        "Print andrew in the format 'YYYY-MM'.\n",
        "\n",
        "2\n",
        "Print andrew in the format 'MONTH (YYYY)', using %B for the month's full name, which in this case will be August.\n",
        "\n",
        "# Import date\n",
        "from datetime import date\n",
        "\n",
        "# Create a date object\n",
        "andrew = date(1992, 8, 26)\n",
        "\n",
        "# Print the date in the format 'MONTH (YYYY)'\n",
        "print(andrew.strftime('%B (%Y)'))\n",
        "\n",
        "\n",
        "Instructions 3/3\n",
        "30 XP\n",
        "Print andrew in the format 'YYYY-MM'.\n",
        "\n",
        "Print andrew in the format 'MONTH (YYYY)', using %B for the month's full name, which in this case will be August.\n",
        "\n",
        "3\n",
        "Print andrew in the format 'YYYY-DDD' (where DDD is the day of the year) using %j.\n",
        "\n",
        "# Import date\n",
        "from datetime import date\n",
        "\n",
        "# Create a date object\n",
        "andrew = date(1992, 8, 26)\n",
        "\n",
        "# Print the date in the format 'YYYY-DDD'\n",
        "print(andrew.strftime(\"%Y-%j\"))\n"
      ],
      "execution_count": null,
      "outputs": []
    },
    {
      "cell_type": "markdown",
      "metadata": {
        "id": "mKva-1qESxnW"
      },
      "source": [
        "2"
      ]
    },
    {
      "cell_type": "code",
      "metadata": {
        "id": "H0EngVZKASfK"
      },
      "source": [
        "Instructions 1/3\n",
        "50 XP\n",
        "1\n",
        "Import the datetime class.\n",
        "Create a datetime for October 1, 2017 at 15:26:26.\n",
        "Print the results in ISO format.\n",
        "\n",
        "# Import datetime\n",
        "from datetime import datetime\n",
        "\n",
        "# Create a datetime object\n",
        "dt = datetime(2017, 10, 1, 15, 26, 26)\n",
        "\n",
        "# Print the results in ISO 8601 format\n",
        "print(dt.isoformat())\n",
        "\n",
        "Instructions 2/3\n",
        "50 XP\n",
        "Import the datetime class.\n",
        "Create a datetime for October 1, 2017 at 15:26:26.\n",
        "Print the results in ISO format.\n",
        "2\n",
        "Import the datetime class.\n",
        "Create a datetime for December 31, 2017 at 15:19:13.\n",
        "Print the results in ISO format.\n",
        "\n",
        "# Import datetime\n",
        "from datetime import datetime\n",
        "\n",
        "# Create a datetime object\n",
        "dt = datetime(2017, 12, 31, 15, 19, 13)\n",
        "\n",
        "# Print the results in ISO 8601 format\n",
        "print(dt.isoformat())\n",
        "\n",
        "Instructions 3/3\n",
        "30 XP\n",
        "Import the datetime class.\n",
        "Create a datetime for October 1, 2017 at 15:26:26.\n",
        "Print the results in ISO format.\n",
        "Import the datetime class.\n",
        "Create a datetime for December 31, 2017 at 15:19:13.\n",
        "Print the results in ISO format.\n",
        "3\n",
        "Create a new datetime by replacing the year in dt with 1917 (instead of 2017)\n",
        "\n",
        "# Import datetime\n",
        "from datetime import datetime\n",
        "\n",
        "# Create a datetime object\n",
        "dt = datetime(2017, 12, 31, 15, 19, 13)\n",
        "\n",
        "# Replace the year with 1917\n",
        "dt_old = dt.replace(year=1917)\n",
        "\n",
        "# Print the results in ISO 8601 format\n",
        "print(dt_old)\n",
        "\n"
      ],
      "execution_count": null,
      "outputs": []
    },
    {
      "cell_type": "code",
      "metadata": {
        "id": "Bd9A-4acAQ-a"
      },
      "source": [
        "Instructions\n",
        "100 XP\n",
        "Within the for loop, complete the if statement to check if the trip started before noon.\n",
        "Within the for loop, increment trip_counts['AM'] if the trip started before noon, and trip_counts['PM'] if it started after noon.\n",
        "\n",
        "# Create dictionary to hold results\n",
        "trip_counts = {'AM': 0, 'PM': 0}\n",
        "  \n",
        "# Loop over all trips\n",
        "for trip in onebike_datetimes:\n",
        "  # Check to see if the trip starts before noon\n",
        "  if trip['start'].hour < 12:\n",
        "    # Increment the counter for before noon\n",
        "    trip_counts['AM'] += 1\n",
        "  else:\n",
        "    # Increment the counter for after noon\n",
        "    trip_counts['PM'] += 1\n",
        "  \n",
        "print(trip_counts)\n",
        "\n"
      ],
      "execution_count": null,
      "outputs": []
    },
    {
      "cell_type": "code",
      "metadata": {
        "id": "XecsvTUUNexn"
      },
      "source": [
        "Instructions 1/3\n",
        "35 XP\n",
        "1\n",
        "Determine the format needed to convert s to datetime and assign it to fmt.\n",
        "Convert the string s to datetime using fmt.\n",
        "\n",
        "# Import the datetime class\n",
        "from datetime import datetime\n",
        "\n",
        "# Starting string, in YYYY-MM-DD HH:MM:SS format\n",
        "s = '2017-02-03 00:00:01'\n",
        "\n",
        "# Write a format string to parse s\n",
        "fmt = '%Y-%m-%d %H:%M:%S'\n",
        "\n",
        "# Create a datetime object d\n",
        "d = datetime.strptime(s, fmt)\n",
        "\n",
        "# Print d\n",
        "print(d)\n",
        "\n",
        "Instructions 2/3\n",
        "30 XP\n",
        "Determine the format needed to convert s to datetime and assign it to fmt.\n",
        "Convert the string s to datetime using fmt.\n",
        "2\n",
        "Determine the format needed to convert s to datetime and assign it to fmt.\n",
        "Convert the string s to datetime using fmt.\n",
        "\n",
        "# Import the datetime class\n",
        "from datetime import datetime\n",
        "\n",
        "# Starting string, in YYYY-MM-DD format\n",
        "s = '2030-10-15'\n",
        "\n",
        "# Write a format string to parse s\n",
        "fmt = '%Y-%m-%d'\n",
        "\n",
        "# Create a datetime object d\n",
        "d = datetime.strptime(s, fmt)\n",
        "\n",
        "# Print d\n",
        "print(d)\n",
        "\n",
        "\n",
        "Instructions 3/3\n",
        "35 XP\n",
        "Determine the format needed to convert s to datetime and assign it to fmt.\n",
        "Convert the string s to datetime using fmt.\n",
        "Determine the format needed to convert s to datetime and assign it to fmt.\n",
        "Convert the string s to datetime using fmt.\n",
        "3\n",
        "Determine the format needed to convert s to datetime and assign it to fmt.\n",
        "Convert the string s to datetime using fmt.\n",
        "\n",
        "# Import the datetime class\n",
        "from datetime import datetime\n",
        "\n",
        "# Starting string, in YYYY-MM-DD format\n",
        "s = '2030-10-15'\n",
        "\n",
        "# Write a format string to parse s\n",
        "fmt = '%Y-%m-%d'\n",
        "\n",
        "# Create a datetime object d\n",
        "d = datetime.strptime(s, fmt)\n",
        "\n",
        "# Print d\n",
        "print(d)\n",
        "\n",
        "Instructions 3/3\n",
        "35 XP\n",
        "Determine the format needed to convert s to datetime and assign it to fmt.\n",
        "Convert the string s to datetime using fmt.\n",
        "Determine the format needed to convert s to datetime and assign it to fmt.\n",
        "Convert the string s to datetime using fmt.\n",
        "3\n",
        "Determine the format needed to convert s to datetime and assign it to fmt.\n",
        "Convert the string s to datetime using fmt.\n",
        "\n",
        "# Import the datetime class\n",
        "from datetime import datetime\n",
        "\n",
        "# Starting string, in MM/DD/YYYY HH:MM:SS format\n",
        "s = '12/15/1986 08:00:00'\n",
        "\n",
        "# Write a format string to parse s\n",
        "fmt = '%m/%d/%Y %H:%M:%S'\n",
        "\n",
        "# Create a datetime object d\n",
        "d = datetime.strptime(s, fmt)\n",
        "\n",
        "# Print d\n",
        "print(d)\n",
        "\n"
      ],
      "execution_count": null,
      "outputs": []
    },
    {
      "cell_type": "code",
      "metadata": {
        "id": "alFXqoPyXmG9"
      },
      "source": [
        "Instructions\n",
        "100 XP\n",
        "Outside the for loop, fill out the fmt string with the correct parsing format for the data.\n",
        "Within the for loop, parse the start and end strings into the trip dictionary with start and end keys and datetime objects for values.\n",
        "\n",
        "# Write down the format string\n",
        "fmt = \"%Y-%m-%d %H:%M:%S\"\n",
        "\n",
        "# Initialize a list for holding the pairs of datetime objects\n",
        "onebike_datetimes = []\n",
        "\n",
        "# Loop over all trips\n",
        "for (start, end) in onebike_datetime_strings:\n",
        "  trip = {'start': datetime.strptime(start, fmt),\n",
        "          'end': datetime.strptime(end, fmt)}\n",
        "  \n",
        "  # Append the trip\n",
        "  onebike_datetimes.append(trip)\n",
        "\n",
        "  "
      ],
      "execution_count": null,
      "outputs": []
    },
    {
      "cell_type": "code",
      "metadata": {
        "id": "v2sFrQzrjZ13"
      },
      "source": [
        "Instructions\n",
        "100 XP\n",
        "Complete fmt to match the format of ISO 8601.\n",
        "Print first_start with both .isoformat() and .strftime(); they should match.\n",
        "\n",
        "# Import datetime\n",
        "from datetime import datetime\n",
        "\n",
        "# Pull out the start of the first trip\n",
        "first_start = onebike_datetimes[0]['start']\n",
        "\n",
        "# Format to feed to strftime()\n",
        "fmt = \"%Y-%m-%dT%H:%M:%S\"\n",
        "\n",
        "# Print out date with .isoformat(), then with .strftime() to compare\n",
        "print(first_start.isoformat())\n",
        "print(first_start.strftime(fmt))\n"
      ],
      "execution_count": null,
      "outputs": []
    },
    {
      "cell_type": "code",
      "metadata": {
        "id": "iZlR4aBNmR2B"
      },
      "source": [
        "Instructions\n",
        "100 XP\n",
        "Complete the for loop to loop over timestamps.\n",
        "Complete the code to turn each timestamp ts into a datetime.\n",
        "\n",
        "# Import datetime\n",
        "from datetime import datetime\n",
        "\n",
        "# Starting timestamps\n",
        "timestamps = [1514665153, 1514664543]\n",
        "\n",
        "# Datetime objects\n",
        "dts = []\n",
        "\n",
        "# Loop\n",
        "for ts in timestamps:\n",
        "  dts.append(datetime.fromtimestamp(ts))\n",
        "  \n",
        "# Print results\n",
        "print(dts)"
      ],
      "execution_count": null,
      "outputs": []
    },
    {
      "cell_type": "code",
      "metadata": {
        "id": "Hvq9HYQYq9m0"
      },
      "source": [
        "Instructions\n",
        "100 XP\n",
        "Instructions\n",
        "100 XP\n",
        "Within the loop:\n",
        "Use arithmetic on the start and end elements to find the length of the trip\n",
        "Save the results to trip_duration.\n",
        "Calculate trip_length_seconds from trip_duration.\n",
        "\n",
        "# Initialize a list for all the trip durations\n",
        "onebike_durations = []\n",
        "\n",
        "for trip in onebike_datetimes:\n",
        "  # Create a timedelta object corresponding to the length of the trip\n",
        "  trip_duration = trip['end'] - trip['start']\n",
        "  \n",
        "  # Get the total elapsed seconds in trip_duration\n",
        "  trip_length_seconds = trip_duration.total_seconds()\n",
        "  \n",
        "  # Append the results to our list\n",
        "  onebike_durations.append(trip_length_seconds)\n",
        "  "
      ],
      "execution_count": null,
      "outputs": []
    },
    {
      "cell_type": "code",
      "metadata": {
        "id": "Sh98f7wOrYjI"
      },
      "source": [
        "Instructions\n",
        "100 XP\n",
        "Calculate total_elapsed_time across all trips in onebike_durations.\n",
        "Calculate number_of_trips for onebike_durations.\n",
        "Divide total_elapsed_time by number_of_trips to get the average trip length.\n",
        "\n",
        "# What was the total duration of all trips?\n",
        "total_elapsed_time = sum(onebike_durations)\n",
        "\n",
        "# What was the total number of trips?\n",
        "number_of_trips = len(onebike_durations)\n",
        "  \n",
        "# Divide the total duration by the number of trips\n",
        "print(total_elapsed_time / number_of_trips)"
      ],
      "execution_count": null,
      "outputs": []
    },
    {
      "cell_type": "code",
      "metadata": {
        "id": "GlbM4DN0sOa7"
      },
      "source": [
        "Instructions\n",
        "100 XP\n",
        "Calculate shortest_trip from onebike_durations.\n",
        "Calculate longest_trip from onebike_durations.\n",
        "Print the results, turning shortest_trip and longest_trip into strings so they can print.\n",
        "\n",
        "# Calculate shortest and longest trips\n",
        "shortest_trip = min(onebike_durations)\n",
        "longest_trip = max(onebike_durations)\n",
        "\n",
        "# Print out the results\n",
        "print(\"The shortest trip was \" + str(shortest_trip) + \" seconds\")\n",
        "print(\"The longest trip was \" + str(longest_trip) + \" seconds\")\n",
        "\n"
      ],
      "execution_count": null,
      "outputs": []
    },
    {
      "cell_type": "markdown",
      "metadata": {
        "id": "2oQSf14LtEUZ"
      },
      "source": [
        "3"
      ]
    },
    {
      "cell_type": "code",
      "metadata": {
        "id": "Kxc0Vue9si6J"
      },
      "source": [
        ""
      ],
      "execution_count": null,
      "outputs": []
    }
  ]
}