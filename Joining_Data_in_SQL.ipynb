{
  "nbformat": 4,
  "nbformat_minor": 0,
  "metadata": {
    "colab": {
      "provenance": [],
      "authorship_tag": "ABX9TyO19Y9ip5neFXJ+/pHjNUSu",
      "include_colab_link": true
    },
    "kernelspec": {
      "name": "python3",
      "display_name": "Python 3"
    },
    "language_info": {
      "name": "python"
    }
  },
  "cells": [
    {
      "cell_type": "markdown",
      "metadata": {
        "id": "view-in-github",
        "colab_type": "text"
      },
      "source": [
        "<a href=\"https://colab.research.google.com/github/lia07/DataCamp/blob/main/Joining_Data_in_SQL.ipynb\" target=\"_parent\"><img src=\"https://colab.research.google.com/assets/colab-badge.svg\" alt=\"Open In Colab\"/></a>"
      ]
    },
    {
      "cell_type": "code",
      "execution_count": null,
      "metadata": {
        "id": "cyDdjD7dPf8k"
      },
      "outputs": [],
      "source": []
    },
    {
      "cell_type": "code",
      "source": [
        "Instructions 1/3\n",
        "35 XP\n",
        "1\n",
        "2\n",
        "3\n",
        "Begin by selecting all columns from the cities table, using the SQL shortcut that selects all.\n",
        "\n",
        "-- Select all columns from cities\n",
        "Select *\n",
        "from cities\n",
        "\n",
        "\n",
        "Perform an inner join with the cities table on the left and the countries table on the right; do not alias tables here or in the next step.\n",
        "\n",
        "SELECT *\n",
        "FROM cities\n",
        "-- Inner join to countries\n",
        "INNER JOIN countries\n",
        "-- Match on country codes\n",
        "ON cities.country_code = countries.code;\n",
        "\n",
        "\n",
        "Complete the SELECT statement to keep only the name of the city, the name of the country, and the region the country is located in (in the order specified).\n",
        "Alias the name of the city AS city and the name of the country AS country.\n",
        "\n",
        "-- Select name fields (with alias) and region\n",
        "SELECT cities.name AS city, countries.name AS country, region\n",
        "FROM cities\n",
        "INNER JOIN countries\n",
        "\n"
      ],
      "metadata": {
        "id": "lJK28IYvYKH3"
      },
      "execution_count": null,
      "outputs": []
    },
    {
      "cell_type": "code",
      "source": [
        "Instructions\n",
        "100 XP\n",
        "Start with your inner join in line 5; join the tables countries AS c (left) with economies (right), aliasing economies AS e.\n",
        "Next, use code as your joining field in line 7; do not use the USING command here.\n",
        "Lastly, select the following columns in order in line 2: code from the countries table (aliased as country_code), name, year, and inflation_rate.\n",
        "\n",
        "-- Select fields with aliases\n",
        "SELECT c.code AS country_code, name, year, inflation_rate\n",
        "FROM countries AS c\n",
        "-- Join to economies (alias e)\n",
        "INNER JOIN economies AS e\n",
        "-- Match on code field using table aliases\n",
        "ON c.code = e.code;\n",
        "\n"
      ],
      "metadata": {
        "id": "UAStNN9ZYKEU"
      },
      "execution_count": null,
      "outputs": []
    },
    {
      "cell_type": "code",
      "source": [
        "Instructions\n",
        "100 XP\n",
        "Use the country code field to complete the INNER JOIN with USING; do not change any alias names.\n",
        "\n",
        "SELECT c.name AS country, l.name AS language, official\n",
        "FROM countries AS c\n",
        "INNER JOIN languages AS l\n",
        "-- Match using the code column\n",
        "USING(code);"
      ],
      "metadata": {
        "id": "wLK4aXM6YKBV"
      },
      "execution_count": null,
      "outputs": []
    },
    {
      "cell_type": "code",
      "source": [],
      "metadata": {
        "id": "HDUBQFLWYJ-g"
      },
      "execution_count": null,
      "outputs": []
    },
    {
      "cell_type": "code",
      "source": [],
      "metadata": {
        "id": "-bjPOLZEYJ73"
      },
      "execution_count": null,
      "outputs": []
    },
    {
      "cell_type": "code",
      "source": [],
      "metadata": {
        "id": "PBa9N_Q6YJwe"
      },
      "execution_count": null,
      "outputs": []
    },
    {
      "cell_type": "code",
      "source": [],
      "metadata": {
        "id": "h6yc1htiYJtB"
      },
      "execution_count": null,
      "outputs": []
    },
    {
      "cell_type": "code",
      "source": [],
      "metadata": {
        "id": "H5i9q_mSYJqZ"
      },
      "execution_count": null,
      "outputs": []
    },
    {
      "cell_type": "code",
      "source": [],
      "metadata": {
        "id": "9tbNyN-AYJky"
      },
      "execution_count": null,
      "outputs": []
    },
    {
      "cell_type": "code",
      "source": [],
      "metadata": {
        "id": "xbsRDcpIYJhC"
      },
      "execution_count": null,
      "outputs": []
    }
  ]
}