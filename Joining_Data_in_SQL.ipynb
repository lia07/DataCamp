{
  "nbformat": 4,
  "nbformat_minor": 0,
  "metadata": {
    "colab": {
      "provenance": [],
      "authorship_tag": "ABX9TyNaDYS898b8+fnuFczVm9lH",
      "include_colab_link": true
    },
    "kernelspec": {
      "name": "python3",
      "display_name": "Python 3"
    },
    "language_info": {
      "name": "python"
    }
  },
  "cells": [
    {
      "cell_type": "markdown",
      "metadata": {
        "id": "view-in-github",
        "colab_type": "text"
      },
      "source": [
        "<a href=\"https://colab.research.google.com/github/lia07/DataCamp/blob/main/Joining_Data_in_SQL.ipynb\" target=\"_parent\"><img src=\"https://colab.research.google.com/assets/colab-badge.svg\" alt=\"Open In Colab\"/></a>"
      ]
    },
    {
      "cell_type": "code",
      "execution_count": null,
      "metadata": {
        "id": "cyDdjD7dPf8k"
      },
      "outputs": [],
      "source": []
    },
    {
      "cell_type": "code",
      "source": [
        "Instructions 1/3\n",
        "35 XP\n",
        "1\n",
        "2\n",
        "3\n",
        "Begin by selecting all columns from the cities table, using the SQL shortcut that selects all.\n",
        "\n",
        "-- Select all columns from cities\n",
        "Select *\n",
        "from cities\n",
        "\n",
        "\n",
        "Perform an inner join with the cities table on the left and the countries table on the right; do not alias tables here or in the next step.\n",
        "\n",
        "SELECT *\n",
        "FROM cities\n",
        "-- Inner join to countries\n",
        "INNER JOIN countries\n",
        "-- Match on country codes\n",
        "ON cities.country_code = countries.code;\n",
        "\n",
        "\n",
        "Complete the SELECT statement to keep only the name of the city, the name of the country, and the region the country is located in (in the order specified).\n",
        "Alias the name of the city AS city and the name of the country AS country.\n",
        "\n",
        "-- Select name fields (with alias) and region\n",
        "SELECT cities.name AS city, countries.name AS country, region\n",
        "FROM cities\n",
        "INNER JOIN countries\n",
        "\n"
      ],
      "metadata": {
        "id": "lJK28IYvYKH3"
      },
      "execution_count": null,
      "outputs": []
    },
    {
      "cell_type": "code",
      "source": [
        "Instructions\n",
        "100 XP\n",
        "Start with your inner join in line 5; join the tables countries AS c (left) with economies (right), aliasing economies AS e.\n",
        "Next, use code as your joining field in line 7; do not use the USING command here.\n",
        "Lastly, select the following columns in order in line 2: code from the countries table (aliased as country_code), name, year, and inflation_rate.\n",
        "\n",
        "-- Select fields with aliases\n",
        "SELECT c.code AS country_code, name, year, inflation_rate\n",
        "FROM countries AS c\n",
        "-- Join to economies (alias e)\n",
        "INNER JOIN economies AS e\n",
        "-- Match on code field using table aliases\n",
        "ON c.code = e.code;\n",
        "\n"
      ],
      "metadata": {
        "id": "UAStNN9ZYKEU"
      },
      "execution_count": null,
      "outputs": []
    },
    {
      "cell_type": "code",
      "source": [
        "Instructions\n",
        "100 XP\n",
        "Use the country code field to complete the INNER JOIN with USING; do not change any alias names.\n",
        "\n",
        "SELECT c.name AS country, l.name AS language, official\n",
        "FROM countries AS c\n",
        "INNER JOIN languages AS l\n",
        "-- Match using the code column\n",
        "USING(code);"
      ],
      "metadata": {
        "id": "wLK4aXM6YKBV"
      },
      "execution_count": null,
      "outputs": []
    },
    {
      "cell_type": "code",
      "source": [
        "Instructions 1/3\n",
        "35 XP\n",
        "1\n",
        "2\n",
        "3\n",
        "Start with the join statement in line 6; perform an inner join with the countries table as c on the left with the languages table as l on the right.\n",
        "Make use of the USING keyword to join on code in line 8.\n",
        "Lastly, in line 2, select the country name, aliased as country, and the language name, aliased as language.\n",
        "\n",
        "-- Select country and language names, aliased\n",
        "SELECT c.name AS country, l.name AS language\n",
        "-- From countries (aliased)\n",
        "FROM countries AS c\n",
        "-- Join to languages (aliased)\n",
        "INNER JOIN languages AS l\n",
        "-- Use code as the joining field with the USING keyword\n",
        "USING(code);Ç\n",
        "\n",
        "Rearrange the SELECT statement so that the language column appears on the left and the country column on the right.\n",
        "Sort the results by language.\n",
        "\n",
        "-- Select language and country names, aliased\n",
        "SELECT l.name AS language, c.name AS country\n",
        "FROM countries AS c\n",
        "INNER JOIN languages AS l\n",
        "USING(code)\n",
        "-- Order the results by language\n",
        "ORDER BY language;\n",
        "\n",
        "\n"
      ],
      "metadata": {
        "id": "R2sPHP4d4J9d"
      },
      "execution_count": null,
      "outputs": []
    },
    {
      "cell_type": "code",
      "source": [
        "Perform an inner join of countries AS c (left) with populations AS p (right), on code.\n",
        "Select name, year and fertility_rate.\n",
        "\n",
        "-- Select relevant fields\n",
        "SELECT name, year, fertility_rate\n",
        "-- Inner join countries and populations, aliased, on code\n",
        "FROM countries AS c\n",
        "INNER JOIN populations AS p\n",
        "ON c.code = p.country_code;\n",
        "\n",
        "\n",
        "Chain another inner join to your query with the economies table AS e, using code.\n",
        "Select name, and using table aliases, select year and unemployment_rate from economies.\n",
        "\n",
        "-- Select fields\n",
        "SELECT name, e.year, fertility_rate, unemployment_rate\n",
        "FROM countries AS c\n",
        "INNER JOIN populations AS p\n",
        "ON c.code = p.country_code\n",
        "-- Join to economies (as e)\n",
        "INNER JOIN economies AS e\n",
        "-- Match on country code\n",
        "ON c.code = e.code;"
      ],
      "metadata": {
        "id": "MhQJg9U74J56"
      },
      "execution_count": null,
      "outputs": []
    },
    {
      "cell_type": "code",
      "source": [
        "Instructions\n",
        "100 XP\n",
        "Modify your query so that you are joining to economies on year as well as code.\n",
        "\n",
        "SELECT name, e.year, fertility_rate, unemployment_rate\n",
        "FROM countries AS c\n",
        "INNER JOIN populations AS p\n",
        "ON c.code = p.country_code\n",
        "INNER JOIN economies AS e\n",
        "ON c.code = e.code\n",
        "-- Add an additional joining condition such that you are also joining on year\n",
        "\tAND e.year = p.year;\n",
        ""
      ],
      "metadata": {
        "id": "CU7aYFT_4J3d"
      },
      "execution_count": null,
      "outputs": []
    },
    {
      "cell_type": "code",
      "source": [
        "Instructions\n",
        "100XP\n",
        "Drag the code blocks provided to re-order them into a syntactically correct SQL query!\n",
        "\n"
      ],
      "metadata": {
        "id": "KnwJPNE04J1C"
      },
      "execution_count": null,
      "outputs": []
    },
    {
      "cell_type": "code",
      "source": [
        "Perform an inner join with cities AS c1 on the left and countries as c2 on the right.\n",
        "Use code as the field to merge your tables on.\n",
        "\n",
        "SELECT\n",
        "    c1.name AS city,\n",
        "    code,\n",
        "    c2.name AS country,\n",
        "    region,\n",
        "    city_proper_pop\n",
        "FROM cities AS c1\n",
        "-- Perform an inner join with cities as c1 and countries as c2 on country code\n",
        "INNER JOIN countries AS c2\n",
        "ON c1.country_code = c2.code\n",
        "ORDER BY code DESC;\n",
        "\n",
        "\n",
        "Change the code to perform a LEFT JOIN instead of an INNER JOIN.\n",
        "After executing this query, have a look at how many records the query result contains.\n",
        "\n",
        "SELECT\n",
        "\tc1.name AS city,\n",
        "    code,\n",
        "    c2.name AS country,\n",
        "    region,\n",
        "    city_proper_pop\n",
        "FROM cities AS c1\n",
        "-- Join right table (with alias)\n",
        "LEFT JOIN countries AS c2\n",
        "ON c1.country_code = c2.code\n",
        "ORDER BY code DESC;"
      ],
      "metadata": {
        "id": "HDUBQFLWYJ-g"
      },
      "execution_count": null,
      "outputs": []
    },
    {
      "cell_type": "code",
      "source": [
        "Instructions 1/3\n",
        "35 XP\n",
        "1\n",
        "2\n",
        "3\n",
        "Complete the LEFT JOIN with the countries table on the left and the economies table on the right on the code field.\n",
        "Filter the records from the year 2010.\n",
        "\n",
        "SELECT name, region, gdp_percapita\n",
        "FROM countries AS c\n",
        "LEFT JOIN economies AS e\n",
        "-- Match on code fields\n",
        "USING(code)\n",
        "-- Filter for the year 2010\n",
        "WHERE year = 2010;\n",
        "\n",
        "\n",
        "To calculate per capita GDP per region, begin by grouping by region.\n",
        "After your GROUP BY, choose region in your SELECT statement, followed by average GDP per capita using the AVG() function, with AS avg_gdp as your alias.\n",
        "\n",
        "\n",
        "-- Select region, and average gdp_percapita as avg_gdp\n",
        "SELECT region, AVG(gdp_percapita) AS avg_gdp\n",
        "FROM countries AS c\n",
        "LEFT JOIN economies AS e\n",
        "USING(code)\n",
        "WHERE year = 2010\n",
        "-- Group by region\n",
        "GROUP BY region;\n",
        "\n",
        "\n",
        "Instructions 3/3\n",
        "30 XP\n",
        "3\n",
        "Order the result set by the average GDP per capita from highest to lowest.\n",
        "Return only the first 10 records in your result.\n",
        "\n",
        "\n",
        "SELECT region, AVG(gdp_percapita) AS avg_gdp\n",
        "FROM countries AS c\n",
        "LEFT JOIN economies AS e\n",
        "USING(code)\n",
        "WHERE year = 2010\n",
        "GROUP BY region\n",
        "-- Order by descending avg_gdp\n",
        "ORDER BY avg_gdp DESC\n",
        "-- Return only first 10 records\n",
        "LIMIT 10;\n"
      ],
      "metadata": {
        "id": "V1q1JVocYebL"
      },
      "execution_count": null,
      "outputs": []
    },
    {
      "cell_type": "code",
      "source": [
        "Instructions\n",
        "100 XP\n",
        "Write a new query using RIGHT JOIN that produces an identical result to the LEFT JOIN provided.\n",
        "\n",
        "\n",
        "-- Modify this query to use RIGHT JOIN instead of LEFT JOIN\n",
        "SELECT countries.name AS country, languages.name AS language, percent\n",
        "FROM countries\n",
        "LEFT JOIN languages\n",
        "USING(code)\n",
        "ORDER BY language;\n",
        "\n",
        "\n",
        "res ok\n",
        "\n",
        "\n",
        "-- Modify this query to use RIGHT JOIN instead of LEFT JOIN\n",
        "SELECT countries.name AS country, languages.name AS language, percent\n",
        "FROM languages\n",
        "RIGHT JOIN countries\n",
        "USING(code)\n",
        "ORDER BY language;\n"
      ],
      "metadata": {
        "id": "NGlesXj8YeQ8"
      },
      "execution_count": null,
      "outputs": []
    },
    {
      "cell_type": "code",
      "source": [
        "Perform a full join with countries (left) and currencies (right).\n",
        "Filter for the North America region or NULL country names.\n",
        "\n",
        "\n",
        "SELECT name AS country, code, region, basic_unit\n",
        "FROM countries\n",
        "-- Join to currencies\n",
        "FULL JOIN currencies\n",
        "USING (code)\n",
        "-- Where region is North America or null\n",
        "WHERE region = 'North America'\n",
        "\tOR name IS NULL\n",
        "ORDER BY region;"
      ],
      "metadata": {
        "id": "-bjPOLZEYJ73"
      },
      "execution_count": null,
      "outputs": []
    },
    {
      "cell_type": "code",
      "source": [],
      "metadata": {
        "id": "PBa9N_Q6YJwe"
      },
      "execution_count": null,
      "outputs": []
    },
    {
      "cell_type": "code",
      "source": [],
      "metadata": {
        "id": "h6yc1htiYJtB"
      },
      "execution_count": null,
      "outputs": []
    },
    {
      "cell_type": "code",
      "source": [],
      "metadata": {
        "id": "H5i9q_mSYJqZ"
      },
      "execution_count": null,
      "outputs": []
    },
    {
      "cell_type": "code",
      "source": [],
      "metadata": {
        "id": "9tbNyN-AYJky"
      },
      "execution_count": null,
      "outputs": []
    },
    {
      "cell_type": "code",
      "source": [],
      "metadata": {
        "id": "xbsRDcpIYJhC"
      },
      "execution_count": null,
      "outputs": []
    }
  ]
}