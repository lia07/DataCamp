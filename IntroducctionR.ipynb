{
  "nbformat": 4,
  "nbformat_minor": 0,
  "metadata": {
    "colab": {
      "name": "IntroducctionR.ipynb",
      "provenance": [],
      "authorship_tag": "ABX9TyMpY7tXyj4aylhJE3CB2xrE",
      "include_colab_link": true
    },
    "kernelspec": {
      "name": "python3",
      "display_name": "Python 3"
    },
    "language_info": {
      "name": "python"
    }
  },
  "cells": [
    {
      "cell_type": "markdown",
      "metadata": {
        "id": "view-in-github",
        "colab_type": "text"
      },
      "source": [
        "<a href=\"https://colab.research.google.com/github/lia07/DataCamp/blob/main/IntroducctionR.ipynb\" target=\"_parent\"><img src=\"https://colab.research.google.com/assets/colab-badge.svg\" alt=\"Open In Colab\"/></a>"
      ]
    },
    {
      "cell_type": "markdown",
      "source": [
        "1"
      ],
      "metadata": {
        "id": "BDC3Du81mGgh"
      }
    },
    {
      "cell_type": "markdown",
      "source": [
        "Introduccion a R"
      ],
      "metadata": {
        "id": "M0GgAgVTX9NQ"
      }
    },
    {
      "cell_type": "code",
      "execution_count": null,
      "metadata": {
        "id": "pZFL3GCHlIr7"
      },
      "outputs": [],
      "source": [
        "\n",
        "\n",
        "# Assign a value to the variables my_apples and my_oranges\n",
        "my_apples  <- 5\n",
        "my_oranges <- 6\n",
        "\n",
        "# Add these two variables together\n",
        "my_apples + my_oranges\n",
        "\n",
        "# Create the variable my_fruit\n",
        "my_fruit <- my_apples + my_oranges"
      ]
    },
    {
      "cell_type": "code",
      "source": [
        "# Assign a value to the variable my_apples\n",
        "my_apples <- 5  \n",
        "\n",
        "# Fix the assignment of my_oranges\n",
        "my_oranges <- 6\n",
        "\n",
        "# Create the variable my_fruit and print it out\n",
        "my_fruit <- my_apples + my_oranges \n",
        "my_fruit"
      ],
      "metadata": {
        "id": "6jCHVgWLmT7E"
      },
      "execution_count": null,
      "outputs": []
    },
    {
      "cell_type": "markdown",
      "source": [
        "2"
      ],
      "metadata": {
        "id": "MZiPapvKjnoQ"
      }
    },
    {
      "cell_type": "code",
      "source": [
        "A_vector <- c(1, 2, 3)\n",
        "B_vector <- c(4, 5, 6)\n",
        "\n",
        "# Take the sum of A_vector and B_vector\n",
        "total_vector <- A_vector + B_vector\n",
        "\n",
        "# Print out total_vector\n",
        "total_vector\n"
      ],
      "metadata": {
        "id": "bbfNtJGCjoet"
      },
      "execution_count": null,
      "outputs": []
    },
    {
      "cell_type": "code",
      "source": [
        "Instructions\n",
        "100 XP\n",
        "Assign to the variable total_daily how much you won or lost on each day in total (poker and roulette combined).\n",
        "\n",
        "\n",
        "# Poker and roulette winnings from Monday to Friday:\n",
        "poker_vector <- c(140, -50, 20, -120, 240)\n",
        "roulette_vector <- c(-24, -50, 100, -350, 10)\n",
        "days_vector <- c(\"Monday\", \"Tuesday\", \"Wednesday\", \"Thursday\", \"Friday\")\n",
        "names(poker_vector) <- days_vector\n",
        "names(roulette_vector) <- days_vector\n",
        "\n",
        "# Assign to total_daily how much you won/lost on each day\n",
        "total_daily <- poker_vector + roulette_vector"
      ],
      "metadata": {
        "id": "oGyAAc--lqOy"
      },
      "execution_count": null,
      "outputs": []
    },
    {
      "cell_type": "code",
      "source": [
        "Instructions\n",
        "100 XP\n",
        "Calculate the total amount of money that you have won/lost with roulette and assign to the variable total_roulette.\n",
        "Now that you have the totals for roulette and poker, you can easily calculate total_week (which is the sum of all gains and losses of the week).\n",
        "Print out total_week.\n",
        "\n",
        "# Poker and roulette winnings from Monday to Friday:\n",
        "poker_vector <- c(140, -50, 20, -120, 240)\n",
        "roulette_vector <- c(-24, -50, 100, -350, 10)\n",
        "days_vector <- c(\"Monday\", \"Tuesday\", \"Wednesday\", \"Thursday\", \"Friday\")\n",
        "names(poker_vector) <- days_vector\n",
        "names(roulette_vector) <- days_vector\n",
        "\n",
        "# Total winnings with poker\n",
        "total_poker <- sum(poker_vector)\n",
        "\n",
        "# Total winnings with roulette\n",
        "total_roulette <-  sum(roulette_vector)\n",
        "\n",
        "# Total winnings overall\n",
        "total_week <- total_roulette + total_poker\n",
        "\n",
        "# Print out total_week\n",
        "total_week\n"
      ],
      "metadata": {
        "id": "MSexA-CxmCCt"
      },
      "execution_count": null,
      "outputs": []
    },
    {
      "cell_type": "code",
      "source": [
        "Instructions\n",
        "100 XP\n",
        "Calculate total_poker and total_roulette as in the previous exercise. Use the sum() function twice.\n",
        "Check if your total gains in poker are higher than for roulette by using a comparison. Simply print out the result of this comparison. What do you conclude, should you focus on roulette or on poker?\n",
        "\n",
        "# Poker and roulette winnings from Monday to Friday:\n",
        "poker_vector <- c(140, -50, 20, -120, 240)\n",
        "roulette_vector <- c(-24, -50, 100, -350, 10)\n",
        "days_vector <- c(\"Monday\", \"Tuesday\", \"Wednesday\", \"Thursday\", \"Friday\")\n",
        "names(poker_vector) <- days_vector\n",
        "names(roulette_vector) <- days_vector\n",
        "\n",
        "# Calculate total gains for poker and roulette\n",
        "total_poker <- sum(poker_vector)\n",
        "total_roulette <- sum(roulette_vector)\n",
        "\n",
        "# Check if you realized higher total gains in poker than in roulette\n",
        "total_poker > total_roulette\n"
      ],
      "metadata": {
        "id": "FHs73um8uZJk"
      },
      "execution_count": null,
      "outputs": []
    },
    {
      "cell_type": "code",
      "source": [
        "Instructions\n",
        "100 XP\n",
        "Calculate total_poker and total_roulette as in the previous exercise. Use the sum() function twice.\n",
        "Check if your total gains in poker are higher than for roulette by using a comparison. Simply print out the result of this comparison. What do you conclude, should you focus on roulette or on poker?\n",
        "\n",
        "\n",
        "# Poker and roulette winnings from Monday to Friday:\n",
        "poker_vector <- c(140, -50, 20, -120, 240)\n",
        "roulette_vector <- c(-24, -50, 100, -350, 10)\n",
        "days_vector <- c(\"Monday\", \"Tuesday\", \"Wednesday\", \"Thursday\", \"Friday\")\n",
        "names(poker_vector) <- days_vector\n",
        "names(roulette_vector) <- days_vector\n",
        "\n",
        "# Calculate total gains for poker and roulette\n",
        "total_poker <- sum(poker_vector)\n",
        "total_roulette <- sum(roulette_vector)\n",
        "\n",
        "# Check if you realized higher total gains in poker than in roulette\n",
        "total_poker > total_roulette\n",
        "\n"
      ],
      "metadata": {
        "id": "AfY0LEQTvePl"
      },
      "execution_count": null,
      "outputs": []
    },
    {
      "cell_type": "code",
      "source": [
        "Instructions\n",
        "100 XP\n",
        "Assign the poker results of Wednesday to the variable poker_wednesday.\n",
        "\n",
        "\n",
        "# Poker and roulette winnings from Monday to Friday:\n",
        "poker_vector <- c(140, -50, 20, -120, 240)\n",
        "roulette_vector <- c(-24, -50, 100, -350, 10)\n",
        "days_vector <- c(\"Monday\", \"Tuesday\", \"Wednesday\", \"Thursday\", \"Friday\")\n",
        "names(poker_vector) <- days_vector\n",
        "names(roulette_vector) <- days_vector\n",
        "\n",
        "# Define a new variable based on a selection\n",
        "poker_wednesday <- poker_vector[3]"
      ],
      "metadata": {
        "id": "VNYxxCTevqKc"
      },
      "execution_count": null,
      "outputs": []
    },
    {
      "cell_type": "code",
      "source": [
        "Instructions\n",
        "100 XP\n",
        "Assign the poker results of Tuesday, Wednesday and Thursday to the variable poker_midweek.\n",
        "\n",
        "\n",
        "# Poker and roulette winnings from Monday to Friday:\n",
        "poker_vector <- c(140, -50, 20, -120, 240)\n",
        "roulette_vector <- c(-24, -50, 100, -350, 10)\n",
        "days_vector <- c(\"Monday\", \"Tuesday\", \"Wednesday\", \"Thursday\", \"Friday\")\n",
        "names(poker_vector) <- days_vector\n",
        "names(roulette_vector) <- days_vector\n",
        "\n",
        "# Define a new variable based on a selection\n",
        "poker_midweek <- poker_vector[c(2, 3, 4)]"
      ],
      "metadata": {
        "id": "MK1JHuDyvqvQ"
      },
      "execution_count": null,
      "outputs": []
    },
    {
      "cell_type": "code",
      "source": [
        "Instructions\n",
        "100 XP\n",
        "Assign to roulette_selection_vector the roulette results from Tuesday up to Friday; make use of : if it makes things easier for you.\n",
        "\n",
        "\n",
        "# Poker and roulette winnings from Monday to Friday:\n",
        "poker_vector <- c(140, -50, 20, -120, 240)\n",
        "roulette_vector <- c(-24, -50, 100, -350, 10)\n",
        "days_vector <- c(\"Monday\", \"Tuesday\", \"Wednesday\", \"Thursday\", \"Friday\")\n",
        "names(poker_vector) <- days_vector\n",
        "names(roulette_vector) <- days_vector\n",
        "\n",
        "# Define a new variable based on a selection\n",
        "roulette_selection_vector <- roulette_vector[2:5]"
      ],
      "metadata": {
        "id": "cMDcDqxt29o7"
      },
      "execution_count": null,
      "outputs": []
    },
    {
      "cell_type": "code",
      "source": [
        "Instructions\n",
        "100 XP\n",
        "Assign to roulette_selection_vector the roulette results from Tuesday up to Friday; make use of : if it makes things easier for you.\n",
        "\n",
        "\n",
        "# Poker and roulette winnings from Monday to Friday:\n",
        "poker_vector <- c(140, -50, 20, -120, 240)\n",
        "roulette_vector <- c(-24, -50, 100, -350, 10)\n",
        "days_vector <- c(\"Monday\", \"Tuesday\", \"Wednesday\", \"Thursday\", \"Friday\")\n",
        "names(poker_vector) <- days_vector\n",
        "names(roulette_vector) <- days_vector\n",
        "\n",
        "# Define a new variable based on a selection\n",
        "roulette_selection_vector <- roulette_vector[2:5]\n",
        "\n"
      ],
      "metadata": {
        "id": "9OhkTN7Q29WW"
      },
      "execution_count": null,
      "outputs": []
    },
    {
      "cell_type": "code",
      "source": [
        "Instructions\n",
        "100 XP\n",
        "Select the first three elements in poker_vector by using their names: \"Monday\", \"Tuesday\" and \"Wednesday\". Assign the result of the selection to poker_start.\n",
        "Calculate the average of the values in poker_start with the mean() function. Simply print out the result so you can inspect it.\n",
        "\n",
        "\n",
        "# Poker and roulette winnings from Monday to Friday:\n",
        "poker_vector <- c(140, -50, 20, -120, 240)\n",
        "roulette_vector <- c(-24, -50, 100, -350, 10)\n",
        "days_vector <- c(\"Monday\", \"Tuesday\", \"Wednesday\", \"Thursday\", \"Friday\")\n",
        "names(poker_vector) <- days_vector\n",
        "names(roulette_vector) <- days_vector\n",
        "\n",
        "# Select poker results for Monday, Tuesday and Wednesday\n",
        "poker_start <- poker_vector[c(\"Monday\", \"Tuesday\", \"Wednesday\")]\n",
        "  \n",
        "# Calculate the average of the elements in poker_start\n",
        "mean(poker_start)\n",
        "\n"
      ],
      "metadata": {
        "id": "BQeIcIJV29QM"
      },
      "execution_count": null,
      "outputs": []
    },
    {
      "cell_type": "code",
      "source": [
        "Instructions\n",
        "100 XP\n",
        "Check which elements in poker_vector are positive (i.e. > 0) and assign this to selection_vector.\n",
        "Print out selection_vector so you can inspect it. The printout tells you whether you won (TRUE) or lost (FALSE) any money for each day.\n",
        "\n",
        "\n",
        "# Poker and roulette winnings from Monday to Friday:\n",
        "poker_vector <- c(140, -50, 20, -120, 240)\n",
        "roulette_vector <- c(-24, -50, 100, -350, 10)\n",
        "days_vector <- c(\"Monday\", \"Tuesday\", \"Wednesday\", \"Thursday\", \"Friday\")\n",
        "names(poker_vector) <- days_vector\n",
        "names(roulette_vector) <- days_vector\n",
        "\n",
        "# Which days did you make money on poker?\n",
        "selection_vector <- poker_vector > 0\n",
        "  \n",
        "# Print out selection_vector\n",
        "selection_vector"
      ],
      "metadata": {
        "id": "-b1WcOT3neRL"
      },
      "execution_count": null,
      "outputs": []
    },
    {
      "cell_type": "code",
      "source": [
        "Instructions\n",
        "100 XP\n",
        "Use selection_vector in square brackets to assign the amounts that you won on the profitable days to the variable poker_winning_days.\n",
        "\n",
        "# Poker and roulette winnings from Monday to Friday:\n",
        "poker_vector <- c(140, -50, 20, -120, 240)\n",
        "roulette_vector <- c(-24, -50, 100, -350, 10)\n",
        "days_vector <- c(\"Monday\", \"Tuesday\", \"Wednesday\", \"Thursday\", \"Friday\")\n",
        "names(poker_vector) <- days_vector\n",
        "names(roulette_vector) <- days_vector\n",
        "\n",
        "# Which days did you make money on poker?\n",
        "selection_vector <- poker_vector > 0\n",
        "\n",
        "# Select from poker_vector these days\n",
        "poker_winning_days <- poker_vector[selection_vector]\n"
      ],
      "metadata": {
        "id": "s1yw7OBOneN_"
      },
      "execution_count": null,
      "outputs": []
    },
    {
      "cell_type": "code",
      "source": [
        "Instructions\n",
        "100 XP\n",
        "Create the variable selection_vector, this time to see if you made profit with roulette for different days.\n",
        "Assign the amounts that you made on the days that you ended positively for roulette to the variable roulette_winning_days. This vector thus contains the positive winnings of roulette_vector.\n",
        "\n",
        "\n",
        "# Poker and roulette winnings from Monday to Friday:\n",
        "poker_vector <- c(140, -50, 20, -120, 240)\n",
        "roulette_vector <- c(-24, -50, 100, -350, 10)\n",
        "days_vector <- c(\"Monday\", \"Tuesday\", \"Wednesday\", \"Thursday\", \"Friday\")\n",
        "names(poker_vector) <- days_vector\n",
        "names(roulette_vector) <- days_vector\n",
        "\n",
        "# Which days did you make money on roulette?\n",
        "selection_vector <- roulette_vector > 0\n",
        "\n",
        "# Select from roulette_vector these days\n",
        "roulette_winning_days <- roulette_vector[selection_vector]\n"
      ],
      "metadata": {
        "id": "Kzv6SZGMneIv"
      },
      "execution_count": null,
      "outputs": []
    },
    {
      "cell_type": "code",
      "source": [
        "Instructions\n",
        "100 XP\n",
        "Construct a matrix with 3 rows containing the numbers 1 up to 9, filled row-wise.\n",
        "\n",
        "\n",
        "# Construct a matrix with 3 rows that contain the numbers 1 up to 9\n",
        "matrix(1:9, byrow = TRUE, nrow = 3)\n"
      ],
      "metadata": {
        "id": "p4ixewqTMERQ"
      },
      "execution_count": null,
      "outputs": []
    },
    {
      "cell_type": "markdown",
      "source": [
        "3"
      ],
      "metadata": {
        "id": "GLw0dzELNG7y"
      }
    },
    {
      "cell_type": "code",
      "source": [
        "Instructions\n",
        "100 XP\n",
        "Use c(new_hope, empire_strikes, return_jedi) to combine the three vectors into one vector. Call this vector box_office.\n",
        "Construct a matrix with 3 rows, where each row represents a movie. Use the matrix() function to do this. The first argument is the vector box_office, containing all box office figures. Next, you'll have to specify nrow = 3 and byrow = TRUE. Name the resulting matrix star_wars_matrix.\n",
        "\n",
        "\n",
        "# Box office Star Wars (in millions!)\n",
        "new_hope <- c(460.998, 314.4)\n",
        "empire_strikes <- c(290.475, 247.900)\n",
        "return_jedi <- c(309.306, 165.8)\n",
        "\n",
        "# Create box_office\n",
        "box_office <- c(new_hope, empire_strikes, return_jedi)\n",
        "\n",
        "# Construct star_wars_matrix\n",
        "star_wars_matrix <- matrix(box_office, nrow = 3, byrow = TRUE)\n",
        "\n"
      ],
      "metadata": {
        "id": "rMa0GpMRNIdz"
      },
      "execution_count": null,
      "outputs": []
    },
    {
      "cell_type": "code",
      "source": [
        "Instructions\n",
        "100 XP\n",
        "Use colnames() to name the columns of star_wars_matrix with the region vector.\n",
        "Use rownames() to name the rows of star_wars_matrix with the titles vector.\n",
        "Print out star_wars_matrix to see the result of your work.\n",
        "\n",
        "# Box office Star Wars (in millions!)\n",
        "new_hope <- c(460.998, 314.4)\n",
        "empire_strikes <- c(290.475, 247.900)\n",
        "return_jedi <- c(309.306, 165.8)\n",
        "\n",
        "# Construct matrix\n",
        "star_wars_matrix <- matrix(c(new_hope, empire_strikes, return_jedi), nrow = 3, byrow = TRUE)\n",
        "\n",
        "# Vectors region and titles, used for naming\n",
        "region <- c(\"US\", \"non-US\")\n",
        "titles <- c(\"A New Hope\", \"The Empire Strikes Back\", \"Return of the Jedi\")\n",
        "\n",
        "# Name the columns with region\n",
        "colnames(star_wars_matrix) <- region\n",
        "\n",
        "# Name the rows with titles\n",
        "rownames(star_wars_matrix) <- titles\n",
        "\n",
        "# Print out star_wars_matrix\n",
        "star_wars_matrix\n"
      ],
      "metadata": {
        "id": "sfdjCBQ4rUzp"
      },
      "execution_count": null,
      "outputs": []
    },
    {
      "cell_type": "code",
      "source": [
        "Instructions\n",
        "100 XP\n",
        "Calculate the worldwide box office figures for the three movies and put these in the vector named worldwide_vector.\n",
        "\n",
        "# Construct star_wars_matrix\n",
        "box_office <- c(460.998, 314.4, 290.475, 247.900, 309.306, 165.8)\n",
        "region <- c(\"US\", \"non-US\")\n",
        "titles <- c(\"A New Hope\", \n",
        "            \"The Empire Strikes Back\", \n",
        "            \"Return of the Jedi\")\n",
        "               \n",
        "star_wars_matrix <- matrix(box_office, \n",
        "                      nrow = 3, byrow = TRUE,\n",
        "                      dimnames = list(titles, region))\n",
        "\n",
        "# Calculate worldwide box office figures\n",
        "worldwide_vector <- rowSums(star_wars_matrix)\n"
      ],
      "metadata": {
        "id": "Lpfbfy62slvl"
      },
      "execution_count": null,
      "outputs": []
    },
    {
      "cell_type": "code",
      "source": [
        "Instructions\n",
        "100 XP\n",
        "Add worldwide_vector as a new column to the star_wars_matrix and assign the result to all_wars_matrix. Use the cbind() function.\n",
        "\n",
        "# Construct star_wars_matrix\n",
        "box_office <- c(460.998, 314.4, 290.475, 247.900, 309.306, 165.8)\n",
        "region <- c(\"US\", \"non-US\")\n",
        "titles <- c(\"A New Hope\", \n",
        "            \"The Empire Strikes Back\", \n",
        "            \"Return of the Jedi\")\n",
        "               \n",
        "star_wars_matrix <- matrix(box_office, \n",
        "                      nrow = 3, byrow = TRUE,\n",
        "                      dimnames = list(titles, region))\n",
        "\n",
        "# The worldwide box office figures\n",
        "worldwide_vector <- rowSums(star_wars_matrix)\n",
        "\n",
        "# Bind the new variable worldwide_vector as a column to star_wars_matrix\n",
        "all_wars_matrix <- cbind(star_wars_matrix, worldwide_vector)"
      ],
      "metadata": {
        "id": "jeETMZDjs9Fl"
      },
      "execution_count": null,
      "outputs": []
    },
    {
      "cell_type": "code",
      "source": [
        "Instructions\n",
        "100 XP\n",
        "Use rbind() to paste together star_wars_matrix and star_wars_matrix2, in this order. Assign the resulting matrix to all_wars_matrix.\n",
        "\n",
        "\n",
        "# star_wars_matrix and star_wars_matrix2 are available in your workspace\n",
        "star_wars_matrix  \n",
        "star_wars_matrix2 \n",
        "\n",
        "# Combine both Star Wars trilogies in one matrix\n",
        "all_wars_matrix <- rbind(star_wars_matrix, star_wars_matrix2)\n"
      ],
      "metadata": {
        "id": "oZum6YhGtFVi"
      },
      "execution_count": null,
      "outputs": []
    },
    {
      "cell_type": "code",
      "source": [
        "Instructions\n",
        "100 XP\n",
        "Calculate the total revenue for the US and the non-US region and assign total_revenue_vector. You can use the colSums() function.\n",
        "Print out total_revenue_vector to have a look at the results.\n",
        "\n",
        "\n",
        "# all_wars_matrix is available in your workspace\n",
        "all_wars_matrix\n",
        "\n",
        "# Total revenue for US and non-US\n",
        "total_revenue_vector <- colSums(all_wars_matrix)\n",
        "\n",
        "# Print out total_revenue_vector\n",
        "total_revenue_vector"
      ],
      "metadata": {
        "id": "G7ZHJnnDneGF"
      },
      "execution_count": null,
      "outputs": []
    },
    {
      "cell_type": "code",
      "source": [
        "Instructions\n",
        "100 XP\n",
        "Select the non-US revenue for all movies (the entire second column of all_wars_matrix), store the result as non_us_all.\n",
        "Use mean() on non_us_all to calculate the average non-US revenue for all movies. Simply print out the result.\n",
        "This time, select the non-US revenue for the first two movies in all_wars_matrix. Store the result as non_us_some.\n",
        "Use mean() again to print out the average of the values in non_us_some.\n",
        "\n",
        "\n",
        "# all_wars_matrix is available in your workspace\n",
        "all_wars_matrix\n",
        "\n",
        "# Select the non-US revenue for all movies\n",
        "non_us_all <- all_wars_matrix[,2]\n",
        "  \n",
        "# Average non-US revenue\n",
        "mean(non_us_all)\n",
        "  \n",
        "# Select the non-US revenue for first two movies\n",
        "non_us_some <- all_wars_matrix[1:2,2]\n",
        "  \n",
        "# Average non-US revenue for first two movies\n",
        "mean(non_us_some)"
      ],
      "metadata": {
        "id": "i7f88OFAt3hC"
      },
      "execution_count": null,
      "outputs": []
    },
    {
      "cell_type": "code",
      "source": [
        "Instructions\n",
        "100 XP\n",
        "Divide all_wars_matrix by 5, giving you the number of visitors in millions. Assign the resulting matrix to visitors.\n",
        "Print out visitors so you can have a look.\n",
        "\n",
        "\n",
        "# all_wars_matrix is available in your workspace\n",
        "all_wars_matrix\n",
        "\n",
        "# Estimate the visitors\n",
        "visitors <- all_wars_matrix / 5\n",
        "\n",
        "# Print the estimate to the console\n",
        "visitors\n"
      ],
      "metadata": {
        "id": "w_CbJjmYuT1o"
      },
      "execution_count": null,
      "outputs": []
    },
    {
      "cell_type": "code",
      "source": [
        "Instructions\n",
        "100 XP\n",
        "Divide all_wars_matrix by ticket_prices_matrix to get the estimated number of US and non-US visitors for the six movies. Assign the result to visitors.\n",
        "From the visitors matrix, select the entire first column, representing the number of visitors in the US. Store this selection as us_visitors.\n",
        "Calculate the average number of US visitors; print out the result.\n",
        "\n",
        "\n",
        "# all_wars_matrix and ticket_prices_matrix are available in your workspace\n",
        "all_wars_matrix\n",
        "ticket_prices_matrix\n",
        "\n",
        "# Estimated number of visitors\n",
        "visitors <- all_wars_matrix / ticket_prices_matrix\n",
        "\n",
        "# US visitors\n",
        "us_visitors <- visitors[ ,1]\n",
        "\n",
        "# Average number of US visitors\n",
        "mean(us_visitors)\n"
      ],
      "metadata": {
        "id": "gPSJMGq1t3RO"
      },
      "execution_count": null,
      "outputs": []
    },
    {
      "cell_type": "code",
      "source": [
        "Instructions\n",
        "100 XP\n",
        "Assign to variable theory the value \"factors\".\n",
        "\n",
        "# Assign to the variable theory what this chapter is about!\n",
        "theory <- \"factors\"\n"
      ],
      "metadata": {
        "id": "vqjlEe0bu38V"
      },
      "execution_count": null,
      "outputs": []
    },
    {
      "cell_type": "markdown",
      "source": [
        "4"
      ],
      "metadata": {
        "id": "7jPzQn3Dvazk"
      }
    },
    {
      "cell_type": "code",
      "source": [
        "Instructions\n",
        "100 XP\n",
        "Convert the character vector sex_vector to a factor with factor() and assign the result to factor_sex_vector\n",
        "Print out factor_sex_vector and assert that R prints out the factor levels below the actual values.\n",
        "\n",
        "# Sex vector\n",
        "sex_vector <- c(\"Male\", \"Female\", \"Female\", \"Male\", \"Male\")\n",
        "\n",
        "# Convert sex_vector to a factor\n",
        "factor_sex_vector <- factor(sex_vector)\n",
        "\n",
        "# Print out factor_sex_vector\n",
        "factor_sex_vector\n"
      ],
      "metadata": {
        "id": "tT7ERWPLvdh3"
      },
      "execution_count": null,
      "outputs": []
    },
    {
      "cell_type": "code",
      "source": [
        "Instructions\n",
        "100 XP\n",
        "Submit the answer to check how R constructs and prints nominal and ordinal variables. Do not worry if you do not understand all the code just yet, we will get to that.\n",
        "\n",
        "\n",
        "# Animals\n",
        "animals_vector <- c(\"Elephant\", \"Giraffe\", \"Donkey\", \"Horse\")\n",
        "factor_animals_vector <- factor(animals_vector)\n",
        "factor_animals_vector\n",
        "\n",
        "# Temperature\n",
        "temperature_vector <- c(\"High\", \"Low\", \"High\",\"Low\", \"Medium\")\n",
        "factor_temperature_vector <- factor(temperature_vector, order = TRUE, levels = c(\"Low\", \"Medium\", \"High\"))\n",
        "factor_temperature_vector\n",
        "\n"
      ],
      "metadata": {
        "id": "-dovxYeVnd14"
      },
      "execution_count": null,
      "outputs": []
    },
    {
      "cell_type": "code",
      "source": [
        "Instructions\n",
        "100 XP\n",
        "Check out the code that builds a factor vector from survey_vector. You should use factor_survey_vector in the next instruction.\n",
        "Change the factor levels of factor_survey_vector to c(\"Female\", \"Male\"). Mind the order of the vector elements here.\n",
        "\n",
        "\n",
        "# Code to build factor_survey_vector\n",
        "survey_vector <- c(\"M\", \"F\", \"F\", \"M\", \"M\")\n",
        "factor_survey_vector <- factor(survey_vector)\n",
        "\n",
        "# Specify the levels of factor_survey_vector\n",
        "levels(factor_survey_vector) <-c('Female', 'Male')\n",
        "\n",
        "factor_survey_vector"
      ],
      "metadata": {
        "id": "zkjB78VKve5k"
      },
      "execution_count": null,
      "outputs": []
    },
    {
      "cell_type": "code",
      "source": [
        "Instructions\n",
        "100 XP\n",
        "Ask a summary() of the survey_vector and factor_survey_vector. Interpret the results of both vectors. Are they both equally useful in this case?\n",
        "\n",
        "\n",
        "# Build factor_survey_vector with clean levels\n",
        "survey_vector <- c(\"M\", \"F\", \"F\", \"M\", \"M\")\n",
        "factor_survey_vector <- factor(survey_vector)\n",
        "levels(factor_survey_vector) <- c(\"Female\", \"Male\")\n",
        "factor_survey_vector\n",
        "\n",
        "# Generate summary for survey_vector\n",
        "summary(survey_vector)\n",
        "\n",
        "# Generate summary for factor_survey_vector\n",
        "summary(factor_survey_vector)"
      ],
      "metadata": {
        "id": "dSdpxUeAdC26"
      },
      "execution_count": null,
      "outputs": []
    },
    {
      "cell_type": "code",
      "source": [
        "Instructions\n",
        "100 XP\n",
        "Read the code in the editor and submit the answer to test if male is greater than (>) female.\n",
        "\n",
        "\n",
        "# Build factor_survey_vector with clean levels\n",
        "survey_vector <- c(\"M\", \"F\", \"F\", \"M\", \"M\")\n",
        "factor_survey_vector <- factor(survey_vector)\n",
        "levels(factor_survey_vector) <- c(\"Female\", \"Male\")\n",
        "\n",
        "# Male\n",
        "male <- factor_survey_vector[1]\n",
        "\n",
        "# Female\n",
        "female <- factor_survey_vector[2]\n",
        "\n",
        "# Battle of the sexes: Male 'larger' than female?\n",
        "male > female"
      ],
      "metadata": {
        "id": "kw1RW8AvdCoc"
      },
      "execution_count": null,
      "outputs": []
    },
    {
      "cell_type": "code",
      "source": [
        "Instructions\n",
        "100 XP\n",
        "As a first step, assign speed_vector a vector with 5 entries, one for each analyst. Each entry should be either \"slow\", \"medium\", or \"fast\". Use the list below:\n",
        "\n",
        "Analyst 1 is medium,\n",
        "Analyst 2 is slow,\n",
        "Analyst 3 is slow,\n",
        "Analyst 4 is medium and\n",
        "Analyst 5 is fast.\n",
        "No need to specify these are factors yet.\n",
        "\n",
        "\n",
        "# Create speed_vector\n",
        "speed_vector <- c(\"medium\", \"slow\", \"slow\", \"medium\", \"fast\")\n"
      ],
      "metadata": {
        "id": "s0-6399bc4np"
      },
      "execution_count": null,
      "outputs": []
    },
    {
      "cell_type": "code",
      "source": [
        "Instructions\n",
        "100 XP\n",
        "From speed_vector, create an ordered factor vector: factor_speed_vector. Set ordered to TRUE, and set levels to c(\"slow\", \"medium\", \"fast\").\n",
        "\n",
        "# Create speed_vector\n",
        "speed_vector <- c(\"medium\", \"slow\", \"slow\", \"medium\", \"fast\")\n",
        "\n",
        "# Add your code below\n",
        "factor_speed_vector <- factor(speed_vector, ordered = TRUE, levels = c(\"slow\", \"medium\", \"fast\"))\n",
        "\n",
        "# Print factor_speed_vector\n",
        "factor_speed_vector\n",
        "summary(factor_speed_vector)"
      ],
      "metadata": {
        "id": "CQIV-lDNrX6T"
      },
      "execution_count": null,
      "outputs": []
    },
    {
      "cell_type": "code",
      "source": [
        "Instructions\n",
        "100 XP\n",
        "Use [2] to select from factor_speed_vector the factor value for the second data analyst. Store it as da2.\n",
        "Use [5] to select the factor_speed_vector factor value for the fifth data analyst. Store it as da5.\n",
        "Check if da2 is greater than da5; simply print out the result. Remember that you can use the > operator to check whether one element is larger than the other.\n",
        "\n",
        "\n",
        "# Create factor_speed_vector\n",
        "speed_vector <- c(\"medium\", \"slow\", \"slow\", \"medium\", \"fast\")\n",
        "factor_speed_vector <- factor(speed_vector, ordered = TRUE, levels = c(\"slow\", \"medium\", \"fast\"))\n",
        "\n",
        "# Factor value for second data analyst\n",
        "da2 <- factor_speed_vector[2]\n",
        "\n",
        "# Factor value for fifth data analyst\n",
        "da5 <- factor_speed_vector[5]\n",
        "\n",
        "# Is data analyst 2 faster data analyst 5?\n",
        "da2 > da5"
      ],
      "metadata": {
        "id": "Xv570MObrXki"
      },
      "execution_count": null,
      "outputs": []
    },
    {
      "cell_type": "code",
      "source": [
        "Instructions\n",
        "100 XP\n",
        "Submit the answer. The data from the built-in example data frame mtcars will be printed to the console.\n",
        "\n",
        "\n",
        "# Print out built-in R data frame\n",
        "mtcars "
      ],
      "metadata": {
        "id": "SMoibOI2rXgj"
      },
      "execution_count": null,
      "outputs": []
    },
    {
      "cell_type": "markdown",
      "source": [
        "5"
      ],
      "metadata": {
        "id": "GHdYBcnssOWh"
      }
    },
    {
      "cell_type": "code",
      "source": [
        "Instructions\n",
        "100 XP\n",
        "Call head() on the mtcars dataset to have a look at the header and the first observations.\n",
        "\n",
        "# Call head() on mtcars\n",
        "head(mtcars)"
      ],
      "metadata": {
        "id": "eEkZqxd2c4M1"
      },
      "execution_count": null,
      "outputs": []
    },
    {
      "cell_type": "code",
      "source": [
        "Instructions\n",
        "100 XP\n",
        "Investigate the structure of mtcars. Make sure that you see the same numbers, variables and data types as mentioned above.\n",
        "\n",
        "# Investigate the structure of mtcars\n",
        "str(mtcars)\n"
      ],
      "metadata": {
        "id": "-zMUCNbV7si8"
      },
      "execution_count": null,
      "outputs": []
    },
    {
      "cell_type": "code",
      "source": [
        "Instructions\n",
        "100 XP\n",
        "Use the function data.frame() to construct a data frame. Pass the vectors name, type, diameter, rotation and rings as arguments to data.frame(), in this order. Call the resulting data frame planets_df.\n",
        "\n",
        "# Definition of vectors\n",
        "name <- c(\"Mercury\", \"Venus\", \"Earth\", \n",
        "          \"Mars\", \"Jupiter\", \"Saturn\", \n",
        "          \"Uranus\", \"Neptune\")\n",
        "type <- c(\"Terrestrial planet\", \n",
        "          \"Terrestrial planet\", \n",
        "          \"Terrestrial planet\", \n",
        "          \"Terrestrial planet\", \"Gas giant\", \n",
        "          \"Gas giant\", \"Gas giant\", \"Gas giant\")\n",
        "diameter <- c(0.382, 0.949, 1, 0.532, \n",
        "              11.209, 9.449, 4.007, 3.883)\n",
        "rotation <- c(58.64, -243.02, 1, 1.03,\n",
        "              0.41, 0.43, -0.72, 0.67)\n",
        "rings <- c(FALSE, FALSE, FALSE, FALSE, TRUE, TRUE, TRUE, TRUE)\n",
        "\n",
        "# Create a data frame from the vectors\n",
        "planets_df <- data.frame(name, type, diameter, rotation, rings)\n"
      ],
      "metadata": {
        "id": "uJ5E-WCq7sQJ"
      },
      "execution_count": null,
      "outputs": []
    },
    {
      "cell_type": "code",
      "source": [
        "Instructions\n",
        "100 XP\n",
        "Use str() to investigate the structure of the new planets_df variable.\n",
        "\n",
        "# Check the structure of planets_df\n",
        "str(planets_df)"
      ],
      "metadata": {
        "id": "EOdVNtCG8baE"
      },
      "execution_count": null,
      "outputs": []
    },
    {
      "cell_type": "code",
      "source": [
        "Instructions\n",
        "100 XP\n",
        "From planets_df, select the diameter of Mercury: this is the value at the first row and the third column. Simply print out the result.\n",
        "From planets_df, select all data on Mars (the fourth row). Simply print out the result.\n",
        "\n",
        "# The planets_df data frame from the previous exercise is pre-loaded\n",
        "\n",
        "# Print out diameter of Mercury (row 1, column 3)\n",
        "planets_df[1,3]\n",
        "\n",
        "# Print out data for Mars (entire fourth row)\n",
        "planets_df[4, ]\n",
        "\n"
      ],
      "metadata": {
        "id": "a_nKTEek8bXG"
      },
      "execution_count": null,
      "outputs": []
    },
    {
      "cell_type": "code",
      "source": [
        "Instructions\n",
        "100 XP\n",
        "Select and print out the first 5 values in the \"diameter\" column of planets_df.\n",
        "\n",
        "# The planets_df data frame from the previous exercise is pre-loaded\n",
        "\n",
        "# Select first 5 values of diameter column\n",
        "planets_df[1:5, \"diameter\"]\n"
      ],
      "metadata": {
        "id": "QdwLInlI7r1Z"
      },
      "execution_count": null,
      "outputs": []
    },
    {
      "cell_type": "code",
      "source": [
        "Instructions\n",
        "100 XP\n",
        "Use the $ sign to select the rings variable from planets_df. Store the vector that results as rings_vector.\n",
        "Print out rings_vector to see if you got it right.Instructions\n",
        "\n",
        "\n",
        "# planets_df is pre-loaded in your workspace\n",
        "\n",
        "# Select the rings variable from planets_df\n",
        "rings_vector <- planets_df$rings\n",
        "\n",
        "# Print out rings_vector\n",
        "rings_vector"
      ],
      "metadata": {
        "id": "t26ltnQf-eQG"
      },
      "execution_count": null,
      "outputs": []
    },
    {
      "cell_type": "code",
      "source": [
        "Instructions\n",
        "100 XP\n",
        "The code in the editor selects the name column of all planets that have rings. Adapt the code so that instead of only the name column, all columns for planets that have rings are selected.\n",
        "\n",
        "\n",
        "# planets_df and rings_vector are pre-loaded in your workspace\n",
        "\n",
        "# Adapt the code to select all columns for planets with rings\n",
        "planets_df[rings_vector, ]"
      ],
      "metadata": {
        "id": "HgEpwWoFiEvd"
      },
      "execution_count": null,
      "outputs": []
    },
    {
      "cell_type": "code",
      "source": [
        ""
      ],
      "metadata": {
        "id": "8d1mWBtC-eMs"
      },
      "execution_count": null,
      "outputs": []
    },
    {
      "cell_type": "code",
      "source": [
        "Instructions\n",
        "100 XP\n",
        "The code in the editor selects the name column of all planets that have rings. Adapt the code so that instead of only the name column, all columns for planets that have rings are selected.\n",
        "\n",
        "# planets_df and rings_vector are pre-loaded in your workspace\n",
        "\n",
        "# Adapt the code to select all columns for planets with rings\n",
        "planets_df[rings_vector, ]"
      ],
      "metadata": {
        "id": "MpDKHDd6-eIk"
      },
      "execution_count": null,
      "outputs": []
    },
    {
      "cell_type": "code",
      "source": [
        "Instructions\n",
        "100 XP\n",
        "Use subset() on planets_df to select planets that have a diameter smaller than Earth. Because the diameter variable is a relative measure of the planet's diameter w.r.t that of planet Earth, your condition is diameter < 1.\n",
        "\n",
        "# planets_df is pre-loaded in your workspace\n",
        "\n",
        "# Select planets with diameter < 1\n",
        "subset(planets_df, subset = diameter < 1)s\n"
      ],
      "metadata": {
        "id": "QOgpFJsr-eEj"
      },
      "execution_count": null,
      "outputs": []
    },
    {
      "cell_type": "code",
      "source": [
        "Instructions\n",
        "100 XP\n",
        "Experiment with the order() function in the console. Submit the answer when you are ready to continue.\n",
        "\n",
        "\n",
        "# Play around with the order function in the console"
      ],
      "metadata": {
        "id": "aAQTIGbp-eAl"
      },
      "execution_count": null,
      "outputs": []
    },
    {
      "cell_type": "code",
      "source": [
        "Instructions\n",
        "100 XP\n",
        "Call order() on planets_df$diameter (the diameter column of planets_df). Store the result as positions.\n",
        "Now reshuffle planets_df with the positions vector as row indexes inside square brackets. Keep all columns. Simply print out the result.\n",
        "\n",
        "\n",
        "# planets_df is pre-loaded in your workspace\n",
        "\n",
        "# Use order() to create positions\n",
        "positions <- order(planets_df$diameter)\n",
        "\n",
        "# Use positions to sort planets_df\n",
        "planets_df[positions, ]"
      ],
      "metadata": {
        "id": "m3C8RLps-d8-"
      },
      "execution_count": null,
      "outputs": []
    },
    {
      "cell_type": "markdown",
      "source": [
        "6"
      ],
      "metadata": {
        "id": "y7Fa1I6RmENK"
      }
    },
    {
      "cell_type": "code",
      "source": [
        "Instructions\n",
        "100 XP\n",
        "Submit the answer to start learning everything about lists!\n",
        "\n",
        "# Just submit the answer"
      ],
      "metadata": {
        "id": "q3v58MB3vMYB"
      },
      "execution_count": null,
      "outputs": []
    },
    {
      "cell_type": "code",
      "source": [
        "Instructions\n",
        "100 XP\n",
        "Just submit the answer to start the first exercise on lists.\n",
        "\n",
        "\n",
        "# Just submit the answer to start the first exercise on lists."
      ],
      "metadata": {
        "id": "g66a1AYFvMR4"
      },
      "execution_count": null,
      "outputs": []
    },
    {
      "cell_type": "code",
      "source": [
        "Instructions\n",
        "100 XP\n",
        "Construct a list, named my_list, that contains the variables my_vector, my_matrix and my_df as list components.\n",
        "\n",
        "\n",
        "# Vector with numerics from 1 up to 10\n",
        "my_vector <- 1:10 \n",
        "\n",
        "# Matrix with numerics from 1 up to 9\n",
        "my_matrix <- matrix(1:9, ncol = 3)\n",
        "\n",
        "# First 10 elements of the built-in data frame mtcars\n",
        "my_df <- mtcars[1:10,]\n",
        "\n",
        "# Construct list with these different elements:\n",
        "my_list <- list(my_vector, my_matrix, my_df)\n"
      ],
      "metadata": {
        "id": "jfgoX07kvepl"
      },
      "execution_count": null,
      "outputs": []
    },
    {
      "cell_type": "code",
      "source": [
        "Instructions\n",
        "100 XP\n",
        "Change the code of the previous exercise (see editor) by adding names to the components. Use for my_vector the name vec, for my_matrix the name mat and for my_df the name df.\n",
        "Print out my_list so you can inspect the output.\n",
        "\n",
        "\n",
        "# Vector with numerics from 1 up to 10\n",
        "my_vector <- 1:10 \n",
        "\n",
        "# Matrix with numerics from 1 up to 9\n",
        "my_matrix <- matrix(1:9, ncol = 3)\n",
        "\n",
        "# First 10 elements of the built-in data frame mtcars\n",
        "my_df <- mtcars[1:10,]\n",
        "\n",
        "# Adapt list() call to give the components names\n",
        "my_list <- list(vec = my_vector, mat = my_matrix, df = my_df)\n",
        "\n",
        "# Print out my_list\n",
        "my_list\n"
      ],
      "metadata": {
        "id": "-J9BMNZevLzX"
      },
      "execution_count": null,
      "outputs": []
    },
    {
      "cell_type": "code",
      "source": [
        "Instructions\n",
        "100 XP\n",
        "Complete the code in the editor to create shining_list; it contains three elements:\n",
        "\n",
        "moviename: a character string with the movie title (stored in mov)\n",
        "actors: a vector with the main actors' names (stored in act)\n",
        "reviews: a data frame that contains some reviews (stored in rev)\n",
        "Do not forget to name the list components accordingly (names are moviename, actors and reviews).\n",
        "\n",
        "\n",
        "# The variables mov, act and rev are available\n",
        "\n",
        "# Finish the code to build shining_list\n",
        "shining_list <- list(moviename = mov, actors = act, reviews = rev)\n",
        "\n"
      ],
      "metadata": {
        "id": "OvpE3FaKq6Wy"
      },
      "execution_count": null,
      "outputs": []
    },
    {
      "cell_type": "code",
      "source": [
        "Instructions\n",
        "100 XP\n",
        "Select from shining_list the vector representing the actors. Simply print out this vector.\n",
        "Select from shining_list the second element in the vector representing the actors. Do a printout like before.\n",
        "\n",
        "# shining_list is already pre-loaded in the workspace\n",
        "\n",
        "# Print out the vector representing the actors\n",
        "shining_list$actors\n",
        "\n",
        "# Print the second element of the vector representing the actors\n",
        "shining_list$actors[2]"
      ],
      "metadata": {
        "id": "_bFpc_HvrWx0"
      },
      "execution_count": null,
      "outputs": []
    },
    {
      "cell_type": "code",
      "source": [
        "Instructions\n",
        "100 XP\n",
        "Create two vectors, called scores and comments, that contain the information from the reviews shown in the table.\n",
        "Find the average of the scores vector and save it as avg_review.\n",
        "Combine the scores and comments vectors into a data frame called reviews_df.\n",
        "Create a list, called departed_list, that contains the movie_title, movie_actors, reviews data frame as reviews_df, and the average review score as avg_review, and print it out.\n",
        "\n",
        "\n",
        "# Use the table from the exercise to define the comments and scores vectors\n",
        "scores <- c(4.6, 5, 4.8, 5, 4.2)\n",
        "comments <- c(\"I would watch it again\", \"Amazing!\", \"I liked it\", \"One of the best movies\", \"Fascinating plot\")\n",
        "\n",
        "# Save the average of the scores vector as avg_review\n",
        "avg_review <- mean(scores)\n",
        "\n",
        "# Combine scores and comments into the reviews_df data frame\n",
        "reviews_df <- data.frame(scores, comments)\n",
        "\n",
        "# Create and print out a list, called departed_list\n",
        "departed_list <- list(movie_title, movie_actors, reviews_df, avg_review)\n",
        "departed_list\n",
        " \n"
      ],
      "metadata": {
        "id": "ea9bqyjJwvqO"
      },
      "execution_count": null,
      "outputs": []
    },
    {
      "cell_type": "code",
      "source": [
        ""
      ],
      "metadata": {
        "id": "L2S0vjU1wvZb"
      },
      "execution_count": null,
      "outputs": []
    }
  ]
}