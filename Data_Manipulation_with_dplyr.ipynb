{
  "nbformat": 4,
  "nbformat_minor": 0,
  "metadata": {
    "colab": {
      "name": "Data Manipulation with dplyr.ipynb",
      "provenance": [],
      "authorship_tag": "ABX9TyO1tSSgru9d5LCp34Qbx5ak",
      "include_colab_link": true
    },
    "kernelspec": {
      "name": "python3",
      "display_name": "Python 3"
    },
    "language_info": {
      "name": "python"
    }
  },
  "cells": [
    {
      "cell_type": "markdown",
      "metadata": {
        "id": "view-in-github",
        "colab_type": "text"
      },
      "source": [
        "<a href=\"https://colab.research.google.com/github/lia07/DataCamp/blob/main/Data_Manipulation_with_dplyr.ipynb\" target=\"_parent\"><img src=\"https://colab.research.google.com/assets/colab-badge.svg\" alt=\"Open In Colab\"/></a>"
      ]
    },
    {
      "cell_type": "markdown",
      "source": [
        "Data Manipulation with dplyr     Nº4"
      ],
      "metadata": {
        "id": "dnrl_BJmFbt6"
      }
    },
    {
      "cell_type": "code",
      "source": [
        "Instructions\n",
        "100 XP\n",
        "Select the columns listed from the counties variable.\n",
        "\n",
        "\n",
        "counties %>%\n",
        "  # Select the columns \n",
        "  select(state, county, population, poverty)"
      ],
      "metadata": {
        "id": "ody6MNUaFikv"
      },
      "execution_count": null,
      "outputs": []
    },
    {
      "cell_type": "code",
      "source": [
        "Instructions\n",
        "100 XP\n",
        "Add a verb to sort the observations of the public_work variable in descending order.\n",
        "\n",
        "\n",
        "counties_selected <- counties %>%\n",
        "  select(state, county, population, private_work, public_work, self_employed)\n",
        "\n",
        "counties_selected %>%\n",
        "  # Add a verb to sort in descending order of public_work\n",
        "  arrange(desc(public_work))"
      ],
      "metadata": {
        "id": "0PpocAzNFkDw"
      },
      "execution_count": null,
      "outputs": []
    },
    {
      "cell_type": "code",
      "source": [
        "Instructions 1/2\n",
        "50 XP\n",
        "1\n",
        "Find only the counties that have a population above one million (1000000).\n",
        "\n",
        "counties_selected <- counties %>%\n",
        "  select(state, county, population)\n",
        "\n",
        "counties_selected %>%\n",
        "  # Filter for counties with a population above 1000000\n",
        "  filter(population > 1000000)"
      ],
      "metadata": {
        "id": "8lcMIWG6GaJq"
      },
      "execution_count": null,
      "outputs": []
    },
    {
      "cell_type": "code",
      "source": [
        "Instructions 2/2\n",
        "50 XP\n",
        "Find only the counties that have a population above one million (1000000).\n",
        "2 Find only the counties in the state of California that also have a population above one million (1000000).\n",
        "\n",
        "\n",
        "counties_selected <- counties %>%\n",
        "  select(state, county, population)\n",
        "\n",
        "counties_selected %>%\n",
        "  # Filter for counties with a population above 1000000\n",
        "  filter(state == \"California\",\n",
        "         population > 1000000)\n"
      ],
      "metadata": {
        "id": "k3UTZ-mfFj_L"
      },
      "execution_count": null,
      "outputs": []
    },
    {
      "cell_type": "code",
      "source": [
        "Instructions\n",
        "100 XP\n",
        "Filter for counties in the state of Texas that have more than ten thousand people (10000), and sort them in descending order of the percentage of people employed in private work.\n",
        "\n",
        "\n",
        "counties_selected <- counties %>%\n",
        "  select(state, county, population, private_work, public_work, self_employed)\n",
        "\n",
        "counties_selected %>%\n",
        "  # Filter for Texas and more than 10000 people\n",
        "  filter(state == \"Texas\",\n",
        "         population > 10000) %>%\n",
        "  # Sort in descending order of private_work\n",
        "  arrange(desc(private_work))\n",
        "\n",
        "\n",
        "\n"
      ],
      "metadata": {
        "id": "PYXhettZFj71"
      },
      "execution_count": null,
      "outputs": []
    },
    {
      "cell_type": "code",
      "source": [
        "Instructions 1/2\n",
        "50 XP\n",
        "1\n",
        "2\n",
        "Use mutate() to add a column called public_workers to the dataset, with the number of people employed in public (government) work.\n",
        "\n",
        "\n",
        "counties_selected <- counties %>%\n",
        "  select(state, county, population, public_work)\n",
        "\n",
        "counties_selected %>%\n",
        "  # Add a new column public_workers with the number of people employed in public work\n",
        "  mutate(public_workers = public_work * population / 100)\n",
        "\n",
        "\n",
        "\n",
        "\n",
        "Instructions 2/2\n",
        "50 XP\n",
        "2\n",
        "Sort the new column in descending order.\n",
        "\n",
        "counties_selected <- counties %>%\n",
        "  select(state, county, population, public_work)\n",
        "\n",
        "counties_selected %>%\n",
        "  mutate(public_workers = public_work * population / 100) %>%\n",
        "  # Sort in descending order of the public_workers column\n",
        "  arrange(desc(public_workers))\n",
        "  "
      ],
      "metadata": {
        "id": "QNOHOb46oKGU"
      },
      "execution_count": null,
      "outputs": []
    },
    {
      "cell_type": "code",
      "source": [
        "Instructions\n",
        "100 XP\n",
        "Select the columns state, county, population, men, and women.\n",
        "Add a new variable called proportion_women with the fraction of the county's population made up of women.\n",
        "\n",
        "\n",
        "counties_selected <- counties %>%\n",
        "  # Select the columns state, county, population, men, and women\n",
        "  select(state, county, population, men, women)\n",
        "\n",
        "counties_selected %>%\n",
        "  # Calculate proportion_women as the fraction of the population made up of women\n",
        "  mutate(proportion_women = women / population)\n",
        "  "
      ],
      "metadata": {
        "id": "O4kteJ6FHFj-"
      },
      "execution_count": null,
      "outputs": []
    },
    {
      "cell_type": "code",
      "source": [
        "Instructions\n",
        "100 XP\n",
        "Select only the columns state, county, population, men, and women.\n",
        "Add a variable proportion_men with the fraction of the county's population made up of men.\n",
        "Filter for counties with a population of at least ten thousand (10000).\n",
        "Arrange counties in descending order of their proportion of men.\n",
        "\n",
        "\n",
        "counties %>%\n",
        "  # Select the five columns \n",
        "  select(state, county, population, men, women) %>%\n",
        "  # Add the proportion_men variable\n",
        "  mutate(proportion_men = men / population) %>%\n",
        "  # Filter for population of at least 10,000\n",
        "  filter(population >= 10000) %>% \n",
        "  # Arrange proportion of men in descending order \n",
        "  arrange(desc(proportion_men))\n",
        "\n",
        "  "
      ],
      "metadata": {
        "id": "rHm_F-L1Fj3v"
      },
      "execution_count": null,
      "outputs": []
    },
    {
      "cell_type": "markdown",
      "source": [
        "2"
      ],
      "metadata": {
        "id": "sqr8HqAs24_K"
      }
    },
    {
      "cell_type": "code",
      "source": [
        "Instructions\n",
        "100 XP\n",
        "Use count() to find the number of counties in each region, using a second argument to sort in descending order.\n",
        "\n",
        "\n",
        "# Use count to find the number of counties in each region\n",
        "counties_selected %>%\n",
        "  count(region, sort = TRUE)"
      ],
      "metadata": {
        "id": "_x-HEDLmFj0v"
      },
      "execution_count": null,
      "outputs": []
    },
    {
      "cell_type": "code",
      "source": [
        "Instructions\n",
        "100 XP\n",
        "Count the number of counties in each state, weighted based on the citizens column, and sorted in descending order.\n",
        "\n",
        "\n",
        "# Find number of counties per state, weighted by citizens, sorted in descending order\n",
        "counties_selected %>%\n",
        "  count(state, wt = citizens, sort = TRUE)"
      ],
      "metadata": {
        "id": "G3WJlwkuFjvq"
      },
      "execution_count": null,
      "outputs": []
    },
    {
      "cell_type": "code",
      "source": [
        "Instructions\n",
        "100 XP\n",
        "Use mutate() to calculate and add a column called population_walk, containing the total number of people who walk to work in a county.\n",
        "Use a (weighted and sorted) count() to find the total number of people who walk to work in each state.\n",
        "\n",
        "\n",
        "counties_selected %>%\n",
        "  # Add population_walk containing the total number of people who walk to work \n",
        "  mutate(population_walk = population * walk / 100) %>%\n",
        "  # Count weighted by the new column, sort in descending order\n",
        "  count(state, wt = population_walk, sort = TRUE)"
      ],
      "metadata": {
        "id": "6mtaEMJP3cWJ"
      },
      "execution_count": null,
      "outputs": []
    },
    {
      "cell_type": "code",
      "source": [
        "Instructions\n",
        "100 XP\n",
        "Summarize the counties dataset to find the following columns: min_population (with the smallest population), max_unemployment (with the maximum unemployment), and average_income (with the mean of the income variable).\n",
        "\n",
        "\n",
        "counties_selected %>%\n",
        "  # Summarize to find minimum population, maximum unemployment, and average income\n",
        "  summarize(min_population = min(population),\n",
        "            max_unemployment = max(unemployment),\n",
        "            average_income = mean(income))\n",
        "  "
      ],
      "metadata": {
        "id": "bGSaji2W3cTB"
      },
      "execution_count": null,
      "outputs": []
    },
    {
      "cell_type": "code",
      "source": [
        "Instructions 1/2\n",
        "50 XP\n",
        "1\n",
        "2\n",
        "Group the data by state, and summarize to create the columns total_area (with total area in square miles) and total_population (with total population).\n",
        "\n",
        "counties_selected %>%\n",
        "  # Group by state\n",
        "  group_by(state) %>%\n",
        "  # Find the total area and population\n",
        "  summarize(total_area = sum(land_area),\n",
        "            total_population = sum(population))\n",
        "\n",
        "\n",
        "Instructions 2/2\n",
        "50 XP\n",
        "2\n",
        "Add a density column with the people per square mile, then arrange in descending order.\n",
        "\n",
        "counties_selected %>%\n",
        "  group_by(state) %>%\n",
        "  summarize(total_area = sum(land_area),\n",
        "            total_population = sum(population)) %>%\n",
        "  # Add a density column\n",
        "  mutate(density = total_population / total_area) %>%\n",
        "  # Sort by density in descending order\n",
        "  arrange(desc(density))\n",
        "\n"
      ],
      "metadata": {
        "id": "XE4U5NcD85c6"
      },
      "execution_count": null,
      "outputs": []
    },
    {
      "cell_type": "code",
      "source": [
        "Instructions 1/2\n",
        "50 XP\n",
        "1\n",
        "2\n",
        "Summarize to find the total population, as a column called total_pop, in each combination of region and state.\n",
        "\n",
        "\n",
        "counties_selected %>%\n",
        "  # Group and summarize to find the total population\n",
        "  group_by(region, state) %>%\n",
        "  summarize(total_pop = sum(population))\n",
        "\n",
        "Instructions 2/2\n",
        "50 XP\n",
        "2\n",
        "Notice the tibble is still grouped by region; use another summarize() step to calculate two new columns: the average state population in each region (average_pop) and the median state population in each region (median_pop).\n",
        "\n",
        "counties_selected %>%\n",
        "  # Group and summarize to find the total population\n",
        "  group_by(region, state) %>%\n",
        "  summarize(total_pop = sum(population)) %>%\n",
        "  # Calculate the average_pop and median_pop columns \n",
        "  summarize(average_pop = mean(total_pop),\n",
        "            median_pop = median(total_pop))\n",
        "  "
      ],
      "metadata": {
        "id": "hUZHf9NV9R7p"
      },
      "execution_count": null,
      "outputs": []
    },
    {
      "cell_type": "code",
      "source": [
        "Instructions\n",
        "100 XP\n",
        "Find the county in each region with the highest percentage of citizens who walk to work.\n",
        "\n",
        "\n",
        "counties_selected %>%\n",
        "  # Group by region\n",
        "  group_by(region) %>%\n",
        "  # Find the greatest number of citizens who walk to work\n",
        "  top_n(1, walk)"
      ],
      "metadata": {
        "id": "yLESCqX3FjtF"
      },
      "execution_count": null,
      "outputs": []
    },
    {
      "cell_type": "code",
      "source": [
        "Instructions\n",
        "100 XP\n",
        "Find the county in each region with the highest percentage of citizens who walk to work.\n",
        "\n",
        "counties_selected %>%\n",
        "  # Group by region\n",
        "  group_by(region) %>%\n",
        "  # Find the greatest number of citizens who walk to work\n",
        "  top_n(1, walk)\n",
        "  "
      ],
      "metadata": {
        "id": "UXa3nBMtFjfR"
      },
      "execution_count": null,
      "outputs": []
    },
    {
      "cell_type": "code",
      "source": [
        "Instructions\n",
        "100 XP\n",
        "Calculate the average income (as average_income) of counties within each region and state (notice the group_by() has already been done for you).\n",
        "Find the highest income state in each region.\n",
        "\n",
        "counties_selected %>%\n",
        "  group_by(region, state) %>%\n",
        "  # Calculate average income\n",
        "  summarize(average_income = mean(income)) %>%\n",
        "  # Find the highest income state in each region\n",
        "  top_n(1, average_income)"
      ],
      "metadata": {
        "id": "RyhBE8ri_J9d"
      },
      "execution_count": null,
      "outputs": []
    },
    {
      "cell_type": "code",
      "source": [
        "Instructions 1/3\n",
        "35 XP\n",
        "1\n",
        "For each combination of state and metro, find the total population as total_pop.\n",
        "\n",
        "counties_selected %>%\n",
        "  # Find the total population for each combination of state and metro\n",
        "  group_by(state, metro) %>%\n",
        "  summarize(total_pop = sum(population))\n",
        "\n",
        "\n",
        "  Instructions 1/3\n",
        "0 XP\n",
        "For each combination of state and metro, find the total population as total_pop.\n",
        "\n",
        "\n",
        "counties_selected %>%\n",
        "  # Find the total population for each combination of state and metro\n",
        "  group_by(state, metro) %>%\n",
        "  summarize(total_pop = sum(population))\n",
        "\n",
        "\n",
        "Instructions 2/3\n",
        "35 XP\n",
        "For each combination of state and metro, find the total population as total_pop.\n",
        "\n",
        "2\n",
        "Extract the most populated row from each state, which will be either Metro or Nonmetro.\n",
        "\n",
        "\n",
        "counties_selected %>%\n",
        "  # Find the total population for each combination of state and metro\n",
        "  group_by(state, metro) %>%\n",
        "  summarize(total_pop = sum(population)) %>%\n",
        "  # Extract the most populated row for each state\n",
        "  top_n(1, total_pop)\n",
        "\n",
        "\n",
        "  Ungroup, then count how often Metro or Nonmetro appears to see how many states have more people living in those areas.\n",
        "\n",
        "  counties_selected %>%\n",
        "  # Find the total population for each combination of state and metro\n",
        "  group_by(state, metro) %>%\n",
        "  summarize(total_pop = sum(population)) %>%\n",
        "  # Extract the most populated row for each state\n",
        "  top_n(1, total_pop) %>%\n",
        "  # Count the states with more people in Metro or Nonmetro areas\n",
        "  ungroup() %>% \n",
        "  count(metro)\n",
        "  "
      ],
      "metadata": {
        "id": "yQyTLjwV_cUo"
      },
      "execution_count": null,
      "outputs": []
    },
    {
      "cell_type": "code",
      "source": [
        "Instructions\n",
        "100 XP\n",
        "Use glimpse() to examine all the variables in the counties table.\n",
        "Select the columns for state, county, population, and (using a colon) all five of those industry-related variables; there are five consecutive variables in the table related to the industry of people's work: professional, service, office, construction, and production.\n",
        "Arrange the table in descending order of service to find which counties have the highest rates of working in the service industry.\n",
        "\n",
        "\n",
        "# Glimpse the counties table\n",
        "glimpse(counties)\n",
        "\n",
        "counties %>%\n",
        "  # Select state, county, population, and industry-related columns\n",
        "  select(state, county, population, professional:production) %>%\n",
        "  # Arrange service in descending order \n",
        "  arrange(desc(service))\n",
        "  "
      ],
      "metadata": {
        "id": "jXb8WWpS_cQN"
      },
      "execution_count": null,
      "outputs": []
    },
    {
      "cell_type": "code",
      "source": [
        "Instructions\n",
        "100 XP\n",
        "Select the columns state, county, population, and all those that end with work.\n",
        "Filter just for the counties where at least 50% of the population is engaged in public work.\n",
        "\n",
        "counties %>%\n",
        "  # Select the state, county, population, and those ending with \"work\"\n",
        "  select(state, county, population, ends_with(\"work\")) %>%\n",
        "  # Filter for counties that have at least 50% of people engaged in public work\n",
        "  filter(public_work >= 50)"
      ],
      "metadata": {
        "id": "u829OfVd_cMz"
      },
      "execution_count": null,
      "outputs": []
    },
    {
      "cell_type": "code",
      "source": [
        "Instructions 1/2\n",
        "50 XP\n",
        "1\n",
        "2\n",
        "Use count() to determine how many counties are in each state.\n",
        "\n",
        "counties %>%\n",
        "  # Count the number of counties in each state\n",
        "  count(state) \n",
        "\n",
        "\n",
        "  Instructions 2/2\n",
        "50 XP\n",
        "2\n",
        "Notice the n column in the output; use rename() to rename that to num_counties.\n",
        "\n",
        "counties %>%\n",
        "  # Count the number of counties in each state\n",
        "  count(state) %>%\n",
        "  # Rename the n column to num_co"
      ],
      "metadata": {
        "id": "wCoGDHqs_cI4"
      },
      "execution_count": null,
      "outputs": []
    },
    {
      "cell_type": "code",
      "source": [
        "Instructions\n",
        "100 XP\n",
        "Select the columns state, county, and poverty from the counties dataset; in the same step, rename the poverty column to poverty_rate.\n",
        "\n",
        "\n",
        "counties %>%\n",
        "  # Select state, county, and poverty as poverty_rate\n",
        "  select(state, county, poverty_rate = poverty)"
      ],
      "metadata": {
        "id": "rONGNayB_cFW"
      },
      "execution_count": null,
      "outputs": []
    },
    {
      "cell_type": "code",
      "source": [
        "Instructions\n",
        "100 XP\n",
        "Keep only the state, county, and population columns, and add a new column, density, that contains the population per land_area.\n",
        "Filter for only counties with a population greater than one million.\n",
        "Sort the table in ascending order of density.\n",
        "\n",
        "\n",
        "counties %>%\n",
        "  # Keep the state, county, and populations columns, and add a density column\n",
        "  transmute(state, county, population, density = population / land_area) %>%\n",
        "  # Filter for counties with a population greater than one million \n",
        "  filter(population > 1000000) %>%\n",
        "  # Sort density in ascending order \n",
        "  arrange(density)"
      ],
      "metadata": {
        "id": "MgpMcLJa_J4e"
      },
      "execution_count": null,
      "outputs": []
    },
    {
      "cell_type": "code",
      "source": [
        "Instructions\n",
        "100 XP\n",
        "Choose the right verb for changing the name of the unemployment column to unemployment_rate\n",
        "Choose the right verb for keeping only the columns state, county, and the ones containing poverty.\n",
        "Calculate a new column called fraction_women with the fraction of the population made up of women, without dropping any columns.\n",
        "Keep only three columns: the state, county, and employed / population, which you'll call employment_rate.\n",
        "\n",
        "\n",
        "# Change the name of the unemployment column\n",
        "counties %>%\n",
        "  rename(unemployment_rate = unemployment)\n",
        "\n",
        "# Keep the state and county columns, and the columns containing poverty\n",
        "counties %>%\n",
        "  select(state, county, contains(\"poverty\"))\n",
        "\n",
        "# Calculate the fraction_women column without dropping the other columns\n",
        "counties %>%\n",
        "  mutate(fraction_women = women / population)\n",
        "\n",
        "# Keep only the state, county, and employment_rate columns\n",
        "counties %>%\n",
        "  transmute(state, county, employment_rate = employed / population)"
      ],
      "metadata": {
        "id": "xAefpDuH_J0K"
      },
      "execution_count": null,
      "outputs": []
    },
    {
      "cell_type": "markdown",
      "source": [
        "4"
      ],
      "metadata": {
        "id": "ECZ2mRqh6OyU"
      }
    },
    {
      "cell_type": "code",
      "source": [
        "Instructions\n",
        "100 XP\n",
        "Filter for only the year 1990.\n",
        "Sort the table in descending order of the number of babies born.\n",
        "\n",
        "babynames %>%\n",
        "  # Filter for the year 1990\n",
        "  filter(year == 1990) %>%\n",
        "  # Sort the number column in descending order \n",
        "  arrange(desc(number))\n",
        "  "
      ],
      "metadata": {
        "id": "mLtK3NBz6OHV"
      },
      "execution_count": null,
      "outputs": []
    },
    {
      "cell_type": "code",
      "source": [
        "Instructions\n",
        "100 XP\n",
        "Use group_by() and top_n() to find the most common name for US babies in each ye\n",
        "\n",
        "\n",
        "babynames %>%\n",
        "  # Find the most common name in each year\n",
        "  group_by(year) %>%\n",
        "  top_n(1, number)"
      ],
      "metadata": {
        "id": "KKBnjK_m6ODy"
      },
      "execution_count": null,
      "outputs": []
    },
    {
      "cell_type": "code",
      "source": [
        "Instructions 1/2\n",
        "50 XP\n",
        "1\n",
        "2\n",
        "Filter for only the names Steven, Thomas, and Matthew, and assign it to an object called selected_names.\n",
        "\n",
        "selected_names <- babynames %>%\n",
        "  # Filter for the names Steven, Thomas, and Matthew \n",
        "  filter(name %in% c(\"Steven\", \"Thomas\", \"Matthew\"))\n",
        "\n",
        "\n",
        "  Instructions 2/2\n",
        "50 XP\n",
        "2\n",
        "Visualize those three names as a line plot over time, with each name represented by a different color.\n",
        "\n",
        "\n",
        "selected_names <- babynames %>%\n",
        "  # Filter for the names Steven, Thomas, and Matthew \n",
        "  filter(name %in% c(\"Steven\", \"Thomas\", \"Matthew\"))\n",
        "\n",
        "# Plot the names using a different color for each name\n",
        "ggplot(selected_names, aes(x = year, y = number, color = name)) +\n",
        "  geom_line()"
      ],
      "metadata": {
        "id": "cK__vbTd6OAM"
      },
      "execution_count": null,
      "outputs": []
    },
    {
      "cell_type": "code",
      "source": [
        "Instructions 1/2\n",
        "50 XP\n",
        "1\n",
        "2\n",
        "First, calculate the total number of people born in that year in this dataset as year_total.\n",
        "Next, use year_total to calculate the fraction of people born in each year that have each name.\n",
        "\n",
        "\n",
        "# Calculate the fraction of people born each year with the same name\n",
        "babynames %>%\n",
        "  group_by(year) %>%\n",
        "  mutate(year_total = sum(number)) %>%\n",
        "  ungroup() %>%\n",
        "  mutate(fraction = number / year_total)\n",
        "\n",
        "\n",
        "Instructions 2/2\n",
        "50 XP\n",
        "2\n",
        "Now use your newly calculated fraction column, in combination with top_n(), to identify the year each name is most common.\n",
        "\n",
        "# Calculate the fraction of people born each year with the same name\n",
        "babynames %>%\n",
        "  group_by(year) %>%\n",
        "  mutate(year_total = sum(number)) %>%\n",
        "  ungroup() %>%\n",
        "  mutate(fraction = number / year_total) %>%\n",
        "  # Find the year each name is most common\n",
        "  group_by(name) %>%\n",
        "  top_n(1, fraction)\n",
        "  \n"
      ],
      "metadata": {
        "id": "vAh7Nm516N8M"
      },
      "execution_count": null,
      "outputs": []
    },
    {
      "cell_type": "code",
      "source": [
        "Instructions 1/2\n",
        "50 XP\n",
        "1\n",
        "2\n",
        "Use a grouped mutate to add two columns:\n",
        "name_total, with the sum of the number of babies born with that name in the entire dataset.\n",
        "name_max, with the maximum number of babies born in any year.\n",
        "\n",
        "babynames %>%\n",
        "  # Add columns name_total and name_max for each name\n",
        "  group_by(name) %>%\n",
        "  mutate(name_total = sum(number),\n",
        "         name_max = max(number))\n",
        "  \n",
        "Instructions 2/2\n",
        "50 XP\n",
        "2\n",
        "Add another step to ungroup the table.\n",
        "Add a column called fraction_max containing the number in the year divided by name_max.\n",
        "\n",
        "Take Hint (-15 XP)\n",
        "\n",
        "babynames %>%\n",
        "  # Add columns name_total and name_max for each name\n",
        "  group_by(name) %>%\n",
        "  mutate(name_total = sum(number),\n",
        "         name_max = max(number)) %>%\n",
        "  # Ungroup the table \n",
        "  ungroup() %>%\n",
        "  # Add the fraction_max column containing the number by the name maximum \n",
        "  mutate(fraction_max = number / name_max)"
      ],
      "metadata": {
        "id": "kA8iAEwq9P7K"
      },
      "execution_count": null,
      "outputs": []
    },
    {
      "cell_type": "code",
      "source": [
        "Instructions\n",
        "100 XP\n",
        "Filter the names_normalized table to limit it to the three names Steven, Thomas, and Matthew.\n",
        "Create a line plot to visualize fraction_max over time, colored by name.\n",
        "\n",
        "\n",
        "names_filtered <- names_normalized %>%\n",
        "  # Filter for the names Steven, Thomas, and Matthew\n",
        "  filter(name %in% c(\"Steven\", \"Thomas\", \"Matthew\"))\n",
        "\n",
        "# Visualize these names over time\n",
        "ggplot(names_filtered, aes(x = year, y = fraction_max, color = name)) +\n",
        "  geom_line()\n",
        "  "
      ],
      "metadata": {
        "id": "OJ2MuMUA-Ei8"
      },
      "execution_count": null,
      "outputs": []
    },
    {
      "cell_type": "code",
      "source": [
        "Instructions\n",
        "100 XP\n",
        "Arrange the data in ascending order of name and then year.\n",
        "Group by name so that your mutate works within each name.\n",
        "Add a column ratio containing the ratio (not difference) of fraction between each year.\n",
        "\n",
        "\n",
        "babynames_fraction %>%\n",
        "  # Arrange the data in order of name, then year \n",
        "  arrange(name, year) %>%\n",
        "  # Group the data by name\n",
        "  group_by(name) %>%\n",
        "  # Add a ratio column that contains the ratio of fraction between each year \n",
        "  mutate(ratio = fraction / lag(fraction))\n",
        "  "
      ],
      "metadata": {
        "id": "ldXXfEtf-l5G"
      },
      "execution_count": null,
      "outputs": []
    },
    {
      "cell_type": "code",
      "source": [
        "Instructions\n",
        "100 XP\n",
        "From each name in the data, keep the observation (the year) with the largest ratio; note the data is already grouped by name.\n",
        "Sort the ratio column in descending order.\n",
        "Filter the babynames_ratios_filtered data further by filtering the fraction column to only display results greater than or equal to 0.001.\n",
        "\n",
        "babynames_ratios_filtered %>%\n",
        "  # Extract the largest ratio from each name \n",
        "  top_n(1, ratio) %>%\n",
        "  # Sort the ratio column in descending order \n",
        "  arrange(desc(ratio)) %>%\n",
        "  # Filter for fractions greater than or equal to 0.001\n",
        "  filter(fraction >= 0.001)"
      ],
      "metadata": {
        "id": "QfOyM7Rmss6O"
      },
      "execution_count": null,
      "outputs": []
    },
    {
      "cell_type": "code",
      "source": [
        ""
      ],
      "metadata": {
        "id": "e64W68n1ss3G"
      },
      "execution_count": null,
      "outputs": []
    }
  ]
}