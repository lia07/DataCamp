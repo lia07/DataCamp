{
  "nbformat": 4,
  "nbformat_minor": 0,
  "metadata": {
    "colab": {
      "provenance": [],
      "authorship_tag": "ABX9TyOTsZ34RYN9IaTfv6KGKftA",
      "include_colab_link": true
    },
    "kernelspec": {
      "name": "python3",
      "display_name": "Python 3"
    },
    "language_info": {
      "name": "python"
    }
  },
  "cells": [
    {
      "cell_type": "markdown",
      "metadata": {
        "id": "view-in-github",
        "colab_type": "text"
      },
      "source": [
        "<a href=\"https://colab.research.google.com/github/lia07/DataCamp/blob/main/Writing_Efficient_Python_Code.ipynb\" target=\"_parent\"><img src=\"https://colab.research.google.com/assets/colab-badge.svg\" alt=\"Open In Colab\"/></a>"
      ]
    },
    {
      "cell_type": "code",
      "execution_count": null,
      "metadata": {
        "id": "e8OwjF6b37uJ"
      },
      "outputs": [],
      "source": [
        "Instructions 1/3\n",
        "35 XP\n",
        "1\n",
        "Print the list, new_list, that was created using a Non-Pythonic approach.\n",
        "\n",
        "\n",
        "# Print the list created using the Non-Pythonic approach\n",
        "i = 0\n",
        "new_list= []\n",
        "while i < len(names):\n",
        "    if len(names[i]) >= 6:\n",
        "        new_list.append(names[i])\n",
        "    i += 1\n",
        "print(new_list)\n",
        "\n",
        "\n",
        "\n",
        "A more Pythonic approach would loop over the contents of names, rather than using an index variable. Print better_list.\n",
        "\n",
        "# Print the list created by looping over the contents of names\n",
        "better_list = []\n",
        "for name in names:\n",
        "    if len(name) >= 6:\n",
        "        better_list.append(name)\n",
        "print(better_list)\n",
        "\n",
        "\n",
        "The best Pythonic way of doing this is by using list comprehension. Print best_list.\n",
        "\n",
        "# Print the list created by using list comprehension\n",
        "best_list = [name for name in names if len(name) >= 6]\n",
        "print(best_list)"
      ]
    },
    {
      "cell_type": "code",
      "source": [
        "Instructions\n",
        "100 XP\n",
        "Create a range object that starts at zero and ends at five. Only use a stop argument.\n",
        "Convert the nums variable into a list called nums_list.\n",
        "Create a new list called nums_list2 that starts at one, ends at eleven, and increments by two by unpacking a range object using the star character (*).\n",
        "\n",
        "# Create a range object that goes from 0 to 5\n",
        "nums = range(6)\n",
        "print(type(nums))\n",
        "\n",
        "# Convert nums to a list\n",
        "nums_list = list(nums)\n",
        "print(nums_list)\n",
        "\n",
        "# Create a new list of odd numbers from 1 to 11 by unpacking a range object\n",
        "nums_list2 = [*range(1,12,2)]\n",
        "print(nums_list2)\n"
      ],
      "metadata": {
        "id": "lMLC1j-uxd1b"
      },
      "execution_count": null,
      "outputs": []
    },
    {
      "cell_type": "code",
      "source": [
        "Instructions\n",
        "100 XP\n",
        "Instead of using for i in range(len(names)), update the for loop to use i as the index variable and name as the iterator variable and use enumerate().\n",
        "Rewrite the previous for loop using enumerate() and list comprehension to create a new list, indexed_names_comp.\n",
        "Create another list (indexed_names_unpack) by using the star character (*) to unpack the enumerate object created from using enumerate() on names. This time, start the index for enumerate() at one instead of zero.\n",
        "\n",
        "\n",
        "# Rewrite the for loop to use enumerate\n",
        "indexed_names = []\n",
        "for i,name in enumerate(names):\n",
        "    index_name = (i,name)\n",
        "    indexed_names.append(index_name)\n",
        "print(indexed_names)\n",
        "\n",
        "# Rewrite the above for loop using list comprehension\n",
        "indexed_names_comp = [(i,name) for i,name in enumerate(names)]\n",
        "print(indexed_names_comp)\n",
        "\n",
        "# Unpack an enumerate object with a starting index of one\n",
        "indexed_names_unpack = [*enumerate(names, 1)]\n",
        "print(indexed_names_unpack)\n"
      ],
      "metadata": {
        "id": "HW5wxiYWxdyB"
      },
      "execution_count": null,
      "outputs": []
    },
    {
      "cell_type": "code",
      "source": [
        "Instructions\n",
        "100 XP\n",
        "Use map() and the method str.upper() to convert each name in the list names to uppercase. Save this to the variable names_map.\n",
        "Print the data type of names_map.\n",
        "Unpack the contents of names_map into a list called names_uppercase using the star character (*).\n",
        "Print names_uppercase and observe its contents.\n",
        "\n",
        "# Use map to apply str.upper to each element in names\n",
        "names_map  = map(str.upper, names)\n",
        "\n",
        "# Print the type of the names_map\n",
        "print(type(names_map))\n",
        "\n",
        "# Unpack names_map into a list\n",
        "names_uppercase = [*names_map]\n",
        "\n",
        "# Print the list created above\n",
        "print(names_uppercase)\n"
      ],
      "metadata": {
        "id": "k-EFLymdxdvj"
      },
      "execution_count": null,
      "outputs": []
    },
    {
      "cell_type": "code",
      "source": [
        "Instructions 1/2\n",
        "0 XP\n",
        "1\n",
        "2\n",
        "Print the second row of nums.\n",
        "Print the items of nums that are greater than six.\n",
        "Create nums_dbl that doubles each number in nums.\n",
        "Replace the third column in nums with a new column that adds 1 to each item in the original column.\n",
        "\n",
        "# Print second row of nums\n",
        "print(nums[1,:])\n",
        "\n",
        "# Print all elements of nums that are greater than six\n",
        "print(nums[nums > 6])\n",
        "\n",
        "# Double every element of nums\n",
        "nums_dbl = nums * 2\n",
        "print(nums_dbl)\n",
        "\n",
        "# Replace the third column of nums\n",
        "nums[:,2] = nums[:,2] + 1\n",
        "print(nums)\n"
      ],
      "metadata": {
        "id": "m8-hJjYGxdsz"
      },
      "execution_count": null,
      "outputs": []
    },
    {
      "cell_type": "code",
      "source": [
        "Use range() to create a list of arrival times (10 through 50 incremented by 10). Create the list arrival_times by unpacking the range object.\n",
        "\n",
        "# Create a list of arrival times\n",
        "arrival_times = [*range(10, 60, 10)]\n",
        "\n",
        "print(arrival_times)\n",
        "\n",
        "\n",
        "Instructions 2/4\n",
        "25 XP\n",
        "2\n",
        "3\n",
        "4\n",
        "You realize your clock is three minutes fast. Convert the arrival_times list into a numpy array (called arrival_times_np) and use NumPy broadcasting to subtract three minutes from each arrival time.\n",
        "\n",
        "# Create a list of arrival times\n",
        "arrival_times = [*range(10,60,10)]\n",
        "\n",
        "# Convert arrival_times to an array and update the times\n",
        "arrival_times_np = np.array(arrival_times)\n",
        "new_times = arrival_times_np - 3\n",
        "\n",
        "print(new_times)\n",
        "\n",
        "\n",
        "Instructions 3/4\n",
        "25 XP\n",
        "3\n",
        "4\n",
        "Use list comprehension with enumerate() to pair each guest in the names list to their updated arrival time in the new_times array. You'll need to use the index variable created from using enumerate() on new_times to index the names list.\n",
        "\n",
        "# Create a list of arrival times\n",
        "arrival_times = [*range(10,60,10)]\n",
        "\n",
        "# Convert arrival_times to an array and update the times\n",
        "arrival_times_np = np.array(arrival_times)\n",
        "new_times = arrival_times_np - 3\n",
        "\n",
        "# Use list comprehension and enumerate to pair guests to new times\n",
        "guest_arrivals = [(names[i],time) for i,time in enumerate(new_times)]\n",
        "\n",
        "print(guest_arrivals)\n",
        "\n",
        "\n",
        "Instructions 4/4\n",
        "25 XP\n",
        "4\n",
        "A function named welcome_guest() has been pre-loaded into your session. Use map() to apply this function to each element of the guest_arrivals list and save it as the variable welcome_map.\n",
        "\n",
        "# Create a list of arrival times\n",
        "arrival_times = [*range(10,60,10)]\n",
        "\n",
        "# Convert arrival_times to an array and update the times\n",
        "arrival_times_np = np.array(arrival_times)\n",
        "new_times = arrival_times_np - 3\n",
        "\n",
        "# Use list comprehension and enumerate to pair guests to new times\n",
        "guest_arrivals = [(names[i],time) for i,time in enumerate(new_times)]\n",
        "\n",
        "# Map the welcome_guest function to each (guest,time) pair\n",
        "welcome_map = map(welcome_guest, guest_arrivals)\n",
        "\n",
        "guest_welcomes = [*welcome_map]\n",
        "print(*guest_welcomes, sep='\\n')\n"
      ],
      "metadata": {
        "id": "gF8B9Ix4xdoU"
      },
      "execution_count": null,
      "outputs": []
    },
    {
      "cell_type": "code",
      "source": [
        "Instructions 1/3\n",
        "35 XP\n",
        "1\n",
        "2\n",
        "3\n",
        "Use list comprehension and range() to create a list of integers from 0 to 50 called nums_list_comp.\n",
        "\n",
        "# Create a list of integers (0-50) using list comprehension\n",
        "nums_list_comp = [num for num in range(51)]\n",
        "print(nums_list_comp)\n",
        "\n",
        "\n",
        "Instructions 2/3\n",
        "35 XP\n",
        "2\n",
        "3\n",
        "Use range() to create a list of integers from 0 to 50 and unpack its contents into a list called nums_unpack.\n",
        "\n",
        "# Create a list of integers (0-50) using list comprehension\n",
        "nums_list_comp = [num for num in range(51)]\n",
        "print(nums_list_comp)\n",
        "\n",
        "# Create a list of integers (0-50) by unpacking range\n",
        "nums_unpack = [*range(51)]\n",
        "print(nums_unpack)\n"
      ],
      "metadata": {
        "id": "lum9EMhfxdl3"
      },
      "execution_count": null,
      "outputs": []
    },
    {
      "cell_type": "code",
      "source": [
        "Instructions 1/3\n",
        "35 XP\n",
        "1\n",
        "2\n",
        "3\n",
        "Create an empty list called formal_list using the formal name (list()).\n",
        "Create an empty list called literal_list using the literal syntax ([]).\n",
        "\n",
        "# Create a list using the formal name\n",
        "formal_list = list()\n",
        "print(formal_list)\n",
        "\n",
        "# Create a list using the literal syntax\n",
        "literal_list = []\n",
        "print(literal_list)"
      ],
      "metadata": {
        "id": "cvntIJd0xdji"
      },
      "execution_count": null,
      "outputs": []
    },
    {
      "cell_type": "code",
      "source": [],
      "metadata": {
        "id": "xXq4C8xoxdhI"
      },
      "execution_count": null,
      "outputs": []
    },
    {
      "cell_type": "code",
      "source": [],
      "metadata": {
        "id": "xzg1vicfxdez"
      },
      "execution_count": null,
      "outputs": []
    },
    {
      "cell_type": "code",
      "source": [],
      "metadata": {
        "id": "OQGFqSWxxdcY"
      },
      "execution_count": null,
      "outputs": []
    },
    {
      "cell_type": "code",
      "source": [],
      "metadata": {
        "id": "Du7dz9HFxdZ2"
      },
      "execution_count": null,
      "outputs": []
    }
  ]
}