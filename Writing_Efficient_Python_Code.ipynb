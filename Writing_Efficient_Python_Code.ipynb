{
  "nbformat": 4,
  "nbformat_minor": 0,
  "metadata": {
    "colab": {
      "provenance": [],
      "authorship_tag": "ABX9TyPVjARB3Dl8LLJjOckGFAAL",
      "include_colab_link": true
    },
    "kernelspec": {
      "name": "python3",
      "display_name": "Python 3"
    },
    "language_info": {
      "name": "python"
    }
  },
  "cells": [
    {
      "cell_type": "markdown",
      "metadata": {
        "id": "view-in-github",
        "colab_type": "text"
      },
      "source": [
        "<a href=\"https://colab.research.google.com/github/lia07/DataCamp/blob/main/Writing_Efficient_Python_Code.ipynb\" target=\"_parent\"><img src=\"https://colab.research.google.com/assets/colab-badge.svg\" alt=\"Open In Colab\"/></a>"
      ]
    },
    {
      "cell_type": "code",
      "execution_count": null,
      "metadata": {
        "id": "e8OwjF6b37uJ"
      },
      "outputs": [],
      "source": [
        "Instructions 1/3\n",
        "35 XP\n",
        "1\n",
        "Print the list, new_list, that was created using a Non-Pythonic approach.\n",
        "\n",
        "\n",
        "# Print the list created using the Non-Pythonic approach\n",
        "i = 0\n",
        "new_list= []\n",
        "while i < len(names):\n",
        "    if len(names[i]) >= 6:\n",
        "        new_list.append(names[i])\n",
        "    i += 1\n",
        "print(new_list)\n",
        "\n",
        "\n",
        "\n",
        "A more Pythonic approach would loop over the contents of names, rather than using an index variable. Print better_list.\n",
        "\n",
        "# Print the list created by looping over the contents of names\n",
        "better_list = []\n",
        "for name in names:\n",
        "    if len(name) >= 6:\n",
        "        better_list.append(name)\n",
        "print(better_list)\n",
        "\n",
        "\n",
        "The best Pythonic way of doing this is by using list comprehension. Print best_list.\n",
        "\n",
        "# Print the list created by using list comprehension\n",
        "best_list = [name for name in names if len(name) >= 6]\n",
        "print(best_list)"
      ]
    },
    {
      "cell_type": "code",
      "source": [
        "Instructions\n",
        "100 XP\n",
        "Create a range object that starts at zero and ends at five. Only use a stop argument.\n",
        "Convert the nums variable into a list called nums_list.\n",
        "Create a new list called nums_list2 that starts at one, ends at eleven, and increments by two by unpacking a range object using the star character (*).\n",
        "\n",
        "# Create a range object that goes from 0 to 5\n",
        "nums = range(6)\n",
        "print(type(nums))\n",
        "\n",
        "# Convert nums to a list\n",
        "nums_list = list(nums)\n",
        "print(nums_list)\n",
        "\n",
        "# Create a new list of odd numbers from 1 to 11 by unpacking a range object\n",
        "nums_list2 = [*range(1,12,2)]\n",
        "print(nums_list2)\n"
      ],
      "metadata": {
        "id": "lMLC1j-uxd1b"
      },
      "execution_count": null,
      "outputs": []
    },
    {
      "cell_type": "code",
      "source": [
        "Instructions\n",
        "100 XP\n",
        "Instead of using for i in range(len(names)), update the for loop to use i as the index variable and name as the iterator variable and use enumerate().\n",
        "Rewrite the previous for loop using enumerate() and list comprehension to create a new list, indexed_names_comp.\n",
        "Create another list (indexed_names_unpack) by using the star character (*) to unpack the enumerate object created from using enumerate() on names. This time, start the index for enumerate() at one instead of zero.\n",
        "\n",
        "\n",
        "# Rewrite the for loop to use enumerate\n",
        "indexed_names = []\n",
        "for i,name in enumerate(names):\n",
        "    index_name = (i,name)\n",
        "    indexed_names.append(index_name)\n",
        "print(indexed_names)\n",
        "\n",
        "# Rewrite the above for loop using list comprehension\n",
        "indexed_names_comp = [(i,name) for i,name in enumerate(names)]\n",
        "print(indexed_names_comp)\n",
        "\n",
        "# Unpack an enumerate object with a starting index of one\n",
        "indexed_names_unpack = [*enumerate(names, 1)]\n",
        "print(indexed_names_unpack)\n"
      ],
      "metadata": {
        "id": "HW5wxiYWxdyB"
      },
      "execution_count": null,
      "outputs": []
    },
    {
      "cell_type": "code",
      "source": [
        "Instructions\n",
        "100 XP\n",
        "Use map() and the method str.upper() to convert each name in the list names to uppercase. Save this to the variable names_map.\n",
        "Print the data type of names_map.\n",
        "Unpack the contents of names_map into a list called names_uppercase using the star character (*).\n",
        "Print names_uppercase and observe its contents.\n",
        "\n",
        "# Use map to apply str.upper to each element in names\n",
        "names_map  = map(str.upper, names)\n",
        "\n",
        "# Print the type of the names_map\n",
        "print(type(names_map))\n",
        "\n",
        "# Unpack names_map into a list\n",
        "names_uppercase = [*names_map]\n",
        "\n",
        "# Print the list created above\n",
        "print(names_uppercase)\n"
      ],
      "metadata": {
        "id": "k-EFLymdxdvj"
      },
      "execution_count": null,
      "outputs": []
    },
    {
      "cell_type": "code",
      "source": [
        "Instructions 1/2\n",
        "0 XP\n",
        "1\n",
        "2\n",
        "Print the second row of nums.\n",
        "Print the items of nums that are greater than six.\n",
        "Create nums_dbl that doubles each number in nums.\n",
        "Replace the third column in nums with a new column that adds 1 to each item in the original column.\n",
        "\n",
        "# Print second row of nums\n",
        "print(nums[1,:])\n",
        "\n",
        "# Print all elements of nums that are greater than six\n",
        "print(nums[nums > 6])\n",
        "\n",
        "# Double every element of nums\n",
        "nums_dbl = nums * 2\n",
        "print(nums_dbl)\n",
        "\n",
        "# Replace the third column of nums\n",
        "nums[:,2] = nums[:,2] + 1\n",
        "print(nums)\n"
      ],
      "metadata": {
        "id": "m8-hJjYGxdsz"
      },
      "execution_count": null,
      "outputs": []
    },
    {
      "cell_type": "code",
      "source": [
        "Use range() to create a list of arrival times (10 through 50 incremented by 10). Create the list arrival_times by unpacking the range object.\n",
        "\n",
        "# Create a list of arrival times\n",
        "arrival_times = [*range(10, 60, 10)]\n",
        "\n",
        "print(arrival_times)\n",
        "\n",
        "\n",
        "Instructions 2/4\n",
        "25 XP\n",
        "2\n",
        "3\n",
        "4\n",
        "You realize your clock is three minutes fast. Convert the arrival_times list into a numpy array (called arrival_times_np) and use NumPy broadcasting to subtract three minutes from each arrival time.\n",
        "\n",
        "# Create a list of arrival times\n",
        "arrival_times = [*range(10,60,10)]\n",
        "\n",
        "# Convert arrival_times to an array and update the times\n",
        "arrival_times_np = np.array(arrival_times)\n",
        "new_times = arrival_times_np - 3\n",
        "\n",
        "print(new_times)\n",
        "\n",
        "\n",
        "Instructions 3/4\n",
        "25 XP\n",
        "3\n",
        "4\n",
        "Use list comprehension with enumerate() to pair each guest in the names list to their updated arrival time in the new_times array. You'll need to use the index variable created from using enumerate() on new_times to index the names list.\n",
        "\n",
        "# Create a list of arrival times\n",
        "arrival_times = [*range(10,60,10)]\n",
        "\n",
        "# Convert arrival_times to an array and update the times\n",
        "arrival_times_np = np.array(arrival_times)\n",
        "new_times = arrival_times_np - 3\n",
        "\n",
        "# Use list comprehension and enumerate to pair guests to new times\n",
        "guest_arrivals = [(names[i],time) for i,time in enumerate(new_times)]\n",
        "\n",
        "print(guest_arrivals)\n",
        "\n",
        "\n",
        "Instructions 4/4\n",
        "25 XP\n",
        "4\n",
        "A function named welcome_guest() has been pre-loaded into your session. Use map() to apply this function to each element of the guest_arrivals list and save it as the variable welcome_map.\n",
        "\n",
        "# Create a list of arrival times\n",
        "arrival_times = [*range(10,60,10)]\n",
        "\n",
        "# Convert arrival_times to an array and update the times\n",
        "arrival_times_np = np.array(arrival_times)\n",
        "new_times = arrival_times_np - 3\n",
        "\n",
        "# Use list comprehension and enumerate to pair guests to new times\n",
        "guest_arrivals = [(names[i],time) for i,time in enumerate(new_times)]\n",
        "\n",
        "# Map the welcome_guest function to each (guest,time) pair\n",
        "welcome_map = map(welcome_guest, guest_arrivals)\n",
        "\n",
        "guest_welcomes = [*welcome_map]\n",
        "print(*guest_welcomes, sep='\\n')\n"
      ],
      "metadata": {
        "id": "gF8B9Ix4xdoU"
      },
      "execution_count": null,
      "outputs": []
    },
    {
      "cell_type": "code",
      "source": [
        "Instructions 1/3\n",
        "35 XP\n",
        "1\n",
        "2\n",
        "3\n",
        "Use list comprehension and range() to create a list of integers from 0 to 50 called nums_list_comp.\n",
        "\n",
        "# Create a list of integers (0-50) using list comprehension\n",
        "nums_list_comp = [num for num in range(51)]\n",
        "print(nums_list_comp)\n",
        "\n",
        "\n",
        "Instructions 2/3\n",
        "35 XP\n",
        "2\n",
        "3\n",
        "Use range() to create a list of integers from 0 to 50 and unpack its contents into a list called nums_unpack.\n",
        "\n",
        "# Create a list of integers (0-50) using list comprehension\n",
        "nums_list_comp = [num for num in range(51)]\n",
        "print(nums_list_comp)\n",
        "\n",
        "# Create a list of integers (0-50) by unpacking range\n",
        "nums_unpack = [*range(51)]\n",
        "print(nums_unpack)\n"
      ],
      "metadata": {
        "id": "lum9EMhfxdl3"
      },
      "execution_count": null,
      "outputs": []
    },
    {
      "cell_type": "code",
      "source": [
        "Instructions 1/3\n",
        "35 XP\n",
        "1\n",
        "2\n",
        "3\n",
        "Create an empty list called formal_list using the formal name (list()).\n",
        "Create an empty list called literal_list using the literal syntax ([]).\n",
        "\n",
        "# Create a list using the formal name\n",
        "formal_list = list()\n",
        "print(formal_list)\n",
        "\n",
        "# Create a list using the literal syntax\n",
        "literal_list = []\n",
        "print(literal_list)"
      ],
      "metadata": {
        "id": "cvntIJd0xdji"
      },
      "execution_count": null,
      "outputs": []
    },
    {
      "cell_type": "code",
      "source": [
        "Instructions 2/3\n",
        "35 XP\n",
        "2\n",
        "3\n",
        "Print out the type of formal_list and literal_list to show that both naming conventions create a list.\n",
        "\n",
        "Instructions 1/4\n",
        "1 XP\n",
        "1\n",
        "2\n",
        "3\n",
        "4\n",
        "Use the get_publisher_heroes() function and the get_publisher_heroes_np() function to collect heroes from the Star Wars universe. The desired_publisher for Star Wars is 'George Lucas'.\n",
        "\n",
        "# Use get_publisher_heroes() to gather Star Wars heroes\n",
        "star_wars_heroes = get_publisher_heroes(heroes, publishers, 'George Lucas')\n",
        "\n",
        "print(star_wars_heroes)\n",
        "print(type(star_wars_heroes))\n",
        "\n",
        "# Use get_publisher_heroes_np() to gather Star Wars heroes\n",
        "star_wars_heroes_np = get_publisher_heroes_np(heroes, publishers, 'George Lucas')\n",
        "\n",
        "print(star_wars_heroes_np)\n",
        "print(type(star_wars_heroes_np))\n"
      ],
      "metadata": {
        "id": "xXq4C8xoxdhI"
      },
      "execution_count": null,
      "outputs": []
    },
    {
      "cell_type": "code",
      "source": [
        "Combine the names list and the primary_types list into a new list object (called names_type1).\n",
        "\n",
        "# Combine names and primary_types\n",
        "names_type1 = [*zip(names, primary_types)]\n",
        "\n",
        "print(*names_type1[:5], sep='\\n')\n",
        "\n",
        "\n",
        "Combine names, primary_types, and secondary_types (in that order) using zip() and unpack the zip object into a new list.\n",
        "\n",
        "# Combine all three lists together\n",
        "names_types = [*zip(names, primary_types, secondary_types)]\n",
        "\n",
        "print(*names_types[:5], sep='\\n')\n",
        "\n",
        "\n",
        "Use zip() to combine the first five items from the names list and the first three items from the primary_types list.\n",
        "\n",
        "# Combine five items from names and three items from primary_types\n",
        "differing_lengths = [*zip(names[:5], primary_types[:3])]\n",
        "\n",
        "print(*differing_lengths, sep='\\n')"
      ],
      "metadata": {
        "id": "xzg1vicfxdez"
      },
      "execution_count": null,
      "outputs": []
    },
    {
      "cell_type": "code",
      "source": [
        "Instructions\n",
        "100 XP\n",
        "Collect the count of each primary type from the sample.\n",
        "Collect the count of each generation from the sample.\n",
        "Use list comprehension to collect the first letter of each Pokémon in the names list. Save this as starting_letters.\n",
        "Collect the count of starting letters from the starting_letters list. Save this as starting_letters_count.\n",
        "\n",
        "\n",
        "# Collect the count of primary types\n",
        "type_count = Counter(primary_types)\n",
        "print(type_count, '\\n')\n",
        "\n",
        "# Collect the count of generations\n",
        "gen_count = Counter(generations)\n",
        "print(gen_count, '\\n')\n",
        "\n",
        "# Use list comprehension to get each Pokémon's starting letter\n",
        "starting_letters = [name[0] for name in names]\n",
        "\n",
        "# Collect the count of Pokémon for each starting_letter\n",
        "starting_letters_count = Counter(starting_letters)\n",
        "print(starting_letters_count)"
      ],
      "metadata": {
        "id": "Icpq_cYUqKxG"
      },
      "execution_count": null,
      "outputs": []
    },
    {
      "cell_type": "code",
      "source": [
        "Instructions\n",
        "100 XP\n",
        "Import combinations from itertools.\n",
        "Create a combinations object called combos_obj that contains all possible pairs of Pokémon from the pokemon list. A pair has 2 Pokémon.\n",
        "Unpack combos_obj into a list called combos_2.\n",
        "Ash upgraded his Pokédex so that it can now store four Pokémon. Use combinations to collect all possible combinations of 4 different Pokémon. Save these combinations directly into a list called combos_4 using the star character (*).\n",
        "\n",
        "\n",
        "\n",
        "# Import combinations from itertools\n",
        "from itertools import combinations\n",
        "\n",
        "# Create a combination object with pairs of Pokémon\n",
        "combos_obj = combinations(pokemon, 2)\n",
        "print(type(combos_obj), '\\n')\n",
        "\n",
        "# Convert combos_obj to a list by unpacking\n",
        "combos_2 = [*combos_obj]\n",
        "print(combos_2, '\\n')\n",
        "\n",
        "# Collect all possible combinations of 4 Pokémon directly into a list\n",
        "combos_4 = [*combinations(pokemon, 4)]\n",
        "print(combos_4)"
      ],
      "metadata": {
        "id": "lf0DZk2zqKr5"
      },
      "execution_count": null,
      "outputs": []
    },
    {
      "cell_type": "code",
      "source": [
        "Instructions\n",
        "100 XP\n",
        "Convert both lists (ash_pokedex and misty_pokedex) to sets called ash_set and misty_set respectively.\n",
        "Find the Pokémon that both Ash and Misty have in common using a set method.\n",
        "Find the Pokémon that are within Ash's Pokédex but are not within Misty's Pokédex with a set method.\n",
        "Use a set method to find the Pokémon that are unique to either Ash or Misty (i.e., the Pokémon that exist in exactly one of the Pokédexes but not both).\n",
        "\n",
        "# Convert both lists to sets\n",
        "ash_set = set(ash_pokedex)\n",
        "misty_set = set(misty_pokedex)\n",
        "\n",
        "# Find the Pokémon that exist in both sets\n",
        "both = ash_set.intersection(misty_set)\n",
        "print(both)\n",
        "\n",
        "# Find the Pokémon that Ash has, and Misty does not have\n",
        "ash_only = ash_set.difference(misty_set)\n",
        "print(ash_only)\n",
        "\n",
        "# Find the Pokémon that are in only one set (not both)\n",
        "unique_to_set = ash_set.symmetric_difference(misty_set)\n",
        "print(unique_to_set)\n"
      ],
      "metadata": {
        "id": "6zCmsVpWqKog"
      },
      "execution_count": null,
      "outputs": []
    },
    {
      "cell_type": "code",
      "source": [
        "Instructions 1/4\n",
        "25 XP\n",
        "1\n",
        "2\n",
        "3\n",
        "4\n",
        "Convert Brock's Pokédex list (brock_pokedex) to a set called brock_pokedex_set.\n",
        "\n",
        "# Convert Brock's Pokédex to a set\n",
        "brock_pokedex_set = set(brock_pokedex)\n",
        "print(brock_pokedex_set)\n",
        "\n",
        "Instructions 2/4\n",
        "25 XP\n",
        "2\n",
        "3\n",
        "4\n",
        "Check if 'Psyduck' is in Ash's Pokédex list (ash_pokedex) and if 'Psyduck' is in Brock's Pokédex set (brock_pokedex_set).\n",
        "\n",
        "# Convert Brock's Pokédex to a set\n",
        "brock_pokedex_set = set(brock_pokedex)\n",
        "print(brock_pokedex_set)\n",
        "\n",
        "# Check if Psyduck is in Ash's list and Brock's set\n",
        "print('Psyduck' in ash_pokedex)\n",
        "print('Psyduck' in brock_pokedex_set)\n",
        "\n",
        "Instructions 3/4\n",
        "25 XP\n",
        "3\n",
        "4\n",
        "Check if 'Machop' is in Ash's Pokédex list (ash_pokedex) and if 'Machop' is in Brock's Pokédex set (brock_pokedex_set).\n",
        "\n",
        "# Convert Brock's Pokédex to a set\n",
        "brock_pokedex_set = set(brock_pokedex)\n",
        "print(brock_pokedex_set)\n",
        "\n",
        "# Check if Psyduck is in Ash's list and Brock's set\n",
        "print('Psyduck' in ash_pokedex)\n",
        "print('Psyduck' in brock_pokedex_set)\n",
        "\n",
        "# Check if Machop is in Ash's list and Brock's set\n",
        "print(ash_pokedex)\n",
        "print(brock_pokedex_set)\n",
        "\n"
      ],
      "metadata": {
        "id": "OQGFqSWxxdcY"
      },
      "execution_count": null,
      "outputs": []
    },
    {
      "cell_type": "code",
      "source": [
        "Instructions 1/4\n",
        "25 XP\n",
        "1\n",
        "2\n",
        "3\n",
        "4\n",
        "Use the provided function to collect the unique Pokémon in the names list. Save this as uniq_names_func.\n",
        "\n",
        "# Use the provided function to collect unique Pokémon names\n",
        "uniq_names_func = find_unique_items(names)\n",
        "print(len(uniq_names_func))\n",
        "\n",
        "\n",
        "Instructions 2/4\n",
        "25 XP\n",
        "2\n",
        "3\n",
        "4\n",
        "Use a set data type to collect the unique Pokémon in the names list. Save this as uniq_names_set.\n",
        "\n",
        "# Use find_unique_items() to collect unique Pokémon names\n",
        "uniq_names_func = find_unique_items(names)\n",
        "print(len(uniq_names_func))\n",
        "\n",
        "# Convert the names list to a set to collect unique Pokémon names\n",
        "uniq_names_set = set(names)\n",
        "print(len(uniq_names_set))\n",
        "\n",
        "# Check that both unique collections are equivalent\n",
        "print(sorted(uniq_names_func) == sorted(uniq_names_set))\n",
        "\n",
        "\n",
        "Instructions 4/4\n",
        "25 XP\n",
        "4\n",
        "Use the most efficient approach for gathering unique items to collect the unique Pokémon types (from the primary_types list) and Pokémon generations (from the generations list).\n",
        "\n",
        "# Use find_unique_items() to collect unique Pokémon names\n",
        "uniq_names_func = find_unique_items(names)\n",
        "print(len(uniq_names_func))\n",
        "\n",
        "# Convert the names list to a set to collect unique Pokémon names\n",
        "uniq_names_set = set(names)\n",
        "print(len(uniq_names_set))\n",
        "\n",
        "# Check that both unique collections are equivalent\n",
        "print(sorted(uniq_names_func) == sorted(uniq_names_set))\n",
        "\n",
        "# Use the best approach to collect unique primary types and generations\n",
        "uniq_types = set(primary_types)\n",
        "uniq_gens = set(generations)\n",
        "print(uniq_types, uniq_gens, sep='\\n')\n"
      ],
      "metadata": {
        "id": "81QdHX15BUX6"
      },
      "execution_count": null,
      "outputs": []
    },
    {
      "cell_type": "code",
      "source": [],
      "metadata": {
        "id": "TjHeRwrABUUs"
      },
      "execution_count": null,
      "outputs": []
    },
    {
      "cell_type": "code",
      "source": [],
      "metadata": {
        "id": "loA3CSsMBUSK"
      },
      "execution_count": null,
      "outputs": []
    },
    {
      "cell_type": "code",
      "source": [],
      "metadata": {
        "id": "dFk712g1BUPc"
      },
      "execution_count": null,
      "outputs": []
    },
    {
      "cell_type": "code",
      "source": [],
      "metadata": {
        "id": "pL7HMiBSBUM-"
      },
      "execution_count": null,
      "outputs": []
    },
    {
      "cell_type": "code",
      "source": [],
      "metadata": {
        "id": "Kq9Qw6pxBUKT"
      },
      "execution_count": null,
      "outputs": []
    },
    {
      "cell_type": "code",
      "source": [],
      "metadata": {
        "id": "Du7dz9HFxdZ2"
      },
      "execution_count": null,
      "outputs": []
    }
  ]
}