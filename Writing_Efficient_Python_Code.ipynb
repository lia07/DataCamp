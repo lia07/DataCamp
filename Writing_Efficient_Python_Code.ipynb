{
  "nbformat": 4,
  "nbformat_minor": 0,
  "metadata": {
    "colab": {
      "provenance": [],
      "authorship_tag": "ABX9TyMjj7xDxYHmGJRaE3g3F6xr",
      "include_colab_link": true
    },
    "kernelspec": {
      "name": "python3",
      "display_name": "Python 3"
    },
    "language_info": {
      "name": "python"
    }
  },
  "cells": [
    {
      "cell_type": "markdown",
      "metadata": {
        "id": "view-in-github",
        "colab_type": "text"
      },
      "source": [
        "<a href=\"https://colab.research.google.com/github/lia07/DataCamp/blob/main/Writing_Efficient_Python_Code.ipynb\" target=\"_parent\"><img src=\"https://colab.research.google.com/assets/colab-badge.svg\" alt=\"Open In Colab\"/></a>"
      ]
    },
    {
      "cell_type": "code",
      "execution_count": null,
      "metadata": {
        "id": "e8OwjF6b37uJ"
      },
      "outputs": [],
      "source": [
        "Instructions 1/3\n",
        "35 XP\n",
        "1\n",
        "Print the list, new_list, that was created using a Non-Pythonic approach.\n",
        "\n",
        "\n",
        "# Print the list created using the Non-Pythonic approach\n",
        "i = 0\n",
        "new_list= []\n",
        "while i < len(names):\n",
        "    if len(names[i]) >= 6:\n",
        "        new_list.append(names[i])\n",
        "    i += 1\n",
        "print(new_list)\n",
        "\n",
        "\n",
        "\n",
        "A more Pythonic approach would loop over the contents of names, rather than using an index variable. Print better_list.\n",
        "\n",
        "# Print the list created by looping over the contents of names\n",
        "better_list = []\n",
        "for name in names:\n",
        "    if len(name) >= 6:\n",
        "        better_list.append(name)\n",
        "print(better_list)\n",
        "\n",
        "\n",
        "The best Pythonic way of doing this is by using list comprehension. Print best_list.\n",
        "\n",
        "# Print the list created by using list comprehension\n",
        "best_list = [name for name in names if len(name) >= 6]\n",
        "print(best_list)"
      ]
    },
    {
      "cell_type": "code",
      "source": [
        "Instructions\n",
        "100 XP\n",
        "Create a range object that starts at zero and ends at five. Only use a stop argument.\n",
        "Convert the nums variable into a list called nums_list.\n",
        "Create a new list called nums_list2 that starts at one, ends at eleven, and increments by two by unpacking a range object using the star character (*).\n",
        "\n",
        "# Create a range object that goes from 0 to 5\n",
        "nums = range(6)\n",
        "print(type(nums))\n",
        "\n",
        "# Convert nums to a list\n",
        "nums_list = list(nums)\n",
        "print(nums_list)\n",
        "\n",
        "# Create a new list of odd numbers from 1 to 11 by unpacking a range object\n",
        "nums_list2 = [*range(1,12,2)]\n",
        "print(nums_list2)\n"
      ],
      "metadata": {
        "id": "lMLC1j-uxd1b"
      },
      "execution_count": null,
      "outputs": []
    },
    {
      "cell_type": "code",
      "source": [
        "Instructions\n",
        "100 XP\n",
        "Instead of using for i in range(len(names)), update the for loop to use i as the index variable and name as the iterator variable and use enumerate().\n",
        "Rewrite the previous for loop using enumerate() and list comprehension to create a new list, indexed_names_comp.\n",
        "Create another list (indexed_names_unpack) by using the star character (*) to unpack the enumerate object created from using enumerate() on names. This time, start the index for enumerate() at one instead of zero.\n",
        "\n",
        "\n",
        "# Rewrite the for loop to use enumerate\n",
        "indexed_names = []\n",
        "for i,name in enumerate(names):\n",
        "    index_name = (i,name)\n",
        "    indexed_names.append(index_name)\n",
        "print(indexed_names)\n",
        "\n",
        "# Rewrite the above for loop using list comprehension\n",
        "indexed_names_comp = [(i,name) for i,name in enumerate(names)]\n",
        "print(indexed_names_comp)\n",
        "\n",
        "# Unpack an enumerate object with a starting index of one\n",
        "indexed_names_unpack = [*enumerate(names, 1)]\n",
        "print(indexed_names_unpack)\n"
      ],
      "metadata": {
        "id": "HW5wxiYWxdyB"
      },
      "execution_count": null,
      "outputs": []
    },
    {
      "cell_type": "code",
      "source": [
        "Instructions\n",
        "100 XP\n",
        "Use map() and the method str.upper() to convert each name in the list names to uppercase. Save this to the variable names_map.\n",
        "Print the data type of names_map.\n",
        "Unpack the contents of names_map into a list called names_uppercase using the star character (*).\n",
        "Print names_uppercase and observe its contents.\n",
        "\n",
        "# Use map to apply str.upper to each element in names\n",
        "names_map  = map(str.upper, names)\n",
        "\n",
        "# Print the type of the names_map\n",
        "print(type(names_map))\n",
        "\n",
        "# Unpack names_map into a list\n",
        "names_uppercase = [*names_map]\n",
        "\n",
        "# Print the list created above\n",
        "print(names_uppercase)\n"
      ],
      "metadata": {
        "id": "k-EFLymdxdvj"
      },
      "execution_count": null,
      "outputs": []
    },
    {
      "cell_type": "code",
      "source": [],
      "metadata": {
        "id": "m8-hJjYGxdsz"
      },
      "execution_count": null,
      "outputs": []
    },
    {
      "cell_type": "code",
      "source": [],
      "metadata": {
        "id": "gF8B9Ix4xdoU"
      },
      "execution_count": null,
      "outputs": []
    },
    {
      "cell_type": "code",
      "source": [],
      "metadata": {
        "id": "lum9EMhfxdl3"
      },
      "execution_count": null,
      "outputs": []
    },
    {
      "cell_type": "code",
      "source": [],
      "metadata": {
        "id": "cvntIJd0xdji"
      },
      "execution_count": null,
      "outputs": []
    },
    {
      "cell_type": "code",
      "source": [],
      "metadata": {
        "id": "xXq4C8xoxdhI"
      },
      "execution_count": null,
      "outputs": []
    },
    {
      "cell_type": "code",
      "source": [],
      "metadata": {
        "id": "xzg1vicfxdez"
      },
      "execution_count": null,
      "outputs": []
    },
    {
      "cell_type": "code",
      "source": [],
      "metadata": {
        "id": "OQGFqSWxxdcY"
      },
      "execution_count": null,
      "outputs": []
    },
    {
      "cell_type": "code",
      "source": [],
      "metadata": {
        "id": "Du7dz9HFxdZ2"
      },
      "execution_count": null,
      "outputs": []
    }
  ]
}