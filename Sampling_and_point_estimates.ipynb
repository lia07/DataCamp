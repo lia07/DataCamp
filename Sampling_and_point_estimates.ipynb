{
  "nbformat": 4,
  "nbformat_minor": 0,
  "metadata": {
    "colab": {
      "provenance": [],
      "authorship_tag": "ABX9TyN1NXRuB0UzVyJOJnyFh+rc",
      "include_colab_link": true
    },
    "kernelspec": {
      "name": "python3",
      "display_name": "Python 3"
    },
    "language_info": {
      "name": "python"
    }
  },
  "cells": [
    {
      "cell_type": "markdown",
      "metadata": {
        "id": "view-in-github",
        "colab_type": "text"
      },
      "source": [
        "<a href=\"https://colab.research.google.com/github/lia07/DataCamp/blob/main/Sampling_and_point_estimates.ipynb\" target=\"_parent\"><img src=\"https://colab.research.google.com/assets/colab-badge.svg\" alt=\"Open In Colab\"/></a>"
      ]
    },
    {
      "cell_type": "code",
      "execution_count": null,
      "metadata": {
        "id": "XvQEoXQzf2tr"
      },
      "outputs": [],
      "source": [
        "Instructions 1/2\n",
        "50 XP\n",
        "1\n",
        "2\n",
        "Sample 1000 rows from spotify_population, assigning to spotify_sample.\n",
        "\n",
        "# Sample 1000 rows from spotify_population\n",
        "spotify_sample = spotify_population.sample(n=1000)\n",
        "\n",
        "# Print the sample\n",
        "print(spotify_sample)\n",
        "\n",
        "\n",
        "Instructions 2/2\n",
        "50 XP\n",
        "2\n",
        "Calculate the mean duration in minutes from spotify_population using pandas.\n",
        "Calculate the mean duration in minutes from spotify_sample using pandas.\n",
        "\n",
        "# Sample 1000 rows from spotify_population\n",
        "spotify_sample = spotify_population.sample(n=1000)\n",
        "\n",
        "# Print the sample\n",
        "print(spotify_sample)\n",
        "\n",
        "# Calculate the mean duration in mins from spotify_population\n",
        "mean_dur_pop = spotify_population[\"duration_minutes\"].mean()\n",
        "\n",
        "# Calculate the mean duration in mins from spotify_sample\n",
        "mean_dur_samp = spotify_sample[\"duration_minutes\"].mean()\n",
        "\n",
        "# Print the means\n",
        "print(mean_dur_pop)\n",
        "print(mean_dur_samp)"
      ]
    },
    {
      "cell_type": "code",
      "source": [
        "Instructions 1/2\n",
        "50 XP\n",
        "1\n",
        "2\n",
        "Create a pandas Series, loudness_pop, by subsetting the loudness column from spotify_population.\n",
        "Sample loudness_pop to get 100 random values, assigning to loudness_samp.\n",
        "\n",
        "# Create a pandas Series from the loudness column of spotify_population\n",
        "loudness_pop = spotify_population['loudness']\n",
        "\n",
        "# Sample 100 values of loudness_pop\n",
        "loudness_samp = loudness_pop.sample(n=100)\n",
        "\n",
        "# Print the sample\n",
        "print(loudness_samp)\n",
        "\n",
        "\n",
        "Instructions 2/2\n",
        "50 XP\n",
        "2\n",
        "Calculate the mean of loudness_pop using numpy.\n",
        "Calculate the mean of loudness_samp using numpy.\n",
        "\n",
        "\n",
        "# Create a pandas Series from the loudness column of spotify_population\n",
        "loudness_pop = spotify_population['loudness']\n",
        "\n",
        "# Sample 100 values of loudness_pop\n",
        "loudness_samp = loudness_pop.sample(n=100)\n",
        "\n",
        "# Calculate the mean of loudness_pop\n",
        "mean_loudness_pop = np.mean(loudness_pop)\n",
        "\n",
        "# Calculate the mean of loudness_samp\n",
        "mean_loudness_samp = np.mean(loudness_samp)\n",
        "\n",
        "# Print the means\n",
        "print(mean_loudness_pop)\n",
        "print(mean_loudness_samp)"
      ],
      "metadata": {
        "id": "jeXW2Fr0htJI"
      },
      "execution_count": null,
      "outputs": []
    },
    {
      "cell_type": "code",
      "source": [
        "Instructions 1/3\n",
        "35 XP\n",
        "1\n",
        "2\n",
        "3\n",
        "Plot a histogram of the acousticness from spotify_population with bins of width 0.01 from 0 to 1 using pandas .hist().\n",
        "\n",
        "# Visualize the distribution of acousticness with a histogram\n",
        "spotify_population['acousticness'].hist(bins=np.arange(0, 1.01, 0.01))\n",
        "plt.show()\n",
        "\n",
        "\n",
        "Instructions 2/3\n",
        "35 XP\n",
        "2\n",
        "3\n",
        "Update the histogram code to use the spotify_mysterious_sample dataset.\n",
        "\n",
        "# Update the histogram to use spotify_mysterious_sample\n",
        "spotify_mysterious_sample['acousticness'].hist(bins=np.arange(0, 1.01, 0.01))\n",
        "plt.show()\n",
        "\n"
      ],
      "metadata": {
        "id": "HUbnrc90lZc6"
      },
      "execution_count": null,
      "outputs": []
    },
    {
      "cell_type": "code",
      "source": [
        "Instructions 1/3\n",
        "35 XP\n",
        "1\n",
        "2\n",
        "3\n",
        "Plot a histogram of duration_minutes from spotify_population with bins of width 0.5 from 0 to 15 using pandas .hist().\n",
        "\n",
        "# Visualize the distribution of duration_minutes as a histogram\n",
        "spotify_population['duration_minutes'].hist(bins=np.arange(0, 15.5, 0.5))\n",
        "plt.show()\n",
        "\n",
        "Instructions 2/3\n",
        "35 XP\n",
        "2\n",
        "3\n",
        "Update the histogram code to use the spotify_mysterious_sample2 dataset.\n",
        "\n",
        "# Update the histogram to use spotify_mysterious_sample2\n",
        "spotify_mysterious_sample2['duration_minutes'].hist(bins=np.arange(0, 15.5, 0.5))\n",
        "plt.show()\n",
        "\n"
      ],
      "metadata": {
        "id": "t1uR1L4_51zG"
      },
      "execution_count": null,
      "outputs": []
    }
  ]
}