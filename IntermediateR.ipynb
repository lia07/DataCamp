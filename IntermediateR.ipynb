{
  "nbformat": 4,
  "nbformat_minor": 0,
  "metadata": {
    "colab": {
      "name": "IntermediateR.ipynb",
      "provenance": [],
      "authorship_tag": "ABX9TyP7OFd8OTHFaSJFyiX67bEY",
      "include_colab_link": true
    },
    "kernelspec": {
      "name": "python3",
      "display_name": "Python 3"
    },
    "language_info": {
      "name": "python"
    }
  },
  "cells": [
    {
      "cell_type": "markdown",
      "metadata": {
        "id": "view-in-github",
        "colab_type": "text"
      },
      "source": [
        "<a href=\"https://colab.research.google.com/github/lia07/DataCamp/blob/main/IntermediateR.ipynb\" target=\"_parent\"><img src=\"https://colab.research.google.com/assets/colab-badge.svg\" alt=\"Open In Colab\"/></a>"
      ]
    },
    {
      "cell_type": "markdown",
      "source": [
        "Relational Operators"
      ],
      "metadata": {
        "id": "ZlNBGH4pt7-X"
      }
    },
    {
      "cell_type": "code",
      "source": [
        "Instructions\n",
        "100 XP\n",
        "In the editor on the right, write R code to see if TRUE equals FALSE.\n",
        "Likewise, check if -6 * 14 is not equal to 17 - 101.\n",
        "Next up: comparison of character strings. Ask R whether the strings \"useR\" and \"user\" are equal.\n",
        "Finally, find out what happens if you compare logicals to numerics: are TRUE and 1 equal?\n",
        "\n",
        "\n",
        "# Comparison of logicals\n",
        "TRUE == FALSE\n",
        "\n",
        "# Comparison of numerics\n",
        "-6 * 14 != 17 - 101\n",
        "\n",
        "# Comparison of character strings\n",
        "\"useR\" == \"user\"\n",
        "\n",
        "# Compare a logical with a numeric\n",
        "TRUE == 1\n"
      ],
      "metadata": {
        "id": "MP_c1QTst9eJ"
      },
      "execution_count": null,
      "outputs": []
    },
    {
      "cell_type": "code",
      "source": [
        "Instructions\n",
        "100 XP\n",
        "Write R expressions to check whether:\n",
        "\n",
        "-6 * 5 + 2 is greater than or equal to -10 + 1.\n",
        "\"raining\" is less than or equal to \"raining dogs\".\n",
        "TRUE is greater than FALSE.\n",
        "\n",
        "\n",
        "# Comparison of numerics\n",
        "-6 * 5 + 2 >= -10 + 1\n",
        "\n",
        "# Comparison of character strings\n",
        "\"raining\" <= \"raining dogs\"\n",
        "\n",
        "# Comparison of logicals\n",
        "TRUE > FALSE\n",
        "\n"
      ],
      "metadata": {
        "id": "sIdODOMwt-Dv"
      },
      "execution_count": null,
      "outputs": []
    },
    {
      "cell_type": "code",
      "source": [
        "Instructions\n",
        "100 XP\n",
        "Using relational operators, find a logical answer, i.e. TRUE or FALSE, for the following questions:\n",
        "\n",
        "On which days did the number of LinkedIn profile views exceed 15?\n",
        "When was your LinkedIn profile viewed only 5 times or fewer?\n",
        "When was your LinkedIn profile visited more often than your Facebook profile?\n",
        "\n",
        "\n",
        "# The linkedin and facebook vectors have already been created for you\n",
        "linkedin <- c(16, 9, 13, 5, 2, 17, 14)\n",
        "facebook <- c(17, 7, 5, 16, 8, 13, 14)\n",
        "\n",
        "# Popular days\n",
        "linkedin > 15\n",
        "\n",
        "# Quiet days\n",
        "linkedin <= 5\n",
        "\n",
        "# LinkedIn more popular than Facebook\n",
        "linkedin > facebook"
      ],
      "metadata": {
        "id": "8uTSPp4eATRl"
      },
      "execution_count": null,
      "outputs": []
    },
    {
      "cell_type": "code",
      "source": [
        "Instructions\n",
        "100 XP\n",
        "Using the relational operators you've learned so far, try to discover the following:\n",
        "\n",
        "When were the views exactly equal to 13? Use the views matrix to return a logical matrix.\n",
        "For which days were the number of views less than or equal to 14? Again, have R return a logical matrix.\n",
        "\n",
        "# The social data has been created for you\n",
        "linkedin <- c(16, 9, 13, 5, 2, 17, 14)\n",
        "facebook <- c(17, 7, 5, 16, 8, 13, 14)\n",
        "views <- matrix(c(linkedin, facebook), nrow = 2, byrow = TRUE)\n",
        "\n",
        "# When does views equal 13?\n",
        "views == 13\n",
        "\n",
        "# When is views less than or equal to 14?\n",
        "views <= 14\n"
      ],
      "metadata": {
        "id": "38E0J4ZQATNk"
      },
      "execution_count": null,
      "outputs": []
    },
    {
      "cell_type": "code",
      "source": [
        "Write R expressions to solve the following questions concerning the variable last:\n",
        "\n",
        "Is last under 5 or above 10?\n",
        "Is last between 15 and 20, excluding 15 but including 20?\n",
        "\n",
        "# The linkedin and last variable are already defined for you\n",
        "linkedin <- c(16, 9, 13, 5, 2, 17, 14)\n",
        "last <- tail(linkedin, 1)\n",
        "\n",
        "# Is last under 5 or above 10?\n",
        "last < 5 | last > 10\n",
        "\n",
        "# Is last between 15 (exclusive) and 20 (inclusive)?\n",
        "last > 15 & last <= 20\n"
      ],
      "metadata": {
        "id": "rlbguxIKATKO"
      },
      "execution_count": null,
      "outputs": []
    },
    {
      "cell_type": "code",
      "source": [
        "Instructions\n",
        "100 XP\n",
        "When did LinkedIn views exceed 10 and did Facebook views fail to reach 10 for a particular day? Use the linkedin and facebook vectors.\n",
        "When were one or both of your LinkedIn and Facebook profiles visited at least 12 times?\n",
        "When is the views matrix equal to a number between 11 and 14, excluding 11 and including 14?\n",
        "\n",
        "\n",
        "# The social data (linkedin, facebook, views) has been created for you\n",
        "\n",
        "# linkedin exceeds 10 but facebook below 10\n",
        "linkedin > 10 & facebook < 10\n",
        "\n",
        "# When were one or both visited at least 12 times?\n",
        "linkedin >= 12 | facebook >= 12\n",
        "\n",
        "# When is views between 11 (exclusive) and 14 (inclusive)?\n",
        "views > 11 & views <= 14"
      ],
      "metadata": {
        "id": "0EZkgw6IATGK"
      },
      "execution_count": null,
      "outputs": []
    },
    {
      "cell_type": "code",
      "source": [
        "Instructions\n",
        "100 XP\n",
        "Select the entire second column, named day2, from the li_df data frame as a vector and assign it to second.\n",
        "Use second to create a logical vector, that contains TRUE if the corresponding number of views is strictly greater than 25 or strictly lower than 5 and FALSE otherwise. Store this logical vector as extremes.\n",
        "Use sum() on the extremes vector to calculate the number of TRUEs in extremes (i.e. to calculate the number of employees that are either very popular or very low-profile). Simply print this number to the console.\n",
        "\n",
        "\n",
        "# li_df is pre-loaded in your workspace\n",
        "\n",
        "# Select the second column, named day2, from li_df: second\n",
        "second <- li_df$day2\n",
        "\n",
        "# Build a logical vector, TRUE if value in second is extreme: extremes\n",
        "extremes <- second > 25 | second < 5\n",
        "\n",
        "# Count the number of TRUEs in extremes\n",
        "sum(extremes)\n"
      ],
      "metadata": {
        "id": "hq-4FXM6eyO1"
      },
      "execution_count": null,
      "outputs": []
    },
    {
      "cell_type": "code",
      "source": [
        "Instructions\n",
        "100 XP\n",
        "Examine the if statement that prints out \"Showing LinkedIn information\" if the medium variable equals \"LinkedIn\".\n",
        "Code an if statement that prints \"You are popular!\" to the console if the num_views variable exceeds 15.\n",
        "\n",
        "# Variables related to your last day of recordings\n",
        "medium <- \"LinkedIn\"\n",
        "num_views <- 14\n",
        "\n",
        "# Examine the if statement for medium\n",
        "if (medium == \"LinkedIn\") {\n",
        "  print(\"Showing LinkedIn information\")\n",
        "}\n",
        "\n",
        "# Write the if statement for num_views\n",
        "if (num_views > 15) {\n",
        "  print(\"You are popular!\")\n",
        "}"
      ],
      "metadata": {
        "id": "I8U0lhCP6ZB0"
      },
      "execution_count": null,
      "outputs": []
    },
    {
      "cell_type": "code",
      "source": [
        "Instructions\n",
        "100 XP\n",
        "Add an else statement to both control structures, such that\n",
        "\n",
        "\"Unknown medium\" gets printed out to the console when the if-condition on medium does not hold.\n",
        "R prints out \"Try to be more visible!\" when the if-condition on num_views is not met.\n",
        "\n",
        "# Variables related to your last day of recordings\n",
        "medium <- \"LinkedIn\"\n",
        "num_views <- 14\n",
        "\n",
        "# Control structure for medium\n",
        "if (medium == \"LinkedIn\") {\n",
        "  print(\"Showing LinkedIn information\")\n",
        "} else {\n",
        "  print(\"Unknown medium\")\n",
        "}\n",
        "\n",
        "# Control structure for num_views\n",
        "if (num_views > 15) {\n",
        "  print(\"You're popular!\")\n",
        "} else {\n",
        "  print(\"Try to be more visible!\")\n",
        "}"
      ],
      "metadata": {
        "id": "bBBcSONP3vXx"
      },
      "execution_count": null,
      "outputs": []
    },
    {
      "cell_type": "code",
      "source": [
        "Instructions\n",
        "100 XP\n",
        "Add code to both control structures such that:\n",
        "\n",
        "R prints out \"Showing Facebook information\" if medium is equal to \"Facebook\". Remember that R is case sensitive!\n",
        "\"Your number of views is average\" is printed if num_views is between 15 (inclusive) and 10 (exclusive). Feel free to change the variables medium and num_views to see how the control structure respond. In both cases, the existing code should be extended in the else if statement. No existing code should be modified.\n",
        "\n",
        "\n",
        "# Variables related to your last day of recordings\n",
        "medium <- \"LinkedIn\"\n",
        "num_views <- 14\n",
        "\n",
        "# Control structure for medium\n",
        "if (medium == \"LinkedIn\") {\n",
        "  print(\"Showing LinkedIn information\")\n",
        "} else if (medium == \"Facebook\") {\n",
        "  # Add code to print correct string when condition is TRUE\n",
        "  print(\"Showing Facebook information\")\n",
        "} else {\n",
        "  print(\"Unknown medium\")\n",
        "}\n",
        "\n",
        "# Control structure for num_views\n",
        "if (num_views > 15) {\n",
        "  print(\"You're popular!\")\n",
        "} else if (num_views <= 15 & num_views > 10) {\n",
        "  # Add code to print correct string when condition is TRUE\n",
        "  print(\"Your number of views is average\")\n",
        "} else {\n",
        "  print(\"Try to be more visible!\")\n",
        "}"
      ],
      "metadata": {
        "id": "pKUPO6hwex5K"
      },
      "execution_count": null,
      "outputs": []
    },
    {
      "cell_type": "code",
      "source": [
        "Instructions\n",
        "100 XP\n",
        "Add code to both control structures such that:\n",
        "\n",
        "R prints out \"Showing Facebook information\" if medium is equal to \"Facebook\". Remember that R is case sensitive!\n",
        "\"Your number of views is average\" is printed if num_views is between 15 (inclusive) and 10 (exclusive). Feel free to change the variables medium and num_views to see how the control structure respond. In both cases, the existing code should be extended in the else if statement. No existing code should be modified.\n",
        "\n",
        "\n",
        "# Variables related to your last day of recordings\n",
        "medium <- \"LinkedIn\"\n",
        "num_views <- 14\n",
        "\n",
        "# Control structure for medium\n",
        "if (medium == \"LinkedIn\") {\n",
        "  print(\"Showing LinkedIn information\")\n",
        "} else if (medium == \"Facebook\") {\n",
        "  # Add code to print correct string when condition is TRUE\n",
        "  print(\"Showing Facebook information\")\n",
        "} else {\n",
        "  print(\"Unknown medium\")\n",
        "}\n",
        "\n",
        "# Control structure for num_views\n",
        "if (num_views > 15) {\n",
        "  print(\"You're popular!\")\n",
        "} else if (num_views <= 15 & num_views > 10) {\n",
        "  # Add code to print correct string when condition is TRUE\n",
        "  print(\"Your number of views is average\")\n",
        "} else {\n",
        "  print(\"Try to be more visible!\")\n",
        "}\n"
      ],
      "metadata": {
        "id": "RplEotEnAS9k"
      },
      "execution_count": null,
      "outputs": []
    },
    {
      "cell_type": "code",
      "source": [
        "Instructions\n",
        "100 XP\n",
        "Add code to both control structures such that:\n",
        "\n",
        "R prints out \"Showing Facebook information\" if medium is equal to \"Facebook\". Remember that R is case sensitive!\n",
        "\"Your number of views is average\" is printed if num_views is between 15 (inclusive) and 10 (exclusive). Feel free to change the variables medium and num_views to see how the control structure respond. In both cases, the existing code should be extended in the else if statement. No existing code should be modified.\n",
        "\n",
        "# Variables related to your last day of recordings\n",
        "medium <- \"LinkedIn\"\n",
        "num_views <- 14\n",
        "\n",
        "# Control structure for medium\n",
        "if (medium == \"LinkedIn\") {\n",
        "  print(\"Showing LinkedIn information\")\n",
        "} else if (medium == \"Facebook\") {\n",
        "  # Add code to print correct string when condition is TRUE\n",
        "  print(\"Showing Facebook information\")\n",
        "} else {\n",
        "  print(\"Unknown medium\")\n",
        "}\n",
        "\n",
        "# Control structure for num_views\n",
        "if (num_views > 15) {\n",
        "  print(\"You're popular!\")\n",
        "} else if (num_views <= 15 & num_views > 10) {\n",
        "  # Add code to print correct string when condition is TRUE\n",
        "  print(\"Your number of views is average\")\n",
        "} else {\n",
        "  print(\"Try to be more visible!\")\n",
        "}"
      ],
      "metadata": {
        "id": "t-xStmFxdt7U"
      },
      "execution_count": null,
      "outputs": []
    },
    {
      "cell_type": "code",
      "source": [
        "Instructions\n",
        "100 XP\n",
        "Add code to both control structures such that:\n",
        "\n",
        "R prints out \"Showing Facebook information\" if medium is equal to \"Facebook\". Remember that R is case sensitive!\n",
        "\"Your number of views is average\" is printed if num_views is between 15 (inclusive) and 10 (exclusive). Feel free to change the variables medium and num_views to see how the control structure respond. In both cases, the existing code should be extended in the else if statement. No existing code should be modified.\n",
        "\n",
        "\n",
        "# Variables related to your last day of recordings\n",
        "medium <- \"LinkedIn\"\n",
        "num_views <- 14\n",
        "\n",
        "# Control structure for medium\n",
        "if (medium == \"LinkedIn\") {\n",
        "  print(\"Showing LinkedIn information\")\n",
        "} else if (medium == \"Facebook\") {\n",
        "  # Add code to print correct string when condition is TRUE\n",
        "  print(\"Showing Facebook information\")\n",
        "} else {\n",
        "  print(\"Unknown medium\")\n",
        "}\n",
        "\n",
        "# Control structure for num_views\n",
        "if (num_views > 15) {\n",
        "  print(\"You're popular!\")\n",
        "} else if (num_views <= 15 & num_views > 10) {\n",
        "  # Add code to print correct string when condition is TRUE\n",
        "  print(\"Your number of views is average\")\n",
        "} else {\n",
        "  print(\"Try to be more visible!\")\n",
        "}"
      ],
      "metadata": {
        "id": "kEysRcOZd0bf"
      },
      "execution_count": null,
      "outputs": []
    },
    {
      "cell_type": "code",
      "source": [
        "Instructions\n",
        "100 XP\n",
        "Finish the control-flow construct with the following behavior:\n",
        "\n",
        "If both li and fb are 15 or higher, set sms equal to double the sum of li and fb.\n",
        "If both li and fb are strictly below 10, set sms equal to half the sum of li and fb.\n",
        "In all other cases, set sms equal to li + fb.\n",
        "Finally, print the resulting sms variable.\n",
        "\n",
        "# Variables related to your last day of recordings\n",
        "li <- 15\n",
        "fb <- 9\n",
        "\n",
        "# Code the control-flow construct\n",
        "if (li >= 15 & fb >= 15) {\n",
        "  sms <- 2 * (li + fb)\n",
        "} else if (li < 10 & fb < 10) {\n",
        "  sms <- 0.5 * (li + fb)\n",
        "} else {\n",
        "  sms <- li + fb\n",
        "}\n",
        "\n",
        "# Print the resulting sms to the console\n",
        "sms"
      ],
      "metadata": {
        "id": "FGTPtLaFd0OY"
      },
      "execution_count": null,
      "outputs": []
    },
    {
      "cell_type": "markdown",
      "source": [
        "2"
      ],
      "metadata": {
        "id": "NbY3Yy18nPom"
      }
    },
    {
      "cell_type": "code",
      "source": [
        "Instructions\n",
        "100 XP\n",
        "Code a while loop with the following characteristics:\n",
        "\n",
        "The condition of the while loop should check if speed is higher than 30.\n",
        "Inside the body of the while loop, print out \"Slow down!\".\n",
        "Inside the body of the while loop, decrease the speed by 7 units and assign this new value to speed again. This step is crucial; otherwise your while loop will never stop and your session will expire.\n",
        "If your session expires when you run your code, check the body of your while loop carefully: it's likely that you made a mistake.\n",
        "\n",
        "\n",
        "# Initialize the speed variable\n",
        "speed <- 64\n",
        "\n",
        "# Code the while loop\n",
        "while (speed > 30) {\n",
        "  print(\"Slow down!\")\n",
        "  speed <- speed - 7\n",
        "}\n",
        "\n",
        "# Print out the speed variable\n",
        "speed\n"
      ],
      "metadata": {
        "id": "AIsVQWb6jDcK"
      },
      "execution_count": null,
      "outputs": []
    },
    {
      "cell_type": "code",
      "source": [
        "Instructions\n",
        "100 XP\n",
        "If the speed is greater than 48, have R print out \"Slow down big time!\", and decrease the speed by 11.\n",
        "Otherwise, have R simply print out \"Slow down!\", and decrease the speed by 6.\n",
        "If the session keeps timing out and throwing an error, you are probably stuck in an infinite loop! Check the body of your while loop and make sure you are assigning new values to speed.\n",
        "\n",
        "\n",
        "# Initialize the speed variable\n",
        "speed <- 64\n",
        "\n",
        "# Extend/adapt the while loop\n",
        "while (speed > 30) {\n",
        "  print(paste(\"Your speed is\", speed))\n",
        "  if (speed > 48) {\n",
        "    print(\"Slow down big time!\")\n",
        "    speed <- speed - 11\n",
        "  } else {\n",
        "    print(\"Slow down!\")\n",
        "    speed <- speed - 6\n",
        "  }\n",
        "}"
      ],
      "metadata": {
        "id": "OO_MsYxRnSwL"
      },
      "execution_count": null,
      "outputs": []
    },
    {
      "cell_type": "code",
      "source": [
        "Instructions\n",
        "100 XP\n",
        "Adapt the while loop such that it is abandoned when the speed of the vehicle is greater than 80. This time, the speed variable has been initialized to 88; keep it that way.\n",
        "\n",
        "# Initialize the speed variable\n",
        "speed <- 88\n",
        "\n",
        "while (speed > 30) {\n",
        "  print(paste(\"Your speed is\", speed))\n",
        "  \n",
        "  # Break the while loop when speed exceeds 80\n",
        "  if (speed > 80) {\n",
        "    break\n",
        "  }\n",
        "  \n",
        "  if (speed > 48) {\n",
        "    print(\"Slow down big time!\")\n",
        "    speed <- speed - 11\n",
        "  } else {\n",
        "    print(\"Slow down!\")\n",
        "    speed <- speed - 6\n",
        "  }\n",
        "}"
      ],
      "metadata": {
        "id": "Vmb5TPVbnStf"
      },
      "execution_count": null,
      "outputs": []
    },
    {
      "cell_type": "code",
      "source": [
        "Instructions\n",
        "100 XP\n",
        "Finish the while loop so that it:\n",
        "\n",
        "prints out the triple of i, so 3 * i, at each run.\n",
        "is abandoned with a break if the triple of i is divisible by 8, but still prints out this triple before breaking.\n",
        "\n",
        "# Initialize i as 1 \n",
        "i <- 1\n",
        "\n",
        "# Code the while loop\n",
        "while (i <= 10) {\n",
        "  print(3 * i)\n",
        "  if ( (3 * i) %% 8 == 0) {\n",
        "    break\n",
        "  }\n",
        "  i <- i + 1\n",
        "}"
      ],
      "metadata": {
        "id": "gfGSRV5A6COy"
      },
      "execution_count": null,
      "outputs": []
    },
    {
      "cell_type": "code",
      "source": [
        "Instructions\n",
        "100 XP\n",
        "Write a for loop that iterates over all the elements of linkedin and prints out every element separately. Do this in two ways: using the loop version 1 and the loop version 2 in the example code above.\n",
        "\n",
        "\n",
        "# The linkedin vector has already been defined for you\n",
        "linkedin <- c(16, 9, 13, 5, 2, 17, 14)\n",
        "\n",
        "# Loop version 1\n",
        "for (li in linkedin) {\n",
        "  print(li)\n",
        "}\n",
        "\n",
        "# Loop version 2\n",
        "for (i in 1:length(linkedin)) {\n",
        "  print(linkedin[i])\n",
        "}"
      ],
      "metadata": {
        "id": "zIEWH95O6B64"
      },
      "execution_count": null,
      "outputs": []
    },
    {
      "cell_type": "code",
      "source": [
        "Instructions\n",
        "100 XP\n",
        "As in the previous exercise, loop over the nyc list in two different ways to print its elements:\n",
        "\n",
        "Loop directly over the nyc list (loop version 1).\n",
        "Define a looping index and do subsetting using double brackets (loop version 2).\n",
        "\n",
        "\n",
        "# The nyc list is already specified\n",
        "nyc <- list(pop = 8405837, \n",
        "            boroughs = c(\"Manhattan\", \"Bronx\", \"Brooklyn\", \"Queens\", \"Staten Island\"), \n",
        "            capital = FALSE)\n",
        "\n",
        "# Loop version 1\n",
        "for (info in nyc) {\n",
        "  print(info)\n",
        "}\n",
        "\n",
        "# Loop version 2\n",
        "for (i in 1:length(nyc)) {\n",
        "  print(nyc[[i]])\n",
        "}"
      ],
      "metadata": {
        "id": "sZnstMzDgu-Y"
      },
      "execution_count": null,
      "outputs": []
    },
    {
      "cell_type": "code",
      "source": [
        "Instructions\n",
        "100 XP\n",
        "Finish the nested for loops to go over the elements in ttt:\n",
        "\n",
        "The outer loop should loop over the rows, with loop index i (use 1:nrow(ttt)).\n",
        "The inner loop should loop over the columns, with loop index j (use 1:ncol(ttt)).\n",
        "Inside the inner loop, make use of print() and paste() to print out information in the following format: \"On row i and column j the board contains x\", where x is the value on that position.\n",
        "\n",
        "\n",
        "# The tic-tac-toe matrix ttt has already been defined for you\n",
        "\n",
        "# define the double for loop\n",
        "for (i in 1:nrow(ttt)) {\n",
        "  for (j in 1:ncol(ttt)) {\n",
        "    print(paste(\"On row\", i, \"and column\", j, \"the board contains\", ttt[i,j]))\n",
        "  }\n",
        "}"
      ],
      "metadata": {
        "id": "EqsGwZzUgu60"
      },
      "execution_count": null,
      "outputs": []
    },
    {
      "cell_type": "code",
      "source": [
        "Instructions\n",
        "100 XP\n",
        "Add code to the for loop that loops over the elements of the linkedin vector:\n",
        "\n",
        "If the vector element's value exceeds 10, print out \"You're popular!\".\n",
        "If the vector element's value does not exceed 10, print out \"Be more visible!\"\n",
        "\n",
        "# The linkedin vector has already been defined for you\n",
        "linkedin <- c(16, 9, 13, 5, 2, 17, 14)\n",
        "\n",
        "# Code the for loop with conditionals\n",
        "for (li in linkedin) {\n",
        "  if (li > 10) {\n",
        "    print(\"You're popular!\")\n",
        "  } else {\n",
        "    print(\"Be more visible!\")\n",
        "  }\n",
        "  print(li)\n",
        "}"
      ],
      "metadata": {
        "id": "j5q4ywHzh5ac"
      },
      "execution_count": null,
      "outputs": []
    },
    {
      "cell_type": "code",
      "source": [
        "Instructions\n",
        "100 XP\n",
        "Extend the for loop with two new, separate if tests as follows:\n",
        "\n",
        "If the vector element's value exceeds 16, print out \"This is ridiculous, I'm outta here!\" and have R abandon the for loop (break).\n",
        "If the value is lower than 5, print out \"This is too embarrassing!\" and fast-forward to the next iteration (next).\n",
        "\n",
        "\n",
        "# The linkedin vector has already been defined for you\n",
        "linkedin <- c(16, 9, 13, 5, 2, 17, 14)\n",
        "\n",
        "# Adapt/extend the for loop\n",
        "for (li in linkedin) {\n",
        "  if (li > 10) {\n",
        "    print(\"You're popular!\")\n",
        "  } else {\n",
        "    print(\"Be more visible!\")\n",
        "  }\n",
        "  \n",
        "  # Add if statement with break\n",
        "  if (li > 16) {\n",
        "    print(\"This is ridiculous, I'm outta here!\")\n",
        "    break\n",
        "  }\n",
        "  \n",
        "  # Add if statement with next\n",
        "  if (li < 5) {\n",
        "    print(\"This is too embarrassing!\")\n",
        "    next\n",
        "  }\n",
        "  \n",
        "  print(li)\n",
        "}"
      ],
      "metadata": {
        "id": "xmT2o-bJgu3I"
      },
      "execution_count": null,
      "outputs": []
    },
    {
      "cell_type": "code",
      "source": [
        "Instructions\n",
        "100 XP\n",
        "Initialize the variable rcount, as 0.\n",
        "Finish the for loop:\n",
        "if char equals \"r\", increase the value of rcount by 1.\n",
        "if char equals \"u\", leave the for loop entirely with a break.\n",
        "Finally, print out the variable rcount to the console to see if your code is correct.\n",
        "\n",
        "\n",
        "# Pre-defined variables\n",
        "rquote <- \"r's internals are irrefutably intriguing\"\n",
        "chars <- strsplit(rquote, split = \"\")[[1]]\n",
        "\n",
        "# Initialize rcount\n",
        "rcount <- 0\n",
        "\n",
        "# Finish the for loop\n",
        "for (char in chars) {\n",
        "  if (char == \"r\") {\n",
        "    rcount <- rcount + 1\n",
        "  }\n",
        "  if (char == \"u\") {\n",
        "    break\n",
        "  }\n",
        "}\n",
        "\n",
        "# Print out rcount\n",
        "rcount"
      ],
      "metadata": {
        "id": "AFa4t-zSguzG"
      },
      "execution_count": null,
      "outputs": []
    },
    {
      "cell_type": "markdown",
      "source": [
        "3"
      ],
      "metadata": {
        "id": "SHeYSL2jinM-"
      }
    },
    {
      "cell_type": "code",
      "source": [
        "Instructions\n",
        "100 XP\n",
        "Consult the documentation on the mean() function: ?mean or help(mean).\n",
        "Inspect the arguments of the mean() function using the args() function.\n",
        "\n",
        "# Consult the documentation on the mean() function\n",
        "?mean\n",
        "help(mean)\n",
        "\n",
        "# Inspect the arguments of the mean() function\n",
        "args(mean)"
      ],
      "metadata": {
        "id": "VAdiClgNip9F"
      },
      "execution_count": null,
      "outputs": []
    },
    {
      "cell_type": "code",
      "source": [
        "Instructions\n",
        "100 XP\n",
        "Calculate the average number of views for both linkedin and facebook and assign the result to avg_li and avg_fb, respectively. Experiment with different types of argument matching!\n",
        "Print out both avg_li and avg_fb.\n",
        "\n",
        "# The linkedin and facebook vectors have already been created for you\n",
        "linkedin <- c(16, 9, 13, 5, 2, 17, 14)\n",
        "facebook <- c(17, 7, 5, 16, 8, 13, 14)\n",
        "\n",
        "# Calculate average number of views\n",
        "avg_li <- mean(x = linkedin)\n",
        "avg_fb <- mean(facebook)\n",
        "\n",
        "# Inspect avg_li and avg_fb\n",
        "avg_li\n",
        "avg_fb"
      ],
      "metadata": {
        "id": "Xd40sI2nip5L"
      },
      "execution_count": null,
      "outputs": []
    },
    {
      "cell_type": "code",
      "source": [
        "Instructions\n",
        "100 XP\n",
        "Calculate the mean of the element-wise sum of linkedin and facebook and store the result in a variable avg_sum.\n",
        "Calculate the mean once more, but this time set the trim argument equal to 0.2 and assign the result to avg_sum_trimmed.\n",
        "Print out both avg_sum and avg_sum_trimmed; can you spot the difference?\n",
        "\n",
        "# The linkedin and facebook vectors have already been created for you\n",
        "linkedin <- c(16, 9, 13, 5, 2, 17, 14)\n",
        "facebook <- c(17, 7, 5, 16, 8, 13, 14)\n",
        "\n",
        "# Calculate the mean of the sum\n",
        "avg_sum <- mean(linkedin + facebook)\n",
        "\n",
        "# Calculate the trimmed mean of the sum\n",
        "avg_sum_trimmed <- mean(linkedin + facebook, trim = 0.2)\n",
        "\n",
        "# Inspect both new variables\n",
        "avg_sum\n",
        "avg_sum_trimmed"
      ],
      "metadata": {
        "id": "_gjjYEz4ioOl"
      },
      "execution_count": null,
      "outputs": []
    },
    {
      "cell_type": "code",
      "source": [
        "Instructions\n",
        "100 XP\n",
        "Calculate the average number of LinkedIn profile views, without specifying any optional arguments. Simply print the result to the console.\n",
        "Calculate the average number of LinkedIn profile views, but this time tell R to strip missing values from the input vector.\n",
        "\n",
        "\n",
        "# The linkedin and facebook vectors have already been created for you\n",
        "linkedin <- c(16, 9, 13, 5, NA, 17, 14)\n",
        "facebook <- c(17, NA, 5, 16, 8, 13, 14)\n",
        "\n",
        "# Basic average of linkedin\n",
        "mean(linkedin)\n",
        "\n",
        "# Advanced average of linkedin\n",
        "mean(linkedin, na.rm = TRUE)\n"
      ],
      "metadata": {
        "id": "7V87vQ31yGJ-"
      },
      "execution_count": null,
      "outputs": []
    },
    {
      "cell_type": "code",
      "source": [
        "Instructions\n",
        "100 XP\n",
        "Use abs() on linkedin - facebook to get the absolute differences between the daily Linkedin and Facebook profile views. Place the call to abs() inside mean() to calculate the Mean Absolute Deviation. In the mean() call, make sure to specify na.rm to treat missing values correctly!\n",
        "\n",
        "# The linkedin and facebook vectors have already been created for you\n",
        "linkedin <- c(16, 9, 13, 5, NA, 17, 14)\n",
        "facebook <- c(17, NA, 5, 16, 8, 13, 14)\n",
        "\n",
        "# Calculate the mean absolute deviation\n",
        "mean(abs(linkedin - facebook), na.rm = TRUE)\n"
      ],
      "metadata": {
        "id": "BNnsNtDLyGDs"
      },
      "execution_count": null,
      "outputs": []
    },
    {
      "cell_type": "code",
      "source": [
        "Instructions\n",
        "100 XP\n",
        "Create a function pow_two(): it takes one argument and returns that number squared (that number times itself).\n",
        "Call this newly defined function with 12 as input.\n",
        "Next, create a function sum_abs(), that takes two arguments and returns the sum of the absolute values of both arguments.\n",
        "Finally, call the function sum_abs() with arguments -2 and 3 afterwards.\n",
        "\n",
        "\n",
        "# Create a function pow_two()\n",
        "pow_two <- function(x) {\n",
        "  x ^ 2\n",
        "}\n",
        "\n",
        "# Use the function\n",
        "pow_two(12)\n",
        "\n",
        "# Create a function sum_abs()\n",
        "sum_abs <- function(x, y) {\n",
        "  abs(x) + abs(y)\n",
        "}\n",
        "\n",
        "# Use the function\n",
        "sum_abs(-2, 3)\n"
      ],
      "metadata": {
        "id": "ycxKqANCyGAT"
      },
      "execution_count": null,
      "outputs": []
    },
    {
      "cell_type": "code",
      "source": [
        "Instructions\n",
        "100 XP\n",
        "Define a function, hello(). It prints out \"Hi there!\" and returns TRUE. It has no arguments.\n",
        "Call the function hello(), without specifying arguments of course.\n",
        "\n",
        "# Define the function hello()\n",
        "hello <- function() {\n",
        "  print(\"Hi there!\")\n",
        "  TRUE\n",
        "}\n",
        "\n",
        "# Call the function hello()\n",
        "hello()"
      ],
      "metadata": {
        "id": "kcP0unOBlGpE"
      },
      "execution_count": null,
      "outputs": []
    },
    {
      "cell_type": "code",
      "source": [
        "Instructions\n",
        "100 XP\n",
        "Add an optional argument, named print_info, that is TRUE by default.\n",
        "Wrap an if construct around the print() function: this function should only be executed if print_info is TRUE.\n",
        "Feel free to experiment with the pow_two() function you've just coded.\n",
        "\n",
        "\n",
        "# Finish the pow_two() function\n",
        "pow_two <- function(x, print_info = TRUE) {\n",
        "  y <- x ^ 2\n",
        "  if (print_info) {\n",
        "    print(paste(x, \"to the power two equals\", y))\n",
        "  }\n",
        "  return(y)\n",
        "}\n",
        "\n",
        "# Some calls of the pow_two() function\n",
        "pow_two(5)\n",
        "pow_two(5, FALSE)\n",
        "pow_two(5, TRUE)"
      ],
      "metadata": {
        "id": "6WAoKs_ulPor"
      },
      "execution_count": null,
      "outputs": []
    },
    {
      "cell_type": "code",
      "source": [
        "Instructions\n",
        "100 XP\n",
        "Finish the function definition for interpret(), that interprets the number of profile views on a single day:\n",
        "The function takes one argument, num_views.\n",
        "If num_views is greater than 15, the function prints out \"You're popular!\" to the console and returns num_views.\n",
        "Else, the function prints out \"Try to be more visible!\" and returns 0.\n",
        "Finally, call the interpret() function twice: on the first value of the linkedin vector and on the second element of the facebook vector.\n",
        "\n",
        "\n",
        "# The linkedin and facebook vectors have already been created for you\n",
        "\n",
        "# Define the interpret function\n",
        "interpret <- function(num_views) {\n",
        "  if (num_views > 15) {\n",
        "    print(\"You're popular!\")\n",
        "    return(num_views)\n",
        "  } else {\n",
        "    print(\"Try to be more visible!\")\n",
        "    return(0)\n",
        "  }\n",
        "}\n",
        "\n",
        "# Call the interpret function twice\n",
        "interpret(linkedin[1])\n",
        "interpret(facebook[2])\n"
      ],
      "metadata": {
        "id": "N8-BB376lPmD"
      },
      "execution_count": null,
      "outputs": []
    },
    {
      "cell_type": "code",
      "source": [
        "Instructions\n",
        "100 XP\n",
        "Finish the template for the interpret_all() function:\n",
        "\n",
        "Make return_sum an optional argument, that is TRUE by default.\n",
        "Inside the for loop, iterate over all views: on every iteration, add the result of interpret(v) to count. Remember that interpret(v) returns v for popular days, and 0 otherwise. At the same time, interpret(v) will also do some printouts.\n",
        "Finish the if construct:\n",
        "If return_sum is TRUE, return count.\n",
        "Else, return NULL.\n",
        "Call this newly defined function on both linkedin and facebook.\n",
        "\n",
        "# The linkedin and facebook vectors have already been created for you\n",
        "linkedin <- c(16, 9, 13, 5, 2, 17, 14)\n",
        "facebook <- c(17, 7, 5, 16, 8, 13, 14)\n",
        "\n",
        "# The interpret() can be used inside interpret_all()\n",
        "interpret <- function(num_views) {\n",
        "  if (num_views > 15) {\n",
        "    print(\"You're popular!\")\n",
        "    return(num_views)\n",
        "  } else {\n",
        "    print(\"Try to be more visible!\")\n",
        "    return(0)\n",
        "  }\n",
        "}\n",
        "\n",
        "# Define the interpret_all() function\n",
        "# views: vector with data to interpret\n",
        "# return_sum: return total number of views on popular days?\n",
        "interpret_all <- function(views, return_sum = TRUE) {\n",
        "  count <- 0\n",
        "\n",
        "  for (v in views) {\n",
        "    count <- count + interpret(v)\n",
        "  }\n",
        "\n",
        "  if (return_sum) {\n",
        "    return(count)\n",
        "  } else {\n",
        "    return(NULL)\n",
        "  }\n",
        "}\n",
        "\n",
        "# Call the interpret_all() function on both linkedin and facebook\n",
        "interpret_all(linkedin)\n",
        "interpret_all(facebook)\n",
        "\n"
      ],
      "metadata": {
        "id": "V0m0ywirlGle"
      },
      "execution_count": null,
      "outputs": []
    },
    {
      "cell_type": "code",
      "source": [
        "Instructions\n",
        "100 XP\n",
        "To fix the error you saw in the console, load the ggplot2 package. Make sure you are loading (and not installing) the package!\n",
        "Now, retry calling the qplot() function with the same arguments.\n",
        "Finally, check out the currently attached packages again.\n",
        "\n",
        "\n",
        "# Load the ggplot2 package\n",
        "library(\"ggplot2\")\n",
        "\n",
        "# Retry the qplot() function\n",
        "qplot(mtcars$wt, mtcars$hp)\n",
        "\n",
        "# Check out the currently attached packages again\n",
        "search()"
      ],
      "metadata": {
        "id": "nbsBgqlMmlT5"
      },
      "execution_count": null,
      "outputs": []
    },
    {
      "cell_type": "markdown",
      "source": [
        "4"
      ],
      "metadata": {
        "id": "0XDqrTXdnu1z"
      }
    },
    {
      "cell_type": "code",
      "source": [
        "Instructions\n",
        "100 XP\n",
        "Have a look at the strsplit() calls, that splits the strings in pioneers on the : sign. The result, split_math is a list of 4 character vectors: the first vector element represents the name, the second element the birth year.\n",
        "Use lapply() to convert the character vectors in split_math to lowercase letters: apply tolower() on each of the elements in split_math. Assign the result, which is a list, to a new variable split_low.\n",
        "Finally, inspect the contents of split_low with str().\n",
        "\n",
        "\n",
        "# The vector pioneers has already been created for you\n",
        "pioneers <- c(\"GAUSS:1777\", \"BAYES:1702\", \"PASCAL:1623\", \"PEARSON:1857\")\n",
        "\n",
        "# Split names from birth year\n",
        "split_math <- strsplit(pioneers, split = \":\")\n",
        "\n",
        "# Convert to lowercase strings: split_low\n",
        "split_low <- lapply(split_math, tolower)\n",
        "\n",
        "# Take a look at the structure of split_low\n",
        "str(split_low)\n"
      ],
      "metadata": {
        "id": "t8kUuHdtnvY1"
      },
      "execution_count": null,
      "outputs": []
    },
    {
      "cell_type": "code",
      "source": [
        "Instructions\n",
        "100 XP\n",
        "Apply select_first() over the elements of split_low with lapply() and assign the result to a new variable names.\n",
        "Next, write a function select_second() that does the exact same thing for the second element of an inputted vector.\n",
        "Finally, apply the select_second() function over split_low and assign the output to the variable years.\n",
        "\n",
        "# Code from previous exercise:\n",
        "pioneers <- c(\"GAUSS:1777\", \"BAYES:1702\", \"PASCAL:1623\", \"PEARSON:1857\")\n",
        "split <- strsplit(pioneers, split = \":\")\n",
        "split_low <- lapply(split, tolower)\n",
        "\n",
        "# Write function select_first()\n",
        "select_first <- function(x) {\n",
        "  x[1]\n",
        "}\n",
        "\n",
        "# Apply select_first() over split_low: names\n",
        "names <- lapply(split_low, select_first)\n",
        "\n",
        "# Write function select_second()\n",
        "select_second <- function(x) {\n",
        "  x[2]\n",
        "}\n",
        "\n",
        "# Apply select_second() over split_low: years\n",
        "years <- lapply(split_low, select_second)\n"
      ],
      "metadata": {
        "id": "MEFhZpgbnxjU"
      },
      "execution_count": null,
      "outputs": []
    },
    {
      "cell_type": "code",
      "source": [
        "Instructions\n",
        "\n",
        "100 XP\n",
        "Transform the first call of lapply() such that it uses an anonymous function that does the same thing.\n",
        "In a similar fashion, convert the second call of lapply to use an anonymous version of the select_second() function.\n",
        "Remove both the definitions of select_first() and select_second(), as they are no longer useful.\n",
        "\n",
        "# split_low has been created for you\n",
        "split_low\n",
        "\n",
        "# Transform: use anonymous function inside lapply\n",
        "names <- lapply(split_low, function(x) { x[1] })\n",
        "\n",
        "\n",
        "\n",
        "\n",
        "# Transform: use anonymous function inside lapply\n",
        "years <- lapply(split_low, function(x) { x[2] })"
      ],
      "metadata": {
        "id": "Pcyzi10Lmk9C"
      },
      "execution_count": null,
      "outputs": []
    },
    {
      "cell_type": "code",
      "source": [
        "Instructions\n",
        "100 XP\n",
        "Use lapply() twice to call select_el() over all elements in split_low: once with the index equal to 1 and a second time with the index equal to 2. Assign the result to names and years, respectively.\n",
        "\n",
        "# Definition of split_low\n",
        "pioneers <- c(\"GAUSS:1777\", \"BAYES:1702\", \"PASCAL:1623\", \"PEARSON:1857\")\n",
        "split <- strsplit(pioneers, split = \":\")\n",
        "split_low <- lapply(split, tolower)\n",
        "\n",
        "# Generic select function\n",
        "select_el <- function(x, index) {\n",
        "  x[index]\n",
        "}\n",
        "\n",
        "# Use lapply() twice on split_low: names and years\n",
        "names <- lapply(split_low, select_el, index = 1)\n",
        "years <- lapply(split_low, select_el, index = 2)\n",
        "\n"
      ],
      "metadata": {
        "id": "CdP2m-D8mk46"
      },
      "execution_count": null,
      "outputs": []
    },
    {
      "cell_type": "code",
      "source": [
        "Instructions\n",
        "100 XP\n",
        "Use lapply() to calculate the minimum (built-in function min()) of the temperature measurements for every day.\n",
        "Do the same thing but this time with sapply(). See how the output differs.\n",
        "Use lapply() to compute the the maximum (max()) temperature for each day.\n",
        "Again, use sapply() to solve the same question and see how lapply() and sapply() differ.\n",
        "\n",
        "\n",
        "# temp has already been defined in the workspace\n",
        "\n",
        "# Use lapply() to find each day's minimum temperature\n",
        "lapply(temp, min)\n",
        "\n",
        "# Use sapply() to find each day's minimum temperature\n",
        "sapply(temp, min)\n",
        "\n",
        "# Use lapply() to find each day's maximum temperature\n",
        "lapply(temp, max)\n",
        "\n",
        "# Use sapply() to find each day's maximum temperature\n",
        "sapply(temp, max)"
      ],
      "metadata": {
        "id": "lSJbbDnH4BBd"
      },
      "execution_count": null,
      "outputs": []
    },
    {
      "cell_type": "code",
      "source": [
        "Instructions\n",
        "100 XP\n",
        "Finish the definition of extremes_avg(): it takes a vector of temperatures and calculates the average of the minimum and maximum temperatures of the vector.\n",
        "Next, use this function inside sapply() to apply it over the vectors inside temp.\n",
        "Use the same function over temp with lapply() and see how the outputs differ.\n",
        "\n",
        "\n",
        "# temp is already defined in the workspace\n",
        "\n",
        "# Finish function definition of extremes_avg\n",
        "extremes_avg <- function(x) {\n",
        "  ( min(x) + max(x) ) / 2\n",
        "}\n",
        "\n",
        "# Apply extremes_avg() over temp using sapply()\n",
        "sapply(temp, extremes_avg)\n",
        "\n",
        "# Apply extremes_avg() over temp using lapply()\n",
        "lapply(temp, extremes_avg)\n"
      ],
      "metadata": {
        "id": "ec8LpncA4A9R"
      },
      "execution_count": null,
      "outputs": []
    },
    {
      "cell_type": "code",
      "source": [
        "Instructions\n",
        "100 XP\n",
        "Finish the definition of the extremes() function. It takes a vector of numerical values and returns a vector containing the minimum and maximum values of a given vector, with the names \"min\" and \"max\", respectively.\n",
        "Apply this function over the vector temp using sapply().\n",
        "Finally, apply this function over the vector temp using lapply() as well.\n",
        "\n",
        "\n",
        "# temp is already available in the workspace\n",
        "\n",
        "# Create a function that returns min and max of a vector: extremes\n",
        "extremes <- function(x) {\n",
        "  c(min = min(x), max = max(x))\n",
        "}\n",
        "\n",
        "# Apply extremes() over temp with sapply()\n",
        "sapply(temp, extremes)\n",
        "\n",
        "# Apply extremes() over temp with lapply()\n",
        "lapply(temp, extremes)"
      ],
      "metadata": {
        "id": "DaICkY5i4A4m"
      },
      "execution_count": null,
      "outputs": []
    },
    {
      "cell_type": "code",
      "source": [
        "Instructions\n",
        "100 XP\n",
        "Apply below_zero() over temp using sapply() and store the result in freezing_s.\n",
        "Apply below_zero() over temp using lapply(). Save the resulting list in a variable freezing_l.\n",
        "Compare freezing_s to freezing_l using the identical() function.\n",
        "\n",
        "\n",
        "# temp is already prepared for you in the workspace\n",
        "\n",
        "# Definition of below_zero()\n",
        "below_zero <- function(x) {\n",
        "  return(x[x < 0])\n",
        "}\n",
        "\n",
        "# Apply below_zero over temp using sapply(): freezing_s\n",
        "freezing_s <- sapply(temp, below_zero)\n",
        "\n",
        "# Apply below_zero over temp using lapply(): freezing_l\n",
        "freezing_l <- lapply(temp, below_zero)\n",
        "\n",
        "# Are freezing_s and freezing_l identical?\n",
        "identical(freezing_s, freezing_l)\n"
      ],
      "metadata": {
        "id": "i9QfJj5Y4Axt"
      },
      "execution_count": null,
      "outputs": []
    },
    {
      "cell_type": "code",
      "source": [
        "Instructions\n",
        "100 XP\n",
        "Apply print_info() over the contents of temp with sapply().\n",
        "Repeat this process with lapply(). Do you notice the difference?\n",
        "\n",
        "\n",
        "# temp is already available in the workspace\n",
        "\n",
        "# Definition of print_info()\n",
        "print_info <- function(x) {\n",
        "  cat(\"The average temperature is\", mean(x), \"\\n\")\n",
        "}\n",
        "\n",
        "# Apply print_info() over temp using sapply()\n",
        "sapply(temp, print_info)\n",
        "\n",
        "# Apply print_info() over temp using lapply()\n",
        "lapply(temp, print_info)\n"
      ],
      "metadata": {
        "id": "lDyQG_nZf_EL"
      },
      "execution_count": null,
      "outputs": []
    },
    {
      "cell_type": "code",
      "source": [
        "Instructions\n",
        "100 XP\n",
        "Apply the function basics() over the list of temperatures, temp, using vapply(). This time, you can use numeric(3) to specify the FUN.VALUE argument.\n",
        "\n",
        "\n",
        "# temp is already available in the workspace\n",
        "\n",
        "# Definition of basics()\n",
        "basics <- function(x) {\n",
        "  c(min = min(x), mean = mean(x), max = max(x))\n",
        "}\n",
        "\n",
        "# Apply basics() over temp using vapply()\n",
        "vapply(temp, basics, numeric(3))\n"
      ],
      "metadata": {
        "id": "nIJiud30f_Ar"
      },
      "execution_count": null,
      "outputs": []
    },
    {
      "cell_type": "code",
      "source": [
        "Instructions\n",
        "100 XP\n",
        "Inspect the pre-loaded code and try to run it. If you haven't changed anything, an error should pop up. That's because vapply() still expects basics() to return a vector of length 3. The error message gives you an indication of what's wrong.\n",
        "Try to fix the error by editing the vapply() command.\n",
        "\n",
        "# temp is already available in the workspace\n",
        "\n",
        "# Definition of the basics() function\n",
        "basics <- function(x) {\n",
        "  c(min = min(x), mean = mean(x), median = median(x), max = max(x))\n",
        "}\n",
        "\n",
        "# Fix the error:\n",
        "vapply(temp, basics, numeric(4))"
      ],
      "metadata": {
        "id": "GP0J1YoKf-6o"
      },
      "execution_count": null,
      "outputs": []
    },
    {
      "cell_type": "code",
      "source": [
        "Instructions\n",
        "100 XP\n",
        "Convert all the sapply() expressions on the right to their vapply() counterparts. Their results should be exactly the same; you're only adding robustness. You'll need the templates numeric(1) and logical(1).\n",
        "\n",
        "# temp is already defined in the workspace\n",
        "\n",
        "# Convert to vapply() expression\n",
        "vapply(temp, max, numeric(1))\n",
        "\n",
        "# Convert to vapply() expression\n",
        "vapply(temp, function(x, y) { mean(x) > y }, logical(1), y = 5)\n"
      ],
      "metadata": {
        "id": "cHR2DGM44Apr"
      },
      "execution_count": null,
      "outputs": []
    },
    {
      "cell_type": "markdown",
      "source": [
        "5"
      ],
      "metadata": {
        "id": "EQcn1XE5rWL9"
      }
    },
    {
      "cell_type": "code",
      "source": [
        "Instructions\n",
        "100 XP\n",
        "Calculate the sum of the absolute rounded values of the training errors. You can work in parts, or with a single one-liner. There's no need to store the result in a variable, just have R print it.\n",
        "\n",
        "# The errors vector has already been defined for you\n",
        "errors <- c(1.9, -2.6, 4.0, -9.5, -3.4, 7.3)\n",
        "\n",
        "# Sum of absolute rounded values of errors\n",
        "sum(abs(round(errors)))\n"
      ],
      "metadata": {
        "id": "jnVnfdy4rW_m"
      },
      "execution_count": null,
      "outputs": []
    },
    {
      "cell_type": "code",
      "source": [
        "Instructions\n",
        "100 XP\n",
        "Fix the error by including code on the last line. Remember: you want to call mean() only once!\n",
        "\n",
        "# Don't edit these two lines\n",
        "vec1 <- c(1.5, 2.5, 8.4, 3.7, 6.3)\n",
        "vec2 <- rev(vec1)\n",
        "\n",
        "# Fix the error\n",
        "mean(c(abs(vec1), abs(vec2)))\n"
      ],
      "metadata": {
        "id": "FfelnkOZlGhr"
      },
      "execution_count": null,
      "outputs": []
    },
    {
      "cell_type": "code",
      "source": [
        "Instructions\n",
        "100 XP\n",
        "Convert both linkedin and facebook lists to a vector, and store them as li_vec and fb_vec respectively.\n",
        "Next, append fb_vec to the li_vec (Facebook data comes last). Save the result as social_vec.\n",
        "Finally, sort social_vec from high to low. Print the resulting vector.\n",
        "\n",
        "# The linkedin and facebook lists have already been created for you\n",
        "linkedin <- list(16, 9, 13, 5, 2, 17, 14)\n",
        "facebook <- list(17, 7, 5, 16, 8, 13, 14)\n",
        "\n",
        "# Convert linkedin and facebook to a vector: li_vec and fb_vec\n",
        "li_vec <- unlist(linkedin)\n",
        "fb_vec <- unlist(facebook)\n",
        "\n",
        "# Append fb_vec to li_vec: social_vec\n",
        "social_vec <- append(li_vec, fb_vec)\n",
        "\n",
        "# Sort social_vec\n",
        "sort(social_vec, decreasing = TRUE)"
      ],
      "metadata": {
        "id": "S537IEN4tjT5"
      },
      "execution_count": null,
      "outputs": []
    },
    {
      "cell_type": "code",
      "source": [
        "Instructions\n",
        "100 XP\n",
        "Correct the expression. Make sure that your fix still uses the functions rep() and seq().\n",
        "\n",
        "# Fix me\n",
        "rep(seq(1, 7, by = 2), times = 7)"
      ],
      "metadata": {
        "id": "ABCyjpFBtjQB"
      },
      "execution_count": null,
      "outputs": []
    },
    {
      "cell_type": "code",
      "source": [
        "Instructions\n",
        "100 XP\n",
        "Using the function seq(), create a sequence that ranges from 1 to 500 in increments of 3. Assign the resulting vector to a variable seq1.\n",
        "Again with the function seq(), create a sequence that ranges from 1200 to 900 in increments of -7. Assign it to a variable seq2.\n",
        "Calculate the total sum of the sequences, either by using the sum() function twice and adding the two results, or by first concatenating the sequences and then using the sum() function once. Print the result to the console.\n",
        "\n",
        "# Create first sequence: seq1\n",
        "seq1 <- seq(1, 500, by = 3)\n",
        "\n",
        "# Create second sequence: seq2\n",
        "seq2 <- seq(1200, 900, by = -7)\n",
        "\n",
        "# Calculate total sum of the sequences\n",
        "sum(seq1) + sum(seq2)\n"
      ],
      "metadata": {
        "id": "NpCjnW3TtjMa"
      },
      "execution_count": null,
      "outputs": []
    },
    {
      "cell_type": "code",
      "source": [
        "Instructions\n",
        "100 XP\n",
        "Use grepl() to generate a vector of logicals that indicates whether these email addressess contain \"edu\". Print the result to the output.\n",
        "Do the same thing with grep(), but this time save the resulting indexes in a variable hits.\n",
        "Use the variable hits to select from the emails vector only the emails that contain \"edu\".\n",
        "\n",
        "\n",
        "# The emails vector has already been defined for you\n",
        "emails <- c(\"john.doe@ivyleague.edu\", \"education@world.gov\", \"dalai.lama@peace.org\",\n",
        "            \"invalid.edu\", \"quant@bigdatacollege.edu\", \"cookie.monster@sesame.tv\")\n",
        "\n",
        "# Use grepl() to match for \"edu\"\n",
        "grepl(\"edu\", emails)\n",
        "\n",
        "# Use grep() to match for \"edu\", save result to hits\n",
        "hits <- grep(\"edu\", emails)\n",
        "\n",
        "# Subset emails using hits\n",
        "emails[hits]"
      ],
      "metadata": {
        "id": "xNnT9Jz_uIKd"
      },
      "execution_count": null,
      "outputs": []
    },
    {
      "cell_type": "code",
      "source": [
        "Instructions\n",
        "100 XP\n",
        "Use grepl() with the more advanced regular expression to return a logical vector. Simply print the result.\n",
        "Do a similar thing with grep() to create a vector of indices. Store the result in the variable hits.\n",
        "Use emails[hits] again to subset the emails vector.\n",
        "\n",
        "# The emails vector has already been defined for you\n",
        "emails <- c(\"john.doe@ivyleague.edu\", \"education@world.gov\", \"dalai.lama@peace.org\",\n",
        "            \"invalid.edu\", \"quant@bigdatacollege.edu\", \"cookie.monster@sesame.tv\")\n",
        "\n",
        "# Use grepl() to match for .edu addresses more robustly\n",
        "grepl(\"@.*\\\\.edu$\", emails)\n",
        "\n",
        "# Use grep() to match for .edu addresses more robustly, save result to hits\n",
        "hits <- grep(\"@.*\\\\.edu$\", emails)\n",
        "\n",
        "# Subset emails using hits\n",
        "emails[hits]"
      ],
      "metadata": {
        "id": "B5wPP6WOtjIr"
      },
      "execution_count": null,
      "outputs": []
    },
    {
      "cell_type": "code",
      "source": [
        "Instructions\n",
        "100 XP\n",
        "With the advanced regular expression \"@.*\\\\.edu$\", use sub() to replace the match with \"@datacamp.edu\". Since there will only be one match per character string, gsub() is not necessary here. Inspect the resulting output.\n",
        "\n",
        "# The emails vector has already been defined for you\n",
        "emails <- c(\"john.doe@ivyleague.edu\", \"education@world.gov\", \"global@peace.org\",\n",
        "            \"invalid.edu\", \"quant@bigdatacollege.edu\", \"cookie.monster@sesame.tv\")\n",
        "\n",
        "# Use sub() to convert the email domains to datacamp.edu\n",
        "sub(\"@.*\\\\.edu$\", \"@datacamp.edu\", emails)\n"
      ],
      "metadata": {
        "id": "55UUsZqpv-FP"
      },
      "execution_count": null,
      "outputs": []
    },
    {
      "cell_type": "code",
      "source": [
        "Ask R for the current date, and store the result in a variable today.\n",
        "To see what today looks like under the hood, call unclass() on it.\n",
        "Ask R for the current time, and store the result in a variable, now.\n",
        "To see the numerical value that corresponds to now, call unclass() on it.\n",
        "\n",
        "# Get the current date: today\n",
        "today <- Sys.Date()\n",
        "\n",
        "# See what today looks like under the hood\n",
        "unclass(today)\n",
        "\n",
        "# Get the current time: now\n",
        "now <- Sys.time()\n",
        "\n",
        "# See what now looks like under the hood\n",
        "unclass(now)"
      ],
      "metadata": {
        "id": "JiGNPyrdyF8c"
      },
      "execution_count": null,
      "outputs": []
    },
    {
      "cell_type": "code",
      "source": [
        "Instructions\n",
        "100 XP\n",
        "Three character strings representing dates have been created for you. Convert them to dates using as.Date(), and assign them to date1, date2, and date3 respectively. The code for date1 is already included.\n",
        "Extract useful information from the dates as character strings using format(). From the first date, select the weekday. From the second date, select the day of the month. From the third date, you should select the abbreviated month and the 4-digit year, separated by a space.\n",
        "\n",
        "\n",
        "# Definition of character strings representing dates\n",
        "str1 <- \"May 23, '96\"\n",
        "str2 <- \"2012-03-15\"\n",
        "str3 <- \"30/January/2006\"\n",
        "\n",
        "# Convert the strings to dates: date1, date2, date3\n",
        "date1 <- as.Date(str1, format = \"%b %d, '%y\")\n",
        "date2 <- as.Date(str2)\n",
        "date3 <- as.Date(str3, format = \"%d/%B/%Y\")\n",
        "\n",
        "# Convert dates to formatted strings\n",
        "format(date1, \"%A\")\n",
        "format(date2, \"%d\")\n",
        "format(date3, \"%b %Y\")\n"
      ],
      "metadata": {
        "id": "9i6zrZsUASao"
      },
      "execution_count": null,
      "outputs": []
    },
    {
      "cell_type": "code",
      "source": [
        "Instructions\n",
        "100 XP\n",
        "Convert two strings that represent timestamps, str1 and str2, to POSIXct objects called time1 and time2.\n",
        "Using format(), create a string from time1 containing only the minutes.\n",
        "From time2, extract the hours and minutes as \"hours:minutes AM/PM\". Refer to the assignment text above to find the correct conversion symbols!\n",
        "\n",
        "\n",
        "# Definition of character strings representing times\n",
        "str1 <- \"May 23, '96 hours:23 minutes:01 seconds:45\"\n",
        "str2 <- \"2012-3-12 14:23:08\"\n",
        "\n",
        "# Convert the strings to POSIXct objects: time1, time2\n",
        "time1 <- as.POSIXct(str1, format = \"%B %d, '%y hours:%H minutes:%M seconds:%S\")\n",
        "time2 <- as.POSIXct(str2)\n",
        "\n",
        "# Convert times to formatted strings\n",
        "format(time1, \"%M\")\n",
        "format(time2, \"%I:%M %p\")"
      ],
      "metadata": {
        "id": "Dvgim_LZAdMg"
      },
      "execution_count": null,
      "outputs": []
    },
    {
      "cell_type": "code",
      "source": [
        "Instructions\n",
        "100 XP\n",
        "Calculate the number of days that passed between the last and the first day you ate pizza. Print the result.\n",
        "Use the function diff() on pizza to calculate the differences between consecutive pizza days. Store the result in a new variable day_diff.\n",
        "Calculate the average period between two consecutive pizza days. Print the result.\n",
        "\n",
        "\n",
        "# day1, day2, day3, day4 and day5 are already available in the workspace\n",
        "\n",
        "# Difference between last and first pizza day\n",
        "day5 - day1\n",
        "\n",
        "# Create vector pizza\n",
        "pizza <- c(day1, day2, day3, day4, day5)\n",
        "\n",
        "# Create differences between consecutive pizza days: day_diff\n",
        "day_diff <- diff(pizza)\n",
        "\n",
        "# Average period between two consecutive pizza days\n",
        "mean(day_diff)"
      ],
      "metadata": {
        "id": "HbRx98rcAbrE"
      },
      "execution_count": null,
      "outputs": []
    },
    {
      "cell_type": "code",
      "source": [
        "Instructions\n",
        "100 XP\n",
        "Calculate the difference between the two vectors logout and login, i.e. the time the user was online in each independent session. Store the result in a variable time_online.\n",
        "Inspect the variable time_online by printing it.\n",
        "Calculate the total time that the user was online. Print the result.\n",
        "Calculate the average time the user was online. Print the result.\n",
        "\n",
        "# login and logout are already defined in the workspace\n",
        "# Calculate the difference between login and logout: time_online\n",
        "time_online <- logout - login\n",
        "\n",
        "# Inspect the variable time_online\n",
        "time_online\n",
        "\n",
        "# Calculate the total time online\n",
        "sum(time_online)\n",
        "\n",
        "# Calculate the average time online\n",
        "mean(time_online)\n"
      ],
      "metadata": {
        "id": "CvVttXBvByD4"
      },
      "execution_count": null,
      "outputs": []
    },
    {
      "cell_type": "code",
      "source": [
        "Instructions\n",
        "100 XP\n",
        "Use as.Date() to convert the astro vector to a vector containing Date objects. You will need the %d, %b and %Y symbols to specify the format. Store the resulting vector as astro_dates.\n",
        "Use as.Date() to convert the meteo vector to a vector with Date objects. This time, you will need the %B, %d and %y symbols for the format argument. Store the resulting vector as meteo_dates.\n",
        "With a combination of max(), abs() and -, calculate the maximum absolute difference between the astronomical and the meteorological beginnings of a season, i.e. astro_dates and meteo_dates. Simply print this maximum difference to the console output.\n",
        "\n",
        "# Convert astro to vector of Date objects: astro_dates\n",
        "astro_dates <- as.Date(astro, format = \"%d-%b-%Y\")\n",
        "\n",
        "# Convert meteo to vector of Date objects: meteo_dates\n",
        "meteo_dates <- as.Date(meteo, format = \"%B %d, %y\")\n",
        "\n",
        "# Calculate the maximum absolute difference between astro_dates and meteo_dates\n",
        "max(abs(meteo_dates - astro_dates))\n"
      ],
      "metadata": {
        "id": "NfgUSN76ByAU"
      },
      "execution_count": null,
      "outputs": []
    }
  ]
}