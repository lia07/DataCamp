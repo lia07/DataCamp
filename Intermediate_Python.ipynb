{
  "nbformat": 4,
  "nbformat_minor": 0,
  "metadata": {
    "colab": {
      "provenance": [],
      "authorship_tag": "ABX9TyNUISbOyk59tnoAz53550Jf",
      "include_colab_link": true
    },
    "kernelspec": {
      "name": "python3",
      "display_name": "Python 3"
    },
    "language_info": {
      "name": "python"
    }
  },
  "cells": [
    {
      "cell_type": "markdown",
      "metadata": {
        "id": "view-in-github",
        "colab_type": "text"
      },
      "source": [
        "<a href=\"https://colab.research.google.com/github/lia07/DataCamp/blob/main/Intermediate_Python.ipynb\" target=\"_parent\"><img src=\"https://colab.research.google.com/assets/colab-badge.svg\" alt=\"Open In Colab\"/></a>"
      ]
    },
    {
      "cell_type": "code",
      "execution_count": null,
      "metadata": {
        "id": "1QTYI0MPVDtP"
      },
      "outputs": [],
      "source": [
        "Instructions\n",
        "100 XP\n",
        "print() the last item from both the year and the pop list to see what the predicted population for the year 2100 is. Use two print() functions.\n",
        "Before you can start, you should import matplotlib.pyplot as plt. pyplot is a sub-package of matplotlib, hence the dot.\n",
        "Use plt.plot() to build a line plot. year should be mapped on the horizontal axis, pop on the vertical axis. Don't forget to finish off with the plt.show() function to actually display the plot.\n",
        "\n",
        "\n",
        "# Print the last item from year and pop\n",
        "print(year[-1])\n",
        "print(pop[-1])\n",
        "\n",
        "\n",
        "# Import matplotlib.pyplot as plt\n",
        "import matplotlib.pyplot as plt\n",
        "\n",
        "plt.plot(year, pop)\n",
        "\n",
        "# Display the plot with plt.show()\n",
        "plt.show()"
      ]
    },
    {
      "cell_type": "code",
      "source": [
        "Instructions\n",
        "100 XP\n",
        "Print the last item from both the list gdp_cap, and the list life_exp; it is information about Zimbabwe.\n",
        "Build a line chart, with gdp_cap on the x-axis, and life_exp on the y-axis. Does it make sense to plot this data on a line plot?\n",
        "Don't forget to finish off with a plt.show() command, to actually display the plot.\n",
        "\n",
        "# Print the last item of gdp_cap and life_exp\n",
        "print(gdp_cap[-1])\n",
        "print(life_exp[-1])\n",
        "\n",
        "# Make a line plot, gdp_cap on the x-axis, life_exp on the y-axis\n",
        "plt.plot(gdp_cap, life_exp)\n",
        "\n",
        "# Display the plot\n",
        "plt.show()\n",
        "\n"
      ],
      "metadata": {
        "id": "kxDxzmleVNF7"
      },
      "execution_count": null,
      "outputs": []
    },
    {
      "cell_type": "code",
      "source": [
        "Instructions\n",
        "100 XP\n",
        "Change the line plot that's coded in the script to a scatter plot.\n",
        "A correlation will become clear when you display the GDP per capita on a logarithmic scale. Add the line plt.xscale('log').\n",
        "Finish off your script with plt.show() to display the plot.\n",
        "\n",
        "# Change the line plot below to a scatter plot\n",
        "plt.scatter(gdp_cap, life_exp)\n",
        "\n",
        "# Put the x-axis on a logarithmic scale\n",
        "plt.xscale('log')\n",
        "\n",
        "# Show plot\n",
        "plt.show()\n",
        "\n"
      ],
      "metadata": {
        "id": "4i7HxXcbVNCj"
      },
      "execution_count": null,
      "outputs": []
    },
    {
      "cell_type": "code",
      "source": [
        "Instructions\n",
        "100 XP\n",
        "Start from scratch: import matplotlib.pyplot as plt.\n",
        "Build a scatter plot, where pop is mapped on the horizontal axis, and life_exp is mapped on the vertical axis.\n",
        "Finish the script with plt.show() to actually display the plot. Do you see a correlation?\n",
        "\n",
        "# Import package\n",
        "import matplotlib.pyplot as plt\n",
        "\n",
        "# Build Scatter plot\n",
        "plt.scatter(pop, life_exp)\n",
        "\n",
        "# Show plot\n",
        "plt.show()\n"
      ],
      "metadata": {
        "id": "2dBhMcyQVNAF"
      },
      "execution_count": null,
      "outputs": []
    },
    {
      "cell_type": "code",
      "source": [
        "Instructions\n",
        "100 XP\n",
        "Use plt.hist() to create a histogram of the values in life_exp. Do not specify the number of bins; Python will set the number of bins to 10 by default for you.\n",
        "Add plt.show() to actually display the histogram. Can you tell which bin contains the most observations?\n",
        "\n",
        "\n",
        "# Create histogram of life_exp data\n",
        "plt.hist(life_exp)\n",
        "\n",
        "# Display histogram\n",
        "plt.show()"
      ],
      "metadata": {
        "id": "esQ-N0zgVM9l"
      },
      "execution_count": null,
      "outputs": []
    },
    {
      "cell_type": "code",
      "source": [
        "Instructions\n",
        "100 XP\n",
        "Build a histogram of life_exp, with 5 bins. Can you tell which bin contains the most observations?\n",
        "Build another histogram of life_exp, this time with 20 bins. Is this better?\n",
        "\n",
        "# Build histogram with 5 bins\n",
        "plt.hist(life_exp,bins = 5)\n",
        "\n",
        "# Show and clean up plot\n",
        "plt.show()\n",
        "plt.clf()\n",
        "\n",
        "# Build histogram with 20 bins\n",
        "plt.hist(life_exp,bins = 20)\n",
        "\n",
        "# Show and clean up again\n",
        "plt.show()\n",
        "plt.clf()"
      ],
      "metadata": {
        "id": "Sk_QYH3vVM61"
      },
      "execution_count": null,
      "outputs": []
    },
    {
      "cell_type": "code",
      "source": [
        "Instructions\n",
        "100 XP\n",
        "Build a histogram of life_exp with 15 bins.\n",
        "Build a histogram of life_exp1950, also with 15 bins. Is there a big difference with the histogram for the 2007 data?\n",
        "\n",
        "# Histogram of life_exp, 15 bins\n",
        "plt.hist(life_exp, bins = 15)\n",
        "\n",
        "# Show and clear plot\n",
        "plt.show()\n",
        "plt.clf()\n",
        "\n",
        "# Histogram of life_exp1950, 15 bins\n",
        "plt.hist(life_exp1950, bins = 15)\n",
        "\n",
        "# Show and clear plot again\n",
        "plt.show()\n",
        "plt.clf()\n"
      ],
      "metadata": {
        "id": "9pIaD8bFVM4c"
      },
      "execution_count": null,
      "outputs": []
    },
    {
      "cell_type": "code",
      "source": [
        "Instructions\n",
        "100 XP\n",
        "The strings xlab and ylab are already set for you. Use these variables to set the label of the x- and y-axis.\n",
        "The string title is also coded for you. Use it to add a title to the plot.\n",
        "After these customizations, finish the script with plt.show() to actually display the plot.\n",
        "\n",
        "# Basic scatter plot, log scale\n",
        "plt.scatter(gdp_cap, life_exp)\n",
        "plt.xscale('log')\n",
        "\n",
        "# Strings\n",
        "xlab = 'GDP per Capita [in USD]'\n",
        "ylab = 'Life Expectancy [in years]'\n",
        "title = 'World Development in 2007'\n",
        "\n",
        "# Add axis labels\n",
        "\n",
        "plt.xlabel(xlab)\n",
        "plt.ylabel(ylab)\n",
        "# Add title\n",
        "plt.title(title)\n",
        "# After customizing, display the plot\n",
        "plt.show()"
      ],
      "metadata": {
        "id": "b6KbmjWeVM15"
      },
      "execution_count": null,
      "outputs": []
    },
    {
      "cell_type": "code",
      "source": [
        "Instructions\n",
        "100 XP\n",
        "Use tick_val and tick_lab as inputs to the xticks() function to make the the plot more readable.\n",
        "As usual, display the plot with plt.show() after you've added the customizations.\n",
        "\n",
        "\n",
        "# Scatter plot\n",
        "plt.scatter(gdp_cap, life_exp)\n",
        "\n",
        "# Previous customizations\n",
        "plt.xscale('log')\n",
        "plt.xlabel('GDP per Capita [in USD]')\n",
        "plt.ylabel('Life Expectancy [in years]')\n",
        "plt.title('World Development in 2007')\n",
        "\n",
        "# Definition of tick_val and tick_lab\n",
        "tick_val = [1000, 10000, 100000]\n",
        "tick_lab = ['1k', '10k', '100k']\n",
        "\n",
        "# Adapt the ticks on the x-axis\n",
        "plt.xticks(tick_val, tick_lab)\n",
        "\n",
        "# After customizing, display the plot\n",
        "plt.show()"
      ],
      "metadata": {
        "id": "XxCN_3J5VMzP"
      },
      "execution_count": null,
      "outputs": []
    },
    {
      "cell_type": "code",
      "source": [
        "Instructions\n",
        "100 XP\n",
        "Use tick_val and tick_lab as inputs to the xticks() function to make the the plot more readable.\n",
        "As usual, display the plot with plt.show() after you've added the customizations.\n",
        "\n",
        "\n",
        "# Scatter plot\n",
        "plt.scatter(gdp_cap, life_exp)\n",
        "\n",
        "# Previous customizations\n",
        "plt.xscale('log')\n",
        "plt.xlabel('GDP per Capita [in USD]')\n",
        "plt.ylabel('Life Expectancy [in years]')\n",
        "plt.title('World Development in 2007')\n",
        "\n",
        "# Definition of tick_val and tick_lab\n",
        "tick_val = [1000, 10000, 100000]\n",
        "tick_lab = ['1k', '10k', '100k']\n",
        "\n",
        "# Adapt the ticks on the x-axis\n",
        "plt.xticks(tick_val, tick_lab)\n",
        "\n",
        "# After customizing, display the plot\n",
        "plt.show()"
      ],
      "metadata": {
        "id": "93tpIlx4ZIzA"
      },
      "execution_count": null,
      "outputs": []
    },
    {
      "cell_type": "code",
      "source": [
        "Instructions\n",
        "100 XP\n",
        "Run the script to see how the plot changes.\n",
        "Looks good, but increasing the size of the bubbles will make things stand out more.\n",
        "Import the numpy package as np.\n",
        "Use np.array() to create a numpy array from the list pop. Call this NumPy array np_pop.\n",
        "Double the values in np_pop setting the value of np_pop equal to np_pop * 2. Because np_pop is a NumPy array, each array element will be doubled.\n",
        "Change the s argument inside plt.scatter() to be np_pop instead of pop.\n",
        "\n",
        "\n",
        "# Import numpy as np\n",
        "import  numpy as np\n",
        "\n",
        "# Store pop as a numpy array: np_pop\n",
        "np_pop = np.array(pop)\n",
        "\n",
        "# Double np_pop\n",
        "np_pop = np_pop*2\n",
        "\n",
        "# Update: set s argument to np_pop\n",
        "plt.scatter(gdp_cap, life_exp, s = np_pop)\n",
        "\n",
        "# Previous customizations\n",
        "plt.xscale('log')\n",
        "plt.xlabel('GDP per Capita [in USD]')\n",
        "plt.ylabel('Life Expectancy [in years]')\n",
        "plt.title('World Development in 2007')\n",
        "plt.xticks([1000, 10000, 100000],['1k', '10k', '100k'])\n",
        "\n",
        "# Display the plot\n",
        "plt.show()"
      ],
      "metadata": {
        "id": "hentiPk2ZIvg"
      },
      "execution_count": null,
      "outputs": []
    },
    {
      "cell_type": "code",
      "source": [
        "Instructions\n",
        "100 XP\n",
        "Add c = col to the arguments of the plt.scatter() function.\n",
        "Change the opacity of the bubbles by setting the alpha argument to 0.8 inside plt.scatter(). Alpha can be set from zero to one, where zero is totally transparent, and one is not at all transparent.\n",
        "\n",
        "\n",
        "# Specify c and alpha inside plt.scatter()\n",
        "plt.scatter(x = gdp_cap, y = life_exp, s = np.array(pop) * 2, c = col, alpha = 0.8)\n",
        "\n",
        "# Previous customizations\n",
        "plt.xscale('log')\n",
        "plt.xlabel('GDP per Capita [in USD]')\n",
        "plt.ylabel('Life Expectancy [in years]')\n",
        "plt.title('World Development in 2007')\n",
        "plt.xticks([1000,10000,100000], ['1k','10k','100k'])\n",
        "\n",
        "# Show the plot\n",
        "plt.show()\n"
      ],
      "metadata": {
        "id": "T3beFEyqb0Ds"
      },
      "execution_count": null,
      "outputs": []
    },
    {
      "cell_type": "code",
      "source": [
        "Instructions\n",
        "100 XP\n",
        "Add plt.grid(True) after the plt.text() calls so that gridlines are drawn on the plot.\n",
        "\n",
        "\n",
        "# Scatter plot\n",
        "plt.scatter(x = gdp_cap, y = life_exp, s = np.array(pop) * 2, c = col, alpha = 0.8)\n",
        "\n",
        "# Previous customizations\n",
        "plt.xscale('log')\n",
        "plt.xlabel('GDP per Capita [in USD]')\n",
        "plt.ylabel('Life Expectancy [in years]')\n",
        "plt.title('World Development in 2007')\n",
        "plt.xticks([1000,10000,100000], ['1k','10k','100k'])\n",
        "\n",
        "# Additional customizations\n",
        "plt.text(1550, 71, 'India')\n",
        "plt.text(5700, 80, 'China')\n",
        "\n",
        "# Add grid() call\n",
        "plt.grid(True)\n",
        "\n",
        "# Show the plot\n",
        "plt.show()"
      ],
      "metadata": {
        "id": "ffRRfPhFb0AK"
      },
      "execution_count": null,
      "outputs": []
    },
    {
      "cell_type": "code",
      "source": [
        "Instructions\n",
        "100 XP\n",
        "Use the index() method on countries to find the index of 'germany'. Store this index as ind_ger.\n",
        "Use ind_ger to access the capital of Germany from the capitals list. Print it out.\n",
        "\n",
        "# Definition of countries and capital\n",
        "countries = ['spain', 'france', 'germany', 'norway']\n",
        "capitals = ['madrid', 'paris', 'berlin', 'oslo']\n",
        "\n",
        "# Get index of 'germany': ind_ger\n",
        "ind_ger=countries.index('germany')\n",
        "\n",
        "# Use ind_ger to print out capital of Germany\n",
        "print(capitals[ind_ger])\n"
      ],
      "metadata": {
        "id": "deTS_lJTbz9f"
      },
      "execution_count": null,
      "outputs": []
    },
    {
      "cell_type": "code",
      "source": [
        "Instructions\n",
        "100 XP\n",
        "With the strings in countries and capitals, create a dictionary called europe with 4 key:value pairs. Beware of capitalization! Make sure you use lowercase characters everywhere.\n",
        "Print out europe to see if the result is what you expected.\n",
        "\n",
        "# Definition of countries and capital\n",
        "countries = ['spain', 'france', 'germany', 'norway']\n",
        "capitals = ['madrid', 'paris', 'berlin', 'oslo']\n",
        "\n",
        "# From string in countries and capitals, create dictionary europe\n",
        "europe = { 'spain':'madrid', 'france':'paris', 'germany':'berlin', 'norway':'oslo' }\n",
        "\n",
        "# Print europe\n",
        "print(europe)\n"
      ],
      "metadata": {
        "id": "JyJ6U7Yxclq6"
      },
      "execution_count": null,
      "outputs": []
    },
    {
      "cell_type": "code",
      "source": [
        "Instructions\n",
        "100 XP\n",
        "Check out which keys are in europe by calling the keys() method on europe. Print out the result.\n",
        "Print out the value that belongs to the key 'norway'.\n",
        "\n",
        "# Definition of dictionary\n",
        "europe = {'spain':'madrid', 'france':'paris', 'germany':'berlin', 'norway':'oslo' }\n",
        "\n",
        "# Print out the keys in europe\n",
        "print(europe.keys())\n",
        "\n",
        "# Print out value that belongs to key 'norway'\n",
        "print((europe['norway']))"
      ],
      "metadata": {
        "id": "NM1sCulbclnY"
      },
      "execution_count": null,
      "outputs": []
    },
    {
      "cell_type": "markdown",
      "source": [
        "# **Dictionary Manipulation (1)**"
      ],
      "metadata": {
        "id": "-rQd9fXSd42P"
      }
    },
    {
      "cell_type": "code",
      "source": [
        "Instructions\n",
        "100 XP\n",
        "Add the key 'italy' with the value 'rome' to europe.\n",
        "To assert that 'italy' is now a key in europe, print out 'italy' in europe.\n",
        "Add another key:value pair to europe: 'poland' is the key, 'warsaw' is the corresponding value.\n",
        "Print out europe.\n",
        "\n",
        "# Definition of dictionary\n",
        "europe = {'spain':'madrid', 'france':'paris', 'germany':'berlin', 'norway':'oslo'}\n",
        "\n",
        "# Add italy to europe\n",
        "europe['italy'] = 'rome'\n",
        "\n",
        "# Print out italy in europe\n",
        "print('italy' in europe)\n",
        "\n",
        "# Add poland to europe\n",
        "europe['poland'] = 'warsaw'\n",
        "\n",
        "# Print europe\n",
        "print(europe)"
      ],
      "metadata": {
        "id": "DEwVPhVjclkf"
      },
      "execution_count": null,
      "outputs": []
    },
    {
      "cell_type": "markdown",
      "source": [
        "# **Dictionary Manipulation (2)**"
      ],
      "metadata": {
        "id": "4RxY7UbdeJIw"
      }
    },
    {
      "cell_type": "code",
      "source": [
        "Instructions\n",
        "100 XP\n",
        "The capital of Germany is not 'bonn'; it's 'berlin'. Update its value.\n",
        "Australia is not in Europe, Austria is! Remove the key 'australia' from europe.\n",
        "Print out europe to see if your cleaning work paid off.\n",
        "\n",
        "# Definition of dictionary\n",
        "europe = {'spain':'madrid', 'france':'paris', 'germany':'bonn',\n",
        "          'norway':'oslo', 'italy':'rome', 'poland':'warsaw',\n",
        "          'australia':'vienna' }\n",
        "\n",
        "# Update capital of germany\n",
        "europe['germany'] = 'berlin'\n",
        "\n",
        "# Remove australia\n",
        "del(europe['australia'])\n",
        "\n",
        "# Print europe\n",
        "print(europe)"
      ],
      "metadata": {
        "id": "DIpUCtxGbz68"
      },
      "execution_count": null,
      "outputs": []
    },
    {
      "cell_type": "markdown",
      "source": [
        "# **Dictionariception**\n",
        "Remember lists? They could contain anything, even other lists. Well, for dictionaries the same holds. Dictionaries can contain key:value pairs where the values are again dictionaries."
      ],
      "metadata": {
        "id": "u5O0lhNxe5BG"
      }
    },
    {
      "cell_type": "code",
      "source": [
        "Instructions\n",
        "100 XP\n",
        "Use chained square brackets to select and print out the capital of France.\n",
        "Create a dictionary, named data, with the keys 'capital' and 'population'. Set them to 'rome' and 59.83, respectively.\n",
        "Add a new key-value pair to europe; the key is 'italy' and the value is data, the dictionary you just built.\n",
        "\n",
        "# Dictionary of dictionaries\n",
        "europe = { 'spain': { 'capital':'madrid', 'population':46.77 },\n",
        "           'france': { 'capital':'paris', 'population':66.03 },\n",
        "           'germany': { 'capital':'berlin', 'population':80.62 },\n",
        "           'norway': { 'capital':'oslo', 'population':5.084 } }\n",
        "\n",
        "\n",
        "# Print out the capital of France\n",
        "print(europe['france'], ['capital'])\n",
        "\n",
        "# Create sub-dictionary data\n",
        "data = {'capital':'rome', 'population':59.83}\n",
        "\n",
        "# Add data to europe under key 'italy'\n",
        "europe['italy'] = data\n",
        "\n",
        "# Print europe\n",
        "print(europe)"
      ],
      "metadata": {
        "id": "5PUOMcsEebUJ"
      },
      "execution_count": null,
      "outputs": []
    },
    {
      "cell_type": "code",
      "source": [],
      "metadata": {
        "id": "4rhbQMtxebQu"
      },
      "execution_count": null,
      "outputs": []
    },
    {
      "cell_type": "code",
      "source": [],
      "metadata": {
        "id": "p5OAbAPIebN-"
      },
      "execution_count": null,
      "outputs": []
    },
    {
      "cell_type": "code",
      "source": [],
      "metadata": {
        "id": "oYf48PfFbz4h"
      },
      "execution_count": null,
      "outputs": []
    },
    {
      "cell_type": "code",
      "source": [],
      "metadata": {
        "id": "SVqe95YybLi-"
      },
      "execution_count": null,
      "outputs": []
    },
    {
      "cell_type": "code",
      "source": [],
      "metadata": {
        "id": "-O0ZMBahbLff"
      },
      "execution_count": null,
      "outputs": []
    },
    {
      "cell_type": "code",
      "source": [],
      "metadata": {
        "id": "cn6jXJF4bLdD"
      },
      "execution_count": null,
      "outputs": []
    }
  ]
}