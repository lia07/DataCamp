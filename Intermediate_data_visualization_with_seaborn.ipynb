{
  "nbformat": 4,
  "nbformat_minor": 0,
  "metadata": {
    "colab": {
      "name": "Intermediate_data_visualization_with_seaborn.ipynb",
      "provenance": [],
      "authorship_tag": "ABX9TyNeqfj8CSLGsnsuvOSwAyJ0",
      "include_colab_link": true
    },
    "kernelspec": {
      "name": "python3",
      "display_name": "Python 3"
    },
    "language_info": {
      "name": "python"
    }
  },
  "cells": [
    {
      "cell_type": "markdown",
      "metadata": {
        "id": "view-in-github",
        "colab_type": "text"
      },
      "source": [
        "<a href=\"https://colab.research.google.com/github/lia07/DataCamp/blob/main/Intermediate_data_visualization_with_seaborn.ipynb\" target=\"_parent\"><img src=\"https://colab.research.google.com/assets/colab-badge.svg\" alt=\"Open In Colab\"/></a>"
      ]
    },
    {
      "cell_type": "markdown",
      "metadata": {
        "id": "cCTN_JwQ4qOk"
      },
      "source": [
        "1"
      ]
    },
    {
      "cell_type": "code",
      "metadata": {
        "id": "XbvjQdXx4Ew7"
      },
      "source": [
        "Instructions\n",
        "100 XP\n",
        "Import pandas and seaborn using the standard naming conventions.\n",
        "The path to the csv file is stored in the grant_file variable.\n",
        "Use pandas to read the file.\n",
        "Store the resulting DataFrame in the variable df.\n",
        "\n",
        "# import all modules\n",
        "import pandas as pd\n",
        "import seaborn as sns\n",
        "import matplotlib.pyplot as plt\n",
        "\n",
        "# Read in the DataFrame\n",
        "df = pd.read_csv(grant_file)\n"
      ],
      "execution_count": null,
      "outputs": []
    },
    {
      "cell_type": "code",
      "metadata": {
        "id": "9TAHW1o14SUv"
      },
      "source": [
        "Instructions 1/2\n",
        "50 XP\n",
        "2\n",
        "Use the pandas' plot.hist() function to plot a histogram of the Award_Amount column.\n",
        "\n",
        "# Display pandas histogram\n",
        "df['Award_Amount'].plot.hist()\n",
        "plt.show()\n",
        "\n",
        "# Clear out the pandas histogram\n",
        "plt.clf()\n",
        "\n"
      ],
      "execution_count": null,
      "outputs": []
    },
    {
      "cell_type": "code",
      "metadata": {
        "id": "kN7GnqC-4kyK"
      },
      "source": [
        "Instructions 2/2\n",
        "50 XP\n",
        "2\n",
        "Use Seaborn's distplot() function to plot a distribution plot of the same column.\n",
        "\n",
        "# Display a Seaborn distplot\n",
        "sns.distplot(df['Award_Amount'])\n",
        "plt.show()\n",
        "\n",
        "# Clear the distplot\n",
        "plt.clf()"
      ],
      "execution_count": null,
      "outputs": []
    },
    {
      "cell_type": "code",
      "metadata": {
        "id": "0wlDzPr25qdb"
      },
      "source": [
        "Instructions\n",
        "100 XP\n",
        "Create a distplot for the data and disable the KDE.\n",
        "Explicitly pass in the number 20 for the number of bins in the histogram.\n",
        "Display the plot using plt.show().\n",
        "\n",
        "# Create a distplot\n",
        "sns.distplot(df['Award_Amount'],\n",
        "             kde=False,\n",
        "             bins=20)\n",
        "\n",
        "# Display the plot\n",
        "plt.show()"
      ],
      "execution_count": null,
      "outputs": []
    },
    {
      "cell_type": "code",
      "metadata": {
        "id": "DP54MXQ_7eCq"
      },
      "source": [
        "Instructions\n",
        "100 XP\n",
        "Create a distplot of the Award_Amount column in the df.\n",
        "Configure it to show a shaded kde (using the kde_kws dictionary).\n",
        "Add a rug plot above the x axis.\n",
        "Display the plot.\n",
        "\n",
        "# Create a distplot of the Award Amount\n",
        "sns.distplot(df['Award_Amount'],\n",
        "             hist=False,\n",
        "             rug=True,\n",
        "             kde_kws={'shade':True})\n",
        "\n",
        "# Plot the results\n",
        "plt.show()"
      ],
      "execution_count": null,
      "outputs": []
    },
    {
      "cell_type": "code",
      "metadata": {
        "id": "IOKul1Lv8Hd0"
      },
      "source": [
        "Instructions 1/2\n",
        "50 XP\n",
        "1\n",
        "2\n",
        "The data is available in the dataframe called df.\n",
        "Create a regression plot using regplot() with \"insurance_losses\" on the x axis and \"premiums\" on the y axis.\n",
        "\n",
        "# Create a regression plot of premiums vs. insurance_losses\n",
        "sns.regplot(data=df,\n",
        "            x=\"insurance_losses\",\n",
        "            y=\"premiums\")\n",
        "\n",
        "# Display the plot\n",
        "plt.show()"
      ],
      "execution_count": null,
      "outputs": []
    },
    {
      "cell_type": "code",
      "metadata": {
        "id": "4KYBhsuF-OnR"
      },
      "source": [
        "Instructions 2/2\n",
        "50 XP\n",
        "2\n",
        "Create a regression plot of \"premiums\" versus \"insurance_losses\" using lmplot().\n",
        "Display the plot.\n",
        "\n",
        "# Create an lmplot of premiums vs. insurance_losses\n",
        "sns.lmplot(data=df,\n",
        "           x=\"insurance_losses\",\n",
        "           y=\"premiums\")\n",
        "\n",
        "# Display the second plot\n",
        "plt.show()"
      ],
      "execution_count": null,
      "outputs": []
    },
    {
      "cell_type": "code",
      "metadata": {
        "id": "f1lEKUOo-i6C"
      },
      "source": [
        "Instructions\n",
        "100 XP\n",
        "Use lmplot() to look at the relationship between insurance_losses and premiums.\n",
        "Plot a regression line for each Region of the country.\n",
        "\n",
        "# Create a regression plot using hue\n",
        "sns.lmplot(data=df,\n",
        "           x=\"insurance_losses\",\n",
        "           y=\"premiums\",\n",
        "           hue=\"Region\")\n",
        "\n",
        "# Show the results\n",
        "plt.show()"
      ],
      "execution_count": null,
      "outputs": []
    },
    {
      "cell_type": "code",
      "metadata": {
        "id": "yCkHbF7T-4gY"
      },
      "source": [
        "Instructions\n",
        "100 XP\n",
        "Use lmplot() to look at the relationship between insurance_losses and premiums.\n",
        "Create a plot for each Region of the country.\n",
        "Display the plots across multiple rows.\n",
        "\n",
        "# Create a regression plot with multiple rows\n",
        "sns.lmplot(data=df,\n",
        "           x=\"insurance_losses\",\n",
        "           y=\"premiums\",\n",
        "           row=\"Region\")\n",
        "\n",
        "# Show the plot\n",
        "plt.show()"
      ],
      "execution_count": null,
      "outputs": []
    },
    {
      "cell_type": "markdown",
      "metadata": {
        "id": "t2Vt7kO54gVO"
      },
      "source": [
        "2"
      ]
    },
    {
      "cell_type": "markdown",
      "metadata": {
        "id": "pbLxHyID4hDG"
      },
      "source": [
        ""
      ]
    }
  ]
}