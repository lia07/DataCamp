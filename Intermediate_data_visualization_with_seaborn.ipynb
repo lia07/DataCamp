{
  "nbformat": 4,
  "nbformat_minor": 0,
  "metadata": {
    "colab": {
      "name": "Intermediate_data_visualization_with_seaborn.ipynb",
      "provenance": [],
      "authorship_tag": "ABX9TyPq0TJ0iwfVoFvIm/v9IsjZ",
      "include_colab_link": true
    },
    "kernelspec": {
      "name": "python3",
      "display_name": "Python 3"
    },
    "language_info": {
      "name": "python"
    }
  },
  "cells": [
    {
      "cell_type": "markdown",
      "metadata": {
        "id": "view-in-github",
        "colab_type": "text"
      },
      "source": [
        "<a href=\"https://colab.research.google.com/github/lia07/DataCamp/blob/main/Intermediate_data_visualization_with_seaborn.ipynb\" target=\"_parent\"><img src=\"https://colab.research.google.com/assets/colab-badge.svg\" alt=\"Open In Colab\"/></a>"
      ]
    },
    {
      "cell_type": "markdown",
      "metadata": {
        "id": "cCTN_JwQ4qOk"
      },
      "source": [
        "Intermediate data visualization with seaborn\n",
        "     "
      ]
    },
    {
      "cell_type": "markdown",
      "metadata": {
        "id": "pmUB7mlaAlDy"
      },
      "source": [
        "1"
      ]
    },
    {
      "cell_type": "code",
      "metadata": {
        "id": "XbvjQdXx4Ew7"
      },
      "source": [
        "Instructions\n",
        "100 XP\n",
        "Import pandas and seaborn using the standard naming conventions.\n",
        "The path to the csv file is stored in the grant_file variable.\n",
        "Use pandas to read the file.\n",
        "Store the resulting DataFrame in the variable df.\n",
        "\n",
        "# import all modules\n",
        "import pandas as pd\n",
        "import seaborn as sns\n",
        "import matplotlib.pyplot as plt\n",
        "\n",
        "# Read in the DataFrame\n",
        "df = pd.read_csv(grant_file)\n"
      ],
      "execution_count": null,
      "outputs": []
    },
    {
      "cell_type": "code",
      "metadata": {
        "id": "9TAHW1o14SUv"
      },
      "source": [
        "Instructions 1/2\n",
        "50 XP\n",
        "2\n",
        "Use the pandas' plot.hist() function to plot a histogram of the Award_Amount column.\n",
        "\n",
        "# Display pandas histogram\n",
        "df['Award_Amount'].plot.hist()\n",
        "plt.show()\n",
        "\n",
        "# Clear out the pandas histogram\n",
        "plt.clf()\n",
        "\n"
      ],
      "execution_count": null,
      "outputs": []
    },
    {
      "cell_type": "code",
      "metadata": {
        "id": "kN7GnqC-4kyK"
      },
      "source": [
        "Instructions 2/2\n",
        "50 XP\n",
        "2\n",
        "Use Seaborn's distplot() function to plot a distribution plot of the same column.\n",
        "\n",
        "# Display a Seaborn distplot\n",
        "sns.distplot(df['Award_Amount'])\n",
        "plt.show()\n",
        "\n",
        "# Clear the distplot\n",
        "plt.clf()"
      ],
      "execution_count": null,
      "outputs": []
    },
    {
      "cell_type": "code",
      "metadata": {
        "id": "0wlDzPr25qdb"
      },
      "source": [
        "Instructions\n",
        "100 XP\n",
        "Create a distplot for the data and disable the KDE.\n",
        "Explicitly pass in the number 20 for the number of bins in the histogram.\n",
        "Display the plot using plt.show().\n",
        "\n",
        "# Create a distplot\n",
        "sns.distplot(df['Award_Amount'],\n",
        "             kde=False,\n",
        "             bins=20)\n",
        "\n",
        "# Display the plot\n",
        "plt.show()"
      ],
      "execution_count": null,
      "outputs": []
    },
    {
      "cell_type": "code",
      "metadata": {
        "id": "DP54MXQ_7eCq"
      },
      "source": [
        "Instructions\n",
        "100 XP\n",
        "Create a distplot of the Award_Amount column in the df.\n",
        "Configure it to show a shaded kde (using the kde_kws dictionary).\n",
        "Add a rug plot above the x axis.\n",
        "Display the plot.\n",
        "\n",
        "# Create a distplot of the Award Amount\n",
        "sns.distplot(df['Award_Amount'],\n",
        "             hist=False,\n",
        "             rug=True,\n",
        "             kde_kws={'shade':True})\n",
        "\n",
        "# Plot the results\n",
        "plt.show()"
      ],
      "execution_count": null,
      "outputs": []
    },
    {
      "cell_type": "code",
      "metadata": {
        "id": "IOKul1Lv8Hd0"
      },
      "source": [
        "Instructions 1/2\n",
        "50 XP\n",
        "1\n",
        "2\n",
        "The data is available in the dataframe called df.\n",
        "Create a regression plot using regplot() with \"insurance_losses\" on the x axis and \"premiums\" on the y axis.\n",
        "\n",
        "# Create a regression plot of premiums vs. insurance_losses\n",
        "sns.regplot(data=df,\n",
        "            x=\"insurance_losses\",\n",
        "            y=\"premiums\")\n",
        "\n",
        "# Display the plot\n",
        "plt.show()"
      ],
      "execution_count": null,
      "outputs": []
    },
    {
      "cell_type": "code",
      "metadata": {
        "id": "4KYBhsuF-OnR"
      },
      "source": [
        "Instructions 2/2\n",
        "50 XP\n",
        "2\n",
        "Create a regression plot of \"premiums\" versus \"insurance_losses\" using lmplot().\n",
        "Display the plot.\n",
        "\n",
        "# Create an lmplot of premiums vs. insurance_losses\n",
        "sns.lmplot(data=df,\n",
        "           x=\"insurance_losses\",\n",
        "           y=\"premiums\")\n",
        "\n",
        "# Display the second plot\n",
        "plt.show()"
      ],
      "execution_count": null,
      "outputs": []
    },
    {
      "cell_type": "code",
      "metadata": {
        "id": "f1lEKUOo-i6C"
      },
      "source": [
        "Instructions\n",
        "100 XP\n",
        "Use lmplot() to look at the relationship between insurance_losses and premiums.\n",
        "Plot a regression line for each Region of the country.\n",
        "\n",
        "# Create a regression plot using hue\n",
        "sns.lmplot(data=df,\n",
        "           x=\"insurance_losses\",\n",
        "           y=\"premiums\",\n",
        "           hue=\"Region\")\n",
        "\n",
        "# Show the results\n",
        "plt.show()"
      ],
      "execution_count": null,
      "outputs": []
    },
    {
      "cell_type": "code",
      "metadata": {
        "id": "yCkHbF7T-4gY"
      },
      "source": [
        "Instructions\n",
        "100 XP\n",
        "Use lmplot() to look at the relationship between insurance_losses and premiums.\n",
        "Create a plot for each Region of the country.\n",
        "Display the plots across multiple rows.\n",
        "\n",
        "# Create a regression plot with multiple rows\n",
        "sns.lmplot(data=df,\n",
        "           x=\"insurance_losses\",\n",
        "           y=\"premiums\",\n",
        "           row=\"Region\")\n",
        "\n",
        "# Show the plot\n",
        "plt.show()"
      ],
      "execution_count": null,
      "outputs": []
    },
    {
      "cell_type": "markdown",
      "metadata": {
        "id": "t2Vt7kO54gVO"
      },
      "source": [
        "2"
      ]
    },
    {
      "cell_type": "code",
      "metadata": {
        "id": "sqTxc7MSO4qA"
      },
      "source": [
        "Instructions\n",
        "100 XP\n",
        "Plot a pandas histogram without adjusting the style.\n",
        "Set Seaborn's default style.\n",
        "Create another pandas histogram of the fmr_2 column which represents fair market rent for a 2-bedroom apartment.\n",
        "\n",
        "# Plot the pandas histogram\n",
        "df['fmr_2'].plot.hist()\n",
        "plt.show()\n",
        "plt.clf()\n",
        "\n",
        "# Set the default seaborn style\n",
        "sns.set()\n",
        "\n",
        "# Plot the pandas histogram again\n",
        "df['fmr_2'].plot.hist()\n",
        "plt.show()\n",
        "plt.clf()"
      ],
      "execution_count": null,
      "outputs": []
    },
    {
      "cell_type": "code",
      "metadata": {
        "id": "lcjDVdlIPnWp"
      },
      "source": [
        "Instructions 1/2\n",
        "50 XP\n",
        "1\n",
        "Create a distplot() of the fmr_2 column in df using a dark style. Use plt.clf() to clear the figure.\n",
        "\n",
        "# Plot with a dark style \n",
        "sns.set_style('dark')\n",
        "sns.distplot(df['fmr_2'])\n",
        "plt.show()\n",
        "\n",
        "# Clear the figure\n",
        "plt.clf()\n",
        "\n",
        "-----------\n",
        "Instructions 2/2\n",
        "50 XP\n",
        "2\n",
        "Create the same distplot() of fmr_2 using a whitegrid style. Clear the plot after showing it.\n",
        "\n",
        "sns.distplot(df['fmr_2'])\n",
        "sns.set_style('whitegrid')\n",
        "plt.show()\n",
        "plt.clf()"
      ],
      "execution_count": null,
      "outputs": []
    },
    {
      "cell_type": "code",
      "metadata": {
        "id": "PKBCyUGhQOir"
      },
      "source": [
        "Instructions\n",
        "100 XP\n",
        "Use a white style for the plot.\n",
        "Create a lmplot() comparing the pop2010 and the fmr_2 columns.\n",
        "Remove the top and right spines using despine().\n",
        "\n",
        "# Set the style to white\n",
        "sns.set_style('white')\n",
        "\n",
        "# Create a regression plot\n",
        "sns.lmplot(data=df,\n",
        "           x='pop2010',\n",
        "           y='fmr_2')\n",
        "\n",
        "# Remove the spines\n",
        "sns.despine()\n",
        "\n",
        "# Show the plot and clear the figure\n",
        "plt.show()\n",
        "plt.clf()"
      ],
      "execution_count": null,
      "outputs": []
    },
    {
      "cell_type": "code",
      "metadata": {
        "id": "5zQTbETLRf8K"
      },
      "source": [
        "Instructions\n",
        "100 XP\n",
        "Set the default Seaborn style and enable the matplotlib color codes.\n",
        "Create a distplot for the fmr_3 column using matplotlib's magenta (m) color code.\n",
        "\n",
        "# Set style, enable color code, and create a magenta distplot\n",
        "sns.set(color_codes=True)\n",
        "sns.distplot(df['fmr_3'], color='m')\n",
        "\n",
        "# Show the plot\n",
        "plt.show()"
      ],
      "execution_count": null,
      "outputs": []
    },
    {
      "cell_type": "code",
      "metadata": {
        "id": "AwJ9cSTRTaSQ"
      },
      "source": [
        "nstructions\n",
        "100 XP\n",
        "Create a for loop to show the difference between the bright and colorblind palette.\n",
        "Set the palette using the set_palette() function.\n",
        "Use a distplot of the fmr_3 column.\n",
        "\n",
        "# Loop through differences between bright and colorblind palettes\n",
        "for p in ['bright', 'colorblind']:\n",
        "    sns.set_palette(p)\n",
        "    sns.distplot(df['fmr_3'])\n",
        "    plt.show()\n",
        "    \n",
        "    # Clear the plots    \n",
        "    plt.clf()\n"
      ],
      "execution_count": null,
      "outputs": []
    },
    {
      "cell_type": "code",
      "metadata": {
        "id": "YeH6I82jT9ZZ"
      },
      "source": [
        "Instructions 1/3\n",
        "30 XP\n",
        "1\n",
        "Create and display a Purples sequential palette containing 8 colors.\n",
        "\n",
        "# Create the Purples palette\n",
        "sns.palplot(sns.color_palette(\"Purples\", 8))\n",
        "plt.show()\n",
        "\n",
        "\n",
        "Instructions 2/3\n",
        "30 XP\n",
        "2\n",
        "Create and display a palette with 10 colors using the husl system.\n",
        "\n",
        "# Create the husl palette\n",
        "sns.palplot(sns.color_palette(\"husl\", 10))\n",
        "plt.show()\n",
        "\n",
        "\n",
        "Instructions 3/3\n",
        "40 XP\n",
        "3\n",
        "Create and display a diverging palette with 6 colors coolwarm.\n",
        "# Create the coolwarm palette\n",
        "sns.palplot(sns.color_palette(\"coolwarm\", 6))\n",
        "plt.show()"
      ],
      "execution_count": null,
      "outputs": []
    },
    {
      "cell_type": "code",
      "metadata": {
        "id": "Y0VWvDiIV99S"
      },
      "source": [
        "Instructions\n",
        "100 XP\n",
        "Use plt.subplots() to create a axes and figure objects.\n",
        "Plot a distplot of column fmr_3 on the axes.\n",
        "Set a more useful label on the x axis of \"3 Bedroom Fair Market Rent\".\n",
        "\n",
        "# Create a figure and axes\n",
        "fig, ax = plt.subplots()\n",
        "\n",
        "# Plot the distribution of data\n",
        "sns.distplot(df['fmr_3'], ax=ax)\n",
        "\n",
        "# Create a more descriptive x axis label\n",
        "ax.set(xlabel=\"3 Bedroom Fair Market Rent\")\n",
        "\n",
        "# Show the plot\n",
        "plt.show()"
      ],
      "execution_count": null,
      "outputs": []
    },
    {
      "cell_type": "code",
      "metadata": {
        "id": "YR3BPPeyWSjg"
      },
      "source": [
        "Instructions\n",
        "100 XP\n",
        "Create a distplot of the fmr_1 column.\n",
        "Modify the x axis label to say \"1 Bedroom Fair Market Rent\".\n",
        "Change the x axis limits to be between 100 and 1500.\n",
        "Add a descriptive title of \"US Rent\" to the plot.\n",
        "\n",
        "# Create a figure and axes\n",
        "fig, ax = plt.subplots()\n",
        "\n",
        "# Plot the distribution of 1 bedroom rents\n",
        "sns.distplot(df['fmr_1'], ax=ax)\n",
        "\n",
        "# Modify the properties of the plot\n",
        "ax.set(xlabel=\"1 Bedroom Fair Market Rent\",\n",
        "       xlim=(100,1500),\n",
        "       title=\"US Rent\")\n",
        "\n",
        "# Display the plot\n",
        "plt.show()"
      ],
      "execution_count": null,
      "outputs": []
    },
    {
      "cell_type": "code",
      "metadata": {
        "id": "V2M4PgYuWiKB"
      },
      "source": [
        "Instructions\n",
        "100 XP\n",
        "Create a figure and axes.\n",
        "Plot the fmr_1 column distribution.\n",
        "Add a vertical line using axvline for the median and mean of the values which are already defined.\n",
        "\n",
        "# Create a figure and axes. Then plot the data\n",
        "fig, ax = plt.subplots()\n",
        "sns.distplot(df['fmr_1'], ax=ax)\n",
        "\n",
        "# Customize the labels and limits\n",
        "ax.set(xlabel=\"1 Bedroom Fair Market Rent\", xlim=(100,1500), title=\"US Rent\")\n",
        "\n",
        "# Add vertical lines for the median and mean\n",
        "ax.axvline(x=median, color='m', label='Median', linestyle='--', linewidth=2)\n",
        "ax.axvline(x=mean, color='b', label='Mean', linestyle='-', linewidth=2)\n",
        "\n",
        "# Show the legend and plot the data\n",
        "ax.legend()\n",
        "plt.show()"
      ],
      "execution_count": null,
      "outputs": []
    },
    {
      "cell_type": "code",
      "metadata": {
        "id": "joF0CY2Zlg0a"
      },
      "source": [
        "Instructions\n",
        "100 XP\n",
        "Create two axes objects, ax0 and ax1.\n",
        "Plot fmr_1 on ax0 and fmr_2 on ax1.\n",
        "Display the plots side by side.\n",
        "\n",
        "# Create a plot with 1 row and 2 columns that share the y axis label\n",
        "fig, (ax0, ax1) = plt.subplots(nrows=1, ncols=2, sharey=True)\n",
        "\n",
        "# Plot the distribution of 1 bedroom apartments on ax0\n",
        "sns.distplot(df['fmr_1'], ax=ax0)\n",
        "ax0.set(xlabel=\"1 Bedroom Fair Market Rent\", xlim=(100,1500))\n",
        "\n",
        "# Plot the distribution of 2 bedroom apartments on ax1\n",
        "sns.distplot(df['fmr_2'], ax=ax1)\n",
        "ax1.set(xlabel=\"2 Bedroom Fair Market Rent\", xlim=(100,1500))\n",
        "\n",
        "# Display the plot\n",
        "plt.show()"
      ],
      "execution_count": null,
      "outputs": []
    },
    {
      "cell_type": "markdown",
      "metadata": {
        "id": "3puHo6GKyAQG"
      },
      "source": [
        "3"
      ]
    },
    {
      "cell_type": "code",
      "metadata": {
        "id": "hYyhxdhMyB0_"
      },
      "source": [
        "Instructions 1/2\n",
        "50 XP\n",
        "1\n",
        "2\n",
        "Create a stripplot of the Award_Amount with the Model Selected on the y axis with jitter enabled.\n",
        "\n",
        "# Create the stripplot\n",
        "sns.stripplot(data=df,\n",
        "         x='Award_Amount',\n",
        "         y='Model Selected',\n",
        "         jitter=True)\n",
        "\n",
        "plt.show()\n",
        "\n",
        "\n",
        "Instructions 2/2\n",
        "50 XP\n",
        "2\n",
        "Create a swarmplot() of the same data, but also include the hue by Region.\n",
        "\n",
        "# Create and display a swarmplot with hue set to the Region\n",
        "sns.swarmplot(data=df,\n",
        "              x='Award_Amount',\n",
        "              y='Model Selected',\n",
        "              hue='Region')\n",
        "\n",
        "plt.show()"
      ],
      "execution_count": null,
      "outputs": []
    },
    {
      "cell_type": "code",
      "metadata": {
        "id": "1NNCuJy1zS_w"
      },
      "source": [
        "Instructions 1/3\n",
        "30 XP\n",
        "1\n",
        "Create and display a boxplot of the data with Award_Amount on the x axis and Model Selected on the y axis.\n",
        "\n",
        "# Create a boxplot\n",
        "sns.boxplot(data=df,\n",
        "         x='Award_Amount',\n",
        "         y='Model Selected')\n",
        "\n",
        "plt.show()\n",
        "plt.clf()\n",
        "\n",
        "\n",
        "Instructions 2/3\n",
        "30 XP\n",
        "2\n",
        "Create and display a similar violinplot of the data, but use the husl palette for colors.\n",
        "\n",
        "# Create a violinplot with the husl palette\n",
        "sns.violinplot(data=df,\n",
        "               x='Award_Amount',\n",
        "               y='Model Selected',\n",
        "               palette='husl')\n",
        "\n",
        "plt.show()\n",
        "plt.clf()\n",
        "\n",
        "Instructions 3/3\n",
        "40 XP\n",
        "3\n",
        "Create and display an lvplot using the Paired palette and the Region column as the hue.\n",
        "\n",
        "# Create a lvplot with the Paired palette and the Region column as the hue\n",
        "sns.lvplot(data=df,\n",
        "           x='Award_Amount',\n",
        "           y='Model Selected',\n",
        "           palette='Paired',\n",
        "           hue='Region')\n",
        "\n",
        "plt.show()\n",
        "plt.clf()"
      ],
      "execution_count": null,
      "outputs": []
    },
    {
      "cell_type": "code",
      "metadata": {
        "id": "gbHaByj4LBwv"
      },
      "source": [
        "Instructions 1/3\n",
        "0 XP\n",
        "1\n",
        "2\n",
        "3\n",
        "Create a countplot with the df dataframe and Model Selected on the y axis and the color varying by Region.\n",
        "\n",
        "\n",
        "# Show a countplot with the number of models used with each region a different color\n",
        "sns.countplot(data=df,\n",
        "              y=\"Model Selected\",\n",
        "              hue=\"Region\")\n",
        "\n",
        "plt.show()\n",
        "plt.clf()\n",
        "\n",
        "Instructions 2/3\n",
        "21 XP\n",
        "2\n",
        "\n",
        "Create a pointplot with the df dataframe and Model Selected on the x-axis and Award_Amount on the y-axis.\n",
        "Use a capsize in the pointplot in order to add caps to the error bars.\n",
        "\n",
        "# Create a pointplot and include the capsize in order to show caps on the error bars\n",
        "sns.pointplot(data=df,\n",
        "              y='Award_Amount',\n",
        "              x='Model Selected',\n",
        "              capsize=.1)\n",
        "\n",
        "plt.show()\n",
        "plt.clf()\n",
        "\n",
        "\n",
        "Instructions 3/3\n",
        "40 XP\n",
        "3\n",
        "Create a barplot with the same data on the x and y axis and change the color of each bar based on the Region column.\n",
        "\n",
        "# Create a barplot with each Region shown as a different color\n",
        "sns.barplot(data=df,\n",
        "         y='Award_Amount',\n",
        "         x='Model Selected',\n",
        "         hue='Region')\n",
        "\n",
        "plt.show()\n",
        "plt.clf()\n"
      ],
      "execution_count": null,
      "outputs": []
    },
    {
      "cell_type": "code",
      "metadata": {
        "id": "eh3uLKuLA3f-"
      },
      "source": [
        "Instructions 1/2\n",
        "50 XP\n",
        "2\n",
        "Plot a regression plot comparing Tuition and average SAT scores(SAT_AVG_ALL).\n",
        "Make sure the values are shown as green triangles.\n",
        "\n",
        "# Display a regression plot for Tuition\n",
        "sns.regplot(data=df,\n",
        "         y='Tuition',\n",
        "         x=\"SAT_AVG_ALL\",\n",
        "         marker='^',\n",
        "         color='g')\n",
        "\n",
        "plt.show()\n",
        "plt.clf()\n",
        "\n",
        "\n",
        "Instructions 2/2\n",
        "50 XP\n",
        "2\n",
        "Use a residual plot to determine if the relationship looks linear.\n",
        "\n",
        "# Display the residual plot\n",
        "sns.residplot(data=df,\n",
        "          y='Tuition',\n",
        "          x=\"SAT_AVG_ALL\",\n",
        "          color='g')\n",
        "\n",
        "plt.show()\n",
        "plt.clf()"
      ],
      "execution_count": null,
      "outputs": []
    },
    {
      "cell_type": "code",
      "metadata": {
        "id": "O6jYbPCyBlqs"
      },
      "source": [
        "Instructions 1/3\n",
        "30 XP\n",
        "1\n",
        "2\n",
        "3\n",
        "Plot a regression plot of Tuition and PCTPELL.\n",
        "\n",
        "# Plot a regression plot of Tuition and the Percentage of Pell Grants\n",
        "sns.regplot(data=df,\n",
        "            y='Tuition',\n",
        "            x=\"PCTPELL\")\n",
        "\n",
        "plt.show()\n",
        "plt.clf()\n",
        "\n",
        "Instructions 2/3\n",
        "30 XP\n",
        "2\n",
        "3\n",
        "Create another plot that breaks the PCTPELL column into 5 different bins.\n",
        "\n",
        "# Create another plot that estimates the tuition by PCTPELL\n",
        "sns.regplot(data=df,\n",
        "            y='Tuition',\n",
        "            x=\"PCTPELL\",\n",
        "            x_bins=5)\n",
        "\n",
        "plt.show()\n",
        "plt.clf()\n",
        "\n",
        "\n",
        "nstructions 3/3\n",
        "40 XP\n",
        "3\n",
        "Create a final regression plot that includes a 2nd order polynomial regression line.\n",
        "\n",
        "# The final plot should include a line using a 2nd order polynomial\n",
        "sns.regplot(data=df,\n",
        "            y='Tuition',\n",
        "            x=\"PCTPELL\",\n",
        "            x_bins=5,\n",
        "            order=2)\n",
        "\n",
        "plt.show()\n",
        "plt.clf()\n",
        "\n"
      ],
      "execution_count": null,
      "outputs": []
    },
    {
      "cell_type": "code",
      "metadata": {
        "id": "q_ozqXn7C27x"
      },
      "source": [
        "Instructions 1/3\n",
        "30 XP\n",
        "1\n",
        "2\n",
        "3\n",
        "Create a regplot of Tuition and UG and set the fit_reg parameter to False to disable the regression line.\n",
        "\n",
        "# Create a scatter plot by disabling the regression line\n",
        "sns.regplot(data=df,\n",
        "            y='Tuition',\n",
        "            x=\"UG\",\n",
        "            fit_reg=False)\n",
        "\n",
        "plt.show()\n",
        "plt.clf()\n",
        "\n",
        "Instructions 2/3\n",
        "30 XP\n",
        "2\n",
        "3\n",
        "Create another plot with the UG data divided into 5 bins.\n",
        "\n",
        "# Create a scatter plot and bin the data into 5 bins\n",
        "sns.regplot(data=df,\n",
        "            y='Tuition',\n",
        "            x=\"UG\",\n",
        "            x_bins=5)\n",
        "\n",
        "plt.show()\n",
        "plt.clf()\n",
        "\n",
        "Instructions 3/3\n",
        "40 XP\n",
        "3\n",
        "Create a regplot() with the data divided into 8 bins.\n",
        "\n",
        "# Create a regplot and bin the data into 8 bins\n",
        "sns.regplot(data=df,\n",
        "         y='Tuition',\n",
        "         x=\"UG\",\n",
        "         x_bins=8)\n",
        "\n",
        "plt.show()\n",
        "plt.clf()"
      ],
      "execution_count": null,
      "outputs": []
    },
    {
      "cell_type": "code",
      "metadata": {
        "id": "ZKw1ADUyGpjT"
      },
      "source": [
        "Instructions\n",
        "100 XP\n",
        "Use pandas' crosstab() function to build a table of visits by Group and Year.\n",
        "Print the pd_crosstab DataFrame.\n",
        "Plot the data using Seaborn's heatmap().\n",
        "\n",
        "# Create a crosstab table of the data\n",
        "pd_crosstab = pd.crosstab(df[\"Group\"], df[\"YEAR\"])\n",
        "print(pd_crosstab)\n",
        "\n",
        "# Plot a heatmap of the table\n",
        "sns.heatmap(pd_crosstab)\n",
        "\n",
        "# Rotate tick marks for visibility\n",
        "plt.yticks(rotation=0)\n",
        "plt.xticks(rotation=90)\n",
        "\n",
        "plt.show()"
      ],
      "execution_count": null,
      "outputs": []
    },
    {
      "cell_type": "code",
      "metadata": {
        "id": "oUEFtcL_I7IM"
      },
      "source": [
        "Instructions\n",
        "100 XP\n",
        "Create a crosstab table of Group and YEAR\n",
        "Create a heatmap of the data using the BuGn palette\n",
        "Disable the cbar and increase the linewidth to 0.3\n",
        "\n",
        "# Create the crosstab DataFrame\n",
        "pd_crosstab = pd.crosstab(df[\"Group\"], df[\"YEAR\"])\n",
        "\n",
        "# Plot a heatmap of the table with no color bar and using the BuGn palette\n",
        "sns.heatmap(pd_crosstab, cbar=False, cmap=\"BuGn\", linewidths=0.3)\n",
        "\n",
        "# Rotate tick marks for visibility\n",
        "plt.yticks(rotation=0)\n",
        "plt.xticks(rotation=90)\n",
        "\n",
        "#Show the plot\n",
        "plt.show()\n",
        "plt.clf()"
      ],
      "execution_count": null,
      "outputs": []
    },
    {
      "cell_type": "markdown",
      "metadata": {
        "id": "R20Z9yW_KupR"
      },
      "source": [
        "4"
      ]
    },
    {
      "cell_type": "code",
      "metadata": {
        "id": "m2-2XIliKvxX"
      },
      "source": [
        "Instructions\n",
        "100 XP\n",
        "Create a FacetGrid that shows a point plot of the Average SAT scores SAT_AVG_ALL.\n",
        "Use row_order to control the display order of the degree types.\n",
        "\n",
        "# Create FacetGrid with Degree_Type and specify the order of the rows using row_order\n",
        "g2 = sns.FacetGrid(df,\n",
        "                   row=\"Degree_Type\",\n",
        "                   row_order=['Graduate', 'Bachelors', 'Associates', 'Certificate'])\n",
        "\n",
        "# Map a pointplot of SAT_AVG_ALL onto the grid\n",
        "g2.map(sns.pointplot, 'SAT_AVG_ALL')\n",
        "\n",
        "# Show the plot\n",
        "plt.show()\n",
        "plt.clf()"
      ],
      "execution_count": null,
      "outputs": []
    },
    {
      "cell_type": "code",
      "metadata": {
        "id": "p2U77o1XLTC2"
      },
      "source": [
        "Instructions 1/2\n",
        "50 XP\n",
        "1\n",
        "2\n",
        "Create a factorplot() that contains a boxplot (box) of Tuition values varying by Degree_Type across rows.\n",
        "\n",
        "# Create a factor plot that contains boxplots of Tuition values\n",
        "sns.factorplot(data=df,\n",
        "               x='Tuition',\n",
        "               kind='box',\n",
        "               row='Degree_Type')\n",
        "\n",
        "plt.show()\n",
        "plt.clf()"
      ],
      "execution_count": null,
      "outputs": []
    },
    {
      "cell_type": "code",
      "metadata": {
        "id": "nwUkafxHNDog"
      },
      "source": [
        "Instructions 2/2\n",
        "50 XP\n",
        "2\n",
        "Create a factorplot() of SAT Averages (SAT_AVG_ALL) facetted across Degree_Type that shows a pointplot (point).\n",
        "Use row_order to order the degrees from highest to lowest level.\n",
        "\n",
        "# Create a facetted pointplot of Average SAT scores facetted by Degree Type \n",
        "sns.factorplot(data=df,\n",
        "               x='SAT_AVG_ALL',\n",
        "               kind='point',\n",
        "               row='Degree_Type',\n",
        "               row_order=['Graduate', 'Bachelors', 'Associates', 'Certificate'])\n",
        "\n",
        "plt.show()\n",
        "plt.clf()\n"
      ],
      "execution_count": null,
      "outputs": []
    },
    {
      "cell_type": "code",
      "metadata": {
        "id": "HtLgK9_tNoIm"
      },
      "source": [
        "Instructions 1/3\n",
        "30 XP\n",
        "1\n",
        "2\n",
        "3\n",
        "Create a FacetGrid() with Degree_Type columns and scatter plot of UG and PCTPELL.\n",
        "\n",
        "# Create a FacetGrid varying by column and columns ordered with the degree_order variable\n",
        "g = sns.FacetGrid(df, col=\"Degree_Type\", col_order=degree_ord)\n",
        "\n",
        "# Map a scatter plot of Undergrad Population compared to PCTPELL\n",
        "g.map(plt.scatter, 'UG', 'PCTPELL')\n",
        "\n",
        "plt.show()\n",
        "plt.clf()\n",
        "\n",
        "Instructions 2/3\n",
        "30 XP\n",
        "2\n",
        "3\n",
        "Create a lmplot() using the same values from the FacetGrid().\n",
        "\n",
        "# Re-create the plot above as an lmplot\n",
        "sns.lmplot(data=df,\n",
        "        x='UG',\n",
        "        y='PCTPELL',\n",
        "        col=\"Degree_Type\",\n",
        "        col_order=degree_ord)\n",
        "\n",
        "plt.show()\n",
        "plt.clf()\n",
        "\n",
        "\n",
        "Instructions 3/3\n",
        "30 XP\n",
        "3\n",
        "Create a facetted lmplot() comparing SAT_AVG_ALL to Tuition with columns varying by Ownership and rows by Degree_Type.\n",
        "In the lmplot() add a hue for Women Only Universities.\n",
        "\n",
        "# Create an lmplot that has a column for Ownership, a row for Degree_Type\n",
        "# and hue based on the WOMENONLY column and columns defined by inst_order\n",
        "sns.lmplot(data=df,\n",
        "           x='SAT_AVG_ALL',\n",
        "           y='Tuition',\n",
        "           col=\"Ownership\",\n",
        "           row='Degree_Type', \n",
        "           row_order=['Graduate', 'Bachelors'],\n",
        "           hue='WOMENONLY',\n",
        "           col_order=inst_ord)\n",
        "\n",
        "plt.show()\n",
        "plt.clf()"
      ],
      "execution_count": null,
      "outputs": []
    },
    {
      "cell_type": "code",
      "metadata": {
        "id": "qlPj-DW7P6_Y"
      },
      "source": [
        "Instructions 1/2\n",
        "50 XP\n",
        "1\n",
        "2\n",
        "Compare \"fatal_collisions\" to \"premiums\" by using a scatter plot mapped to a PairGrid().\n",
        "\n",
        "# Create a PairGrid with a scatter plot for fatal_collisions and premiums\n",
        "g = sns.PairGrid(df, vars=[\"fatal_collisions\", \"premiums\"])\n",
        "g2 = g.map(plt.scatter)\n",
        "\n",
        "plt.show()\n",
        "plt.clf()\n",
        "\n",
        "Instructions 2/2\n",
        "50 XP\n",
        "2\n",
        "Create another PairGrid but plot a histogram on the diagonal and scatter plot on the off diagonal.\n",
        "\n",
        "# Create the same PairGrid but map a histogram on the diag\n",
        "g = sns.PairGrid(df, vars=[\"fatal_collisions\", \"premiums\"])\n",
        "g2 = g.map_diag(plt.hist)\n",
        "g3 = g2.map_offdiag(plt.scatter)\n",
        "\n",
        "plt.show()\n",
        "plt.clf()"
      ],
      "execution_count": null,
      "outputs": []
    },
    {
      "cell_type": "code",
      "metadata": {
        "id": "D8K0KdEPULLe"
      },
      "source": [
        "Instructions 1/2\n",
        "50 XP\n",
        "1\n",
        "2\n",
        "Recreate the pairwise plot from the previous exercise using pairplot().\n",
        "\n",
        "# Create a pairwise plot of the variables using a scatter plot\n",
        "sns.pairplot(data=df,\n",
        "             vars=[\"fatal_collisions\", \"premiums\"],\n",
        "             kind='scatter')\n",
        "\n",
        "plt.show()\n",
        "plt.clf()\n",
        "\n",
        "\n",
        "Instructions 2/2\n",
        "50 XP\n",
        "2\n",
        "Create another pairplot using the \"Region\" to color code the results.\n",
        "Use the RdBu palette to change the colors of the plot.\n",
        "\n",
        "# Plot the same data but use a different color palette and color code by Region\n",
        "sns.pairplot(data=df,\n",
        "        vars=[\"fatal_collisions\", \"premiums\"],\n",
        "        kind='scatter',\n",
        "        hue='Region',\n",
        "        palette='RdBu',\n",
        "        diag_kws={'alpha':.5})\n",
        "\n",
        "plt.show()\n",
        "plt.clf()"
      ],
      "execution_count": null,
      "outputs": []
    },
    {
      "cell_type": "code",
      "metadata": {
        "id": "1LBiN526VfLN"
      },
      "source": [
        "Instructions 1/2\n",
        "35 XP\n",
        "1\n",
        "2\n",
        "Create a pair plot that examines fatal_collisions_speeding and fatal_collisions_alc on the x axis and premiums and insurance_losses on the y axis.\n",
        "Use the husl palette and color code the scatter plot by Region.\n",
        "\n",
        "# Build a pairplot with different x and y variables\n",
        "sns.pairplot(data=df,\n",
        "             x_vars=[\"fatal_collisions_speeding\", \"fatal_collisions_alc\"],\n",
        "             y_vars=['premiums', 'insurance_losses'],\n",
        "             kind='scatter',\n",
        "             hue='Region',\n",
        "             palette='husl')\n",
        "\n",
        "plt.show()\n",
        "plt.clf()\n",
        "\n",
        "\n",
        "Instructions 2/2\n",
        "50 XP\n",
        "Build a pairplot() with kde plots along the diagonals. Include the insurance_losses and premiums as the variables.\n",
        "Use a reg plot for the the non-diagonal plots.\n",
        "Use the BrBG palette for the final plot.\n",
        "\n",
        "# plot relationships between insurance_losses and premiums\n",
        "sns.pairplot(data=df,\n",
        "             vars=[\"insurance_losses\", \"premiums\"],\n",
        "             kind='reg',\n",
        "             palette='BrBG',\n",
        "             diag_kind = 'kde',\n",
        "             hue='Region')\n",
        "\n",
        "plt.show()\n",
        "plt.clf()"
      ],
      "execution_count": null,
      "outputs": []
    },
    {
      "cell_type": "code",
      "metadata": {
        "id": "f7vyyObtZxEu"
      },
      "source": [
        "Instructions 1/2\n",
        "50 XP\n",
        "1\n",
        "2\n",
        "Use Seaborn's \"whitegrid\" style for these plots.\n",
        "Create a JointGrid() with \"hum\" on the x-axis and \"total_rentals\" on the y.\n",
        "Plot a regplot() and distplot() on the margins.\n",
        "\n",
        "# Build a JointGrid comparing humidity and total_rentals\n",
        "sns.set_style(\"whitegrid\")\n",
        "g = sns.JointGrid(x=\"hum\",\n",
        "                  y=\"total_rentals\",\n",
        "                  data=df,\n",
        "                  xlim=(0.1, 1.0))\n",
        "\n",
        "g.plot(sns.regplot, sns.distplot)\n",
        "\n",
        "plt.show()\n",
        "plt.clf()\n",
        "\n",
        "Instructions 2/2\n",
        "50 XP\n",
        "2\n",
        "Re-create the plot using a jointplot().\n",
        "\n",
        "# Create a jointplot similar to the JointGrid \n",
        "sns.jointplot(x=\"hum\",\n",
        "        y=\"total_rentals\",\n",
        "        kind='reg',\n",
        "        data=df)\n",
        "\n",
        "plt.show()\n",
        "plt.clf()"
      ],
      "execution_count": null,
      "outputs": []
    },
    {
      "cell_type": "code",
      "metadata": {
        "id": "GxT29v-BacE0"
      },
      "source": [
        "Instructions 1/2\n",
        "50 XP\n",
        "1\n",
        "2\n",
        "Create a jointplot with a 2nd order polynomial regression plot comparing temp and total_rentals.\n",
        "\n",
        "# Plot temp vs. total_rentals as a regression plot\n",
        "sns.jointplot(x=\"temp\",\n",
        "         y=\"total_rentals\",\n",
        "         kind='reg',\n",
        "         data=df,\n",
        "         order=2,\n",
        "         xlim=(0, 1))\n",
        "\n",
        "plt.show()\n",
        "plt.clf()\n"
      ],
      "execution_count": null,
      "outputs": []
    },
    {
      "cell_type": "code",
      "metadata": {
        "id": "ub1aT64QbC3g"
      },
      "source": [
        "Instructions 2/2\n",
        "50 XP\n",
        "2\n",
        "Use a residual plot to check the appropriateness of the model.\n",
        "\n",
        "# Plot a jointplot showing the residuals\n",
        "sns.jointplot(x=\"temp\",\n",
        "        y=\"total_rentals\",\n",
        "        kind='resid',\n",
        "        data=df,\n",
        "        order=2)\n",
        "\n",
        "plt.show()\n",
        "plt.clf()"
      ],
      "execution_count": null,
      "outputs": []
    },
    {
      "cell_type": "code",
      "metadata": {
        "id": "u4KFIOybbXlC"
      },
      "source": [
        "Instructions 1/2\n",
        "50 XP\n",
        "1\n",
        "2\n",
        "Create a jointplot with a scatter plot comparing temp and casual riders.\n",
        "Overlay a kdeplot on top of the scatter plot.\n",
        "\n",
        "# Create a jointplot of temp vs. casual riders\n",
        "# Include a kdeplot over the scatter plot\n",
        "g = (sns.jointplot(x=\"temp\",\n",
        "             y=\"casual\",\n",
        "             kind='scatter',\n",
        "             data=df,\n",
        "             marginal_kws=dict(bins=10, rug=True))\n",
        "    .plot_joint(sns.kdeplot))\n",
        "    \n",
        "plt.show()\n",
        "plt.clf()\n",
        "\n",
        "Instructions 2/2\n",
        "50 XP\n",
        "2\n",
        "Build a similar plot for registered users.\n",
        "\n",
        "# Replicate the above plot but only for registered riders\n",
        "g = (sns.jointplot(x=\"temp\",\n",
        "             y=\"registered\",\n",
        "             kind='scatter',\n",
        "             data=df,\n",
        "             marginal_kws=dict(bins=10, rug=True))\n",
        "    .plot_joint(sns.kdeplot))\n",
        "\n",
        "plt.show()\n",
        "plt.clf()"
      ],
      "execution_count": null,
      "outputs": []
    },
    {
      "cell_type": "code",
      "metadata": {
        "id": "0I7114a0cAEj"
      },
      "source": [
        ""
      ],
      "execution_count": null,
      "outputs": []
    },
    {
      "cell_type": "markdown",
      "metadata": {
        "id": "pbLxHyID4hDG"
      },
      "source": [
        ""
      ]
    }
  ]
}