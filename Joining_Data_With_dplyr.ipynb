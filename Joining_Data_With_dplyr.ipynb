{
  "nbformat": 4,
  "nbformat_minor": 0,
  "metadata": {
    "colab": {
      "name": "Joining_Data_With_dplyr.ipynb",
      "provenance": [],
      "authorship_tag": "ABX9TyOTxAeKz7MZL/rISgB+7NqH",
      "include_colab_link": true
    },
    "kernelspec": {
      "name": "python3",
      "display_name": "Python 3"
    },
    "language_info": {
      "name": "python"
    }
  },
  "cells": [
    {
      "cell_type": "markdown",
      "metadata": {
        "id": "view-in-github",
        "colab_type": "text"
      },
      "source": [
        "<a href=\"https://colab.research.google.com/github/lia07/DataCamp/blob/main/Joining_Data_With_dplyr.ipynb\" target=\"_parent\"><img src=\"https://colab.research.google.com/assets/colab-badge.svg\" alt=\"Open In Colab\"/></a>"
      ]
    },
    {
      "cell_type": "markdown",
      "source": [
        "JOINING DATA WITH DPLYR"
      ],
      "metadata": {
        "id": "tn1meqbDaxa1"
      }
    },
    {
      "cell_type": "markdown",
      "source": [
        "1"
      ],
      "metadata": {
        "id": "Jg6n5wrNbI7I"
      }
    },
    {
      "cell_type": "code",
      "source": [
        "Instructions 1/2\n",
        "50 XP\n",
        "1\n",
        "2\n",
        "Add the correct joining verb, the name of the second table, and the joining column for the second table.\n",
        "\n",
        "# Add the correct verb, table, and joining column\n",
        "parts %>% \n",
        "\tinner_join(part_categories, by = c(\"part_cat_id\" = \"id\"))\n",
        " \n",
        "\n",
        "Instructions 2/2\n",
        "50 XP\n",
        "2\n",
        "Now, use the suffix argument to add \"_part\" and \"_category\" suffixes to replace the name.x and name.y fields.\n",
        "\n",
        "# Use the suffix argument to replace .x and .y suffixes\n",
        "parts %>% \n",
        "\tinner_join(part_categories, by = c(\"part_cat_id\" = \"id\"), suffix = c(\"_part\", \"_category\"))"
      ],
      "metadata": {
        "id": "jQQ_vdhwbJqu"
      },
      "execution_count": null,
      "outputs": []
    },
    {
      "cell_type": "code",
      "source": [
        "Instructions\n",
        "100 XP\n",
        "Connect the parts and inventory_parts tables by their part numbers using an inner join.\n",
        "\n",
        "\n",
        "# Combine the parts and inventory_parts tables\n",
        "parts %>%\n",
        "\tinner_join(inventory_parts, by = \"part_num\")"
      ],
      "metadata": {
        "id": "owy09db1a2R7"
      },
      "execution_count": null,
      "outputs": []
    },
    {
      "cell_type": "code",
      "source": [
        "Instructions\n",
        "100 XP\n",
        "Connect the inventory_parts table with the parts tables.\n",
        "\n",
        "# Combine the parts and inventory_parts tables\n",
        "inventory_parts %>%\n",
        "\tinner_join(parts, by = \"part_num\")"
      ],
      "metadata": {
        "id": "jLqOTipla4T8"
      },
      "execution_count": null,
      "outputs": []
    },
    {
      "cell_type": "code",
      "source": [
        "Instructions\n",
        "100 XP\n",
        "Combine the inventories table with the sets table.\n",
        "Next, join the inventory_parts table to the table you created in the previous join by the inventory IDs.\n",
        "\n",
        "sets %>%\n",
        "\t# Add inventories using an inner join \n",
        "\tinner_join(inventories, by = \"set_num\") %>%\n",
        "\t# Add inventory_parts using an inner join \n",
        "\tinner_join(inventory_parts, by = c(\"id\" = \"inventory_id\"))\n",
        " "
      ],
      "metadata": {
        "id": "yCKIUVMJa4Qr"
      },
      "execution_count": null,
      "outputs": []
    },
    {
      "cell_type": "code",
      "source": [
        "Instructions 1/2\n",
        "50 XP\n",
        "1\n",
        "2\n",
        "Inner join the colors table using the color_id column from the previous join and the id column from colors; use the suffixes \"_set\" and \"_color\".\n",
        "\n",
        "# Add an inner join for the colors table\n",
        "sets %>%\n",
        "\tinner_join(inventories, by = \"set_num\") %>%\n",
        "\tinner_join(inventory_parts, by = c(\"id\" = \"inventory_id\")) %>%\n",
        "\tinner_join(colors, by = c(\"color_id\" = \"id\"), suffix = c(\"_set\", \"_color\"))\n",
        " \n",
        "\n",
        "Instructions 2/2\n",
        "50 XP\n",
        "2\n",
        "Count the name_color column and sort the results so the most prominent colors appear first.\n",
        "\n",
        "# Count the number of colors and sort\n",
        "sets %>%\n",
        "\tinner_join(inventories, by = \"set_num\") %>%\n",
        "\tinner_join(inventory_parts, by = c(\"id\" = \"inventory_id\")) %>%\n",
        "\tinner_join(colors, by = c(\"color_id\" = \"id\"), suffix = c(\"_set\", \"_color\")) %>%\n",
        "\tcount(name_color, sort = TRUE)"
      ],
      "metadata": {
        "id": "xKooOdgMa4M9"
      },
      "execution_count": null,
      "outputs": []
    },
    {
      "cell_type": "markdown",
      "source": [
        "2"
      ],
      "metadata": {
        "id": "PqT61Q09zphR"
      }
    },
    {
      "cell_type": "code",
      "source": [
        "Instructions\n",
        "100 XP\n",
        "Left join the star_destroyer and millennium_falcon tables on the part_num and color_id columns with the suffixes _falcon and _star_destroyer.\n",
        "\n",
        "# Combine the star_destroyer and millennium_falcon tables\n",
        "millennium_falcon %>%\n",
        "  left_join(star_destroyer, by = c(\"part_num\", \"color_id\"), suffix = c(\"_falcon\", \"_star_destroyer\"))"
      ],
      "metadata": {
        "id": "RA65uRHOa4KU"
      },
      "execution_count": null,
      "outputs": []
    },
    {
      "cell_type": "code",
      "source": [
        "Instructions 1/3\n",
        "35 XP\n",
        "1\n",
        "2\n",
        "3\n",
        "Sum the quantity column by color_id in the Millennium Falcon dataset.\n",
        "\n",
        "\n",
        "# Aggregate Millennium Falcon for the total quantity in each part\n",
        "millennium_falcon_colors <- millennium_falcon %>%\n",
        "  group_by(color_id) %>%\n",
        "\n",
        "Instructions 2/3\n",
        "35 XP\n",
        "2\n",
        "3\n",
        "Now, sum the quantity column by color_id in the Star Destroyer dataset.\n",
        "\n",
        "# Aggregate Millennium Falcon for the total quantity in each part\n",
        "millennium_falcon_colors <- millennium_falcon %>%\n",
        "  group_by(color_id) %>%\n",
        "  summarize(total_quantity = sum(quantity))\n",
        "\n",
        "# Aggregate Star Destroyer for the total quantity in each part\n",
        "star_destroyer_colors <- star_destroyer %>%\n",
        "  group_by(color_id) %>%\n",
        "  summarize(total_quantity = sum(quantity))\n",
        "\n",
        "\n",
        "Instructions 3/3\n",
        "30 XP\n",
        "3\n",
        "Left join the two datasets, millennium_falcon_colors and star_destroyer_colors, using the color_id column and the _falcon and _star_destroyer suffixes.\n",
        "\n",
        "# Aggregate Millennium Falcon for the total quantity in each part\n",
        "millennium_falcon_colors <- millennium_falcon %>%\n",
        "  group_by(color_id) %>%\n",
        "  summarize(total_quantity = sum(quantity))\n",
        "\n",
        "# Aggregate Star Destroyer for the total quantity in each part\n",
        "star_destroyer_colors <- star_destroyer %>%\n",
        "  group_by(color_id) %>%\n",
        "  summarize(total_quantity = sum(quantity))\n",
        "\n",
        "# Left join the Millennium Falcon colors to the Star Destroyer colors\n",
        "millennium_falcon_colors %>%\n",
        "  left_join(star_destroyer_colors, by = \"color_id\", suffix = c(\"_falcon\", \"_star_destroyer\"))\n",
        "  "
      ],
      "metadata": {
        "id": "klrubwcta4GD"
      },
      "execution_count": null,
      "outputs": []
    },
    {
      "cell_type": "code",
      "source": [
        "Instructions\n",
        "100 XP\n",
        "Use a left_join to join together sets and inventory_version_1 using their common column.\n",
        "filter for where the version column is NA using is.na.\n",
        "\n",
        "inventory_version_1 <- inventories %>%\n",
        "\tfilter(version == 1)\n",
        "\n",
        "# Join versions to sets\n",
        "sets %>%\n",
        "  left_join(inventory_version_1, by = \"set_num\") %>%\n",
        "  # Filter for where version is na\n",
        "  filter(is.na(version))\n",
        "\n",
        "  "
      ],
      "metadata": {
        "id": "NnNePgeta4Cn"
      },
      "execution_count": null,
      "outputs": []
    },
    {
      "cell_type": "code",
      "source": [
        "Instructions 1/2\n",
        "50 XP\n",
        "1\n",
        "2\n",
        "Use the count verb to count each part_cat_id in the parts table.\n",
        "Use a right_join to join part_categories. You'll need to use the part_cat_id from the count and the id column from part_categories.\n",
        "\n",
        "parts %>%\n",
        "\t# Count the part_cat_id\n",
        "\tcount(part_cat_id) %>%\n",
        "\t# Right join part_categories\n",
        "\tright_join(part_categories, by = c(\"part_cat_id\" = \"id\"))\n",
        " \n",
        "\n",
        " Instructions 2/2\n",
        "50 XP\n",
        "2\n",
        "filter for where the column n is NA.\n",
        "\n",
        "parts %>%\n",
        "\tcount(part_cat_id) %>%\n",
        "\tright_join(part_categories, by = c(\"part_cat_id\" = \"id\")) %>%\n",
        "\t# Filter for NA\n",
        "\t\tfilter(is.na(n))\n",
        "  "
      ],
      "metadata": {
        "id": "i09bzhnla3-q"
      },
      "execution_count": null,
      "outputs": []
    },
    {
      "cell_type": "code",
      "source": [
        "Instructions\n",
        "100 XP\n",
        "Use replace_na to replace NAs in the n column with the value 0.\n",
        "\n",
        "parts %>%\n",
        "\tcount(part_cat_id) %>%\n",
        "\tright_join(part_categories, by = c(\"part_cat_id\" = \"id\")) %>%\n",
        "\t# Use replace_na to replace missing values in the n column\n",
        "\treplace_na(list(n = 0))"
      ],
      "metadata": {
        "id": "o87kggauDN8o"
      },
      "execution_count": null,
      "outputs": []
    },
    {
      "cell_type": "code",
      "source": [
        "Instructions\n",
        "100 XP\n",
        "Inner join themes to their own children, resulting in the suffixes \"_parent\" and \"_child\", respectively.\n",
        "Filter this table to find the children of the \"Harry Potter\" theme.\n",
        "\n",
        "themes %>% \n",
        "\t# Inner join the themes table\n",
        "\tinner_join(themes, by = c(\"id\" = \"parent_id\"), suffix = c(\"_parent\", \"_child\")) %>% \n",
        "\t# Filter for the \"Harry Potter\" parent name \n",
        "\tfilter(name_parent == \"Harry Potter\")\n",
        " "
      ],
      "metadata": {
        "id": "2OStKgYua37e"
      },
      "execution_count": null,
      "outputs": []
    },
    {
      "cell_type": "code",
      "source": [
        "Instructions\n",
        "100 XP\n",
        "Use another inner join to combine themes again with itself.\n",
        "Be sure to use the suffixes \"_parent\" and \"_grandchild\" so the columns in the resulting table are clear.\n",
        "Update the by argument to specify the correct columns to join on. If you're unsure of what columns to join on, it might help to look at the result of the first join to get a feel for it.\n",
        "\n",
        "# Join themes to itself again to find the grandchild relationships\n",
        "themes %>% \n",
        "  inner_join(themes, by = c(\"id\" = \"parent_id\"), suffix = c(\"_parent\", \"_child\")) %>%\n",
        "  inner_join(themes, by = c(\"id_child\" = \"parent_id\"), suffix = c(\"_parent\", \"_grandchild\"))\n",
        "  "
      ],
      "metadata": {
        "id": "tGjl4yrqBKHg"
      },
      "execution_count": null,
      "outputs": []
    },
    {
      "cell_type": "code",
      "source": [
        "Instructions\n",
        "100 XP\n",
        "Left join the themes table to its own children, with the suffixes _parent and _child respectively.\n",
        "Filter the result of the join to find themes that have no children.\n",
        "\n",
        "themes %>% \n",
        "  # Left join the themes table to its own children\n",
        "  left_join(themes, by = c(\"id\" = \"parent_id\"), suffix = c(\"_parent\", \"_child\")) %>%\n",
        "  # Filter for themes that have no child themes\n",
        "  filter(is.na(name_child))\n",
        "\n",
        "  "
      ],
      "metadata": {
        "id": "oqjye6mgCVk9"
      },
      "execution_count": null,
      "outputs": []
    },
    {
      "cell_type": "markdown",
      "source": [
        "3"
      ],
      "metadata": {
        "id": "ky-y7GFVR1Tp"
      }
    },
    {
      "cell_type": "code",
      "source": [
        "Instructions\n",
        "100 XP\n",
        "In order to join in the themes, you'll first need to combine the inventory_parts_joined and sets tables.\n",
        "Then, combine the first join with the themes table, using the suffix argument to clarify which table each name came from (\"_set\" or \"_theme\").\n",
        "\n",
        "# Start with inventory_parts_joined table\n",
        "inventory_parts_joined %>%\n",
        "  # Combine with the sets table \n",
        "  inner_join(sets, by = \"set_num\") %>%\n",
        "  # Combine with the themes table\n",
        "  inner_join(themes, by = c(\"theme_id\" = \"id\"), suffix = c(\"_set\", \"_theme\"))\n",
        "  "
      ],
      "metadata": {
        "id": "wkz9cFrAR2pq"
      },
      "execution_count": null,
      "outputs": []
    },
    {
      "cell_type": "code",
      "source": [
        "Instructions\n",
        "100 XP\n",
        "Count the part number and color id for the parts in Batman and Star Wars, weighted by quantity.\n",
        "\n",
        "# Count the part number and color id, weight by quantity\n",
        "batman %>%\n",
        "  count(part_num, color_id, wt = quantity)\n",
        "star_wars %>%\n",
        "  count(part_num, color_id, wt = quantity)\n",
        "\n",
        "  "
      ],
      "metadata": {
        "id": "TtuqTTJ_Oha7"
      },
      "execution_count": null,
      "outputs": []
    },
    {
      "cell_type": "code",
      "source": [
        "Instructions\n",
        "100 XP\n",
        "Combine the star_wars_parts table with the batman_parts table; use the suffix argument to include the \"_batman\" and \"_star_wars\" suffixes.\n",
        "Replace all the NA values in the n_batman and n_star_wars columns with 0s.\n",
        "\n",
        "batman_parts %>%\n",
        "  # Combine the star_wars_parts table \n",
        "  full_join(star_wars_parts, by = c(\"part_num\", \"color_id\"), suffix = c(\"_batman\", \"_star_wars\")) %>%\n",
        "  # Replace NAs with 0s in the n_batman and n_star_wars columns \n",
        "  replace_na(list(n_batman = 0, n_star_wars = 0))\n",
        "  "
      ],
      "metadata": {
        "id": "-QUuwWIzOhGA"
      },
      "execution_count": null,
      "outputs": []
    },
    {
      "cell_type": "code",
      "source": [
        "Instructions\n",
        "100 XP\n",
        "Sort the number of star wars pieces in the parts_joined table in descending order.\n",
        "Inner join the colors table to the parts_joined table.\n",
        "Combine the parts table to the previous join using an inner join; add \"_color\" and \"_part\" suffixes to specify whether or not the information came from the colors table or the parts table.\n",
        "\n",
        "parts_joined %>%\n",
        "  # Sort the number of star wars pieces in descending order \n",
        "  arrange(desc(n_star_wars)) %>%\n",
        "  # Join the colors table to the parts_joined table\n",
        "  inner_join(colors, by = c(\"color_id\" = \"id\")) %>%\n",
        "  # Join the parts table to the previous join \n",
        "  inner_join(parts, by = \"part_num\", suffix = c(\"_color\", \"_part\"))\n",
        "  "
      ],
      "metadata": {
        "id": "S7qgwABuf8lP"
      },
      "execution_count": null,
      "outputs": []
    },
    {
      "cell_type": "code",
      "source": [
        "Instructions\n",
        "100 XP\n",
        "Filter the batwing set for parts that are also in the batmobile, whether or not they have the same color.\n",
        "Filter the batwing set for parts that aren't also in the batmobile, whether or not they have the same color.\n",
        "\n",
        "# Filter the batwing set for parts that are also in the batmobile set\n",
        "batwing %>%\n",
        "  semi_join(batmobile, by = c(\"part_num\"))\n",
        "\n",
        "# Filter the batwing set for parts that aren't in the batmobile set\n",
        "batwing %>%\n",
        "  anti_join(batmobile, by = c(\"part_num\"))"
      ],
      "metadata": {
        "id": "799O0iI7-smt"
      },
      "execution_count": null,
      "outputs": []
    },
    {
      "cell_type": "code",
      "source": [
        "Instructions\n",
        "100 XP\n",
        "Use the inventory_parts table to find the colors that are included in at least one set.\n",
        "\n",
        "# Use inventory_parts to find colors included in at least one set\n",
        "colors %>%\n",
        "  semi_join(inventory_parts, by = c(\"id\" = \"color_id\")) \n",
        "  "
      ],
      "metadata": {
        "id": "4vJnewFK-sjX"
      },
      "execution_count": null,
      "outputs": []
    },
    {
      "cell_type": "code",
      "source": [
        "Instructions\n",
        "100 XP\n",
        "Use filter() to extract version 1 from the inventories table; save the filter to version_1_inventories.\n",
        "Use anti_join to combine version_1_inventories with sets to determine which set is missing a version 1.\n",
        "\n",
        "# Use filter() to extract version 1 \n",
        "version_1_inventories <- inventories %>%\n",
        "  filter(version == 1)\n",
        "\n",
        "# Use anti_join() to find which set is missing a version 1\n",
        "sets %>%\n",
        "  anti_join(version_1_inventories, by = \"set_num\")"
      ],
      "metadata": {
        "id": "nsBQHtMPm4MR"
      },
      "execution_count": null,
      "outputs": []
    },
    {
      "cell_type": "code",
      "source": [
        "Instructions\n",
        "100 XP\n",
        "Add a filter for the \"Batman\" set to create the batman_colors object.\n",
        "Add a fraction column to batman_colors that displays the total divided by the sum of the total.\n",
        "Repeat the steps to filter and aggregate the \"Star Wars\" set data to create the star_wars_colors object.\n",
        "Add a fraction column to star_wars_colors to display the fraction of the total.\n",
        "\n",
        "\n",
        "batman_colors <- inventory_parts_themes %>%\n",
        "  # Filter the inventory_parts_themes table for the Batman theme\n",
        "  filter(name_theme == \"Batman\") %>%\n",
        "  group_by(color_id) %>%\n",
        "  summarize(total = sum(quantity)) %>%\n",
        "  # Add a fraction column of the total divided by the sum of the total \n",
        "  mutate(fraction = total / sum(total))\n",
        "\n",
        "# Filter and aggregate the Star Wars set data; add a fraction column\n",
        "star_wars_colors <- inventory_parts_themes %>%\n",
        "  filter(name_theme == \"Star Wars\") %>%\n",
        "  group_by(color_id) %>%\n",
        "  summarize(total = sum(quantity)) %>%\n",
        "  mutate(fraction = total / sum(total))\n",
        "  "
      ],
      "metadata": {
        "id": "2ZkhygrOnG0T"
      },
      "execution_count": null,
      "outputs": []
    },
    {
      "cell_type": "code",
      "source": [
        "Instructions 1/2\n",
        "50 XP\n",
        "1\n",
        "2\n",
        "Join the batman_colors and star_wars_colors tables; be sure to include all observations from both tables.\n",
        "Replace the NAs in the total_batman and total_star_wars columns.\n",
        "\n",
        "batman_colors %>%\n",
        "  # Join the Batman and Star Wars colors\n",
        "  full_join(star_wars_colors, by = \"color_id\", suffix = c(\"_batman\", \"_star_wars\")) %>%\n",
        "  # Replace NAs in the total_batman and total_star_wars columns\n",
        "  replace_na(list(total_batman = 0, total_star_wars = 0)) %>%\n",
        "  inner_join(colors, by = c(\"color_id\" = \"id\"))\n",
        "\n",
        "\n",
        "Instructions 2/2\n",
        "50 XP\n",
        "2\n",
        "Add a difference column which is the difference between fraction_batman and fraction_star_wars, and a total column, which is the sum of total_batman and total_star_wars.\n",
        "Add a filter to select observations where total is at least 200.\n",
        "\n",
        "batman_colors %>%\n",
        "  full_join(star_wars_colors, by = \"color_id\", suffix = c(\"_batman\", \"_star_wars\")) %>%\n",
        "  replace_na(list(total_batman = 0, total_star_wars = 0)) %>%\n",
        "  inner_join(colors, by = c(\"color_id\" = \"id\")) %>%\n",
        "  # Create the difference and total columns\n",
        "  mutate(difference = fraction_batman - fraction_star_wars,\n",
        "         total = total_batman + total_star_wars) %>%\n",
        "  # Filter for totals greater than 200\n",
        "  filter(total >= 200)"
      ],
      "metadata": {
        "id": "Eh9ootTHnGv0"
      },
      "execution_count": null,
      "outputs": []
    },
    {
      "cell_type": "code",
      "source": [
        "Instructions\n",
        "100 XP\n",
        "Create a bar plot using the colors_joined table to display the most prominent colors in the Batman and Star Wars themes, with the bars colored by their name.\n",
        "\n",
        "# Create a bar plot using colors_joined and the name and difference columns\n",
        "ggplot(colors_joined, aes(name, difference, fill = name)) +\n",
        "  geom_col() +\n",
        "  coord_flip() +\n",
        "  scale_fill_manual(values = color_palette, guide = FALSE) +\n",
        "  labs(y = \"Difference: Batman - Star Wars\")\n",
        "  "
      ],
      "metadata": {
        "id": "zmybrlrHnGsA"
      },
      "execution_count": null,
      "outputs": []
    },
    {
      "cell_type": "markdown",
      "source": [
        "4"
      ],
      "metadata": {
        "id": "91SPJoSe236e"
      }
    },
    {
      "cell_type": "code",
      "source": [
        "Instructions 1/3\n",
        "35 XP\n",
        "1\n",
        "2\n",
        "3\n",
        "Join together questions and question_tags using the id and question_id columns, respectively.\n",
        "\n",
        "\n",
        "# Join the questions and question_tags tables\n",
        "questions %>%\n",
        "\tleft_join(question_tags, by = c(\"id\" = \"question_id\"))\n",
        " \n",
        "\n",
        "Instructions 2/3\n",
        "35 XP\n",
        "2\n",
        "3\n",
        "Use another join to add in the tags table.\n",
        "\n",
        "# Join in the tags table\n",
        "questions %>%\n",
        "\tleft_join(question_tags, by = c(\"id\" = \"question_id\")) %>%\n",
        "\tleft_join(tags, by = c(\"tag_id\" = \"id\"))\n",
        " \n",
        "Instructions 3/3\n",
        "30 XP\n",
        "3\n",
        "Use replace_na to change the NAs in the tag_name column to \"only-r\".\n",
        "\n",
        "# Replace the NAs in the tag_name column\n",
        "questions %>%\n",
        "  left_join(question_tags, by = c(\"id\" = \"question_id\")) %>%\n",
        "  left_join(tags, by = c(\"tag_id\" = \"id\")) %>%\n",
        "  replace_na(list(tag_name = \"only-r\"))\n",
        "\n",
        "  "
      ],
      "metadata": {
        "id": "AxzKrMyZ23YT"
      },
      "execution_count": null,
      "outputs": []
    },
    {
      "cell_type": "code",
      "source": [
        "Instructions\n",
        "100 XP\n",
        "Aggregate by the tag_name.\n",
        "Summarize to get the mean score for each question, score, as well as the total number of questions, num_questions.\n",
        "Arrange num_questions in descending order to sort the answers by the most asked questions.\n",
        "\n",
        "questions_with_tags %>%\n",
        "\t# Group by tag_name\n",
        "\tgroup_by(tag_name) %>%\n",
        "\t# Get mean score and num_questions\n",
        "\tsummarize(score = mean(score),\n",
        "          \t  num_questions = n()) %>%\n",
        "\t# Sort num_questions in descending order\n",
        "\tarrange(desc(num_questions))\n",
        " "
      ],
      "metadata": {
        "id": "MbJMvUq_23Uw"
      },
      "execution_count": null,
      "outputs": []
    },
    {
      "cell_type": "code",
      "source": [
        "Instructions\n",
        "100 XP\n",
        "Use a join to determine which tags never appear on an R question.\n",
        "\n",
        "# Using a join, filter for tags that are never on an R question\n",
        "tags %>%\n",
        "  anti_join(question_tags, by = c(\"id\" = \"tag_id\"))\n",
        "\n",
        "  "
      ],
      "metadata": {
        "id": "JO5sCzBy23Q_"
      },
      "execution_count": null,
      "outputs": []
    },
    {
      "cell_type": "code",
      "source": [
        "Instructions\n",
        "100 XP\n",
        "Use an inner join to combine the questions and answers tables using the suffixes \"_question\" and \"_answer\", respectively.\n",
        "Subtract creation_date_question from creation_date_answer within the as.integer() function to create the gap column.\n",
        "\n",
        "questions %>%\n",
        "\t# Inner join questions and answers with proper suffixes\n",
        "\tinner_join(answers, by = c(\"id\" = \"question_id\"), suffix = c(\"_question\", \"_answer\")) %>%\n",
        "\t# Subtract creation_date_question from creation_date_answer to create gap\n",
        "\tmutate(gap = as.integer(creation_date_answer - creation_date_question)) \n",
        " \n",
        " "
      ],
      "metadata": {
        "id": "dyeKonNF7mVQ"
      },
      "execution_count": null,
      "outputs": []
    },
    {
      "cell_type": "code",
      "source": [
        "Instructions\n",
        "100 XP\n",
        "Count and sort the question_id column in the answers table to create the answer_counts table.\n",
        "Join the questions table with the answer_counts table and include all observations from the questions table.\n",
        "Replace the NA values in the n column with 0s.\n",
        "\n",
        "# Count and sort the question id column in the answers table\n",
        "answer_counts <- answers %>%\n",
        "\tcount(question_id, sort = TRUE)\n",
        "\n",
        "# Combine the answer_counts and questions tables\n",
        "questions %>%\n",
        "\tleft_join(answer_counts, by = c(\"id\" = \"question_id\")) %>%\n",
        "\t# Replace the NAs in the n column\n",
        "\treplace_na(list(n = 0))\n",
        " \n",
        " "
      ],
      "metadata": {
        "id": "_6pA9ugc_djQ"
      },
      "execution_count": null,
      "outputs": []
    },
    {
      "cell_type": "code",
      "source": [
        "Instructions\n",
        "100 XP\n",
        "Combine the question_tags table with question_answer_counts using an inner_join.\n",
        "Now, use another inner_join to add the tags table.\n",
        "\n",
        "\n",
        "question_answer_counts %>%\n",
        "\t# Join the question_tags tables\n",
        "\tinner_join(question_tags, by = c(\"id\" = \"question_id\")) %>%\n",
        "\t# Join the tags table\n",
        "\tinner_join(tags, by = c(\"tag_id\" = \"id\"))\n",
        " "
      ],
      "metadata": {
        "id": "6Sk_y_eHA68j"
      },
      "execution_count": null,
      "outputs": []
    },
    {
      "cell_type": "code",
      "source": [
        "Instructions\n",
        "100 XP\n",
        "Aggregate the tagged_answers table by tag_name.\n",
        "Summarize tagged_answers to get the count of questions and the average_answers.\n",
        "Sort the resulting questions column in descending order.\n",
        "\n",
        "\n",
        "tagged_answers %>%\n",
        "\t# Aggregate by tag_name\n",
        "    group_by(tag_name) %>%\n",
        "\t# Summarize questions and average_answers\n",
        "    summarize(questions = n(),\n",
        "              average_answers = mean(n)) %>%\n",
        "\t# Sort the questions in descending order\n",
        "    arrange(desc(questions))\n",
        "    "
      ],
      "metadata": {
        "id": "w-Ia6kHYA646"
      },
      "execution_count": null,
      "outputs": []
    },
    {
      "cell_type": "code",
      "source": [
        "Instructions\n",
        "100 XP\n",
        "Use two inner joins to combine the question_tags and tags tables with the questions table.\n",
        "Now, use two inner joins to combine the question_tags and tags tables with the answers table.\n",
        "\n",
        "# Inner join the question_tags and tags tables with the questions table\n",
        "questions %>%\n",
        "  inner_join(question_tags, by = c(\"id\" = \"question_id\")) %>%\n",
        "  inner_join(tags, by = c(\"tag_id\" = \"id\"))\n",
        "\n",
        "# Inner join the question_tags and tags tables with the answers table\n",
        "answers %>%\n",
        "  inner_join(question_tags, by = \"question_id\") %>%\n",
        "  inner_join(tags, by = c(\"tag_id\" = \"id\"))\n",
        "\n",
        "  "
      ],
      "metadata": {
        "id": "Nq4tzjBTBKRl"
      },
      "execution_count": null,
      "outputs": []
    },
    {
      "cell_type": "code",
      "source": [
        "Instructions\n",
        "100 XP\n",
        "Combine the questions_with_tags and answers_with_tags tables into posts_with_tags.\n",
        "Add a year column to the posts_with_tags table, then count posts by type, year, and tag_name.\n",
        "\n",
        "\n",
        "# Combine the two tables into posts_with_tags\n",
        "posts_with_tags <- bind_rows(questions_with_tags %>% mutate(type = \"question\"),\n",
        "                              answers_with_tags %>% mutate(type = \"answer\"))\n",
        "\n",
        "# Add a year column, then count by type, year, and tag_name\n",
        "posts_with_tags %>%\n",
        "  mutate(year = year(creation_date)) %>%\n",
        "  count(type, year, tag_name)"
      ],
      "metadata": {
        "id": "p62oT5WBm4JU"
      },
      "execution_count": null,
      "outputs": []
    },
    {
      "cell_type": "code",
      "source": [
        "Instructions\n",
        "100 XP\n",
        "Filter the by_type_year_tag table for the dplyr and ggplot2 tags.\n",
        "Create a line plot with that filtered table that plots the frequency (n) over time, colored by question/answer and faceted by tag.\n",
        "\n",
        "# Filter for the dplyr and ggplot2 tag names \n",
        "by_type_year_tag_filtered <- by_type_year_tag %>%\n",
        "  filter(tag_name %in% c(\"dplyr\", \"ggplot2\"))\n",
        "\n",
        "# Create a line plot faceted by the tag name \n",
        "ggplot(by_type_year_tag_filtered, aes(year, n, color = type)) +\n",
        "  geom_line() +\n",
        "  facet_wrap(~ tag_name)"
      ],
      "metadata": {
        "id": "8n-Z0T2c-sLq"
      },
      "execution_count": null,
      "outputs": []
    }
  ]
}