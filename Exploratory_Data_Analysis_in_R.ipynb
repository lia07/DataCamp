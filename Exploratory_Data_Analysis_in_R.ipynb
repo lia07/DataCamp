{
  "nbformat": 4,
  "nbformat_minor": 0,
  "metadata": {
    "colab": {
      "provenance": [],
      "authorship_tag": "ABX9TyN86n4uUdP70mgUA6QtYLsk",
      "include_colab_link": true
    },
    "kernelspec": {
      "name": "python3",
      "display_name": "Python 3"
    },
    "language_info": {
      "name": "python"
    }
  },
  "cells": [
    {
      "cell_type": "markdown",
      "metadata": {
        "id": "view-in-github",
        "colab_type": "text"
      },
      "source": [
        "<a href=\"https://colab.research.google.com/github/lia07/DataCamp/blob/main/Exploratory_Data_Analysis_in_R.ipynb\" target=\"_parent\"><img src=\"https://colab.research.google.com/assets/colab-badge.svg\" alt=\"Open In Colab\"/></a>"
      ]
    },
    {
      "cell_type": "markdown",
      "source": [
        "# **Exploratory Data Analysis in R**"
      ],
      "metadata": {
        "id": "JkuxF4souO2L"
      }
    },
    {
      "cell_type": "code",
      "source": [
        "Instructions\n",
        "0 XP\n",
        "The dataset has been loaded into your workspace as comics.\n",
        "\n",
        "Type the name of the dataset to look at the rows and columns of the dataset.\n",
        "View the levels() that the align variable can take.\n",
        "View the levels() that the gender variable can take.\n",
        "Create a contingency table of the same two variables.\n",
        "\n",
        "# Print the comics data\n",
        "comics\n",
        "\n",
        "# Check levels of align\n",
        "levels(comics$align)\n",
        "\n",
        "# Check the levels of gender\n",
        "levels(comics$gender)\n",
        "\n",
        "# Create a 2-way contingency table\n",
        "table(comics$align, comics$gender)"
      ],
      "metadata": {
        "id": "KtVNgqq9uRe7"
      },
      "execution_count": null,
      "outputs": []
    },
    {
      "cell_type": "code",
      "source": [
        "Instructions\n",
        "100 XP\n",
        "The dataset has been loaded into your workspace as comics.\n",
        "\n",
        "Type the name of the dataset to look at the rows and columns of the dataset.\n",
        "View the levels() that the align variable can take.\n",
        "View the levels() that the gender variable can take.\n",
        "Create a contingency table of the same two variables.\n",
        "\n",
        "# Print the comics data\n",
        "comics\n",
        "\n",
        "# Check levels of align\n",
        "levels(comics$align)\n",
        "\n",
        "# Check the levels of gender\n",
        "levels(comics$gender)\n",
        "\n",
        "# Create a 2-way contingency table\n",
        "table(comics$align, comics$gender)\n"
      ],
      "metadata": {
        "id": "N0FSSnBvuWHw"
      },
      "execution_count": null,
      "outputs": []
    },
    {
      "cell_type": "code",
      "source": [
        "Instructions\n",
        "100 XP\n",
        "The dataset has been loaded into your workspace as comics.\n",
        "\n",
        "Type the name of the dataset to look at the rows and columns of the dataset.\n",
        "View the levels() that the align variable can take.\n",
        "View the levels() that the gender variable can take.\n",
        "Create a contingency table of the same two variables.\n",
        "\n",
        "# Print the comics data\n",
        "comics\n",
        "\n",
        "# Check levels of align\n",
        "levels(comics$align)\n",
        "\n",
        "# Check the levels of gender\n",
        "levels(comics$gender)\n",
        "\n",
        "# Create a 2-way contingency table\n",
        "table(comics$align, comics$gender)"
      ],
      "metadata": {
        "id": "UJtQ70p7uWDk"
      },
      "execution_count": null,
      "outputs": []
    },
    {
      "cell_type": "code",
      "source": [
        "Instructions\n",
        "100 XP\n",
        "The contingency table from the last exercise is available in your workspace as tab.\n",
        "\n",
        "Load the dplyr package.\n",
        "Print tab to find out which level of align has the fewest total entries.\n",
        "Use filter() to filter out all rows of comics with that level, then drop the unused level with droplevels(). Save the simplified dataset as comics_filtered.\n",
        "\n",
        "# Load dplyr\n",
        "library(dplyr)\n",
        "\n",
        "# Print tab\n",
        "tab\n",
        "\n",
        "# Remove align level\n",
        "comics_filtered <- comics %>%\n",
        "  filter(align != \"Reformed Criminals\") %>%\n",
        "  droplevels()\n",
        "\n",
        "# See the result\n",
        "comics_filtered\n",
        "\n"
      ],
      "metadata": {
        "id": "canDVCNSuV_Y"
      },
      "execution_count": null,
      "outputs": []
    },
    {
      "cell_type": "code",
      "source": [
        "Instructions\n",
        "100 XP\n",
        "Load the ggplot2 package.\n",
        "Create a side-by-side bar chart with align on the x-axis and gender as the fill aesthetic.\n",
        "Create another side-by-side bar chart with gender on the x-axis and align as the fill aesthetic. Rotate the axis labels 90 degrees to help readability.\n",
        "\n",
        "\n",
        "# Load ggplot2\n",
        "library(ggplot2)\n",
        "\n",
        "# Create side-by-side bar chart of gender by alignment\n",
        "ggplot(comics, aes(x = align, fill = gender)) + \n",
        "  geom_bar(position = \"dodge\")\n",
        "\n",
        "# Create side-by-side bar chart of alignment by gender\n",
        "ggplot(comics, aes(x = gender, fill = align)) + \n",
        "  geom_bar(position = \"dodge\") +\n",
        "  theme(axis.text.x = element_text(angle = 90))"
      ],
      "metadata": {
        "id": "Tde1WzGHuV8A"
      },
      "execution_count": null,
      "outputs": []
    },
    {
      "cell_type": "code",
      "source": [
        "Instructions\n",
        "100 XP\n",
        "Create a stacked bar chart of gender counts with align on the x-axis.\n",
        "Create a stacked bar chart of gender proportions with align on the x-axis by setting the position argument to geom_bar() equal to \"fill\".\n",
        "\n",
        "# Plot of gender by align\n",
        "ggplot(comics, aes(x = align, fill = gender)) +\n",
        "  geom_bar()\n",
        "  \n",
        "# Plot proportion of gender, conditional on align\n",
        "ggplot(comics, aes(x = align, fill = gender)) + \n",
        "  geom_bar(position = \"fill\") +\n",
        "  ylab(\"proportion\")\n",
        "  "
      ],
      "metadata": {
        "id": "qbcwXQHJuVwV"
      },
      "execution_count": null,
      "outputs": []
    },
    {
      "cell_type": "code",
      "source": [
        "Instructions\n",
        "100 XP\n",
        "Reorder the levels of align using the factor() function so that printing them reads \"Bad\", \"Neutral\", then \"Good\".\n",
        "Create a bar chart of counts of the align variable.\n",
        "\n",
        "# Change the order of the levels in align\n",
        "comics$align <- factor(comics$align, \n",
        "                       levels = c(\"Bad\", \"Neutral\", \"Good\"))\n",
        "\n",
        "# Create plot of align\n",
        "ggplot(comics, aes(x = align)) + \n",
        "  geom_bar()\n",
        "  "
      ],
      "metadata": {
        "id": "uhpZPZzguVsy"
      },
      "execution_count": null,
      "outputs": []
    },
    {
      "cell_type": "code",
      "source": [
        "Instructions\n",
        "100 XP\n",
        "Reorder the levels of align using the factor() function so that printing them reads \"Bad\", \"Neutral\", then \"Good\".\n",
        "Create a bar chart of counts of the align variable.\n",
        "\n",
        "# Change the order of the levels in align\n",
        "comics$align <- factor(comics$align, \n",
        "                       levels = c(\"Bad\", \"Neutral\", \"Good\"))\n",
        "\n",
        "# Create plot of align\n",
        "ggplot(comics, aes(x = align)) + \n",
        "  geom_bar()\n",
        "  "
      ],
      "metadata": {
        "id": "tsaIKrDWuVpe"
      },
      "execution_count": null,
      "outputs": []
    },
    {
      "cell_type": "code",
      "source": [
        "Instructions\n",
        "100 XP\n",
        "Create a bar chart of align faceted by gender.\n",
        "\n",
        "# Plot of alignment broken down by gender\n",
        "ggplot(comics, aes(x = align)) + \n",
        "  geom_bar() +\n",
        "  facet_wrap(~ gender)"
      ],
      "metadata": {
        "id": "3IyWMXrfuVif"
      },
      "execution_count": null,
      "outputs": []
    },
    {
      "cell_type": "code",
      "source": [
        "Instructions\n",
        "100 XP\n",
        "Use the code provided to reorder the levels of flavor so that they're in descending order by count.\n",
        "Create a bar chart of flavor and orient the labels vertically so that they're easier to read. The default coloring may look drab by comparison, so change the fill of the bars to \"chartreuse\".\n",
        "\n",
        "# Put levels of flavor in descending order\n",
        "lev <- c(\"apple\", \"key lime\", \"boston creme\", \"blueberry\", \"cherry\", \"pumpkin\", \"strawberry\")\n",
        "pies$flavor <- factor(pies$flavor, levels = lev)\n",
        "\n",
        "# Create bar chart of flavor\n",
        "ggplot(pies, aes(x = flavor)) + \n",
        "  geom_bar(fill = \"chartreuse\") + \n",
        "  theme(axis.text.x = element_text(angle = 90))\n",
        "\n",
        "# Alternative solution to finding levels\n",
        "# lev <- unlist(select(arrange(cnt, desc(n)), flavor))\n"
      ],
      "metadata": {
        "id": "qUJBz2HeuVfY"
      },
      "execution_count": null,
      "outputs": []
    },
    {
      "cell_type": "code",
      "source": [
        "Instructions\n",
        "100 XP\n",
        "The cars dataset has been loaded in your workspace.\n",
        "\n",
        "Load the ggplot2 package.\n",
        "View the size of the data and the variable types using str().\n",
        "Plot a histogram of city_mpg faceted by suv, a logical variable indicating whether the car is an SUV or not.\n",
        "\n",
        "# Load package\n",
        "library(ggplot2)\n",
        "\n",
        "# Learn data structure\n",
        "str(cars)\n",
        "\n",
        "# Create faceted histogram\n",
        "ggplot(cars, aes(x = city_mpg)) +\n",
        "  geom_histogram() +\n",
        "  facet_wrap(~ suv)"
      ],
      "metadata": {
        "id": "YFZ0id_QuVap"
      },
      "execution_count": null,
      "outputs": []
    },
    {
      "cell_type": "code",
      "source": [
        "Instructions\n",
        "\n",
        "100 XP\n",
        "A quick look at unique(cars$ncyl) shows that there are more possible levels of ncyl than you might think. Here, restrict your attention to the most common levels.\n",
        "\n",
        "Filter cars to include only cars with 4, 6, or 8 cylinders and save the result as common_cyl. The %in% operator may prove useful here.\n",
        "Create side-by-side box plots of city_mpg separated out by ncyl.\n",
        "Create overlaid density plots of city_mpg colored by ncyl.\n",
        "\n",
        "# Filter cars with 4, 6, 8 cylinders\n",
        "common_cyl <- filter(cars, ncyl %in% c(4, 6, 8))\n",
        "\n",
        "# Create box plots of city mpg by ncyl\n",
        "ggplot(common_cyl, aes(x = as.factor(ncyl), y = city_mpg)) +\n",
        "  geom_boxplot()\n",
        "\n",
        "# Create overlaid density plots for same data\n",
        "ggplot(common_cyl, aes(x = city_mpg, fill = as.factor(ncyl))) +\n",
        "  geom_density(alpha = .3)"
      ],
      "metadata": {
        "id": "4Rr32tFXuVXk"
      },
      "execution_count": null,
      "outputs": []
    },
    {
      "cell_type": "code",
      "source": [
        "Instructions\n",
        "100 XP\n",
        "Create a histogram of the distribution of horsepwr across all cars and add an appropriate title. Start by piping in the raw dataset.\n",
        "Create a second histogram of the distribution of horsepower, but only for those cars that have an msrp less than $25,000. Keep the limits of the x-axis so that they're similar to that of the first plot, and add a descriptive title.\n",
        "\n",
        "# Create hist of horsepwr\n",
        "cars %>%\n",
        "  ggplot(aes(x = horsepwr)) +\n",
        "  geom_histogram() +\n",
        "  ggtitle(\"Distribution of horsepower for all cars\")\n",
        "\n",
        "# Create hist of horsepwr for affordable cars\n",
        "cars %>%\n",
        "  filter(msrp < 25000) %>%\n",
        "  ggplot(aes(x = horsepwr)) +\n",
        "  geom_histogram() +\n",
        "  xlim(c(90, 550)) +\n",
        "  ggtitle(\"Distribution of horsepower for affordable cars\")"
      ],
      "metadata": {
        "id": "tBi16qEGuVTH"
      },
      "execution_count": null,
      "outputs": []
    },
    {
      "cell_type": "code",
      "source": [
        "Instructions\n",
        "100 XP\n",
        "Create the following three plots, adding a title to each to indicate the binwidth used:\n",
        "\n",
        "A histogram of horsepower (i.e. horsepwr) with a binwidth of 3.\n",
        "A second histogram of horsepower with a binwidth of 30.\n",
        "A third histogram of horsepower with a binwidth of 60.\n",
        "\n",
        "# Create hist of horsepwr with binwidth of 3\n",
        "cars %>%\n",
        "  ggplot(aes(horsepwr)) +\n",
        "  geom_histogram(binwidth = 3) +\n",
        "  ggtitle(\"binwidth = 3\")\n",
        "\n",
        "# Create hist of horsepwr with binwidth of 30\n",
        "cars %>% \n",
        "  ggplot(aes(horsepwr)) +\n",
        "  geom_histogram(binwidth = 30) +\n",
        "  ggtitle(\"binwidth = 30\")\n",
        "\n",
        "# Create hist of horsepwr with binwidth of 60\n",
        "cars %>%\n",
        "  ggplot(aes(horsepwr)) +\n",
        "  geom_histogram(binwidth = 60) +\n",
        "  ggtitle(\"binwidth = 60\")"
      ],
      "metadata": {
        "id": "CKHH8NkduVQe"
      },
      "execution_count": null,
      "outputs": []
    },
    {
      "cell_type": "code",
      "source": [
        "Instructions\n",
        "100 XP\n",
        "Use density plots or box plots to construct the following visualizations. For each variable, try both plots and submit the one that is better at capturing the important structure.\n",
        "\n",
        "Display the distribution of city_mpg.\n",
        "Display the distribution of width.\n",
        "\n",
        "# Create plot of city_mpg\n",
        "cars %>%\n",
        "  ggplot(aes(x = 1, y = city_mpg)) +\n",
        "  geom_boxplot()\n",
        "\n",
        "# Create plot of width\n",
        "cars %>% \n",
        "  ggplot(aes(x = width)) +\n",
        "  geom_density()"
      ],
      "metadata": {
        "id": "hfKFC3MduVMQ"
      },
      "execution_count": null,
      "outputs": []
    },
    {
      "cell_type": "code",
      "source": [
        "Instructions\n",
        "100 XP\n",
        "Using the shapes of the density plots, calculate the most appropriate measures of center and spread for the following:\n",
        "\n",
        "The distribution of life expectancy in the countries of the Americas. Note you'll need to apply a filter here.\n",
        "The distribution of country populations across the entire gap2007 dataset.\n",
        "\n",
        "# Compute stats for lifeExp in Americas\n",
        "gap2007 %>%\n",
        "  filter(continent == \"Americas\") %>%\n",
        "  summarize(mean(lifeExp),\n",
        "            sd(lifeExp))\n",
        "\n",
        "# Compute stats for population\n",
        "gap2007 %>%\n",
        "  summarize(median(pop),\n",
        "            IQR(pop))\n",
        "  "
      ],
      "metadata": {
        "id": "wROcCcxluVJJ"
      },
      "execution_count": null,
      "outputs": []
    },
    {
      "cell_type": "code",
      "source": [
        "Instructions\n",
        "100 XP\n",
        "Using the email dataset\n",
        "\n",
        "Load the packages ggplot2, dplyr, and openintro.\n",
        "Compute appropriate measures of the center and spread of num_char for both spam and not-spam using group_by() and summarize(). No need to name the new columns created by summarize().\n",
        "Construct side-by-side box plots to visualize the association between the same two variables. It will be useful to mutate() a new column containing a log-transformed version of num_char.\n",
        "\n",
        "# Load packages\n",
        "library(openintro)\n",
        "library(ggplot2)\n",
        "library(dplyr)\n",
        "\n",
        "# Compute summary statistics\n",
        "email %>%\n",
        "  group_by(spam) %>%\n",
        "  summarize(median(num_char),\n",
        "            IQR(num_char))\n",
        "\n",
        "# Create plot\n",
        "email %>%\n",
        "  mutate(log_num_char = log(num_char)) %>%\n",
        "  ggplot(aes(x = spam, y = log_num_char)) +\n",
        "  geom_boxplot()"
      ],
      "metadata": {
        "id": "qlOspXkXuVED"
      },
      "execution_count": null,
      "outputs": []
    },
    {
      "cell_type": "code",
      "source": [
        "Instructions\n",
        "0 XP\n",
        "Starting with email, form a continuous chain that links together the following tasks:\n",
        "\n",
        "Create a new variable called has_image that is TRUE where the number of images is greater than zero and FALSE otherwise.\n",
        "Create an appropriate plot with email to visualize the relationship between has_image and spam.\n",
        "\n",
        "\n",
        "# Create plot of proportion of spam by image\n",
        "email %>%\n",
        "  mutate(has_image = image > 0) %>%\n",
        "  ggplot(aes(x = has_image, fill = spam)) +\n",
        "  geom_bar(position = \"fill\")"
      ],
      "metadata": {
        "id": "q3kUWRQDuVBO"
      },
      "execution_count": null,
      "outputs": []
    },
    {
      "cell_type": "code",
      "source": [
        "Instructions\n",
        "100 XP\n",
        "Consider the variables image and attach. You can read about them with ?email, but the help file is ambiguous: do attached images count as attached files in this dataset?\n",
        "\n",
        "Design a simple test to determine if images count as attached files. This involves creating a logical condition to compare the values of the two variables, then using sum() to assess every case in the dataset. Recall that the logical operators are < for less than, <= for less than or equal to, > for greater than, >= for greater than or equal to, and == for equal to.\n",
        "\n",
        "# Test if images count as attachments\n",
        "sum(email$image > email$attach)\n"
      ],
      "metadata": {
        "id": "bhl31c7PuSfg"
      },
      "execution_count": null,
      "outputs": []
    },
    {
      "cell_type": "code",
      "source": [
        "Instructions\n",
        "100 XP\n",
        "Build a chain to answer each of the following questions, both about the variable dollar.\n",
        "\n",
        "For emails containing the word \"dollar\", does the typical spam email contain a greater number of occurrences of the word than the typical non-spam email? Create a summary statistic that answers this question.\n",
        "If you encounter an email with greater than 10 occurrences of the word dollar, is it more likely to be spam or not-spam? Create a bar chart that answers this question.\n",
        "\n",
        "\n",
        "# Question 1\n",
        "email %>%\n",
        "  filter(dollar > 0) %>%\n",
        "  group_by(spam) %>%\n",
        "  summarize(median(dollar))\n",
        "\n",
        "# Question 2\n",
        "email %>%\n",
        "  filter(dollar > 10) %>%\n",
        "  ggplot(aes(x = spam)) +\n",
        "  geom_bar()"
      ],
      "metadata": {
        "id": "z8Kufoc4uScG"
      },
      "execution_count": null,
      "outputs": []
    },
    {
      "cell_type": "code",
      "source": [
        "Instructions\n",
        "100 XP\n",
        "Reorder the levels of number so that they preserve the natural ordering of \"none\", then \"small\", then \"big\", saving to a number_reordered column.\n",
        "Construct a faceted bar chart of the association between number and spam.\n",
        "\n",
        "# Reorder levels\n",
        "email$number_reordered <- factor(email$number, levels = c(\"none\", \"small\", \"big\"))\n",
        "\n",
        "# Construct plot of number_reordered\n",
        "ggplot(email, aes(x = number_reordered)) +\n",
        "  geom_bar() +\n",
        "  facet_wrap(~ spam)"
      ],
      "metadata": {
        "id": "Wt_wAvAKuSY2"
      },
      "execution_count": null,
      "outputs": []
    }
  ]
}