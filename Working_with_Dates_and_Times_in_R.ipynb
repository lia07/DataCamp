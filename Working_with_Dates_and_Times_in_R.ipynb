{
  "nbformat": 4,
  "nbformat_minor": 0,
  "metadata": {
    "colab": {
      "name": "Working with Dates and Times in R.ipynb",
      "provenance": [],
      "authorship_tag": "ABX9TyMnyi4iW1Q9rSzEnCZ2yMI9",
      "include_colab_link": true
    },
    "kernelspec": {
      "name": "python3",
      "display_name": "Python 3"
    },
    "language_info": {
      "name": "python"
    }
  },
  "cells": [
    {
      "cell_type": "markdown",
      "metadata": {
        "id": "view-in-github",
        "colab_type": "text"
      },
      "source": [
        "<a href=\"https://colab.research.google.com/github/lia07/DataCamp/blob/main/Working_with_Dates_and_Times_in_R.ipynb\" target=\"_parent\"><img src=\"https://colab.research.google.com/assets/colab-badge.svg\" alt=\"Open In Colab\"/></a>"
      ]
    },
    {
      "cell_type": "markdown",
      "source": [
        "**## Working with Dates and Times in** **R** \n",
        "\n",
        "*   \n",
        "\n"
      ],
      "metadata": {
        "id": "b586h2FCR-qY"
      }
    },
    {
      "cell_type": "markdown",
      "source": [
        "# **1**"
      ],
      "metadata": {
        "id": "VNRwMvgBSEH4"
      }
    },
    {
      "cell_type": "code",
      "source": [
        "Instructions\n",
        "100 XP\n",
        "We've stored the string \"2013-04-03\" in a variable called x.\n",
        "\n",
        "Use str() to look at the structure of x and confirm it's just a character string.\n",
        "Convert x to a date using as.Date().\n",
        "Use str() to look at the structure of x_date and confirm it's a Date.\n",
        "Now use as.Date() to store the date April 10, 2014.\n",
        "\n",
        "# The date R 3.0.0 was released\n",
        "x <- \"2013-04-03\"\n",
        "\n",
        "# Examine structure of x\n",
        "str(x)\n",
        "\n",
        "# Use as.Date() to interpret x as a date\n",
        "x_date <- as.Date(x)\n",
        "\n",
        "# Examine structure of x_date\n",
        "str(x_date)\n",
        "\n",
        "# Store April 10 2014 as a Date\n",
        "april_10_2014 <- as.Date(\"2014-04-10\")"
      ],
      "metadata": {
        "id": "wdp_FcjgSAfa"
      },
      "execution_count": null,
      "outputs": []
    },
    {
      "cell_type": "code",
      "source": [
        "Instructions\n",
        "100 XP\n",
        "Use read_csv() to read in the CSV file rversions.csv as releases.\n",
        "Use str() to examine the structure of the date column. Notice it's already a Date object.\n",
        "We've loaded anytime and created an object called sep_10_2009. Use the anytime() function to parse sep_10_2009.\n",
        "\n",
        "\n",
        "# Load the readr package\n",
        "library(readr)\n",
        "\n",
        "# Use read_csv() to import rversions.csv\n",
        "releases <- read_csv(\"rversions.csv\")\n",
        "\n",
        "# Examine the structure of the date column\n",
        "str(releases$date)\n",
        "\n",
        "# Load the anytime package\n",
        "library(anytime)\n",
        "\n",
        "# Various ways of writing Sep 10 2009\n",
        "sep_10_2009 <- c(\"September 10 2009\", \"2009-09-10\", \"10 Sep 2009\", \"09-10-2009\")\n",
        "\n",
        "# Use anytime() to parse sep_10_2009\n",
        "anytime(sep_10_2009)"
      ],
      "metadata": {
        "id": "mfE8aoGVSDRp"
      },
      "execution_count": null,
      "outputs": []
    },
    {
      "cell_type": "code",
      "source": [
        "Instructions\n",
        "100 XP\n",
        "Make a plot of releases over time by setting the x argument of the aes() function to the date column.\n",
        "Zoom in to the period from 2010 to 2014 by specifying limits from \"2010-01-01\" to \"2014-01-01\". Notice these strings need to be wrapped in as.Date() to be interpreted as Date objects.\n",
        "Adjust the axis labeling by specifying date_breaks of \"10 years\" and date_labels of \"%Y\".\n",
        "\n",
        "\n",
        "library(ggplot2)\n",
        "\n",
        "# Set the x axis to the date column\n",
        "ggplot(releases, aes(x = date, y = type)) +\n",
        "  geom_line(aes(group = 1, color = factor(major)))\n",
        "\n",
        "# Limit the axis to between 2010-01-01 and 2014-01-01\n",
        "ggplot(releases, aes(x = date, y = type)) +\n",
        "  geom_line(aes(group = 1, color = factor(major))) +\n",
        "  xlim(as.Date(\"2010-01-01\"), as.Date(\"2014-01-01\"))\n",
        "\n",
        "# Specify breaks every ten years and labels with \"%Y\"\n",
        "ggplot(releases, aes(x = date, y = type)) +\n",
        "  geom_line(aes(group = 1, color = factor(major))) +\n",
        "  scale_x_date(date_breaks = \"10 years\", date_labels = \"%Y\")\n",
        "  "
      ],
      "metadata": {
        "id": "pnw2sTlUSDOe"
      },
      "execution_count": null,
      "outputs": []
    },
    {
      "cell_type": "code",
      "source": [
        "Instructions\n",
        "100 XP\n",
        "Find the date of the most recent release by calling max() on the date column in releases.\n",
        "Find the rows in releases that have the most recent date, by specifying the comparison date == last_release_date in filter()\n",
        "Print last_release to see which release this was.\n",
        "Calculate how long it has been since the most recent release by subtracting last_release_date from Sys.Date().\n",
        "\n",
        "# Find the largest date\n",
        "last_release_date <- max(releases$date)\n",
        "\n",
        "# Filter row for last release\n",
        "last_release <- filter(releases, date == last_release_date)\n",
        "\n",
        "# Print last_release\n",
        "last_release\n",
        "\n",
        "# How long since last release?\n",
        "Sys.Date() - last_release_date\n"
      ],
      "metadata": {
        "id": "X-ey0zWdSDKr"
      },
      "execution_count": null,
      "outputs": []
    },
    {
      "cell_type": "code",
      "source": [
        "Instructions\n",
        "100 XP\n",
        "Use as.POSIXct() and an appropriate string to input the datetime corresponding to Oct 1st 2010 at 12:12:00.\n",
        "Enter the same datetime again, but now specify the timezone as \"America/Los_Angeles\".\n",
        "Use read_csv() to read in rversions.csv again.\n",
        "Examine the structure of the datetime column to verify read_csv() has correctly interpreted it as a datetime.\n",
        "\n",
        "\n",
        "# Use as.POSIXct to enter the datetime \n",
        "as.POSIXct(\"2010-10-01 12:12:00\")\n",
        "\n",
        "# Use as.POSIXct again but set the timezone to `\"America/Los_Angeles\"`\n",
        "as.POSIXct(\"2010-10-01 12:12:00\", tz = \"America/Los_Angeles\")\n",
        "\n",
        "# Use readr to import rversions.csv\n",
        "releases <- read_csv(\"rversions.csv\")\n",
        "\n",
        "# Examine structure of datetime column\n",
        "str(releases$datetime)\n"
      ],
      "metadata": {
        "id": "gAzFgZGXSDGE"
      },
      "execution_count": null,
      "outputs": []
    },
    {
      "cell_type": "code",
      "source": [
        "Instructions\n",
        "100 XP\n",
        "Use read_csv() to import cran-logs_2015-04-17.csv.\n",
        "Print logs to see the information we have on each download.\n",
        "Store the R 3.2.0 release time as a POSIXct object.\n",
        "Find out when the first request for 3.2.0 was made by filtering for values in the datetime column that are greater than release_time.\n",
        "Finally see how downloads increase by creating histograms of download time for 3.2.0 and the previous version 3.1.3. We've provided most of the code, you just need to specify the x aesthetic to be the datetime column.\n",
        "\n",
        "\n",
        "# Import \"cran-logs_2015-04-17.csv\" with read_csv()\n",
        "logs <- read_csv(\"cran-logs_2015-04-17.csv\")\n",
        "\n",
        "# Print logs\n",
        "logs\n",
        "\n",
        "# Store the release time as a POSIXct object\n",
        "release_time <- as.POSIXct(\"2015-04-16 07:13:33\", tz = \"UTC\")\n",
        "\n",
        "# When is the first download of 3.2.0?\n",
        "logs %>% \n",
        "  filter(datetime > release_time,\n",
        "    r_version == \"3.2.0\")\n",
        "\n",
        "# Examine histograms of downloads by version\n",
        "ggplot(logs, aes(x = datetime)) +\n",
        "  geom_histogram() +\n",
        "  geom_vline(aes(xintercept = as.numeric(release_time)))+\n",
        "  facet_wrap(~ r_version, ncol = 1)"
      ],
      "metadata": {
        "id": "mQz9N2jySDC9"
      },
      "execution_count": null,
      "outputs": []
    },
    {
      "cell_type": "markdown",
      "source": [
        "# **2**"
      ],
      "metadata": {
        "id": "rlDV0MHjRVnb"
      }
    },
    {
      "cell_type": "code",
      "source": [
        "Instructions\n",
        "100 XP\n",
        "For each date the ISO 8601 format is displayed as a comment after it, to help you check your work\n",
        "\n",
        "Choose the correct function to parse x.\n",
        "Choose the correct function to parse y.\n",
        "Choose the correct function to parse z.\n",
        "\n",
        "library(lubridate)\n",
        "\n",
        "# Parse x \n",
        "x <- \"2010 September 20th\" # 2010-09-20\n",
        "ymd(x)\n",
        "\n",
        "# Parse y \n",
        "y <- \"02.01.2010\"  # 2010-01-02\n",
        "dmy(y)\n",
        "\n",
        "# Parse z \n",
        "z <- \"Sep, 12th 2010 14:00\"  # 2010-09-12T14:00\n",
        "mdy_hm(z)\n"
      ],
      "metadata": {
        "id": "shaicycqSC-i"
      },
      "execution_count": null,
      "outputs": []
    },
    {
      "cell_type": "code",
      "source": [
        "Instructions\n",
        "100 XP\n",
        "x is a trickier datetime. Use the clues in the instructions to parse x.\n",
        "two_orders has two different orders, parse both by specifying the order to be c(\"mdy\", \"dmy\").\n",
        "Parse short_dates with orders = c(\"dOmY\", \"OmY\", \"Y\"). What happens to the dates that don't have months or days specified?\n",
        "\n",
        "\n",
        "# Specify an order string to parse x\n",
        "x <- \"Monday June 1st 2010 at 4pm\"\n",
        "parse_date_time(x, orders = \"ABdyIp\")\n",
        "\n",
        "# Specify order to include both \"mdy\" and \"dmy\"\n",
        "two_orders <- c(\"October 7, 2001\", \"October 13, 2002\", \"April 13, 2003\", \n",
        "  \"17 April 2005\", \"23 April 2017\")\n",
        "parse_date_time(two_orders, orders = c(\"mdy\", \"dmy\"))\n",
        "\n",
        "# Specify order to include \"dOmY\", \"OmY\" and \"Y\"\n",
        "short_dates <- c(\"11 December 1282\", \"May 1372\", \"1253\")\n",
        "parse_date_time(short_dates, orders = c(\"dOmY\", \"OmY\", \"Y\"))\n",
        "\n"
      ],
      "metadata": {
        "id": "X4t_uoZTSCwl"
      },
      "execution_count": null,
      "outputs": []
    },
    {
      "cell_type": "code",
      "source": [
        "Instructions\n",
        "100 XP\n",
        "x is a trickier datetime. Use the clues in the instructions to parse x.\n",
        "two_orders has two different orders, parse both by specifying the order to be c(\"mdy\", \"dmy\").\n",
        "Parse short_dates with orders = c(\"dOmY\", \"OmY\", \"Y\"). What happens to the dates that don't have months or days specified?\n",
        "\n",
        "# Specify an order string to parse x\n",
        "x <- \"Monday June 1st 2010 at 4pm\"\n",
        "parse_date_time(x, orders = \"ABdyIp\")\n",
        "\n",
        "# Specify order to include both \"mdy\" and \"dmy\"\n",
        "two_orders <- c(\"October 7, 2001\", \"October 13, 2002\", \"April 13, 2003\", \n",
        "  \"17 April 2005\", \"23 April 2017\")\n",
        "parse_date_time(two_orders, orders = c(\"mdy\", \"dmy\"))\n",
        "\n",
        "# Specify order to include \"dOmY\", \"OmY\" and \"Y\"\n",
        "short_dates <- c(\"11 December 1282\", \"May 1372\", \"1253\")\n",
        "parse_date_time(short_dates, orders = c(\"dOmY\", \"OmY\", \"Y\"))\n"
      ],
      "metadata": {
        "id": "KEUKU2FhSCsq"
      },
      "execution_count": null,
      "outputs": []
    },
    {
      "cell_type": "code",
      "source": [
        "Instructions\n",
        "100 XP\n",
        "Import the daily data, \"akl_weather_daily.csv\" with read_csv().\n",
        "Print akl_daily_raw to confirm the date column hasn't been interpreted as a date. Can you see why?\n",
        "Using mutate() overwrite the column date with a parsed version of date. You need to specify the parsing function. Hint: the first date should be September 1.\n",
        "Print akl_daily to verify the date column is now a Date.\n",
        "Take a look at the data by plotting date on the x-axis and max_temp of the y-axis.\n",
        "\n",
        "\n",
        "library(lubridate)\n",
        "library(readr)\n",
        "library(dplyr)\n",
        "library(ggplot2)\n",
        "\n",
        "# Import CSV with read_csv()\n",
        "akl_daily_raw <- read_csv(\"akl_weather_daily.csv\")\n",
        "\n",
        "# Print akl_daily_raw\n",
        "akl_daily_raw\n",
        "\n",
        "# Parse date \n",
        "akl_daily <- akl_daily_raw %>%\n",
        "  mutate(date = ymd(date))\n",
        "\n",
        "# Print akl_daily\n",
        "akl_daily\n",
        "\n",
        "# Plot to check work\n",
        "ggplot(akl_daily, aes(x = date, y = max_temp)) +\n",
        "  geom_line()\n",
        "  "
      ],
      "metadata": {
        "id": "9SJuLE8-TMb4"
      },
      "execution_count": null,
      "outputs": []
    },
    {
      "cell_type": "code",
      "source": [
        "Instructions\n",
        "100 XP\n",
        "Import the hourly data, \"akl_weather_hourly_2016.csv\" with read_csv(), then print akl_hourly_raw to confirm the date is spread over year, month and mday.\n",
        "Using mutate() create the column date with using make_date().\n",
        "We've pasted together the date and time columns. Create datetime by parsing the datetime_string column.\n",
        "Take a look at the date, time and datetime columns to verify they match up.\n",
        "Take a look at the data by plotting datetime on the x-axis and temperature of the y-axis.\n",
        "\n",
        "library(lubridate)\n",
        "library(readr)\n",
        "library(dplyr)\n",
        "library(ggplot2)\n",
        "\n",
        "# Import \"akl_weather_hourly_2016.csv\"\n",
        "akl_hourly_raw <- read_csv(\"akl_weather_hourly_2016.csv\")\n",
        "\n",
        "# Print akl_hourly_raw\n",
        "akl_hourly_raw\n",
        "\n",
        "# Use make_date() to combine year, month and mday \n",
        "akl_hourly  <- akl_hourly_raw  %>% \n",
        "  mutate(date = make_date(year = year, month = month, day = mday))\n",
        "\n",
        "# Parse datetime_string \n",
        "akl_hourly <- akl_hourly  %>% \n",
        "  mutate(\n",
        "    datetime_string = paste(date, time, sep = \"T\"),\n",
        "    datetime = ymd_hms(datetime_string)\n",
        "  )\n",
        "\n",
        "# Print date, time and datetime columns of akl_hourly\n",
        "akl_hourly %>% select(date, time, datetime)\n",
        "\n",
        "# Plot to check work\n",
        "ggplot(akl_hourly, aes(x = datetime, y = temperature)) +\n",
        "  geom_line()"
      ],
      "metadata": {
        "id": "Romsd_WfSCqF"
      },
      "execution_count": null,
      "outputs": []
    },
    {
      "cell_type": "code",
      "source": [
        "Instructions\n",
        "100 XP\n",
        "We've put release_time, the datetime column of the releases dataset from Chapter 1, in your workspace.\n",
        "\n",
        "Examine the head() of release_time to verify this is a vector of datetimes.\n",
        "Extract the month from release_time and examine the first few with head().\n",
        "To see which months have most releases, extract the month then pipe to table().\n",
        "Repeat, to see which years have the most releases.\n",
        "Do releases happen in the morning (UTC)? Find out if the hour of a release is less than 12 and summarise with mean().\n",
        "Alternatively use am() to find out how often releases happen in the morning.\n",
        "\n",
        "\n",
        "# Examine the head() of release_time\n",
        "head(release_time)\n",
        "\n",
        "# Examine the head() of the months of release_time\n",
        "head(month(release_time))\n",
        "\n",
        "# Extract the month of releases \n",
        "month(release_time) %>% table()\n",
        "\n",
        "# Extract the year of releases\n",
        "year(release_time) %>% table()\n",
        "\n",
        "# How often is the hour before 12 (noon)?\n",
        "mean(hour(release_time) < 12)\n",
        "\n",
        "# How often is the release in am?\n",
        "mean(am(release_time))"
      ],
      "metadata": {
        "id": "-M721tkcSCl5"
      },
      "execution_count": null,
      "outputs": []
    },
    {
      "cell_type": "code",
      "source": [
        "Instructions\n",
        "100 XP\n",
        "releases is now a data frame with a column called datetime with the release time.\n",
        "\n",
        "First, see what wday() does without labeling, by calling it on the datetime column of releases and tabulating the result. Do you know if 1 is Sunday or Monday?\n",
        "Repeat above, but now use labels by specifying the label argument. Better, right?\n",
        "Now store the labelled weekdays in a new column called wday.\n",
        "Create a barchart of releases by weekday, facetted by the type of release.\n",
        "\n",
        "library(ggplot2)\n",
        "\n",
        "# Use wday() to tabulate release by day of the week\n",
        "wday(releases$datetime) %>% table()\n",
        "\n",
        "# Add label = TRUE to make table more readable\n",
        "wday(releases$datetime, label = TRUE) %>% table()\n",
        "\n",
        "# Create column wday to hold week days\n",
        "releases$wday <- wday(releases$datetime, label = TRUE)\n",
        "\n",
        "# Plot barchart of weekday by type of release\n",
        "ggplot(releases, aes(wday)) +\n",
        "  geom_bar() +\n",
        "  facet_wrap(~ type, ncol = 1, scale = \"free_y\")\n",
        "\n",
        "  "
      ],
      "metadata": {
        "id": "on89ADqjSCiS"
      },
      "execution_count": null,
      "outputs": []
    },
    {
      "cell_type": "code",
      "source": [
        "Instructions\n",
        "100 XP\n",
        "releases is now a data frame with a column called datetime with the release time.\n",
        "\n",
        "First, see what wday() does without labeling, by calling it on the datetime column of releases and tabulating the result. Do you know if 1 is Sunday or Monday?\n",
        "Repeat above, but now use labels by specifying the label argument. Better, right?\n",
        "Now store the labelled weekdays in a new column called wday.\n",
        "Create a barchart of releases by weekday, facetted by the type of release.\n",
        "\n",
        "\n",
        "library(ggplot2)\n",
        "\n",
        "# Use wday() to tabulate release by day of the week\n",
        "wday(releases$datetime) %>% table()\n",
        "\n",
        "# Add label = TRUE to make table more readable\n",
        "wday(releases$datetime, label = TRUE) %>% table()\n",
        "\n",
        "# Create column wday to hold week days\n",
        "releases$wday <- wday(releases$datetime, label = TRUE)\n",
        "\n",
        "# Plot barchart of weekday by type of release\n",
        "ggplot(releases, aes(wday)) +\n",
        "  geom_bar() +\n",
        "  facet_wrap(~ type, ncol = 1, scale = \"free_\n",
        "\n"
      ],
      "metadata": {
        "id": "x9Ul41nKSCd5"
      },
      "execution_count": null,
      "outputs": []
    },
    {
      "cell_type": "code",
      "source": [
        "Instructions\n",
        "100 XP\n",
        "releases is now a data frame with a column called datetime with the release time.\n",
        "\n",
        "First, see what wday() does without labeling, by calling it on the datetime column of releases and tabulating the result. Do you know if 1 is Sunday or Monday?\n",
        "Repeat above, but now use labels by specifying the label argument. Better, right?\n",
        "Now store the labelled weekdays in a new column called wday.\n",
        "Create a barchart of releases by weekday, facetted by the type of release.\n",
        "\n",
        "\n",
        "library(ggplot2)\n",
        "\n",
        "# Use wday() to tabulate release by day of the week\n",
        "wday(releases$datetime) %>% table()\n",
        "\n",
        "# Add label = TRUE to make table more readable\n",
        "wday(releases$datetime, label = TRUE) %>% table()\n",
        "\n",
        "# Create column wday to hold week days\n",
        "releases$wday <- wday(releases$datetime, label = TRUE)\n",
        "\n",
        "# Plot barchart of weekday by type of release\n",
        "ggplot(releases, aes(wday)) +\n",
        "  geom_bar() +\n",
        "  facet_wrap(~ type, ncol = 1, scale = \"free_y\")\n",
        "\n"
      ],
      "metadata": {
        "id": "AGdzhmugSCa-"
      },
      "execution_count": null,
      "outputs": []
    },
    {
      "cell_type": "code",
      "source": [
        "Instructions\n",
        "100 XP\n",
        "releases is now a data frame with a column called datetime with the release time.\n",
        "\n",
        "First, see what wday() does without labeling, by calling it on the datetime column of releases and tabulating the result. Do you know if 1 is Sunday or Monday?\n",
        "Repeat above, but now use labels by specifying the label argument. Better, right?\n",
        "Now store the labelled weekdays in a new column called wday.\n",
        "Create a barchart of releases by weekday, facetted by the type of release.\n",
        "\n",
        "\n",
        "library(ggplot2)\n",
        "\n",
        "# Use wday() to tabulate release by day of the week\n",
        "wday(releases$datetime) %>% table()\n",
        "\n",
        "# Add label = TRUE to make table more readable\n",
        "wday(releases$datetime, label = TRUE) %>% table()\n",
        "\n",
        "# Create column wday to hold week days\n",
        "releases$wday <- wday(releases$datetime, label = TRUE)\n",
        "\n",
        "# Plot barchart of weekday by type of release\n",
        "ggplot(releases, aes(wday)) +\n",
        "  geom_bar() +\n",
        "  facet_wrap(~ type, ncol = 1, scale = \"free_y\")"
      ],
      "metadata": {
        "id": "4LTaURd4SCWX"
      },
      "execution_count": null,
      "outputs": []
    },
    {
      "cell_type": "code",
      "source": [
        "Instructions\n",
        "100 XP\n",
        "Use mutate() to create three new columns: year, yday and month that respectively hold the same components of the date column. Don't forget to label the months with their names.\n",
        "Create a plot of yday on the x-axis, max_temp of the y-axis where lines are grouped by year. Each year is a line on this plot, with the x-axis running from Jan 1 to Dec 31.\n",
        "To take an alternate look, create a ridgeline plot(formerly known as a joyplot) with max_temp on the x-axis, month on the y-axis, using geom_density_ridges() from the ggridges package.\n",
        "\n",
        "\n",
        "library(ggplot2)\n",
        "library(dplyr)\n",
        "library(ggridges)\n",
        "\n",
        "# Add columns for year, yday and month\n",
        "akl_daily <- akl_daily %>%\n",
        "  mutate(\n",
        "    year = year(date),\n",
        "    yday = yday(date),\n",
        "    month = month(date, label = TRUE))\n",
        "\n",
        "# Plot max_temp by yday for all years\n",
        "ggplot(akl_daily, aes(x = yday, y = max_temp)) +\n",
        "  geom_line(aes(group = year), alpha = 0.5)\n",
        "\n",
        "# Examine distribution of max_temp by month\n",
        "ggplot(akl_daily, aes(x = max_temp, y = month, height = ..density..)) +\n",
        "  geom_density_ridges(stat = \"density\")\n",
        "  "
      ],
      "metadata": {
        "id": "YwLVH5Aag82U"
      },
      "execution_count": null,
      "outputs": []
    },
    {
      "cell_type": "code",
      "source": [
        "Instructions\n",
        "100 XP\n",
        "Use mutate() to create three new columns: year, yday and month that respectively hold the same components of the date column. Don't forget to label the months with their names.\n",
        "Create a plot of yday on the x-axis, max_temp of the y-axis where lines are grouped by year. Each year is a line on this plot, with the x-axis running from Jan 1 to Dec 31.\n",
        "To take an alternate look, create a ridgeline plot(formerly known as a joyplot) with max_temp on the x-axis, month on the y-axis, using geom_density_ridges() from the ggridges package.\n",
        "\n",
        "\n",
        "library(ggplot2)\n",
        "library(dplyr)\n",
        "library(ggridges)\n",
        "\n",
        "# Add columns for year, yday and month\n",
        "akl_daily <- akl_daily %>%\n",
        "  mutate(\n",
        "    year = year(date),\n",
        "    yday = yday(date),\n",
        "    month = month(date, label = TRUE))\n",
        "\n",
        "# Plot max_temp by yday for all years\n",
        "ggplot(akl_daily, aes(x = yday, y = max_temp)) +\n",
        "  geom_line(aes(group = year), alpha = 0.5)\n",
        "\n",
        "# Examine distribution of max_temp by month\n",
        "ggplot(akl_daily, aes(x = max_temp, y = month, height = ..density..)) +\n",
        "  geom_density_ridges(stat = \"density\")"
      ],
      "metadata": {
        "id": "dktNZ2vsg8zY"
      },
      "execution_count": null,
      "outputs": []
    },
    {
      "cell_type": "code",
      "source": [
        "Instructions\n",
        "100 XP\n",
        "Create new columns for the hour and month of the observation from datetime. Make sure you label the month.\n",
        "Filter to just daytime observations, where the hour is greater than or equal to 8 and less than or equal to 22.\n",
        "Group the observations first by month, then by date, and summarise by using any() on the rainy column. This results in one value per day\n",
        "Summarise again by summing any_rain. This results in one value per month\n",
        "\n",
        "# Create new columns hour, month and rainy\n",
        "akl_hourly <- akl_hourly %>%\n",
        "  mutate(\n",
        "    hour = hour(datetime),\n",
        "    month = month(datetime, label = TRUE),\n",
        "    rainy = weather == \"Precipitation\"\n",
        "  )\n",
        "\n",
        "# Filter for hours between 8am and 10pm (inclusive)\n",
        "akl_day <- akl_hourly %>% \n",
        "  filter(hour >= 8, hour <= 22)\n",
        "\n",
        "# Summarise for each date if there is any rain\n",
        "rainy_days <- akl_day %>% \n",
        "  group_by(month, date) %>%\n",
        "  summarise(\n",
        "    any_rain = any(rainy)\n",
        "  )\n",
        "\n",
        "# Summarise for each month, the number of days with rain\n",
        "rainy_days %>% \n",
        "  summarise(\n",
        "    days_rainy = sum(any_rain)\n",
        "  )"
      ],
      "metadata": {
        "id": "6Soom43GhXer"
      },
      "execution_count": null,
      "outputs": []
    },
    {
      "cell_type": "code",
      "source": [
        "Instructions\n",
        "100 XP\n",
        "Choose the right function and units to round r_3_4_1 down to the nearest day.\n",
        "Choose the right function and units to round r_3_4_1 to the nearest 5 minutes.\n",
        "Choose the right function and units to round r_3_4_1 up to the nearest week.\n",
        "Find the time elapsed on the day of release at the time of release by subtracting r_3_4_1 rounded down to the day from r_3_4_1.\n",
        "\n",
        "\n",
        "r_3_4_1 <- ymd_hms(\"2016-05-03 07:13:28 UTC\")\n",
        "\n",
        "# Round down to day\n",
        "floor_date(r_3_4_1, unit = \"day\")\n",
        "\n",
        "# Round to nearest 5 minutes\n",
        "round_date(r_3_4_1, unit = \"5 minutes\")\n",
        "\n",
        "# Round up to week\n",
        "ceiling_date(r_3_4_1, unit = \"week\")\n",
        "\n",
        "# Subtract r_3_4_1 rounded down to day\n",
        "r_3_4_1 - floor_date(r_3_4_1, unit = \"day\")"
      ],
      "metadata": {
        "id": "GbE0Yf3mhXbL"
      },
      "execution_count": null,
      "outputs": []
    },
    {
      "cell_type": "code",
      "source": [
        "Instructions\n",
        "100 XP\n",
        "Create a new column called day_hour that is datetime rounded down to the nearest hour.\n",
        "Use count() on day_hour to count how many observations there are in each hour. What looks like the most common value?\n",
        "Extend the pipeline, so that after counting, you filter for observations where n is not equal to 2.\n",
        "\n",
        "# Create day_hour, datetime rounded down to hour\n",
        "akl_hourly <- akl_hourly %>%\n",
        "  mutate(\n",
        "    day_hour = floor_date(datetime, unit = \"hour\")\n",
        "  )\n",
        "\n",
        "# Count observations per hour  \n",
        "akl_hourly %>% \n",
        "  count(day_hour) \n",
        "\n",
        "# Find day_hours with n != 2 \n",
        "akl_hourly %>% \n",
        "  count(day_hour) %>%\n",
        "  filter(n != 2) %>% \n",
        "  arrange(desc(n))"
      ],
      "metadata": {
        "id": "-s8Lh2hUhXYF"
      },
      "execution_count": null,
      "outputs": []
    },
    {
      "cell_type": "markdown",
      "source": [
        "# **3**"
      ],
      "metadata": {
        "id": "vVM44LD2kEVE"
      }
    },
    {
      "cell_type": "code",
      "source": [
        "Instructions\n",
        "100 XP\n",
        "Apollo 11 landed on July 20, 1969. Use difftime() to find the number of days between today() and date_landing.\n",
        "Neil Armstrong stepped onto the surface at 02:56:15 UTC. Use difftime() to find the number of seconds between now() and moment_step.\n",
        "\n",
        "# The date landing and moment of step\n",
        "date_landing <- mdy(\"July 20, 1969\")\n",
        "moment_step <- mdy_hms(\"July 20, 1969, 02:56:15\", tz = \"UTC\")\n",
        "\n",
        "# How many days since the first man on the moon?\n",
        "difftime(today(), date_landing, units = \"days\")\n",
        "\n",
        "# How many seconds since the first man on the moon?\n",
        "difftime(now(), moment_step, units = \"secs\")"
      ],
      "metadata": {
        "id": "u438PbY7hXUF"
      },
      "execution_count": null,
      "outputs": []
    },
    {
      "cell_type": "code",
      "source": [
        "Instructions\n",
        "100 XP\n",
        "We've put code to define three times in your script - noon on March 11th, March 12th, and March 13th in 2017 in the US Pacific timezone.\n",
        "\n",
        "Find the difference in time between mar_13 and mar_12 in seconds. This should match your intuition.\n",
        "Now, find the difference in time between mar_12 and mar_11 in seconds. Surprised?\n",
        "\n",
        "\n",
        "# Three dates\n",
        "mar_11 <- ymd_hms(\"2017-03-11 12:00:00\", \n",
        "  tz = \"America/Los_Angeles\")\n",
        "mar_12 <- ymd_hms(\"2017-03-12 12:00:00\", \n",
        "  tz = \"America/Los_Angeles\")\n",
        "mar_13 <- ymd_hms(\"2017-03-13 12:00:00\", \n",
        "  tz = \"America/Los_Angeles\")\n",
        "\n",
        "# Difference between mar_13 and mar_12 in seconds\n",
        "difftime(mar_13, mar_12, units = \"secs\")\n",
        "\n",
        "# Difference between mar_12 and mar_11 in seconds\n",
        "difftime(mar_12, mar_11, units = \"secs\")"
      ],
      "metadata": {
        "id": "IsoTFloRhXQk"
      },
      "execution_count": null,
      "outputs": []
    },
    {
      "cell_type": "code",
      "source": [
        "Instructions\n",
        "100 XP\n",
        "It's Monday Aug 27th 2018 at 2pm and you want to remind yourself this time next week to send an email. Add a period of one week to mon_2pm.\n",
        "It's Tuesday Aug 28th 2018 at 9am and you are starting some code that usually takes about 81 hours to run. When will it finish? Add a duration of 81 hours to tue_9am.\n",
        "What were you doing five years ago? Subtract a period of 5 years from today().\n",
        "Subtract a duration of 5 years from today(). Will this give a different date?\n",
        "\n",
        "\n",
        "# Add a period of one week to mon_2pm\n",
        "mon_2pm <- dmy_hm(\"27 Aug 2018 14:00\")\n",
        "mon_2pm + weeks(1)\n",
        "\n",
        "# Add a duration of 81 hours to tue_9am\n",
        "tue_9am <- dmy_hm(\"28 Aug 2018 9:00\")\n",
        "tue_9am + hours(81)\n",
        "\n",
        "# Subtract a period of five years from today()\n",
        "today() - years(5)\n",
        "\n",
        "# Subtract a duration of five years from today()\n",
        "today() - dyears(5)\n"
      ],
      "metadata": {
        "id": "80lwRtXRhXM7"
      },
      "execution_count": null,
      "outputs": []
    },
    {
      "cell_type": "code",
      "source": [
        "Instructions\n",
        "100 XP\n",
        "Create a duration corresponding to one Synodic Month: 29 days, 12 hours, 44 minutes and 3 seconds.\n",
        "Create a duration corresponding to one Saros by multiplying synodic by 223.\n",
        "Add saros to eclipse_2017 to predict the next eclipse.\n",
        "\n",
        "# Time of North American Eclipse 2017\n",
        "eclipse_2017 <- ymd_hms(\"2017-08-21 18:26:40\")\n",
        "\n",
        "# Duration of 29 days, 12 hours, 44 mins and 3 secs\n",
        "synodic <- ddays(29) + dhours(12) + dminutes(44) + dseconds(3)\n",
        "\n",
        "# 223 synodic months\n",
        "saros <- 223*synodic\n",
        "\n",
        "# Add saros to eclipse_2017\n",
        "eclipse_2017 + saros"
      ],
      "metadata": {
        "id": "LRQaz-l5hXJ7"
      },
      "execution_count": null,
      "outputs": []
    },
    {
      "cell_type": "code",
      "source": [
        "Instructions\n",
        "100 XP\n",
        "Create today_8am() by adding a period of 8 hours to today()\n",
        "Create a sequence of periods from one period of two weeks, up to 26 periods of two weeks.\n",
        "Add every_two_weeks to today_8am.\n",
        "\n",
        "\n",
        "# Add a period of 8 hours to today\n",
        "today_8am <- today() + hours(8) \n",
        "\n",
        "# Sequence of two weeks from 1 to 26\n",
        "every_two_weeks <- 1:26 * weeks(2)\n",
        "\n",
        "# Create datetime for every two weeks for a year\n",
        "today_8am + every_two_weeks\n"
      ],
      "metadata": {
        "id": "0-ot-TDxhXGc"
      },
      "execution_count": null,
      "outputs": []
    },
    {
      "cell_type": "code",
      "source": [
        "Instructions\n",
        "100 XP\n",
        "We've put jan_31, the date for January 31st this year in your workspace.\n",
        "\n",
        "Start by creating a sequence of 1 to 12 periods of 1 month.\n",
        "Add month_seq to jan_31. Notice what happens to any month where the 31st doesn't exist\n",
        "Now add month_seq to jan_31 using the %m+% operator.\n",
        "Try subtracting month_seq from jan_31 using the %m-% operator.\n",
        "\n",
        "# A sequence of 1 to 12 periods of 1 month\n",
        "month_seq <- 1:12 * months(1)\n",
        "\n",
        "# Add 1 to 12 months to jan_31\n",
        "jan_31 + month_seq \n",
        "\n",
        "# Replace + with %m+%\n",
        "jan_31 %m+% month_seq\n",
        "\n",
        "# Replace + with %m-%\n",
        "jan_31 %m-% month_seq"
      ],
      "metadata": {
        "id": "XUF-xnXWhXDG"
      },
      "execution_count": null,
      "outputs": []
    },
    {
      "cell_type": "code",
      "source": [
        "Instructions\n",
        "100 XP\n",
        "We've put the data monarchs in your workspace.\n",
        "\n",
        "Print monarchs to take a look at the data\n",
        "Create a new column called reign that is an interval between from and to.\n",
        "Create another new column, length, that is the interval length of reign. The rest of the pipeline we've filled in for you, it arranges by decreasing length and selects the name, length and dominion columns.\n",
        "\n",
        "# Print monarchs\n",
        "monarchs\n",
        "\n",
        "# Create an interval for reign\n",
        "monarchs <- monarchs %>%\n",
        "  mutate(reign = from %--% to) \n",
        "\n",
        "# Find the length of reign, and arrange\n",
        "monarchs %>%\n",
        "  mutate(length = int_length(reign)) %>% \n",
        "  arrange(desc(length)) %>%\n",
        "  select(name, length, dominion)"
      ],
      "metadata": {
        "id": "mjHQCXn0g8vz"
      },
      "execution_count": null,
      "outputs": []
    },
    {
      "cell_type": "code",
      "source": [
        "Instructions\n",
        "100 XP\n",
        "We've put halleys a data set describing appearances of Halley's comet in your workspace.\n",
        "\n",
        "Print halleys to examine the date. perihelion_date is the date the Comet is closest to the Sun. start_date and end_date are the range of dates the comet is visible from Earth.\n",
        "Create a new column, visible, that is an interval from start_date to end_date.\n",
        "You'll work with one appearance, extract the 14th row of halleys.\n",
        "Filter monarchs to those where halleys_1066$perihelion_date is within reign.\n",
        "Filter monarchs to those where halleys_1066$visible overlaps reign.\n",
        "\n",
        "# Print halleys\n",
        "halleys\n",
        "\n",
        "# New column for interval from start to end date\n",
        "halleys <- halleys %>% \n",
        "  mutate(visible = start_date %--% end_date)\n",
        "\n",
        "# The visitation of 1066\n",
        "halleys_1066 <- halleys[14, ] \n",
        "\n",
        "# Monarchs in power on perihelion date\n",
        "monarchs %>% \n",
        "  filter(halleys_1066$perihelion_date %within% reign) %>%\n",
        "  select(name, from, to, dominion)\n",
        "\n",
        "# Monarchs whose reign overlaps visible time\n",
        "monarchs %>% \n",
        "  filter(int_overlaps(halleys_1066$visible, reign)) %>%\n",
        "  select(name, from, to, dominion)\n"
      ],
      "metadata": {
        "id": "yObcofolg8st"
      },
      "execution_count": null,
      "outputs": []
    },
    {
      "cell_type": "code",
      "source": [
        "Instructions\n",
        "100 XP\n",
        "Create new columns for duration and period that convert reign into the appropriate object.\n",
        "Examine the name, duration and period columns.\n",
        "\n",
        "\n",
        "# New columns for duration and period\n",
        "monarchs <- monarchs %>%\n",
        "  mutate(\n",
        "    duration = as.duration(reign),\n",
        "    period = as.period(reign)) \n",
        "    \n",
        "# Examine results    \n",
        "monarchs %>%\n",
        "  select(name, duration, period)"
      ],
      "metadata": {
        "id": "59iTA-5QSCTp"
      },
      "execution_count": null,
      "outputs": []
    },
    {
      "cell_type": "markdown",
      "source": [
        "# **4**"
      ],
      "metadata": {
        "id": "xPAfHT9Zz7Zw"
      }
    },
    {
      "cell_type": "code",
      "source": [
        "Instructions\n",
        "100 XP\n",
        "I've put the times as listed on the FIFA website for games 2 and 3 in the group stage for New Zealand in your code.\n",
        "\n",
        "Game 2 was played in Edmonton. Use force_tz() to set the timezone of game 2 to \"America/Edmonton\".\n",
        "Game 3 was played in Winnipeg. Use force_tz() to set the timezone of game 3 to \"America/Winnipeg\".\n",
        "Find out how long the team had to rest between the two games, by using as.period() on the interval between game2_local and game3_local.\n",
        "\n",
        "\n",
        "# Game2: CAN vs NZL in Edmonton\n",
        "game2 <- mdy_hm(\"June 11 2015 19:00\")\n",
        "\n",
        "# Game3: CHN vs NZL in Winnipeg\n",
        "game3 <- mdy_hm(\"June 15 2015 18:30\")\n",
        "\n",
        "# Set the timezone to \"America/Edmonton\"\n",
        "game2_local <- force_tz(game2, tzone = \"America/Edmonton\")\n",
        "game2_local\n",
        "\n",
        "# Set the timezone to \"America/Winnipeg\"\n",
        "game3_local <- force_tz(game3, tzone = \"America/Winnipeg\")\n",
        "game3_local\n",
        "\n",
        "# How long does the team have to rest?\n",
        "as.period(game2_local %--% game3_local)"
      ],
      "metadata": {
        "id": "bRWK4cU1yacK"
      },
      "execution_count": null,
      "outputs": []
    },
    {
      "cell_type": "code",
      "source": [
        "Instructions\n",
        "100 XP\n",
        "Most fans will tune in from New Zealand. Use with_tz() to display game2_local in New Zealand time. New Zealand is in the \"Pacific/Auckland\" timezone.\n",
        "I'll be in Corvallis, Oregon. Use with_tz() to display game2_local my time. Corvallis is in the \"America/Los_Angeles\" timezone.\n",
        "Finally, use with_tz() to display game3_local in New Zealand time.\n",
        "\n",
        "\n",
        "# What time is game2_local in NZ?\n",
        "with_tz(game2_local, tzone = \"Pacific/Auckland\")\n",
        "\n",
        "# What time is game2_local in Corvallis, Oregon?\n",
        "with_tz(game2_local, tzone = \"America/Los_Angeles\")\n",
        "\n",
        "# What time is game3_local in NZ?\n",
        "with_tz(game3_local, tzone = \"Pacific/Auckland\")"
      ],
      "metadata": {
        "id": "fCXOmRP-yaYe"
      },
      "execution_count": null,
      "outputs": []
    },
    {
      "cell_type": "code",
      "source": [
        "Instructions\n",
        "100 XP\n",
        "The data is available in the akl_hourly data frame.\n",
        "\n",
        "What timezone are datetime and date_utc currently in? Examine the head of the datetime and date_utc columns to find out.\n",
        "Fix datetime to have the timezone for \"Pacific/Auckland\".\n",
        "Reexamine the head of the datetime column to check the times have the same clocktime, but are now in the right timezone.\n",
        "Now tabulate up the difference between the datetime and date_utc columns. It should be zero if our hypothesis was correct.\n",
        "\n",
        "\n",
        "# Examine datetime and date_utc\n",
        "head(akl_hourly$datetime)\n",
        "head(akl_hourly$date_utc)\n",
        "  \n",
        "# Force datetime to Pacific/Auckland\n",
        "akl_hourly <- akl_hourly %>%\n",
        "  mutate(\n",
        "    datetime = force_tz(datetime, tzone = \"Pacific/Auckland\"))\n",
        "\n",
        "# Reexamine datetime\n",
        "head(akl_hourly$datetime)\n",
        "  \n",
        "# Are datetime and date_utc the same moments\n",
        "table(akl_hourly$datetime - akl_hourly$date_utc)\n"
      ],
      "metadata": {
        "id": "9kXNKV3iyaUT"
      },
      "execution_count": null,
      "outputs": []
    },
    {
      "cell_type": "code",
      "source": [
        "Instructions\n",
        "100 XP\n",
        "Use read_csv() to read in \"akl_weather_hourly_2016.csv\". readr knows about the hms class, so if it comes across something that looks like a time it will use it.\n",
        "In this case the time column has been parsed as a time without a date. Take a look at the structure of the time column to verify it has the class hms.\n",
        "hms objects print like times should. Take a look by examining the head of the time column.\n",
        "You can use hms objects in plots too. Create a plot with time on the x-axis, temperature on the y-axis, with lines grouped by date.\n",
        "\n",
        "# Import auckland hourly data \n",
        "akl_hourly <- read_csv(\"akl_weather_hourly_2016.csv\")\n",
        "\n",
        "# Examine structure of time column\n",
        "str(akl_hourly$time)\n",
        "\n",
        "# Examine head of time column\n",
        "head(akl_hourly$time)\n",
        "\n",
        "# A plot using just time\n",
        "ggplot(akl_hourly, aes(x = time, y = temperature)) +\n",
        "  geom_line(aes(group = make_date(year, month, mday)), alpha = 0.2)\n",
        "  "
      ],
      "metadata": {
        "id": "UidZGX4N0qbO"
      },
      "execution_count": null,
      "outputs": []
    },
    {
      "cell_type": "code",
      "source": [
        "Instructions\n",
        "100 XP\n",
        "We've loaded the datetimes from the Auckland hourly data as strings into the vector dates.\n",
        "\n",
        "Examine the structure of dates to verify it is a string and in the ISO 8601 format.\n",
        "Parse dates with fasttime and pipe to str() to verify fastPOSIXct parses them correctly.\n",
        "Now to compare timing, call microbenchmark where the first argument uses ymd_hms() to parse dates and the second uses fastPOSIXct().\n",
        "\n",
        "library(microbenchmark)\n",
        "library(fasttime)\n",
        "\n",
        "# Examine structure of dates\n",
        "str(dates)\n",
        "\n",
        "# Use fastPOSIXct() to parse dates\n",
        "fastPOSIXct(dates) %>% str()\n",
        "\n",
        "# Compare speed of fastPOSIXct() to ymd_hms()\n",
        "microbenchmark(\n",
        "  ymd_hms = ymd_hms(dates),\n",
        "  fasttime = fastPOSIXct(dates),\n",
        "  times = 20)\n"
      ],
      "metadata": {
        "id": "BvFJfeWn0qX1"
      },
      "execution_count": null,
      "outputs": []
    },
    {
      "cell_type": "code",
      "source": [
        "Instructions\n",
        "100 XP\n",
        "dates is in your workspace again.\n",
        "\n",
        "Examine the head of dates. What components are present? What separators are used?\n",
        "Parse dates with fast_strptime() by specifying the appropriate format string.\n",
        "Compare the timing of fast_strptime() to fasttime and ymd_hms().\n",
        "\n",
        "# Head of dates\n",
        "head(dates)\n",
        "\n",
        "# Parse dates with fast_strptime\n",
        "fast_strptime(dates, \n",
        "    format = \"%Y-%m-%dT%H:%M:%SZ\") %>% str()\n",
        "\n",
        "# Comparse speed to ymd_hms() and fasttime\n",
        "microbenchmark(\n",
        "  ymd_hms = ymd_hms(dates),\n",
        "  fasttime = fastPOSIXct(dates),\n",
        "  fast_strptime = fast_strptime(dates, \n",
        "    format = \"%Y-%m-%dT%H:%M:%SZ\"),\n",
        "  times = 20)"
      ],
      "metadata": {
        "id": "Z5vt5mdmSCOu"
      },
      "execution_count": null,
      "outputs": []
    },
    {
      "cell_type": "code",
      "source": [
        "Instructions\n",
        "100 XP\n",
        "Create a stamp() based on the string \"Saturday, Jan 1, 2000\".\n",
        "Print date_stamp. Notice it is a function.\n",
        "Pass today() to date_stamp to format today's date.\n",
        "Now output today's date in American style MM/DD/YYYY.\n",
        "Finally, use stamp based on the finished string I've put in your workspace to format today().\n",
        "\n",
        "# Create a stamp based on \"Saturday, Jan 1, 2000\"\n",
        "date_stamp <- stamp(\"Saturday, Jan 1, 2000\")\n",
        "\n",
        "# Print date_stamp\n",
        "date_stamp\n",
        "\n",
        "# Call date_stamp on today\n",
        "date_stamp(today())\n",
        "\n",
        "# Create and call a stamp based on \"12/31/1999\"\n",
        "stamp(\"12/31/1999\")(today())\n",
        "\n",
        "# Use string finished for stamp()\n",
        "stamp(finished)(today())"
      ],
      "metadata": {
        "id": "1GgZqkURSCLz"
      },
      "execution_count": null,
      "outputs": []
    },
    {
      "cell_type": "code",
      "source": [],
      "metadata": {
        "id": "KQ_k-WaDSCIT"
      },
      "execution_count": null,
      "outputs": []
    }
  ]
}