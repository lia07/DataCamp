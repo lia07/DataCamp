{
  "nbformat": 4,
  "nbformat_minor": 0,
  "metadata": {
    "colab": {
      "provenance": [],
      "authorship_tag": "ABX9TyNCOw0Eyhjl8vCmwxio/Qp9",
      "include_colab_link": true
    },
    "kernelspec": {
      "name": "python3",
      "display_name": "Python 3"
    },
    "language_info": {
      "name": "python"
    }
  },
  "cells": [
    {
      "cell_type": "markdown",
      "metadata": {
        "id": "view-in-github",
        "colab_type": "text"
      },
      "source": [
        "<a href=\"https://colab.research.google.com/github/lia07/DataCamp/blob/main/git.ipynb\" target=\"_parent\"><img src=\"https://colab.research.google.com/assets/colab-badge.svg\" alt=\"Open In Colab\"/></a>"
      ]
    },
    {
      "cell_type": "code",
      "execution_count": null,
      "metadata": {
        "id": "M7hEbU08A-C4"
      },
      "outputs": [],
      "source": [
        "Instructions 1/2\n",
        "0 XP\n",
        "1\n",
        "Create an alias for the global command used to check the state of files, calling it st.\n",
        "\n",
        "git config --global alias.st status\n",
        "\n",
        "\n",
        "Run the new alias command to confirm it works.\n",
        "\n",
        "git st"
      ]
    },
    {
      "cell_type": "code",
      "source": [
        "Edit summary_statistics.txt and add the following text: \"Mean age is 32 years old, with a standard deviation of 6.72\".\n",
        "\n",
        "echo \"Mean age is 32 years old, with a standard deviation of 6.72\" >> summary_statistics.txt\n",
        "\n",
        "\n",
        "Make a commit with the log message \"Adding age summary statistics\".\n",
        "\n",
        "git add summary_statistics.txt\n",
        "\n",
        "\n",
        "Make a commit with the log message \"Adding age summary statistics\".\n",
        "\n",
        "git commit -m \"Adding age summary statistics\"\n",
        "\n",
        "\n",
        "Create a new branch called report.\n",
        "\n",
        "git checkout -b report\n",
        "\n",
        "\n",
        "Execute a command to compare the alter-report-title and summary-statistics branches.\n",
        "\n",
        "git diff alter-report-title summary-statistics\n",
        "\n",
        "\n",
        "Add \"80% of participants were male, compared to the industry average of 67%.\" to the end of report.md.\n",
        "\n",
        "echo \"80% of participants were male, compared to the industry average of 67%.\" >> report.md\n",
        "\n",
        "Place report.md into the staging area.\n",
        "\n",
        "git add report.md\n",
        "\n",
        "Make a commit with the log message \"Add gender summary in report\".\n",
        "git commit -m \"Add gender summary in report\"\n",
        "\n",
        "\n",
        "Edit report.md, removing content from the summary_statistics branch along with any Git conflict syntax.\n",
        "git commit -m \"Add gender summary in report\"\n",
        "\n",
        "echo \"# Mental Health in Tech Survey\n",
        "TODO: write executive summary.\n",
        "TODO: include link to raw data.\n",
        "TODO: remember to cite funding sources!\n",
        "TODO: Add data visualizations.\" > report.md"
      ],
      "metadata": {
        "id": "QOAmJcvZejtl"
      },
      "execution_count": null,
      "outputs": []
    },
    {
      "cell_type": "code",
      "source": [
        "Create a Git repo called anxiety_workplace in your current directory.\n",
        "\n",
        "git init anxiety_workplac\n",
        "\n",
        "Move into the new anxiety_workplace directory.\n",
        "cd anxiety_workplace\n",
        "\n",
        "Create a file called todo.txt containing the following text: \"TODO: Recap on existing research.\"\n",
        "echo \"TODO: Recap on existing research.\" > todo.txt\n",
        "\n",
        "\n",
        "Turn your project into a Git repo.\n",
        "git init\n",
        "\n",
        "\n",
        "Clone /home/john/repo, naming the cloned repo as john_anxiety_project.\n",
        "git clone /home/john/repo john_anxiety_project\n",
        "\n",
        "\n",
        "Instructions 1/2\n",
        "50 XP\n",
        "1\n",
        "Add the name john for the /home/john/repo repo.\n",
        "git remote add john /home/john/repo\n",
        "\n",
        "List all remotes including their URL(s).\n",
        "git remote -v\n",
        "\n",
        "\n",
        "Use a single command to fetch and merge the origin repo into your local main branch.\n",
        "git pull origin main\n",
        "git pull origin main\n",
        "\n",
        "\n",
        "Run a command to find out the name(s) of remote repos linked to your project.\n",
        "git remote\n",
        "\n",
        "\n",
        "Gather contents from the remote origin repo into your local main branch.\n",
        "git fetch origin main\n",
        "\n",
        "Compare the remote repo with your local main branch.\n",
        "git diff origin main\n",
        "\n",
        "\n",
        "Add the two updated files to the staging area.\n",
        "git add .\n",
        "\n",
        "\n",
        "Save changes with the log message \"Budget inaccuracy added to the issue log and report\"\n",
        "git commit -m \"Budget inaccuracy added to the issue log and report\"\n",
        "\n",
        "\n",
        "Update the origin remote with changes made in your local main branch.\n",
        "git push prigin main\n",
        "\n",
        "\n",
        "Pull origin into the local main branch, entering a message of your choice inside the text editor."
      ],
      "metadata": {
        "id": "YcPe3MYqejp-"
      },
      "execution_count": null,
      "outputs": []
    }
  ]
}