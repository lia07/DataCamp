{
  "nbformat": 4,
  "nbformat_minor": 0,
  "metadata": {
    "colab": {
      "provenance": [],
      "authorship_tag": "ABX9TyNjmrPpIyFA/NV3yRZUCIk7",
      "include_colab_link": true
    },
    "kernelspec": {
      "name": "python3",
      "display_name": "Python 3"
    },
    "language_info": {
      "name": "python"
    }
  },
  "cells": [
    {
      "cell_type": "markdown",
      "metadata": {
        "id": "view-in-github",
        "colab_type": "text"
      },
      "source": [
        "<a href=\"https://colab.research.google.com/github/lia07/DataCamp/blob/main/git.ipynb\" target=\"_parent\"><img src=\"https://colab.research.google.com/assets/colab-badge.svg\" alt=\"Open In Colab\"/></a>"
      ]
    },
    {
      "cell_type": "code",
      "execution_count": null,
      "metadata": {
        "id": "M7hEbU08A-C4"
      },
      "outputs": [],
      "source": [
        "Instructions 1/2\n",
        "0 XP\n",
        "1\n",
        "Create an alias for the global command used to check the state of files, calling it st.\n",
        "\n",
        "git config --global alias.st status\n",
        "\n",
        "\n",
        "Run the new alias command to confirm it works.\n",
        "\n",
        "git st"
      ]
    },
    {
      "cell_type": "code",
      "source": [
        "Edit summary_statistics.txt and add the following text: \"Mean age is 32 years old, with a standard deviation of 6.72\".\n",
        "\n",
        "echo \"Mean age is 32 years old, with a standard deviation of 6.72\" >> summary_statistics.txt\n",
        "\n",
        "\n",
        "Make a commit with the log message \"Adding age summary statistics\".\n",
        "\n",
        "git add summary_statistics.txt\n",
        "\n",
        "\n",
        "Make a commit with the log message \"Adding age summary statistics\".\n",
        "\n",
        "git commit -m \"Adding age summary statistics\"\n",
        "\n",
        "\n",
        "Create a new branch called report.\n",
        "\n",
        "git checkout -b report"
      ],
      "metadata": {
        "id": "QOAmJcvZejtl"
      },
      "execution_count": null,
      "outputs": []
    },
    {
      "cell_type": "code",
      "source": [],
      "metadata": {
        "id": "YcPe3MYqejp-"
      },
      "execution_count": null,
      "outputs": []
    }
  ]
}