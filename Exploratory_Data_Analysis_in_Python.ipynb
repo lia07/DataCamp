{
  "nbformat": 4,
  "nbformat_minor": 0,
  "metadata": {
    "colab": {
      "name": "Exploratory Data Analysis in Python.ipynb",
      "provenance": [],
      "authorship_tag": "ABX9TyN3giwRk0Os2BytLz9npxkD",
      "include_colab_link": true
    },
    "kernelspec": {
      "name": "python3",
      "display_name": "Python 3"
    },
    "language_info": {
      "name": "python"
    }
  },
  "cells": [
    {
      "cell_type": "markdown",
      "metadata": {
        "id": "view-in-github",
        "colab_type": "text"
      },
      "source": [
        "<a href=\"https://colab.research.google.com/github/lia07/DataCamp/blob/main/Exploratory_Data_Analysis_in_Python.ipynb\" target=\"_parent\"><img src=\"https://colab.research.google.com/assets/colab-badge.svg\" alt=\"Open In Colab\"/></a>"
      ]
    },
    {
      "cell_type": "markdown",
      "metadata": {
        "id": "OtKN1oxmYeNn"
      },
      "source": [
        "Exploratory Data Analysis in Python"
      ]
    },
    {
      "cell_type": "markdown",
      "metadata": {
        "id": "GnKGX_RPYh1C"
      },
      "source": [
        "1"
      ]
    },
    {
      "cell_type": "code",
      "metadata": {
        "id": "0O3-IrM_Yf4T"
      },
      "source": [
        "Instructions 1/4\n",
        "25 XP\n",
        "1\n",
        "2\n",
        "3\n",
        "4\n",
        "Calculate the number of rows and columns in the DataFrame nsfg.\n",
        "\n",
        "# Display the number of rows and columns\n",
        "nsfg.shape\n",
        "\n",
        "# Display the number of rows and columns\n",
        "nsfg.shape\n",
        "\n",
        "Instructions 2/4\n",
        "25 XP\n",
        "3\n",
        "4\n",
        "Display the names of the columns in nsfg.\n",
        "# Display the names of the columns\n",
        "nsfg.columns\n",
        "\n",
        "\n",
        "Instructions 3/4\n",
        "25 XP\n",
        "3\n",
        "4\n",
        "Select the column 'birthwgt_oz1' and assign it to a new variable called ounces.\n",
        "\n",
        "# Display the number of rows and columns\n",
        "nsfg.shape\n",
        "\n",
        "# Display the names of the columns\n",
        "nsfg.columns\n",
        "\n",
        "# Select column birthwgt_oz1: ounces\n",
        "ounces = nsfg['birthwgt_oz1']\n",
        "\n",
        "\n",
        "# Display the number of rows and columns\n",
        "nsfg.shape\n",
        "\n",
        "# Display the names of the columns\n",
        "nsfg.columns\n",
        "\n",
        "# Select column birthwgt_oz1: ounces\n",
        "ounces = nsfg['birthwgt_oz1']\n",
        "\n",
        "# Print the first 5 elements of ounces\n",
        "print(ounces.head())\n",
        "\n"
      ],
      "execution_count": null,
      "outputs": []
    },
    {
      "cell_type": "code",
      "metadata": {
        "id": "Lck4FEePPBsA"
      },
      "source": [
        "Instructions\n",
        "100 XP\n",
        "In the 'nbrnaliv' column, replace the value 8, in place, with the special value NaN.\n",
        "Confirm that the value 8 no longer appears in this column by printing the values and their frequencies.\n",
        "\n",
        "# Replace the value 8 with NaN\n",
        "nsfg['nbrnaliv'].replace([8], np.nan, inplace=True)\n",
        "\n",
        "# Print the values and their frequencies\n",
        "print(nsfg['nbrnaliv'].value_counts())\n"
      ],
      "execution_count": null,
      "outputs": []
    },
    {
      "cell_type": "code",
      "metadata": {
        "id": "D7eaEErzrWsc"
      },
      "source": [
        "Instructions 1/3\n",
        "35 XP\n",
        "1\n",
        "2\n",
        "3\n",
        "Select 'agecon' and 'agepreg', divide them by 100, and assign them to the local variables agecon and agepreg.\n",
        "\n",
        "# Select the columns and divide by 100\n",
        "agecon = nsfg['agecon'] / 100\n",
        "agepreg = nsfg['agepreg'] / 100\n",
        "\n",
        "Instructions 2/3\n",
        "35 XP\n",
        "2\n",
        "3\n",
        "Compute the difference, which is an estimate of the duration of the pregnancy. Keep in mind that for each pregnancy, agepreg will be larger than agecon.\n",
        "\n",
        "# Select the columns and divide by 100\n",
        "agecon = nsfg['agecon'] / 100\n",
        "agepreg = nsfg['agepreg'] / 100\n",
        "\n",
        "# Compute the difference\n",
        "preg_length = agepreg - agecon\n",
        "\n",
        "Instructions 3/3\n",
        "30 XP\n",
        "3\n",
        "Use .describe() to compute the mean duration and other summary statistics.\n",
        "\n",
        "# Select the columns and divide by 100\n",
        "agecon = nsfg['agecon'] / 100\n",
        "agepreg = nsfg['agepreg'] / 100\n",
        "\n",
        "# Compute the difference\n",
        "preg_length = agepreg - agecon\n",
        "\n",
        "# Compute summary statistics\n",
        "print(preg_length.describe())\n"
      ],
      "execution_count": null,
      "outputs": []
    },
    {
      "cell_type": "code",
      "metadata": {
        "id": "4cI9qbUysz61"
      },
      "source": [
        "Instructions 1/2\n",
        "50 XP\n",
        "1\n",
        "Plot a histogram of agecon with 20 bins.\n",
        "\n",
        "# Plot the histogram\n",
        "plt.hist(agecon, bins=20)\n",
        "\n",
        "# Label the axes\n",
        "plt.xlabel('Age at conception')\n",
        "plt.ylabel('Number of pregnancies')\n",
        "\n",
        "# Show the figure\n",
        "plt.show()\n",
        "\n",
        "\n",
        "Instructions 2/2\n",
        "50 XP\n",
        "Plot a histogram of agecon with 20 bins.\n",
        "\n",
        "2\n",
        "Adapt your code to make an unfilled histogram by setting the parameter histtype to be 'step'.\n",
        "\n",
        "\n",
        "# Plot the histogram\n",
        "plt.hist(agecon, bins=20, histtype='step')\n",
        "\n",
        "# Label the axes\n",
        "plt.xlabel('Age at conception')\n",
        "plt.ylabel('Number of pregnancies')\n",
        "\n",
        "# Show the figure\n",
        "plt.show()"
      ],
      "execution_count": null,
      "outputs": []
    },
    {
      "cell_type": "code",
      "metadata": {
        "id": "w_gD_Jq7uNtI"
      },
      "source": [
        "Instructions\n",
        "100 XP\n",
        "Make a Boolean Series called full_term that is true for babies with 'prglngth' greater than or equal to 37 weeks.\n",
        "Use full_term and birth_weight to select birth weight in pounds for full-term babies. Store the result in full_term_weight.\n",
        "Compute the mean weight of full-term babies.\n",
        "\n",
        "# Create a Boolean Series for full-term babies\n",
        "full_term = nsfg['prglngth'] >= 37\n",
        "\n",
        "# Select the weights of full-term babies\n",
        "full_term_weight = birth_weight[full_term]\n",
        "\n",
        "# Compute the mean weight of full-term babies\n",
        "print(full_term_weight.mean())"
      ],
      "execution_count": null,
      "outputs": []
    },
    {
      "cell_type": "code",
      "metadata": {
        "id": "DuMwzP-4utr9"
      },
      "source": [
        "Instructions\n",
        "100 XP\n",
        "Use the variable 'nbrnaliv' to make a Boolean Series that is True for single births (where 'nbrnaliv' equals 1) and False otherwise.\n",
        "Use Boolean Series and logical operators to select single, full-term babies and compute their mean birth weight.\n",
        "For comparison, select multiple, full-term babies and compute their mean birth weight.\n",
        "\n",
        "# Filter full-term babies\n",
        "full_term = nsfg['prglngth'] >= 37\n",
        "\n",
        "# Filter single births\n",
        "single = nsfg['nbrnaliv'] == 1\n",
        "\n",
        "# Compute birth weight for single full-term babies\n",
        "single_full_term_weight = birth_weight[single & full_term]\n",
        "print('Single full-term mean:', single_full_term_weight.mean())\n",
        "\n",
        "# Compute birth weight for multiple full-term babies\n",
        "mult_full_term_weight = birth_weight[~single & full_term]\n",
        "print('Multiple full-term mean:', mult_full_term_weight.mean())"
      ],
      "execution_count": null,
      "outputs": []
    },
    {
      "cell_type": "markdown",
      "metadata": {
        "id": "KgRfjBjSu6v7"
      },
      "source": [
        "2"
      ]
    },
    {
      "cell_type": "code",
      "metadata": {
        "id": "3S_Lc2lKu1Cd"
      },
      "source": [
        "Instructions 1/2\n",
        "50 XP\n",
        "1\n",
        "2\n",
        "Make a PMF for year with normalize=False and display the result.\n",
        "\n",
        "# Compute the PMF for year\n",
        "pmf_year = Pmf(gss['year'], normalize=False)\n",
        "\n",
        "# Print the result\n",
        "print(pmf_year)"
      ],
      "execution_count": null,
      "outputs": []
    },
    {
      "cell_type": "code",
      "metadata": {
        "id": "4ZDJaDHFgjLL"
      },
      "source": [
        "Instructions 1/3\n",
        "35 XP\n",
        "1\n",
        "2\n",
        "3\n",
        "Select the 'age' column from the gss DataFrame and store the result in age.\n",
        "\n",
        "# Select the age column\n",
        "age = gss['age']\n",
        "\n",
        "Instructions 2/3\n",
        "35 XP\n",
        "2\n",
        "3\n",
        "Make a normalized PMF of age. Store the result in pmf_age.\n",
        "\n",
        "# Select the age column\n",
        "age = gss['age']\n",
        "\n",
        "# Make a PMF of age\n",
        "pmf_age = Pmf(age)\n",
        "\n",
        "Instructions 3/3\n",
        "30 XP\n",
        "3\n",
        "Plot pmf_age as a bar chart.\n",
        "\n",
        "# Select the age column\n",
        "age = gss['age']\n",
        "\n",
        "# Make a PMF of age\n",
        "pmf_age = Pmf(age)\n",
        "\n",
        "# Plot the PMF\n",
        "pmf_age.bar()\n",
        "\n",
        "# Label the axes\n",
        "plt.xlabel('Age')\n",
        "plt.ylabel('PMF')\n",
        "plt.show()"
      ],
      "execution_count": null,
      "outputs": []
    },
    {
      "cell_type": "code",
      "metadata": {
        "id": "aow-ou5XhHxc"
      },
      "source": [
        "Instructions 1/4\n",
        "50 XP\n",
        "3\n",
        "4\n",
        "Select the 'age' column. Store the result in age.\n",
        "\n",
        "# Select the age column\n",
        "age = gss['age']\n",
        "\n",
        "Instructions 2/4\n",
        "0 XP\n",
        "2\n",
        "3\n",
        "4\n",
        "Compute the CDF of age. Store the result in cdf_age.\n",
        "\n",
        "# Select the age column\n",
        "age = gss['age']\n",
        "\n",
        "# Compute the CDF of age\n",
        "cdf_age = Cdf(age)\n",
        "\n",
        "Instructions 3/4\n",
        "30 XP\n",
        "3\n",
        "4\n",
        "Calculate the CDF of 30.\n",
        "\n",
        "# Select the age column\n",
        "age = gss['age']\n",
        "\n",
        "# Compute the CDF of age\n",
        "cdf_age = Cdf(age)\n",
        "\n",
        "# Calculate the CDF of 30\n",
        "print(cdf_age(30))\n"
      ],
      "execution_count": null,
      "outputs": []
    },
    {
      "cell_type": "code",
      "metadata": {
        "id": "9h3_qjN1fODG"
      },
      "source": [
        "Instructions 1/4\n",
        "25 XP\n",
        "1\n",
        "2\n",
        "3\n",
        "4\n",
        "Calculate the 75th percentile of income and store it in percentile_75th.\n",
        "\n",
        "# Calculate the 75th percentile \n",
        "percentile_75th = cdf_income.inverse(0.75)\n",
        "\n",
        "Instructions 2/4\n",
        "25 XP\n",
        "2\n",
        "3\n",
        "4\n",
        "Calculate the 25th percentile of income and store it in percentile_25th.\n",
        "\n",
        "# Calculate the 75th percentile \n",
        "percentile_75th = cdf_income.inverse(0.75)\n",
        "\n",
        "# Calculate the 25th percentile\n",
        "percentile_25th = cdf_income.inverse(0.25)\n",
        "\n",
        "Instructions 3/4\n",
        "25 XP\n",
        "3\n",
        "4\n",
        "Calculate the interquartile range of income. Store the result in iqr.\n",
        "\n",
        "# Calculate the 75th percentile \n",
        "percentile_75th = cdf_income.inverse(0.75)\n",
        "\n",
        "# Calculate the 25th percentile\n",
        "percentile_25th = cdf_income.inverse(0.25)\n",
        "\n",
        "# Calculate the interquartile range\n",
        "iqr = percentile_75th - percentile_25th\n",
        "\n",
        "# Print the interquartile range\n",
        "print(iqr)\n",
        "\n"
      ],
      "execution_count": null,
      "outputs": []
    },
    {
      "cell_type": "code",
      "metadata": {
        "id": "r0keXAEHfnij"
      },
      "source": [
        "# Calculate the 75th percentile \n",
        "percentile_75th = cdf_income.inverse(0.75)\n",
        "\n",
        "# Calculate the 25th percentile\n",
        "percentile_25th = cdf_income.inverse(0.25)\n",
        "\n",
        "# Calculate the interquartile range\n",
        "iqr = percentile_75th - percentile_25th\n",
        "\n",
        "# Print the interquartile range\n",
        "print(iqr)\n",
        "\n"
      ],
      "execution_count": null,
      "outputs": []
    },
    {
      "cell_type": "code",
      "metadata": {
        "id": "B94wgqeKfvOw"
      },
      "source": [
        "Instructions\n",
        "100 XP\n",
        "Select 'realinc' from the gss dataset.\n",
        "Make a Cdf object called cdf_income.\n",
        "Create a plot of cdf_income using .plot().\n",
        "\n",
        "# Select realinc\n",
        "income = gss['realinc']\n",
        "\n",
        "# Make the CDF\n",
        "cdf_income = Cdf(income)\n",
        "\n",
        "# Plot it\n",
        "cdf_income.plot()\n",
        "\n",
        "# Label the axes\n",
        "plt.xlabel('Income (1986 USD)')\n",
        "plt.ylabel('CDF')\n",
        "plt.show()"
      ],
      "execution_count": null,
      "outputs": []
    },
    {
      "cell_type": "code",
      "metadata": {
        "id": "3T_EeCjWhXIu"
      },
      "source": [
        "Instructions\n",
        "0 XP\n",
        "Select 'realinc' from the gss dataset.\n",
        "Make a Cdf object called cdf_income.\n",
        "Create a plot of cdf_income using .plot().\n",
        "\n",
        "\n",
        "# Select realinc\n",
        "income = gss['realinc']\n",
        "\n",
        "# Make the CDF\n",
        "cdf_income = Cdf(income)\n",
        "\n",
        "# Plot it\n",
        "cdf_income.plot()\n",
        "\n",
        "# Label the axes\n",
        "plt.xlabel('Income (1986 USD)')\n",
        "plt.ylabel('CDF')"
      ],
      "execution_count": null,
      "outputs": []
    },
    {
      "cell_type": "code",
      "metadata": {
        "id": "fQzTQdDohfFD"
      },
      "source": [
        "Instructions\n",
        "100 XP\n",
        "Complete the line that identifies respondents with associate degrees, that is, people with 14 or more years of education but less than 16.\n",
        "Complete the line that identifies respondents with 12 or fewer years of education.\n",
        "Confirm that the mean of high is the fraction we computed in the previous exercise, about 53%.\n",
        "\n",
        "# Select educ\n",
        "educ = gss['educ']\n",
        "\n",
        "# Bachelor's degree\n",
        "bach = (educ >= 16)\n",
        "\n",
        "# Associate degree\n",
        "assc = (educ >= 14) & (educ < 16)\n",
        "\n",
        "# High school\n",
        "high = (educ <= 12)\n",
        "print(high.mean())"
      ],
      "execution_count": null,
      "outputs": []
    },
    {
      "cell_type": "code",
      "metadata": {
        "id": "PBDw-7VuiuWm"
      },
      "source": [
        "Instructions\n",
        "100 XP\n",
        "Complete the line that identifies respondents with associate degrees, that is, people with 14 or more years of education but less than 16.\n",
        "Complete the line that identifies respondents with 12 or fewer years of education.\n",
        "Confirm that the mean of high is the fraction we computed in the previous exercise, about 53%.\n",
        "\n",
        "# Select educ\n",
        "educ = gss['educ']\n",
        "\n",
        "# Bachelor's degree\n",
        "bach = (educ >= 16)\n",
        "\n",
        "# Associate degree\n",
        "assc = (educ >= 14) & (educ < 16)\n",
        "\n",
        "# High school\n",
        "high = (educ <= 12)\n",
        "print(high.mean())\n"
      ],
      "execution_count": null,
      "outputs": []
    },
    {
      "cell_type": "code",
      "metadata": {
        "id": "-uSfoh2_jOlQ"
      },
      "source": [
        "Instructions\n",
        "100 XP\n",
        "Fill in the missing lines of code to plot the CDFs.\n",
        "\n",
        "income = gss['realinc']\n",
        "\n",
        "# Plot the CDFs\n",
        "Cdf(income[high]).plot(label='High school')\n",
        "Cdf(income[assc]).plot(label='Associate')\n",
        "Cdf(income[bach]).plot(label='Bachelor')\n",
        "\n",
        "# Label the axes\n",
        "plt.xlabel('Income (1986 USD)')\n",
        "plt.ylabel('CDF')\n",
        "plt.legend()\n",
        "plt.show()\n"
      ],
      "execution_count": null,
      "outputs": []
    },
    {
      "cell_type": "code",
      "metadata": {
        "id": "y01_4igEjZvN"
      },
      "source": [
        "Instructions\n",
        "100 XP\n",
        "Extract 'realinc' from gss and compute its logarithm using np.log10().\n",
        "Compute the mean and standard deviation of the result.\n",
        "Make a norm object by passing the computed mean and standard deviation to norm().\n",
        "\n",
        "# Extract realinc and compute its log\n",
        "income = gss['realinc']\n",
        "log_income = np.log10(income)\n",
        "\n",
        "# Compute mean and standard deviation\n",
        "mean = log_income.mean()\n",
        "std = log_income.std()\n",
        "print(mean, std)\n",
        "\n",
        "# Make a norm object\n",
        "from scipy.stats import norm\n",
        "dist = norm(mean, std)"
      ],
      "execution_count": null,
      "outputs": []
    },
    {
      "cell_type": "code",
      "metadata": {
        "id": "yO2_bz2FlogH"
      },
      "source": [
        "Instructions\n",
        "100 XP\n",
        "Evaluate the normal cumulative distribution function using dist.cdf.\n",
        "Use the Cdf() function to compute the CDF of log_income.\n",
        "Plot the result.\n",
        "\n",
        "# Evaluate the model CDF\n",
        "xs = np.linspace(2, 5.5)\n",
        "ys = dist.cdf(xs)\n",
        "\n",
        "# Plot the model CDF\n",
        "plt.clf()\n",
        "plt.plot(xs, ys, color='gray')\n",
        "\n",
        "# Create and plot the Cdf of log_income\n",
        "Cdf(log_income).plot()\n",
        "    \n",
        "# Label the axes\n",
        "plt.xlabel('log10 of realinc')\n",
        "plt.ylabel('CDF')\n",
        "plt.show()"
      ],
      "execution_count": null,
      "outputs": []
    },
    {
      "cell_type": "code",
      "metadata": {
        "id": "XbeKULRJl0hi"
      },
      "source": [
        "Instructions\n",
        "100 XP\n",
        "Evaluate the normal PDF using dist, which is a norm object with the same mean and standard deviation as the data.\n",
        "Make a KDE plot of the logarithms of the incomes, using log_income, which is a Series object.\n",
        "\n",
        "# Evaluate the normal PDF\n",
        "xs = np.linspace(2, 5.5)\n",
        "ys = dist.pdf(xs)\n",
        "\n",
        "# Plot the model PDF\n",
        "plt.clf()\n",
        "plt.plot(xs, ys, color='gray')\n",
        "\n",
        "# Plot the data KDE\n",
        "sns.kdeplot(log_income)\n",
        "    \n",
        "# Label the axes\n",
        "plt.xlabel('log10 of realinc')\n",
        "plt.ylabel('PDF')\n",
        "plt.show()"
      ],
      "execution_count": null,
      "outputs": []
    },
    {
      "cell_type": "markdown",
      "metadata": {
        "id": "Ix2QilX7MGX7"
      },
      "source": [
        "3"
      ]
    },
    {
      "cell_type": "code",
      "metadata": {
        "id": "YvCkctzhMDmU"
      },
      "source": [
        "Instructions\n",
        "100 XP\n",
        "Extract the variable 'AGE' from the DataFrame brfss and assign it to age.\n",
        "Get the PMF of age and plot it as a bar chart.\n",
        "\n",
        "\n",
        "# Extract AGE\n",
        "age = brfss['AGE']\n",
        "\n",
        "# Plot the PMF\n",
        "pmf_age = Pmf(age)\n",
        "pmf_age.bar()\n",
        "\n",
        "# Label the axes\n",
        "plt.xlabel('Age in years')\n",
        "plt.ylabel('PMF')\n",
        "plt.show()"
      ],
      "execution_count": null,
      "outputs": []
    },
    {
      "cell_type": "code",
      "metadata": {
        "id": "OJBWnVMUQR9O"
      },
      "source": [
        "Instructions\n",
        "100 XP\n",
        "Make a scatter plot of weight and age with format string 'o' and alpha=0.1.\n",
        "\n",
        "# Select the first 1000 respondents\n",
        "brfss = brfss[:1000]\n",
        "\n",
        "# Extract age and weight\n",
        "age = brfss['AGE']\n",
        "weight = brfss['WTKG3']\n",
        "\n",
        "# Make a scatter plot\n",
        "plt.plot(age, weight, 'o', alpha=0.1)\n",
        "\n",
        "plt.xlabel('Age in years')\n",
        "plt.ylabel('Weight in kg')\n",
        "\n",
        "plt.show()"
      ],
      "execution_count": null,
      "outputs": []
    },
    {
      "cell_type": "code",
      "metadata": {
        "id": "2sz4PP5AQeAM"
      },
      "source": [
        "Instructions\n",
        "100 XP\n",
        "Add random noise to age with mean 0 and standard deviation 2.5.\n",
        "Make a scatter plot between weight and age with marker size 5 and alpha=0.2. Be sure to also specify 'o'.\n",
        "\n",
        "# Select the first 1000 respondents\n",
        "brfss = brfss[:1000]\n",
        "\n",
        "# Add jittering to age\n",
        "age = brfss['AGE'] + np.random.normal(0, 2.5, size=len(brfss))\n",
        "# Extract weight\n",
        "weight = brfss['WTKG3']\n",
        "\n",
        "# Make a scatter plot\n",
        "plt.plot(age, weight, 'o', markersize=5, alpha=0.2)\n",
        "\n",
        "plt.xlabel('Age in years')\n",
        "plt.ylabel('Weight in kg')\n",
        "plt.show()"
      ],
      "execution_count": null,
      "outputs": []
    },
    {
      "cell_type": "code",
      "metadata": {
        "id": "Q0bz0FTMQz5j"
      },
      "source": [
        "Instructions\n",
        "100 XP\n",
        "Fill in the parameters of .boxplot() to plot the distribution of weight ('WTKG3') in each height ('_HTMG10') group. Specify whis=10, just as was done in the video.\n",
        "Add a line to plot the y-axis on a logarithmic scale.\n",
        "\n",
        "# Drop rows with missing data\n",
        "data = brfss.dropna(subset=['_HTMG10', 'WTKG3'])\n",
        "\n",
        "# Make a box plot\n",
        "sns.boxplot(x='_HTMG10', y='WTKG3', data=data, whis=10)\n",
        "\n",
        "# Plot the y-axis on a log scale\n",
        "\n",
        "\n",
        "# Remove unneeded lines and label axes\n",
        "sns.despine(left=True, bottom=True)\n",
        "plt.xlabel('Height in cm')\n",
        "plt.ylabel('Weight in kg')\n",
        "plt.show()"
      ],
      "execution_count": null,
      "outputs": []
    },
    {
      "cell_type": "code",
      "metadata": {
        "id": "UoszfqOVR8L0"
      },
      "source": [
        "Instructions\n",
        "100 XP\n",
        "Extract 'INCOME2' from the brfss DataFrame and assign it to income.\n",
        "Plot the PMF of income as a bar chart.\n",
        "\n",
        "# Extract income\n",
        "income = brfss['INCOME2']\n",
        "\n",
        "# Plot the PMF\n",
        "Pmf(income).bar()\n",
        "\n",
        "# Label the axes\n",
        "plt.xlabel('Income level')\n",
        "plt.ylabel('PMF')\n",
        "plt.show()"
      ],
      "execution_count": null,
      "outputs": []
    },
    {
      "cell_type": "code",
      "metadata": {
        "id": "TI6TFL2sSV8C"
      },
      "source": [
        "Instructions\n",
        "100 XP\n",
        "Create a violin plot to plot the distribution of height ('HTM4') in each income ('INCOME2') group. Specify inner=None to simplify the plot.\n",
        "\n",
        "\n",
        "# Drop rows with missing data\n",
        "data = brfss.dropna(subset=['INCOME2', 'HTM4'])\n",
        "\n",
        "# Make a violin plot\n",
        "sns.violinplot(x='INCOME2', y='HTM4', data=data, inner=None)\n",
        "\n",
        "# Remove unneeded lines and label axes\n",
        "sns.despine(left=True, bottom=True)\n",
        "plt.xlabel('Income level')\n",
        "plt.ylabel('Height in cm')\n",
        "plt.show()"
      ],
      "execution_count": null,
      "outputs": []
    },
    {
      "cell_type": "code",
      "metadata": {
        "id": "mp4w5BA1PyJ5"
      },
      "source": [
        "From the brfss DataFrame, select the columns 'AGE', 'INCOME2', and '_VEGESU1'.\n",
        "Compute the correlation matrix for these variables.\n",
        "\n",
        "# Select columns\n",
        "columns = ['AGE', 'INCOME2', '_VEGESU1']\n",
        "subset = brfss[columns]\n",
        "\n",
        "# Compute the correlation matrix\n",
        "print(subset.corr())"
      ],
      "execution_count": null,
      "outputs": []
    },
    {
      "cell_type": "code",
      "metadata": {
        "id": "zeMlHbBlR1vl"
      },
      "source": [
        "Instructions\n",
        "100 XP\n",
        "Extract the columns 'INCOME2' and '_VEGESU1' from subset into xs and ys respectively.\n",
        "Compute the simple linear regression of these variables.\n",
        "\n",
        "from scipy.stats import linregress\n",
        "\n",
        "# Extract the variables\n",
        "subset = brfss.dropna(subset=['INCOME2', '_VEGESU1'])\n",
        "xs = subset['INCOME2']\n",
        "ys = subset['_VEGESU1']\n",
        "\n",
        "# Compute the linear regression\n",
        "res = linregress(xs, ys)\n",
        "print(res)"
      ],
      "execution_count": null,
      "outputs": []
    },
    {
      "cell_type": "code",
      "metadata": {
        "id": "brAoXo35Y94M"
      },
      "source": [
        "Instructions\n",
        "100 XP\n",
        "Set fx to the minimum and maximum of xs, stored in a NumPy array.\n",
        "Set fy to the points on the fitted line that correspond to the fx.\n",
        "\n",
        "# Plot the scatter plot\n",
        "plt.clf()\n",
        "x_jitter = xs + np.random.normal(0, 0.15, len(xs))\n",
        "plt.plot(x_jitter, ys, 'o', alpha=0.2)\n",
        "\n",
        "# Plot the line of best fit\n",
        "fx = np.array([xs.min(), xs.max()])\n",
        "fy = res.intercept + res.slope * fx\n",
        "plt.plot(fx, fy, '-', alpha=0.7)\n",
        "\n",
        "plt.xlabel('Income code')\n",
        "plt.ylabel('Vegetable servings per day')\n",
        "plt.ylim([0, 6])\n",
        "plt.show()"
      ],
      "execution_count": null,
      "outputs": []
    },
    {
      "cell_type": "code",
      "metadata": {
        "id": "OtQ0zOQsbqBe"
      },
      "source": [
        "Instructions\n",
        "0 XP\n",
        "Compute the regression of '_VEGESU1' as a function of 'INCOME2' using SciPy's linregress().\n",
        "Compute the regression of '_VEGESU1' as a function of 'INCOME2' using StatsModels' smf.ols().\n",
        "\n",
        "\n",
        "from scipy.stats import linregress\n",
        "import statsmodels.formula.api as smf\n",
        "\n",
        "# Run regression with linregress\n",
        "subset = brfss.dropna(subset=['INCOME2', '_VEGESU1'])\n",
        "xs = subset['INCOME2']\n",
        "ys = subset['_VEGESU1']\n",
        "res = linregress(xs, ys)\n",
        "print(res)\n",
        "\n",
        "# Run regression with StatsModels\n",
        "results = smf.ols('_VEGESU1 ~ INCOME2', data=brfss).fit()\n",
        "print(results.params)"
      ],
      "execution_count": null,
      "outputs": []
    },
    {
      "cell_type": "code",
      "metadata": {
        "id": "ItwBcTKUeHm2"
      },
      "source": [
        "Instructions\n",
        "100 XP\n",
        "Group gss by 'educ'. Store the result in grouped.\n",
        "From grouped, extract 'realinc' and compute the mean.\n",
        "Plot mean_income_by_educ as a scatter plot. Specify 'o' and alpha=0.5.\n",
        "\n",
        "\n",
        "# Group by educ\n",
        "grouped = gss.groupby('educ')\n",
        "\n",
        "# Compute mean income in each group\n",
        "mean_income_by_educ = grouped['realinc'].mean()\n",
        "\n",
        "# Plot mean income as a scatter plot\n",
        "plt.clf()\n",
        "plt.plot(mean_income_by_educ, 'o', alpha=0.5)\n",
        "\n",
        "# Label the axes\n",
        "plt.xlabel('Education (years)')\n",
        "plt.ylabel('Income (1986 $)')\n",
        "plt.show()"
      ],
      "execution_count": null,
      "outputs": []
    },
    {
      "cell_type": "code",
      "metadata": {
        "id": "wm2SrqM0fxuG"
      },
      "source": [
        "Instructions\n",
        "100 XP\n",
        "Group gss by 'educ'. Store the result in grouped.\n",
        "From grouped, extract 'realinc' and compute the mean.\n",
        "Plot mean_income_by_educ as a scatter plot. Specify 'o' and alpha=0.5.\n",
        "\n",
        "\n",
        "# Group by educ\n",
        "grouped = gss.groupby('educ')\n",
        "\n",
        "# Compute mean income in each group\n",
        "mean_income_by_educ = grouped['realinc'].mean()\n",
        "\n",
        "# Plot mean income as a scatter plot\n",
        "plt.clf()\n",
        "plt.plot(mean_income_by_educ, 'o', alpha=0.5)\n",
        "\n",
        "# Label the axes\n",
        "plt.xlabel('Education (years)')\n",
        "plt.ylabel('Income (1986 $)')\n",
        "plt.show()"
      ],
      "execution_count": null,
      "outputs": []
    },
    {
      "cell_type": "code",
      "metadata": {
        "id": "eg_DDR6sgTX3"
      },
      "source": [
        "Instructions\n",
        "100 XP\n",
        "Add a column named 'educ2' to the gss DataFrame; it should contain the values from 'educ' squared.\n",
        "Run a regression model that uses 'educ', 'educ2', 'age', and 'age2' to predict 'realinc'.\n",
        "\n",
        "\n",
        "import statsmodels.formula.api as smf\n",
        "\n",
        "# Add a new column with educ squared\n",
        "gss['educ2'] = gss['educ']**2\n",
        "\n",
        "# Run a regression model with educ, educ2, age, and age2\n",
        "results = smf.ols('realinc ~ educ + educ2 + age + age2', data=gss).fit()\n",
        "\n",
        "# Print the estimated parameters\n",
        "print(results.params)"
      ],
      "execution_count": null,
      "outputs": []
    },
    {
      "cell_type": "code",
      "metadata": {
        "id": "mUQdjhq9gwWt"
      },
      "source": [
        "Instructions\n",
        "100  XP\n",
        "Using np.linspace(), add a variable named 'educ' to df with a range of values from 0 to 20.\n",
        "Add a variable named 'age' with the constant value 30.\n",
        "Use df to generate predicted income as a function of education.\n",
        "\n",
        "\n",
        "# Run a regression model with educ, educ2, age, and age2\n",
        "results = smf.ols('realinc ~ educ + educ2 + age + age2', data=gss).fit()\n",
        "\n",
        "# Make the DataFrame\n",
        "df = pd.DataFrame()\n",
        "df['educ'] = np.linspace(0, 20)\n",
        "df['age'] = 30\n",
        "df['educ2'] = df['educ']**2\n",
        "df['age2'] = df['age']**2\n",
        "\n",
        "# Generate and plot the predictions\n",
        "pred = results.predict(df)\n",
        "print(pred.head())"
      ],
      "execution_count": null,
      "outputs": []
    },
    {
      "cell_type": "code",
      "metadata": {
        "id": "tBPWTuu0hyKe"
      },
      "source": [
        "Instructions\n",
        "100 XP\n",
        "Plot mean_income_by_educ using circles ('o'). Specify an alpha of 0.5.\n",
        "Plot the prediction results with a line, with df['educ'] on the x-axis and pred on the y-axis.\n",
        "\n",
        "\n",
        "# Plot mean income in each age group\n",
        "plt.clf()\n",
        "grouped = gss.groupby('educ')\n",
        "mean_income_by_educ = grouped['realinc'].mean()\n",
        "plt.plot(mean_income_by_educ, 'o', alpha=0.5)\n",
        "\n",
        "# Plot the predictions\n",
        "pred = results.predict(df)\n",
        "plt.plot(df['educ'], pred, label='Age 30')\n",
        "\n",
        "# Label axes\n",
        "plt.xlabel('Education (years)')\n",
        "plt.ylabel('Income (1986 $)')\n",
        "plt.legend()\n",
        "plt.show()"
      ],
      "execution_count": null,
      "outputs": []
    },
    {
      "cell_type": "code",
      "metadata": {
        "id": "ouiVRbTni_bo"
      },
      "source": [
        "Instructions 1/4\n",
        "35 XP\n",
        "1\n",
        "2\n",
        "3\n",
        "4\n",
        "Fill in the parameters of smf.logit() to predict grass using the variables age, age2, educ, and educ2, along with sex as a categorical variable.\n",
        "\n",
        "# Recode grass\n",
        "gss['grass'].replace(2, 0, inplace=True)\n",
        "\n",
        "# Run logistic regression\n",
        "results = smf.logit('grass ~ age + age2 + educ + educ2 + C(sex)', data=gss).fit()\n",
        "results.params\n",
        "\n",
        "\n",
        "Instructions 2/4\n",
        "35 XP\n",
        "2\n",
        "3\n",
        "4\n",
        "Add a column called educ and set it to 12 years; then compute a second column, educ2, which is the square of educ.\n",
        "\n",
        "# Recode grass\n",
        "gss['grass'].replace(2, 0, inplace=True)\n",
        "\n",
        "# Run logistic regression\n",
        "results = smf.logit('grass ~ age + age2 + educ + educ2 + C(sex)', data=gss).fit()\n",
        "results.params\n",
        "\n",
        "# Make a DataFrame with a range of ages\n",
        "df = pd.DataFrame()\n",
        "df['age'] = np.linspace(18, 89)\n",
        "df['age2'] = df['age']**2\n",
        "\n",
        "# Set the education level to 12\n",
        "df['educ'] = 12\n",
        "df['educ2'] = df['educ']**2\n",
        "\n",
        "\n",
        "Instructions 3/4\n",
        "35 XP\n",
        "3\n",
        "4\n",
        "Generate separate predictions for men and women.\n",
        "\n",
        "\n",
        "# Recode grass\n",
        "gss['grass'].replace(2, 0, inplace=True)\n",
        "\n",
        "# Run logistic regression\n",
        "results = smf.logit('grass ~ age + age2 + educ + educ2 + C(sex)', data=gss).fit()\n",
        "results.params\n",
        "\n",
        "# Make a DataFrame with a range of ages\n",
        "df = pd.DataFrame()\n",
        "df['age'] = np.linspace(18, 89)\n",
        "df['age2'] = df['age']**2\n",
        "\n",
        "# Set the education level to 12\n",
        "df['educ'] = 12\n",
        "df['educ2'] = df['educ']**2\n",
        "\n",
        "# Generate predictions for men and women\n",
        "df['sex'] = 1\n",
        "pred1 = results.predict(df)\n",
        "\n",
        "df['sex'] = 2\n",
        "pred2 = results.predict(df)\n",
        "\n",
        "\n",
        "\n",
        "Instructions 4/4\n",
        "30 XP\n",
        "4\n",
        "Fill in the missing code to compute the mean of 'grass' for each age group, and then the arguments of plt.plot() to plot pred2 versus df['age'] with the label 'Female'.\n",
        "\n",
        "\n",
        "# Recode grass\n",
        "gss['grass'].replace(2, 0, inplace=True)\n",
        "\n",
        "# Run logistic regression\n",
        "results = smf.logit('grass ~ age + age2 + educ + educ2 + C(sex)', data=gss).fit()\n",
        "results.params\n",
        "\n",
        "# Make a DataFrame with a range of ages\n",
        "df = pd.DataFrame()\n",
        "df['age'] = np.linspace(18, 89)\n",
        "df['age2'] = df['age']**2\n",
        "\n",
        "# Set the education level to 12\n",
        "df['educ'] = 12\n",
        "df['educ2'] = df['educ']**2\n",
        "\n",
        "# Generate predictions for men and women\n",
        "df['sex'] = 1\n",
        "pred1 = results.predict(df)\n",
        "\n",
        "df['sex'] = 2\n",
        "pred2 = results.predict(df)\n",
        "\n",
        "plt.clf()\n",
        "grouped = gss.groupby('age')\n",
        "favor_by_age = grouped['grass'].mean()\n",
        "plt.plot(favor_by_age, 'o', alpha=0.5)\n",
        "\n",
        "plt.plot(df['age'], pred1, label='Male')\n",
        "plt.plot(df['age'], pred2, label='Female')\n",
        "\n",
        "plt.xlabel('Age')\n",
        "plt.ylabel('Probability of favoring legalization')\n",
        "plt.legend()\n",
        "plt.show()"
      ],
      "execution_count": null,
      "outputs": []
    },
    {
      "cell_type": "markdown",
      "metadata": {
        "id": "C97Ub8oPV2dx"
      },
      "source": [
        "222222"
      ]
    },
    {
      "cell_type": "code",
      "metadata": {
        "id": "hfWoJ8D4V4B2"
      },
      "source": [
        "# Plot the line of best fit\n",
        "fx = np.array([xs.min(), xs.max()])\n",
        "fy = res.intercept + res.slope * fx\n",
        "plt.plot(fx, fy, '-', alpha=0.7)\n",
        "\n",
        "plt.xlabel('Income code')\n",
        "plt.ylabel('Vegetable servings per day')\n",
        "plt.ylim([0, 6])\n",
        "plt.show()"
      ],
      "execution_count": null,
      "outputs": []
    },
    {
      "cell_type": "markdown",
      "metadata": {
        "id": "haVzZJGzmQwj"
      },
      "source": [
        ""
      ]
    }
  ]
}