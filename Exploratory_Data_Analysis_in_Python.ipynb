{
  "nbformat": 4,
  "nbformat_minor": 0,
  "metadata": {
    "colab": {
      "name": "Exploratory Data Analysis in Python.ipynb",
      "provenance": [],
      "authorship_tag": "ABX9TyOYK65BzOAIPFxCkD2WAWfD",
      "include_colab_link": true
    },
    "kernelspec": {
      "name": "python3",
      "display_name": "Python 3"
    },
    "language_info": {
      "name": "python"
    }
  },
  "cells": [
    {
      "cell_type": "markdown",
      "metadata": {
        "id": "view-in-github",
        "colab_type": "text"
      },
      "source": [
        "<a href=\"https://colab.research.google.com/github/lia07/DataCamp/blob/main/Exploratory_Data_Analysis_in_Python.ipynb\" target=\"_parent\"><img src=\"https://colab.research.google.com/assets/colab-badge.svg\" alt=\"Open In Colab\"/></a>"
      ]
    },
    {
      "cell_type": "markdown",
      "metadata": {
        "id": "OtKN1oxmYeNn"
      },
      "source": [
        "Exploratory Data Analysis in Python"
      ]
    },
    {
      "cell_type": "markdown",
      "metadata": {
        "id": "GnKGX_RPYh1C"
      },
      "source": [
        "1"
      ]
    },
    {
      "cell_type": "code",
      "metadata": {
        "id": "0O3-IrM_Yf4T"
      },
      "source": [
        "Instructions 1/4\n",
        "25 XP\n",
        "1\n",
        "2\n",
        "3\n",
        "4\n",
        "Calculate the number of rows and columns in the DataFrame nsfg.\n",
        "\n",
        "# Display the number of rows and columns\n",
        "nsfg.shape\n",
        "\n",
        "# Display the number of rows and columns\n",
        "nsfg.shape\n",
        "\n",
        "Instructions 2/4\n",
        "25 XP\n",
        "3\n",
        "4\n",
        "Display the names of the columns in nsfg.\n",
        "# Display the names of the columns\n",
        "nsfg.columns\n",
        "\n",
        "\n",
        "Instructions 3/4\n",
        "25 XP\n",
        "3\n",
        "4\n",
        "Select the column 'birthwgt_oz1' and assign it to a new variable called ounces.\n",
        "\n",
        "# Display the number of rows and columns\n",
        "nsfg.shape\n",
        "\n",
        "# Display the names of the columns\n",
        "nsfg.columns\n",
        "\n",
        "# Select column birthwgt_oz1: ounces\n",
        "ounces = nsfg['birthwgt_oz1']\n",
        "\n",
        "\n",
        "# Display the number of rows and columns\n",
        "nsfg.shape\n",
        "\n",
        "# Display the names of the columns\n",
        "nsfg.columns\n",
        "\n",
        "# Select column birthwgt_oz1: ounces\n",
        "ounces = nsfg['birthwgt_oz1']\n",
        "\n",
        "# Print the first 5 elements of ounces\n",
        "print(ounces.head())\n",
        "\n"
      ],
      "execution_count": null,
      "outputs": []
    },
    {
      "cell_type": "code",
      "metadata": {
        "id": "Lck4FEePPBsA"
      },
      "source": [
        "Instructions\n",
        "100 XP\n",
        "In the 'nbrnaliv' column, replace the value 8, in place, with the special value NaN.\n",
        "Confirm that the value 8 no longer appears in this column by printing the values and their frequencies.\n",
        "\n",
        "# Replace the value 8 with NaN\n",
        "nsfg['nbrnaliv'].replace([8], np.nan, inplace=True)\n",
        "\n",
        "# Print the values and their frequencies\n",
        "print(nsfg['nbrnaliv'].value_counts())\n"
      ],
      "execution_count": null,
      "outputs": []
    },
    {
      "cell_type": "code",
      "metadata": {
        "id": "D7eaEErzrWsc"
      },
      "source": [
        "Instructions 1/3\n",
        "35 XP\n",
        "1\n",
        "2\n",
        "3\n",
        "Select 'agecon' and 'agepreg', divide them by 100, and assign them to the local variables agecon and agepreg.\n",
        "\n",
        "# Select the columns and divide by 100\n",
        "agecon = nsfg['agecon'] / 100\n",
        "agepreg = nsfg['agepreg'] / 100\n",
        "\n",
        "Instructions 2/3\n",
        "35 XP\n",
        "2\n",
        "3\n",
        "Compute the difference, which is an estimate of the duration of the pregnancy. Keep in mind that for each pregnancy, agepreg will be larger than agecon.\n",
        "\n",
        "# Select the columns and divide by 100\n",
        "agecon = nsfg['agecon'] / 100\n",
        "agepreg = nsfg['agepreg'] / 100\n",
        "\n",
        "# Compute the difference\n",
        "preg_length = agepreg - agecon\n",
        "\n",
        "Instructions 3/3\n",
        "30 XP\n",
        "3\n",
        "Use .describe() to compute the mean duration and other summary statistics.\n",
        "\n",
        "# Select the columns and divide by 100\n",
        "agecon = nsfg['agecon'] / 100\n",
        "agepreg = nsfg['agepreg'] / 100\n",
        "\n",
        "# Compute the difference\n",
        "preg_length = agepreg - agecon\n",
        "\n",
        "# Compute summary statistics\n",
        "print(preg_length.describe())\n"
      ],
      "execution_count": null,
      "outputs": []
    },
    {
      "cell_type": "code",
      "metadata": {
        "id": "4cI9qbUysz61"
      },
      "source": [
        "Instructions 1/2\n",
        "50 XP\n",
        "1\n",
        "Plot a histogram of agecon with 20 bins.\n",
        "\n",
        "# Plot the histogram\n",
        "plt.hist(agecon, bins=20)\n",
        "\n",
        "# Label the axes\n",
        "plt.xlabel('Age at conception')\n",
        "plt.ylabel('Number of pregnancies')\n",
        "\n",
        "# Show the figure\n",
        "plt.show()\n",
        "\n",
        "\n",
        "Instructions 2/2\n",
        "50 XP\n",
        "Plot a histogram of agecon with 20 bins.\n",
        "\n",
        "2\n",
        "Adapt your code to make an unfilled histogram by setting the parameter histtype to be 'step'.\n",
        "\n",
        "\n",
        "# Plot the histogram\n",
        "plt.hist(agecon, bins=20, histtype='step')\n",
        "\n",
        "# Label the axes\n",
        "plt.xlabel('Age at conception')\n",
        "plt.ylabel('Number of pregnancies')\n",
        "\n",
        "# Show the figure\n",
        "plt.show()"
      ],
      "execution_count": null,
      "outputs": []
    },
    {
      "cell_type": "code",
      "metadata": {
        "id": "w_gD_Jq7uNtI"
      },
      "source": [
        "Instructions\n",
        "100 XP\n",
        "Make a Boolean Series called full_term that is true for babies with 'prglngth' greater than or equal to 37 weeks.\n",
        "Use full_term and birth_weight to select birth weight in pounds for full-term babies. Store the result in full_term_weight.\n",
        "Compute the mean weight of full-term babies.\n",
        "\n",
        "# Create a Boolean Series for full-term babies\n",
        "full_term = nsfg['prglngth'] >= 37\n",
        "\n",
        "# Select the weights of full-term babies\n",
        "full_term_weight = birth_weight[full_term]\n",
        "\n",
        "# Compute the mean weight of full-term babies\n",
        "print(full_term_weight.mean())"
      ],
      "execution_count": null,
      "outputs": []
    },
    {
      "cell_type": "code",
      "metadata": {
        "id": "DuMwzP-4utr9"
      },
      "source": [
        "Instructions\n",
        "100 XP\n",
        "Use the variable 'nbrnaliv' to make a Boolean Series that is True for single births (where 'nbrnaliv' equals 1) and False otherwise.\n",
        "Use Boolean Series and logical operators to select single, full-term babies and compute their mean birth weight.\n",
        "For comparison, select multiple, full-term babies and compute their mean birth weight.\n",
        "\n",
        "# Filter full-term babies\n",
        "full_term = nsfg['prglngth'] >= 37\n",
        "\n",
        "# Filter single births\n",
        "single = nsfg['nbrnaliv'] == 1\n",
        "\n",
        "# Compute birth weight for single full-term babies\n",
        "single_full_term_weight = birth_weight[single & full_term]\n",
        "print('Single full-term mean:', single_full_term_weight.mean())\n",
        "\n",
        "# Compute birth weight for multiple full-term babies\n",
        "mult_full_term_weight = birth_weight[~single & full_term]\n",
        "print('Multiple full-term mean:', mult_full_term_weight.mean())"
      ],
      "execution_count": null,
      "outputs": []
    },
    {
      "cell_type": "markdown",
      "metadata": {
        "id": "KgRfjBjSu6v7"
      },
      "source": [
        "2"
      ]
    },
    {
      "cell_type": "code",
      "metadata": {
        "id": "3S_Lc2lKu1Cd"
      },
      "source": [
        ""
      ],
      "execution_count": null,
      "outputs": []
    }
  ]
}