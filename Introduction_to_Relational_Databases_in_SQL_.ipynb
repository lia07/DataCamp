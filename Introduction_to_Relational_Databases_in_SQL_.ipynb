{
  "nbformat": 4,
  "nbformat_minor": 0,
  "metadata": {
    "colab": {
      "name": " Introduction to Relational Databases in SQL .ipynb",
      "provenance": [],
      "authorship_tag": "ABX9TyPNzH0NS0Jh3eUKsLSvo0gR",
      "include_colab_link": true
    },
    "kernelspec": {
      "name": "python3",
      "display_name": "Python 3"
    },
    "language_info": {
      "name": "python"
    }
  },
  "cells": [
    {
      "cell_type": "markdown",
      "metadata": {
        "id": "view-in-github",
        "colab_type": "text"
      },
      "source": [
        "<a href=\"https://colab.research.google.com/github/lia07/DataCamp/blob/main/Introduction_to_Relational_Databases_in_SQL_.ipynb\" target=\"_parent\"><img src=\"https://colab.research.google.com/assets/colab-badge.svg\" alt=\"Open In Colab\"/></a>"
      ]
    },
    {
      "cell_type": "markdown",
      "metadata": {
        "id": "u3vky8GCYc9c"
      },
      "source": [
        "learn icon\n",
        "LEARN\n",
        "Introduction to Relational Databases in SQL "
      ]
    },
    {
      "cell_type": "markdown",
      "metadata": {
        "id": "CRQOlHBBYs67"
      },
      "source": [
        "2"
      ]
    },
    {
      "cell_type": "code",
      "metadata": {
        "id": "C65o_cwWYuF1"
      },
      "source": [
        "Instrucciones\n",
        "100 XP\n",
        "Ejecute el código de muestra dado.\n",
        "Como no funciona, agregue un integertipo de molde en el lugar correcto y ejecútelo nuevamente.\n",
        "\n",
        "\n",
        "-- Calculate the net amount as amount + fee\n",
        "SELECT transaction_date, amount + CAST (fee AS integer) AS net_amount\n",
        "FROM transactions;"
      ],
      "execution_count": null,
      "outputs": []
    },
    {
      "cell_type": "code",
      "metadata": {
        "id": "uqaiCBeLYoFZ"
      },
      "source": [
        "Instructions 1/3\n",
        "35 XP\n",
        "1\n",
        "Have a look at the distinct university_shortname values in the professors table and take note of the length of the strings.\n",
        "\n",
        "\n",
        "-- Select the university_shortname column\n",
        "SELECT DISTINCT(university_shortname) \n",
        "FROM professors;\n",
        "\n",
        "2\n",
        "Now specify a fixed-length character type with the correct length for university_shortname.\n",
        "\n",
        "-- Specify the correct fixed-length character type\n",
        "ALTER TABLE professors\n",
        "ALTER COLUMN university_shortname\n",
        "TYPE char(3);\n",
        "\n",
        "3\n",
        "Change the type of the firstname column to varchar(64).\n",
        "\n",
        "-- Change the type of firstname\n",
        "ALTER TABLE professors\n",
        "ALTER COLUMN firstname\n",
        "TYPE varchar(64);"
      ],
      "execution_count": null,
      "outputs": []
    },
    {
      "cell_type": "code",
      "metadata": {
        "id": "PnMVR-nAabkY"
      },
      "source": [
        "\n",
        "\n",
        "-- Make universities.university_shortname unique\n",
        "ALTER TABLE universities\n",
        "ADD CONSTRAINT university_shortname_unq UNIQUE(university_shortname);"
      ],
      "execution_count": null,
      "outputs": []
    },
    {
      "cell_type": "markdown",
      "metadata": {
        "id": "c9fmZM18cqiK"
      },
      "source": [
        "3"
      ]
    },
    {
      "cell_type": "code",
      "metadata": {
        "id": "djDkK8ICcrcH"
      },
      "source": [
        "Instructions 1/2\n",
        "100 XP\n",
        "1\n",
        "Rename the organization column to id in organizations.\n",
        "Make id a primary key and name it organization_pk\n",
        "\n",
        "-- Rename the organization column to id\n",
        "ALTER TABLE organizations\n",
        "RENAME COLUMN organization TO id;\n",
        "\n",
        "-- Make id a primary key\n",
        "ALTER TABLE organizations\n",
        "ADD CONSTRAINT organization_pk PRIMARY KEY (id);\n",
        "\n",
        "\n",
        "Instructions 2/2\n",
        "50 XP\n",
        "Rename the organization column to id in organizations.\n",
        "Make id a primary key and name it organization_pk.\n",
        "2\n",
        "Rename the university_shortname column to id in universities.\n",
        "Make id a primary key and name it university_pk.\n",
        "\n",
        "-- Rename the university_shortname column to id\n",
        "ALTER TABLE universities\n",
        "RENAME COLUMN university_shortname TO id;\n",
        "\n",
        "-- Make id a primary key\n",
        "ALTER TABLE universities\n",
        "ADD CONSTRAINT university_pk PRIMARY KEY (id);\n",
        "\n",
        "*******\n",
        "\n",
        "-- Add the new column to the table\n",
        "ALTER TABLE professors \n",
        "ADD COLUMN id serial;\n",
        "\n",
        "-- Make id a primary key\n",
        "ALTER TABLE professors \n",
        "ADD CONSTRAINT professors_pkey PRIMARY KEY (id);"
      ],
      "execution_count": null,
      "outputs": []
    },
    {
      "cell_type": "code",
      "metadata": {
        "id": "QD8_8tzqcuTc"
      },
      "source": [
        "Instructions 1/3\n",
        "1 XP\n",
        "1\n",
        "2\n",
        "3\n",
        "Add a new column id with data type serial to the professors table.\n",
        "\n",
        "\n",
        "-- Add the new column to the table\n",
        "ALTER TABLE professors \n",
        "ADD COLUMN id serial;\n",
        "\n",
        "\n",
        "Instructions 2/3\n",
        "30 XP\n",
        "2\n",
        "3\n",
        "Make id a primary key and name it professors_pkey\n",
        "\n",
        "\n",
        "-- Add the new column to the table\n",
        "ALTER TABLE professors \n",
        "ADD COLUMN id serial;\n",
        "\n",
        "-- Make id a primary key\n",
        "ALTER TABLE professors \n",
        "ADD CONSTRAINT professors_pkey PRIMARY KEY (id);\n",
        "\n",
        "\n",
        "Instructions 3/3\n",
        "35 XP\n",
        "3\n",
        "Write a query that returns all the columns and 10 rows from professors.\n",
        "\n",
        "\n",
        "-- Add the new column to the table\n",
        "ALTER TABLE professors \n",
        "ADD COLUMN id serial;\n",
        "\n",
        "-- Make id a primary key\n",
        "ALTER TABLE professors \n",
        "ADD CONSTRAINT professors_pkey PRIMARY KEY (id);\n",
        "\n",
        "-- Have a look at the first 10 rows of professors\n",
        "SELECT * \n",
        "FROM professors \n",
        "LIMIT 10;"
      ],
      "execution_count": null,
      "outputs": []
    },
    {
      "cell_type": "code",
      "metadata": {
        "id": "m4yWZntXcuCg"
      },
      "source": [
        "Instructions 1/4\n",
        "1 XP\n",
        "1\n",
        "2\n",
        "3\n",
        "4\n",
        "Count the number of distinct rows with a combination of the make and model columns.\n",
        "\n",
        "\n",
        "-- Count the number of distinct rows with columns make, model\n",
        "SELECT COUNT(DISTINCT(make, model)) \n",
        "FROM cars;\n",
        "\n",
        "Instructions 2/4\n",
        "25 XP\n",
        "2\n",
        "3\n",
        "4\n",
        "Add a new column id with the data type varchar(128).\n",
        "\n",
        "\n",
        "-- Count the number of distinct rows with columns make, model\n",
        "SELECT COUNT(DISTINCT(make, model)) \n",
        "FROM cars;\n",
        "\n",
        "-- Add the id column\n",
        "ALTER TABLE cars\n",
        "ADD COLUMN id varchar(128);\n",
        "\n",
        "Instructions 3/4\n",
        "25 XP\n",
        "3\n",
        "4\n",
        "Concatenate make and model into id using an UPDATE table_name SET column_name = ... query and the CONCAT() function.\n",
        "\n",
        "-- Count the number of distinct rows with columns make, model\n",
        "SELECT COUNT(DISTINCT(make, model)) \n",
        "FROM cars;\n",
        "\n",
        "-- Add the id column\n",
        "ALTER TABLE cars\n",
        "ADD COLUMN id varchar(128);\n",
        "\n",
        "-- Update id with make + model\n",
        "UPDATE cars\n",
        "SET id = CONCAT(make, model);\n",
        "\n",
        "\n",
        "Instructions 4/4\n",
        "25 XP\n",
        "4\n",
        "Make id a primary key and name it id_pk.\n",
        "\n",
        "-- Count the number of distinct rows with columns make, model\n",
        "SELECT COUNT(DISTINCT(make, model)) \n",
        "FROM cars;\n",
        "\n",
        "-- Add the id column\n",
        "ALTER TABLE cars\n",
        "ADD COLUMN id varchar(128);\n",
        "\n",
        "-- Update id with make + model\n",
        "UPDATE cars\n",
        "SET id = CONCAT(make, model);\n",
        "\n",
        "-- Make id a primary key\n",
        "ALTER TABLE cars\n",
        "ADD CONSTRAINT id_pk PRIMARY KEY(id);\n",
        "\n",
        "-- Have a look at the table\n",
        "SELECT * FROM cars;\n",
        "\n"
      ],
      "execution_count": null,
      "outputs": []
    },
    {
      "cell_type": "code",
      "metadata": {
        "id": "0nOajVJActxW"
      },
      "source": [
        "Instructions\n",
        "100 XP\n",
        "Given the above description of a student entity, create a table students with the correct column types.\n",
        "Add a PRIMARY KEY for the social security number ssn.\n",
        "Note that there is no formal length requirement for the integer column. The application would have to make sure it's a correct SSN!\n",
        "\n",
        "-- Create the table\n",
        "CREATE TABLE students (\n",
        "  last_name varchar(128) NOT NULL,\n",
        "  ssn integer PRIMARY KEY,\n",
        "  phone_no char(12)\n",
        ");\n"
      ],
      "execution_count": null,
      "outputs": []
    },
    {
      "cell_type": "markdown",
      "metadata": {
        "id": "mvxdq2AeonNR"
      },
      "source": [
        "4"
      ]
    },
    {
      "cell_type": "code",
      "metadata": {
        "id": "hW_cit3octfo"
      },
      "source": [
        "Instructions 1/2\n",
        "50 XP\n",
        "1\n",
        "2\n",
        "Rename the university_shortname column to university_id in professors.\n",
        "\n",
        "-- Rename the university_shortname column\n",
        "ALTER TABLE professors\n",
        "RENAME COLUMN university_shortname TO university_id;\n",
        "\n",
        "\n",
        "Instructions 2/2\n",
        "50 XP\n",
        "2\n",
        "Add a foreign key on university_id column in professors that references the id column in universities.\n",
        "Name this foreign key professors_fkey.\n",
        "\n",
        "\n",
        "-- Rename the university_shortname column\n",
        "ALTER TABLE professors\n",
        "RENAME COLUMN university_shortname TO university_id;\n",
        "\n",
        "-- Add a foreign key on professors referencing universities\n",
        "ALTER TABLE professors \n",
        "ADD CONSTRAINT professors_fkey FOREIGN KEY (university_id) REFERENCES universities (id);"
      ],
      "execution_count": null,
      "outputs": []
    },
    {
      "cell_type": "code",
      "metadata": {
        "id": "opbNZWwEctOj"
      },
      "source": [
        "Instructions\n",
        "100 XP\n",
        "Run the sample code and have a look at the error message.\n",
        "What's wrong? Correct the university_id so that it actually reflects where Albert Einstein wrote his dissertation and became a professor – at the University of Zurich (UZH)!\n",
        "\n",
        "\n",
        "-- Try to insert a new professor\n",
        "INSERT INTO professors (firstname, lastname, university_id)\n",
        "VALUES ('Albert', 'Einstein', 'UZH');"
      ],
      "execution_count": null,
      "outputs": []
    },
    {
      "cell_type": "code",
      "metadata": {
        "id": "bMsd8DtqctL_"
      },
      "source": [
        "Instructions\n",
        "100 XP\n",
        "JOIN professors with universities on professors.university_id = universities.id, i.e., retain all records where the foreign key of professors is equal to the primary key of universities.\n",
        "Filter for university_city = 'Zurich'.\n",
        "\n",
        "\n",
        "\n",
        "-- Select all professors working for universities in the city of Zurich\n",
        "SELECT professors.lastname, universities.id, universities.university_city\n",
        "FROM professors\n",
        "JOIN universities\n",
        "ON professors.university_id = universities.id\n",
        "WHERE universities.university_city = 'Zurich';"
      ],
      "execution_count": null,
      "outputs": []
    },
    {
      "cell_type": "code",
      "metadata": {
        "id": "HH-szEm8abhb"
      },
      "source": [
        "Instructions 1/3\n",
        "1 XP\n",
        "2\n",
        "3\n",
        "Add a professor_id column with integer data type to affiliations, and declare it to be a foreign key that references the id column in professors.\n",
        "\n",
        "-- Add a professor_id column\n",
        "ALTER TABLE affiliations\n",
        "ADD COLUMN professor_id integer REFERENCES professors (id);\n",
        "\n",
        "Instructions 2/3\n",
        "35 XP\n",
        "2\n",
        "3\n",
        "Rename the organization column in affiliations to organization_id.\n",
        "\n",
        "-- Add a professor_id column\n",
        "ALTER TABLE affiliations\n",
        "ADD COLUMN professor_id integer REFERENCES professors (id);\n",
        "\n",
        "-- Rename the organization column to organization_id\n",
        "ALTER TABLE affiliations\n",
        "RENAME COLUMN organization TO organization_id;\n",
        "\n",
        "\n",
        "Instructions 3/3\n",
        "30 XP\n",
        "3\n",
        "Add a foreign key constraint on organization_id so that it references the id column in organizations.\n",
        "\n",
        "\n",
        "-- Rename the organization column to organization_id\n",
        "ALTER TABLE affiliations\n",
        "RENAME organization TO organization_id;\n",
        "\n",
        "-- Add a foreign key on organization_id\n",
        "ALTER TABLE affiliations\n",
        "ADD CONSTRAINT affiliations_organization_fkey FOREIGN KEY (organization_id) REFERENCES organizations (id);"
      ],
      "execution_count": null,
      "outputs": []
    },
    {
      "cell_type": "code",
      "metadata": {
        "id": "UMqBrcEwabcP"
      },
      "source": [
        "Instructions 1/3\n",
        "1 XP\n",
        "3\n",
        "First, have a look at the current state of affiliations by fetching 10 rows and all columns.\n",
        "\n",
        "\n",
        "-- Have a look at the 10 first rows of affiliations\n",
        "SELECT * \n",
        "FROM affiliations \n",
        "LIMIT 10;\n",
        "\n",
        "\n",
        "Instructions 2/3\n",
        "1 XP\n",
        "2\n",
        "3\n",
        "Update the professor_id column with the corresponding value of the id column in professors.\n",
        "\"Corresponding\" means rows in professors where the firstname and lastname are identical to the ones in affiliations.\n",
        "\n",
        "\n",
        "-- Update professor_id to professors.id where firstname, lastname correspond to rows in professors\n",
        "UPDATE affiliations\n",
        "SET professor_id = professors.id\n",
        "FROM professors\n",
        "WHERE affiliations.firstname = professors.firstname AND affiliations.lastname = professors.lastname;\n",
        "\n",
        "\n",
        "Instructions 3/3\n",
        "30 XP\n",
        "3\n",
        "Check out the first 10 rows and all columns of affiliations again. Have the professor_ids been correctly matched?\n",
        "\n",
        "\n",
        "-- Update professor_id to professors.id where firstname, lastname correspond to rows in professors\n",
        "UPDATE affiliations\n",
        "SET professor_id = professors.id\n",
        "FROM professors\n",
        "WHERE affiliations.firstname = professors.firstname AND affiliations.lastname = professors.lastname;\n",
        "\n",
        "-- Have a look at the 10 first rows of affiliations again\n",
        "SELECT * \n",
        "FROM affiliations \n",
        "LIMIT 10;"
      ],
      "execution_count": null,
      "outputs": []
    },
    {
      "cell_type": "code",
      "metadata": {
        "id": "ML-KooUEabZm"
      },
      "source": [
        "-- Drop the firstname column\n",
        "ALTER TABLE affiliations\n",
        "DROP COLUMN firstname;\n",
        "\n",
        "-- Drop the lastname column\n",
        "ALTER TABLE affiliations\n",
        "DROP COLUMN lastname;\n",
        "\n"
      ],
      "execution_count": null,
      "outputs": []
    },
    {
      "cell_type": "code",
      "metadata": {
        "id": "gPuluFIaabLB"
      },
      "source": [
        "Instructions 1/4\n",
        "35 XP\n",
        "1\n",
        "2\n",
        "3\n",
        "4\n",
        "Have a look at the existing foreign key constraints by querying table_constraints in information_schema.\n",
        "\n",
        "-- Identify the correct constraint name\n",
        "SELECT constraint_name, table_name, constraint_type\n",
        "FROM information_schema.table_constraints\n",
        "WHERE constraint_type = 'FOREIGN KEY';\n",
        "\n",
        "Instructions 2/4\n",
        "35 XP\n",
        "2\n",
        "3\n",
        "4\n",
        "Delete the affiliations_organization_id_fkey foreign key constraint in affiliations.\n",
        "\n",
        "-- Identify the correct constraint name\n",
        "SELECT constraint_name, table_name, constraint_type\n",
        "FROM information_schema.table_constraints\n",
        "WHERE constraint_type = 'FOREIGN KEY';\n",
        "\n",
        "-- Drop the right foreign key constraint\n",
        "ALTER TABLE affiliations\n",
        "DROP CONSTRAINT affiliations_organization_id_fkey;\n",
        "\n",
        "Instructions 3/4\n",
        "30 XP\n",
        "3\n",
        "4\n",
        "Add a new foreign key to affiliations that CASCADEs deletion if a referenced record is deleted from organizations. Name it affiliations_organization_id_fkey.\n",
        "\n",
        "\n",
        "-- Identify the correct constraint name\n",
        "SELECT constraint_name, table_name, constraint_type\n",
        "FROM information_schema.table_constraints\n",
        "WHERE constraint_type = 'FOREIGN KEY';\n",
        "\n",
        "-- Drop the right foreign key constraint\n",
        "ALTER TABLE affiliations\n",
        "DROP CONSTRAINT affiliations_organization_id_fkey;\n",
        "\n",
        "-- Add a new foreign key constraint from affiliations to organizations which cascades deletion\n",
        "ALTER TABLE affiliations\n",
        "ADD CONSTRAINT affiliations_organization_id_fkey FOREIGN KEY (organization_id) REFERENCES organizations (id) ON DELETE CASCADE;\n",
        "\n",
        "\n",
        "Instructions 4/4\n",
        "0 XP\n",
        "4\n",
        "Run the DELETE and SELECT queries to double check that the deletion cascade actually works.\n",
        "\n",
        "\n",
        "-- Identify the correct constraint name\n",
        "SELECT constraint_name, table_name, constraint_type\n",
        "FROM information_schema.table_constraints\n",
        "WHERE constraint_type = 'FOREIGN KEY';\n",
        "\n",
        "-- Drop the right foreign key constraint\n",
        "ALTER TABLE affiliations\n",
        "DROP CONSTRAINT affiliations_organization_id_fkey;\n",
        "\n",
        "-- Add a new foreign key constraint from affiliations to organizations which cascades deletion\n",
        "ALTER TABLE affiliations\n",
        "ADD CONSTRAINT affiliations_organization_id_fkey FOREIGN KEY (organization_id) REFERENCES organizations (id) ON DELETE CASCADE;\n",
        "\n",
        "-- Delete an organization \n",
        "DELETE FROM organizations \n",
        "WHERE id = 'CUREM';\n",
        "\n",
        "-- Check that no more affiliations with this organization exist\n",
        "SELECT * FROM affiliations\n",
        "WHERE organization_id = 'CUREM';"
      ],
      "execution_count": null,
      "outputs": []
    },
    {
      "cell_type": "code",
      "metadata": {
        "id": "jwXysUyR7qbM"
      },
      "source": [
        "Instructions\n",
        "100 XP\n",
        "Count the number of total affiliations by university.\n",
        "Sort the result by that count, in descending order.\n",
        "\n",
        "\n",
        "-- Count the total number of affiliations per university\n",
        "SELECT COUNT(*), professors.university_id \n",
        "FROM affiliations\n",
        "JOIN professors\n",
        "ON affiliations.professor_id = professors.id\n",
        "-- Group by the university ids of professors\n",
        "GROUP BY professors.university_id \n",
        "ORDER BY count DESC;"
      ],
      "execution_count": null,
      "outputs": []
    }
  ]
}