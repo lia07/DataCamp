{
  "nbformat": 4,
  "nbformat_minor": 0,
  "metadata": {
    "colab": {
      "provenance": [],
      "authorship_tag": "ABX9TyPFoVmE6B9UeTtwfD9tIq4k",
      "include_colab_link": true
    },
    "kernelspec": {
      "name": "python3",
      "display_name": "Python 3"
    },
    "language_info": {
      "name": "python"
    }
  },
  "cells": [
    {
      "cell_type": "markdown",
      "metadata": {
        "id": "view-in-github",
        "colab_type": "text"
      },
      "source": [
        "<a href=\"https://colab.research.google.com/github/lia07/DataCamp/blob/main/Untitled1.ipynb\" target=\"_parent\"><img src=\"https://colab.research.google.com/assets/colab-badge.svg\" alt=\"Open In Colab\"/></a>"
      ]
    },
    {
      "cell_type": "code",
      "execution_count": null,
      "metadata": {
        "id": "zk0P2TK1xa5R"
      },
      "outputs": [],
      "source": [
        "Instructions\n",
        "100 XP\n",
        "Complete the import statement to load the numpy package.\n",
        "Use numpy's array class to define arr.\n",
        "Use arr's sort method to sort the numpy array.\n",
        "\n",
        "\n",
        "# import the numpy package\n",
        "import numpy as np\n",
        "\n",
        "# create an array class object\n",
        "arr = np.array([8, 6, 7, 5, 3, 0, 9])\n",
        "\n",
        "# use the sort method\n",
        "arr.sort()\n",
        "\n",
        "# print the sorted array\n",
        "print(arr)"
      ]
    },
    {
      "cell_type": "code",
      "source": [
        "Instructions 1/2\n",
        "50 XP\n",
        "1\n",
        "2\n",
        "View the documentation of the Counter.most_common method using the help() function. Note, you need to run the import statement before completing this step.\n",
        "\n",
        "\n",
        "# Load the Counter function into our environment\n",
        "from collections import Counter\n",
        "\n",
        "# View the documentation for Counter.most_common\n",
        "help(Counter.most_common)"
      ],
      "metadata": {
        "id": "-wSRTUOuufcp"
      },
      "execution_count": null,
      "outputs": []
    },
    {
      "cell_type": "code",
      "source": [],
      "metadata": {
        "id": "xcADHusbufZO"
      },
      "execution_count": null,
      "outputs": []
    },
    {
      "cell_type": "code",
      "source": [],
      "metadata": {
        "id": "rWmDGQmmxu6Y"
      },
      "execution_count": null,
      "outputs": []
    },
    {
      "cell_type": "code",
      "source": [],
      "metadata": {
        "id": "QQmGPUhSxu2-"
      },
      "execution_count": null,
      "outputs": []
    },
    {
      "cell_type": "code",
      "source": [],
      "metadata": {
        "id": "TZVBac2Oxuzj"
      },
      "execution_count": null,
      "outputs": []
    },
    {
      "cell_type": "code",
      "source": [],
      "metadata": {
        "id": "V_6yBHz0xulQ"
      },
      "execution_count": null,
      "outputs": []
    }
  ]
}