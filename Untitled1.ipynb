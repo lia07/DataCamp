{
  "nbformat": 4,
  "nbformat_minor": 0,
  "metadata": {
    "colab": {
      "provenance": [],
      "authorship_tag": "ABX9TyN1lIozXHGaSIsWhG3RIi8G",
      "include_colab_link": true
    },
    "kernelspec": {
      "name": "python3",
      "display_name": "Python 3"
    },
    "language_info": {
      "name": "python"
    }
  },
  "cells": [
    {
      "cell_type": "markdown",
      "metadata": {
        "id": "view-in-github",
        "colab_type": "text"
      },
      "source": [
        "<a href=\"https://colab.research.google.com/github/lia07/DataCamp/blob/main/Untitled1.ipynb\" target=\"_parent\"><img src=\"https://colab.research.google.com/assets/colab-badge.svg\" alt=\"Open In Colab\"/></a>"
      ]
    },
    {
      "cell_type": "code",
      "execution_count": null,
      "metadata": {
        "id": "zk0P2TK1xa5R"
      },
      "outputs": [],
      "source": [
        "Instructions\n",
        "100 XP\n",
        "Complete the import statement to load the numpy package.\n",
        "Use numpy's array class to define arr.\n",
        "Use arr's sort method to sort the numpy array.\n",
        "\n",
        "\n",
        "# import the numpy package\n",
        "import numpy as np\n",
        "\n",
        "# create an array class object\n",
        "arr = np.array([8, 6, 7, 5, 3, 0, 9])\n",
        "\n",
        "# use the sort method\n",
        "arr.sort()\n",
        "\n",
        "# print the sorted array\n",
        "print(arr)"
      ]
    }
  ]
}