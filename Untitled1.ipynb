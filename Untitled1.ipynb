{
  "nbformat": 4,
  "nbformat_minor": 0,
  "metadata": {
    "colab": {
      "provenance": [],
      "authorship_tag": "ABX9TyP9wGvqNppSiogEs6q1ElKJ",
      "include_colab_link": true
    },
    "kernelspec": {
      "name": "python3",
      "display_name": "Python 3"
    },
    "language_info": {
      "name": "python"
    }
  },
  "cells": [
    {
      "cell_type": "markdown",
      "metadata": {
        "id": "view-in-github",
        "colab_type": "text"
      },
      "source": [
        "<a href=\"https://colab.research.google.com/github/lia07/DataCamp/blob/main/Untitled1.ipynb\" target=\"_parent\"><img src=\"https://colab.research.google.com/assets/colab-badge.svg\" alt=\"Open In Colab\"/></a>"
      ]
    },
    {
      "cell_type": "code",
      "execution_count": null,
      "metadata": {
        "id": "zk0P2TK1xa5R"
      },
      "outputs": [],
      "source": [
        "Instructions\n",
        "100 XP\n",
        "Complete the import statement to load the numpy package.\n",
        "Use numpy's array class to define arr.\n",
        "Use arr's sort method to sort the numpy array.\n",
        "\n",
        "\n",
        "# import the numpy package\n",
        "import numpy as np\n",
        "\n",
        "# create an array class object\n",
        "arr = np.array([8, 6, 7, 5, 3, 0, 9])\n",
        "\n",
        "# use the sort method\n",
        "arr.sort()\n",
        "\n",
        "# print the sorted array\n",
        "print(arr)"
      ]
    },
    {
      "cell_type": "code",
      "source": [
        "Instructions 1/2\n",
        "50 XP\n",
        "1\n",
        "2\n",
        "View the documentation of the Counter.most_common method using the help() function. Note, you need to run the import statement before completing this step.\n",
        "\n",
        "\n",
        "# Load the Counter function into our environment\n",
        "from collections import Counter\n",
        "\n",
        "# View the documentation for Counter.most_common\n",
        "help(Counter.most_common)\n",
        "\n",
        "\n",
        "Correctly call Counter.most_common() by reading its documentation.\n",
        "Print the results stored in top_5_words.\n",
        "\n",
        "\n",
        "# Load the Counter function into our environment\n",
        "from collections import Counter\n",
        "\n",
        "# View the documentation for Counter.most_common\n",
        "help(Counter.most_common)\n",
        "\n",
        "# Use Counter to find the top 5 most common words\n",
        "top_5_words = Counter(words).most_common(5)\n",
        "\n",
        "# Display the top 5 most common words\n",
        "print(top_5_words)\n"
      ],
      "metadata": {
        "id": "-wSRTUOuufcp"
      },
      "execution_count": null,
      "outputs": []
    },
    {
      "cell_type": "code",
      "source": [
        "Instructions\n",
        "100 XP\n",
        "Import the pycodestyle package.\n",
        "Create an instance of StyleGuide named style_checker.\n",
        "There are two files that we'll be checking; they're named 'nay_pep8.py' and 'yay_pep8.py'. Pass a list containing these file names to our style_checker's check_files method.\n",
        "print() the results of our style check to the console. Make sure to read the output!\n",
        "\n",
        "\n",
        "# Import needed package\n",
        "import pycodestyle\n",
        "\n",
        "# Create a StyleGuide instance\n",
        "style_checker = pycodestyle.StyleGuide()\n",
        "\n",
        "# Run PEP 8 check on multiple files\n",
        "result = style_checker.check_files(['nay_pep8.py', 'yay_pep8.py'])\n",
        "\n",
        "# Print result of PEP 8 style check\n",
        "print(result.messages)\n",
        "\n"
      ],
      "metadata": {
        "id": "k9gzpBiHXogy"
      },
      "execution_count": null,
      "outputs": []
    },
    {
      "cell_type": "code",
      "source": [
        "Instructions\n",
        "100 XP\n",
        "Leverage the output of pycodestyle to edit the code to be compliant with PEP 8.\n",
        "\n",
        "# Assign data to x\n",
        "x = [8, 3, 4]\n",
        "\n",
        "# Print the data\n",
        "print(x)"
      ],
      "metadata": {
        "id": "onqaZx91XodO"
      },
      "execution_count": null,
      "outputs": []
    },
    {
      "cell_type": "code",
      "source": [
        "Instructions\n",
        "100 XP\n",
        "Leverage the output of pycodestyle to edit the code's comments to be compliant with PEP 8.\n",
        "\n",
        "def print_phrase(phrase, polite=True, shout=False):\n",
        "    if polite:# It's generally polite to say please\n",
        "        phrase = 'Please ' + phrase\n",
        "\n",
        "    if shout:  #All caps looks like a written shout\n",
        "        phrase = phrase.upper() + '!!'\n",
        "\n",
        "    print(phrase)\n",
        "\n",
        "\n",
        "#Politely ask for help\n",
        "print_phrase('help me', polite=True)\n",
        " # Shout about a discovery\n",
        "print_phrase('eureka', shout=True)"
      ],
      "metadata": {
        "id": "xcADHusbufZO"
      },
      "execution_count": null,
      "outputs": []
    },
    {
      "cell_type": "code",
      "source": [
        "Instructions\n",
        "100 XP\n",
        "The possible package names to import are the following: text_analyzer, textAnalyzer, TextAnalyzer, & __text_analyzer__.\n",
        "import the package from the list above that follows the PEP 8 naming conventions.\n",
        "\n",
        "\n",
        "# Import local packages\n",
        "import package\n",
        "import py_package\n",
        "\n",
        "# View the help for each package\n",
        "help(package)\n",
        "help(py_package)"
      ],
      "metadata": {
        "id": "rWmDGQmmxu6Y"
      },
      "execution_count": null,
      "outputs": []
    },
    {
      "cell_type": "code",
      "source": [
        "Instructions 1/3\n",
        "1 XP\n",
        "1\n",
        "2\n",
        "3\n",
        "Define top_items using plot_counter's inputs.\n",
        "\n",
        "\n",
        "# Import needed functionality\n",
        "from collections import Counter\n",
        "\n",
        "def plot_counter(counter, n_most_common=5):\n",
        "  # Subset the n_most_common items from the input counter\n",
        "  top_items = counter.most_common(n_most_common)\n",
        "  # Plot `top_items`\n",
        "  plot_counter_most_common(top_items)\n",
        "\n",
        "\n",
        "\n",
        "Return the correct output from sum_counters.\n",
        "\n",
        "# Import needed functionality\n",
        "from collections import Counter\n",
        "\n",
        "def sum_counters(counters):\n",
        "  # Sum the inputted counters\n",
        "  return sum(counters, Counter())\n",
        "\n",
        "\n"
      ],
      "metadata": {
        "id": "QQmGPUhSxu2-"
      },
      "execution_count": null,
      "outputs": []
    },
    {
      "cell_type": "code",
      "source": [
        "Instructions\n",
        "100 XP\n",
        "import your text_analyzer at the top of the script.\n",
        "Use the sum_counters() function from text_analyzer to aggregate all the Counters in word_counts.\n",
        "Use the plot_counter() function from text_analyzer to visualize the tweet's most used words while tweeting.\n",
        "\n",
        "# Import local package\n",
        "import text_analyzer\n",
        "\n",
        "# Sum word_counts using sum_counters from text_analyzer\n",
        "word_count_totals = text_analyzer.sum_counters(word_counts)\n",
        "\n",
        "# Plot word_count_totals using plot_counter from text_analyzer\n",
        "text_analyzer.plot_counter(word_count_totals)"
      ],
      "metadata": {
        "id": "TZVBac2Oxuzj"
      },
      "execution_count": null,
      "outputs": []
    },
    {
      "cell_type": "code",
      "source": [
        "Instructions\n",
        "100 XP\n",
        "Write the requirement for matplotlib with at least version 3.0.0 or above.\n",
        "Write the requirement for numpy version 1.15.4 exactly.\n",
        "Write the requirement for pandas with at most version 0.22.0.\n",
        "Write a non-version specific requirement for pycodestyle\n",
        "\n",
        "\n",
        "requirements = \"\"\"\n",
        "matplotlib>=3.0.0\n",
        "numpy==1.15.4\n",
        "pandas<=0.22.0\n",
        "pycodestyle\n",
        "\"\"\""
      ],
      "metadata": {
        "id": "V_6yBHz0xulQ"
      },
      "execution_count": null,
      "outputs": []
    },
    {
      "cell_type": "code",
      "source": [
        "Instructions\n",
        "100 XP\n",
        "import the needed function, setup, from the setuptools package.\n",
        "Complete the name & packages arguments; keep in mind your package is located in a directory named text_analyzer.\n",
        "List yourself as the author.\n",
        "\n",
        "\n",
        "# Import needed function from setuptools\n",
        "from setuptools import setup\n",
        "\n",
        "# Create proper setup to be used by pip\n",
        "setup(name='text_analyzer',\n",
        "      version='0.0.1',\n",
        "      description='Perform and visualize a text anaylsis.',\n",
        "      author='username',\n",
        "      packages=['text_analyzer'])"
      ],
      "metadata": {
        "id": "wxdgdkNRmZ3V"
      },
      "execution_count": null,
      "outputs": []
    },
    {
      "cell_type": "code",
      "source": [
        "Instructions\n",
        "100 XP\n",
        "import the needed function, setup, from the setuptools package.\n",
        "Complete the name & packages arguments; keep in mind your package is located in a directory named text_analyzer.\n",
        "List yourself as the author.\n",
        "\n",
        "# Import needed function from setuptools\n",
        "from setuptools import setup\n",
        "\n",
        "# Create proper setup to be used by pip\n",
        "setup(name='text_analyzer',\n",
        "      version='0.0.1',\n",
        "      description='Perform and visualize a text anaylsis.',\n",
        "      author='username',\n",
        "      packages=['text_analyzer'])\n"
      ],
      "metadata": {
        "id": "tSC2Wx25m1XO"
      },
      "execution_count": null,
      "outputs": []
    },
    {
      "cell_type": "code",
      "source": [
        "Instructions\n",
        "100 XP\n",
        "import the needed function, setup, from the setuptools package.\n",
        "List yourself as the author.\n",
        "Specify your install_requires to require matplotlib version 3.0.0 or above.\n",
        "\n",
        "\n",
        "# Import needed function from setuptools\n",
        "from setuptools import setup\n",
        "\n",
        "# Create proper setup to be used by pip\n",
        "setup(name='text_analyzer',\n",
        "      version='0.0.1',\n",
        "      description='Perform and visualize a text anaylsis.',\n",
        "      author='username',\n",
        "      packages=['text_analyzer'],\n",
        "      install_requires=['matplotlib>=3.0.0'])"
      ],
      "metadata": {
        "id": "rOb71rIalwek"
      },
      "execution_count": null,
      "outputs": []
    },
    {
      "cell_type": "code",
      "source": [
        "You are working in document.py.\n",
        "Finish the def statement that will create a new Document instance when a user calls Document().\n",
        "Use your knowledge of PEP 8 conventions to complete the definition of the newly named class method.\n",
        "\n",
        "# Define Document class\n",
        "class Document:\n",
        "    \"\"\"A class for text analysis\n",
        "\n",
        "    :param text: string of text to be analyzed\n",
        "    :ivar text: string of text to be analyzed; set by `text` parameter\n",
        "    \"\"\"\n",
        "    # Method to create a new instance of MyClass\n",
        "    def __init__(self, text):\n",
        "        # Store text parameter to the text attribute\n",
        "        self.text = text\n",
        "\n"
      ],
      "metadata": {
        "id": "cRfBv4m7n2Ui"
      },
      "execution_count": null,
      "outputs": []
    },
    {
      "cell_type": "code",
      "source": [
        "Instructions\n",
        "100 XP\n",
        "import your text_analyzer package.\n",
        "Create an instance of Document with the datacamp_tweet variable that's been loaded into your session.\n",
        "Print the contents of the text attribute of your newly created Document instance.\n",
        "\n",
        "# Import custom text_analyzer package\n",
        "import text_analyzer\n",
        "\n",
        "# Create an instance of Document with datacamp_tweet\n",
        "my_document = text_analyzer.Document(text=datacamp_tweet)\n",
        "\n",
        "# Print the text attribute of the Document instance\n",
        "print(my_document.text)\n",
        "\n",
        "\n"
      ],
      "metadata": {
        "id": "n4qyElZYnlQQ"
      },
      "execution_count": null,
      "outputs": []
    },
    {
      "cell_type": "code",
      "source": [
        "Instructions\n",
        "100 XP\n",
        "Counter from collections has been loaded into your environment, as well as the function tokenize().\n",
        "Add a method named count_words as a non-public method.\n",
        "Give your non-public method the functionality to count the contents tokens attribute using Counter().\n",
        "Utilize your new function in the __init__ method.\n",
        "\n"
      ],
      "metadata": {
        "id": "JdXOZeAXj49c"
      },
      "execution_count": null,
      "outputs": []
    },
    {
      "cell_type": "code",
      "source": [],
      "metadata": {
        "id": "47oFEyY7eIm1"
      },
      "execution_count": null,
      "outputs": []
    },
    {
      "cell_type": "code",
      "source": [],
      "metadata": {
        "id": "rYcphTBfeIVN"
      },
      "execution_count": null,
      "outputs": []
    }
  ]
}