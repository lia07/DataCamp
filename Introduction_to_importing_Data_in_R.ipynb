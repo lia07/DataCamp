{
  "nbformat": 4,
  "nbformat_minor": 0,
  "metadata": {
    "colab": {
      "name": "Introduction to importing Data in R.ipynb",
      "provenance": [],
      "authorship_tag": "ABX9TyOulw4FqtFSNFgHf1C4Ib1j",
      "include_colab_link": true
    },
    "kernelspec": {
      "name": "python3",
      "display_name": "Python 3"
    },
    "language_info": {
      "name": "python"
    }
  },
  "cells": [
    {
      "cell_type": "markdown",
      "metadata": {
        "id": "view-in-github",
        "colab_type": "text"
      },
      "source": [
        "<a href=\"https://colab.research.google.com/github/lia07/DataCamp/blob/main/Introduction_to_importing_Data_in_R.ipynb\" target=\"_parent\"><img src=\"https://colab.research.google.com/assets/colab-badge.svg\" alt=\"Open In Colab\"/></a>"
      ]
    },
    {
      "cell_type": "markdown",
      "source": [
        "# **Introduction to importing Data in R**"
      ],
      "metadata": {
        "id": "0uWFIYNlxSyO"
      }
    },
    {
      "cell_type": "markdown",
      "source": [
        "# **1**"
      ],
      "metadata": {
        "id": "9MT1r_S4xYvz"
      }
    },
    {
      "cell_type": "code",
      "source": [
        "Instructions\n",
        "100 XP\n",
        "Use read.csv() to import \"swimming_pools.csv\" as a data frame with the name pools.\n",
        "Print the structure of pools using str().\n",
        "\n",
        "# Import swimming_pools.csv: pools\n",
        "pools <- read.csv(\"swimming_pools.csv\")\n",
        "\n",
        "# Print the structure of pools\n",
        "str(pools)\n"
      ],
      "metadata": {
        "id": "hXcKozlOxVE8"
      },
      "execution_count": null,
      "outputs": []
    },
    {
      "cell_type": "code",
      "source": [
        "Instructions\n",
        "100 XP\n",
        "Use read.csv() to import the data in \"swimming_pools.csv\" as a data frame called pools; make sure that strings are imported as characters, not as factors.\n",
        "Using str(), display the structure of the dataset and check that you indeed get character vectors instead of factors.\n",
        "\n",
        "# Import swimming_pools.csv correctly: pools\n",
        "pools <- read.csv(\"swimming_pools.csv\", stringsAsFactors = FALSE)\n",
        "\n",
        "# Check the structure of pools\n",
        "str(pools)\n"
      ],
      "metadata": {
        "id": "JZldS9JrxX0D"
      },
      "execution_count": null,
      "outputs": []
    },
    {
      "cell_type": "code",
      "source": [
        "Instructions\n",
        "100 XP\n",
        "Import the data in \"hotdogs.txt\" with read.delim(). Call the resulting data frame hotdogs. The variable names are not on the first line, so make sure to set the header argument appropriately.\n",
        "Call summary() on hotdogs. This will print out some summary statistics about all variables in the data frame.\n",
        "\n",
        "\n",
        "# Import hotdogs.txt: hotdogs\n",
        "hotdogs <- read.delim(\"hotdogs.txt\", header = FALSE)\n",
        "\n",
        "# Summarize hotdogs\n",
        "summary(hotdogs)\n"
      ],
      "metadata": {
        "id": "h6Sa3D1mxXvl"
      },
      "execution_count": null,
      "outputs": []
    },
    {
      "cell_type": "code",
      "source": [
        "Instructions\n",
        "100 XP\n",
        "Finish the read.table() call that's been prepared for you. Use the path variable, and make sure to set sep correctly.\n",
        "Call head() on hotdogs; this will print the first 6 observations in the data frame.\n",
        "\n",
        "# Path to the hotdogs.txt file: path\n",
        "path <- file.path(\"data\", \"hotdogs.txt\")\n",
        "\n",
        "# Import the hotdogs.txt file: hotdogs\n",
        "hotdogs <- read.table(path, \n",
        "                      sep = \"\\t\", \n",
        "                      col.names = c(\"type\", \"calories\", \"sodium\"))\n",
        "\n",
        "# Call head() on hotdogs\n",
        "head(hotdogs)\n"
      ],
      "metadata": {
        "id": "ArGwVDF3xXsu"
      },
      "execution_count": null,
      "outputs": []
    },
    {
      "cell_type": "code",
      "source": [
        "Instructions\n",
        "100 XP\n",
        "Finish the read.delim() call to import the data in \"hotdogs.txt\". It's a tab-delimited file without names in the first row.\n",
        "The code that selects the observation with the lowest calorie count and stores it in the variable lily is already available. It uses the function which.min(), that returns the index the smallest value in a vector.\n",
        "Do a similar thing for Tom: select the observation with the most sodium and store it in tom. Use which.max() this time.\n",
        "Finally, print both the observations lily and tom.\n",
        "\n",
        "# Finish the read.delim() call\n",
        "hotdogs <- read.delim(\"hotdogs.txt\", header = FALSE, col.names = c(\"type\", \"calories\", \"sodium\"))\n",
        "\n",
        "# Select the hot dog with the least calories: lily\n",
        "lily <- hotdogs[which.min(hotdogs$calories), ]\n",
        "\n",
        "# Select the observation with the most sodium: tom\n",
        "tom <- hotdogs[which.max(hotdogs$sodium), ]\n",
        "\n",
        "# Print lily and tom\n",
        "lily\n",
        "tom\n"
      ],
      "metadata": {
        "id": "iZ-QcAzVxXnq"
      },
      "execution_count": null,
      "outputs": []
    },
    {
      "cell_type": "code",
      "source": [
        "Instructions\n",
        "100 XP\n",
        "The read.delim() call from before is already included and creates the hotdogs data frame. Go ahead and display the structure of hotdogs.\n",
        "Edit the second read.delim() call. Assign the correct vector to the colClasses argument. NA should be replaced with a character vector: c(\"factor\", \"NULL\", \"numeric\").\n",
        "Display the structure of hotdogs2 and look for the difference.\n",
        "\n",
        "# Previous call to import hotdogs.txt\n",
        "hotdogs <- read.delim(\"hotdogs.txt\", header = FALSE, col.names = c(\"type\", \"calories\", \"sodium\"))\n",
        "\n",
        "# Display structure of hotdogs\n",
        "str(hotdogs)\n",
        "\n",
        "# Edit the colClasses argument to import the data correctly: hotdogs2\n",
        "hotdogs2 <- read.delim(\"hotdogs.txt\", header = FALSE, \n",
        "                       col.names = c(\"type\", \"calories\", \"sodium\"),\n",
        "                       colClasses = c(\"factor\", \"NULL\", \"numeric\"))\n",
        "\n",
        "# Display structure of hotdogs2\n",
        "str(hotdogs2)\n",
        "\n"
      ],
      "metadata": {
        "id": "tZIx7cy-xXlH"
      },
      "execution_count": null,
      "outputs": []
    },
    {
      "cell_type": "markdown",
      "source": [
        "# **2**"
      ],
      "metadata": {
        "id": "6eEFd-vp4jhF"
      }
    },
    {
      "cell_type": "code",
      "source": [
        "Instructions\n",
        "100 XP\n",
        "Load the readr package with library(). You do not need to install the package, it is already installed on DataCamp's servers.\n",
        "Import \"potatoes.csv\" using read_csv(). Assign the resulting data frame to the variable potatoes.\n",
        "\n",
        "\n",
        "# Load the readr package\n",
        "library(readr)\n",
        "\n",
        "# Import potatoes.csv with read_csv(): potatoes\n",
        "potatoes <- read_csv(\"potatoes.csv\")\n",
        "\n"
      ],
      "metadata": {
        "id": "cqEmQzzH4nQq"
      },
      "execution_count": null,
      "outputs": []
    },
    {
      "cell_type": "code",
      "source": [
        "Instructions\n",
        "100 XP\n",
        "Use read_tsv() to import the potatoes data from potatoes.txt and store it in the data frame potatoes. In addition to the path to the file, you'll also have to specify the col_names argument; you can use the properties vector for this.\n",
        "Call head() on potatoes to show the first observations of your dataset.\n",
        "\n",
        "\n",
        "# readr is already loaded\n",
        "\n",
        "# Column names\n",
        "properties <- c(\"area\", \"temp\", \"size\", \"storage\", \"method\",\n",
        "                \"texture\", \"flavor\", \"moistness\")\n",
        "\n",
        "# Import potatoes.txt: potatoes\n",
        "potatoes <- read_tsv(\"potatoes.txt\", col_names = properties)\n",
        "\n",
        "# Call head() on potatoes\n",
        "head(potatoes)"
      ],
      "metadata": {
        "id": "Io-3FleA4nMJ"
      },
      "execution_count": null,
      "outputs": []
    },
    {
      "cell_type": "code",
      "source": [
        "Instructions\n",
        "100 XP\n",
        "Import all the data in \"potatoes.txt\" using read_delim(); store the resulting data frame in potatoes.\n",
        "Print out potatoes.\n",
        "\n",
        "# readr is already loaded\n",
        "\n",
        "# Column names\n",
        "properties <- c(\"area\", \"temp\", \"size\", \"storage\", \"method\",\n",
        "                \"texture\", \"flavor\", \"moistness\")\n",
        "\n",
        "# Import potatoes.txt using read_delim(): potatoes\n",
        "potatoes <- read_delim(\"potatoes.txt\", delim = \"\\t\", col_names = properties)\n",
        "\n",
        "# Print out potatoes\n",
        "potatoes\n"
      ],
      "metadata": {
        "id": "dZIiK3eU4nIF"
      },
      "execution_count": null,
      "outputs": []
    },
    {
      "cell_type": "code",
      "source": [
        "Instructions\n",
        "100 XP\n",
        "Finish the first read_tsv() call to import observations 7, 8, 9, 10 and 11 from potatoes.txt.\n",
        "\n",
        "\n",
        "# readr is already loaded\n",
        "\n",
        "# Column names\n",
        "properties <- c(\"area\", \"temp\", \"size\", \"storage\", \"method\",\n",
        "                \"texture\", \"flavor\", \"moistness\")\n",
        "\n",
        "# Import 5 observations from potatoes.txt: potatoes_fragment\n",
        "potatoes_fragment <- read_tsv(\"potatoes.txt\", skip = 6, n_max = 5, col_names = properties)\n",
        "\n"
      ],
      "metadata": {
        "id": "QJ9I1WnJ4nD5"
      },
      "execution_count": null,
      "outputs": []
    },
    {
      "cell_type": "code",
      "source": [
        "Instructions\n",
        "100 XP\n",
        "In the second read_tsv() call, edit the col_types argument to import all columns as characters (c). Store the resulting data frame in potatoes_char.\n",
        "Print out the structure of potatoes_char and verify whether all column types are chr, short for character.\n",
        "\n",
        "# readr is already loaded\n",
        "\n",
        "# Column names\n",
        "properties <- c(\"area\", \"temp\", \"size\", \"storage\", \"method\",\n",
        "                \"texture\", \"flavor\", \"moistness\")\n",
        "\n",
        "# Import all data, but force all columns to be character: potatoes_char\n",
        "potatoes_char <- read_tsv(\"potatoes.txt\", col_types = \"cccccccc\", col_names = properties)\n",
        "\n",
        "# Print out structure of potatoes_char\n",
        "str(potatoes_char)\n"
      ],
      "metadata": {
        "id": "m1Kcjg3RxXSJ"
      },
      "execution_count": null,
      "outputs": []
    },
    {
      "cell_type": "code",
      "source": [
        "Instructions\n",
        "100 XP\n",
        "hotdogs is created for you without setting the column types. Inspect its summary using the summary() function.\n",
        "Two collector functions are defined for you: fac and int. Have a look at them, do you understand what they're collecting?\n",
        "In the second read_tsv() call, edit the col_types argument: Pass a list() with the elements fac, int and int, so the first column is imported as a factor, and the second and third column as integers.\n",
        "Create a summary() of hotdogs_factor. Compare this to the summary of hotdogs.\n",
        "\n",
        "\n",
        "# readr is already loaded\n",
        "\n",
        "# Import without col_types\n",
        "hotdogs <- read_tsv(\"hotdogs.txt\", col_names = c(\"type\", \"calories\", \"sodium\"))\n",
        "\n",
        "# Display the summary of hotdogs\n",
        "summary(hotdogs)\n",
        "\n",
        "# The collectors you will need to import the data\n",
        "fac <- col_factor(levels = c(\"Beef\", \"Meat\", \"Poultry\"))\n",
        "int <- col_integer()\n",
        "\n",
        "# Edit the col_types argument to import the data correctly: hotdogs_factor\n",
        "hotdogs_factor <- read_tsv(\"hotdogs.txt\",\n",
        "                           col_names = c(\"type\", \"calories\", \"sodium\"),\n",
        "                           col_types = list(fac, int, int))\n",
        "\n",
        "# Display the summary of hotdogs_factor\n",
        "summary(hotdogs_factor)\n",
        "\n"
      ],
      "metadata": {
        "id": "OWXfhiA9xXPX"
      },
      "execution_count": null,
      "outputs": []
    },
    {
      "cell_type": "code",
      "source": [
        "Instructions\n",
        "100 XP\n",
        "Use library() to load (NOT install) the data.table package. You do not need to install the package, it is already installed on DataCamp's servers.\n",
        "Import \"potatoes.csv\" with fread(). Simply pass it the file path and see if it worked. Store the result in a variable potatoes.\n",
        "Print out potatoes.\n",
        "\n",
        "# load the data.table package using library()\n",
        "library(data.table)\n",
        "\n",
        "# Import potatoes.csv with fread(): potatoes\n",
        "potatoes <- fread(\"potatoes.csv\")\n",
        "\n",
        "# Print out potatoes\n",
        "potatoes\n"
      ],
      "metadata": {
        "id": "FT6BYEo1xXLQ"
      },
      "execution_count": null,
      "outputs": []
    },
    {
      "cell_type": "code",
      "source": [
        "Instructions\n",
        "100 XP\n",
        "Using fread() and select or drop as arguments, only import the texture and moistness columns of the flat file. They correspond to the columns 6 and 8 in \"potatoes.csv\". Store the result in a variable potatoes.\n",
        "plot() 2 columns of the potatoes data frame: texture on the x-axis, moistness on the y-axis. Use the dollar sign notation twice. Feel free to name your axes and plot.\n",
        "\n",
        "# fread is already loaded\n",
        "\n",
        "# Import columns 6 and 8 of potatoes.csv: potatoes\n",
        "potatoes <- fread(\"potatoes.csv\", select = c(6, 8))\n",
        "\n",
        "# Plot texture (x) and moistness (y) of potatoes\n",
        "plot(potatoes$texture, potatoes$moistness)\n"
      ],
      "metadata": {
        "id": "dXLwVIZ0xXIp"
      },
      "execution_count": null,
      "outputs": []
    },
    {
      "cell_type": "markdown",
      "source": [
        "# **3**"
      ],
      "metadata": {
        "id": "a2R_Ym8efpHN"
      }
    },
    {
      "cell_type": "code",
      "source": [
        "Instructions\n",
        "100 XP\n",
        "Load the readxl package using library(). It's already installed on DataCamp's servers.\n",
        "Use excel_sheets() to print out the names of the sheets in urbanpop.xlsx.\n",
        "\n",
        "# Load the readxl package\n",
        "library(readxl)\n",
        "\n",
        "# Print the names of all worksheets\n",
        "excel_sheets('urbanpop.xlsx')"
      ],
      "metadata": {
        "id": "ZsrGbLwrxXFw"
      },
      "execution_count": null,
      "outputs": []
    },
    {
      "cell_type": "code",
      "source": [
        "Instructions\n",
        "100 XP\n",
        "The code to import the first and second sheets is already included. Can you add a command to also import the third sheet, and store the resulting data frame in pop_3?\n",
        "Store the data frames pop_1, pop_2 and pop_3 in a list, that you call pop_list.\n",
        "Display the structure of pop_list.\n",
        "\n",
        "# The readxl package is already loaded\n",
        "\n",
        "# Read the sheets, one by one\n",
        "pop_1 <- read_excel(\"urbanpop.xlsx\", sheet = 1)\n",
        "pop_2 <- read_excel(\"urbanpop.xlsx\", sheet = 2)\n",
        "pop_3 <- read_excel(\"urbanpop.xlsx\", sheet = 3)\n",
        "\n",
        "# Put pop_1, pop_2 and pop_3 in a list: pop_list\n",
        "pop_list <- list(pop_1, pop_2, pop_3)\n",
        "\n",
        "# Display the structure of pop_list\n",
        "str(pop_list)\n"
      ],
      "metadata": {
        "id": "Sh5n-bktxXCr"
      },
      "execution_count": null,
      "outputs": []
    },
    {
      "cell_type": "code",
      "source": [
        "Instructions\n",
        "100 XP\n",
        "Use lapply() in combination with excel_sheets() and read_excel() to read all the Excel sheets in \"urbanpop.xlsx\". Name the resulting list pop_list.\n",
        "Print the structure of pop_list.\n",
        "\n",
        "# The readxl package is already loaded\n",
        "\n",
        "# Read all Excel sheets with lapply(): pop_list\n",
        "pop_list <- lapply(excel_sheets(\"urbanpop.xlsx\"), read_excel, path = \"urbanpop.xlsx\")\n",
        "\n",
        "# Display the structure of pop_list\n",
        "str(pop_list)\n"
      ],
      "metadata": {
        "id": "RDtLFp8yxW_x"
      },
      "execution_count": null,
      "outputs": []
    },
    {
      "cell_type": "code",
      "source": [
        "Instructions\n",
        "100 XP\n",
        "Import the first Excel sheet of \"urbanpop_nonames.xlsx\" and store the result in pop_a. Have R set the column names of the resulting data frame itself.\n",
        "Import the first Excel sheet of urbanpop_nonames.xlsx; this time, use the cols vector that has already been prepared for you to specify the column names. Store the resulting data frame in pop_b.\n",
        "Print out the summary of pop_a.\n",
        "Print out the summary of pop_b. Can you spot the difference with the other summary?\n",
        "\n",
        "# The readxl package is already loaded\n",
        "\n",
        "# Import the first Excel sheet of urbanpop_nonames.xlsx (R gives names): pop_a\n",
        "pop_a <- read_excel(\"urbanpop_nonames.xlsx\", col_names = FALSE)\n",
        "\n",
        "# Import the first Excel sheet of urbanpop_nonames.xlsx (specify col_names): pop_b\n",
        "cols <- c(\"country\", paste0(\"year_\", 1960:1966))\n",
        "pop_b <- read_excel(\"urbanpop_nonames.xlsx\", col_names = cols)\n",
        "\n",
        "# Print the summary of pop_a\n",
        "summary(pop_a)\n",
        "\n",
        "# Print the summary of pop_b\n",
        "summary(pop_b)"
      ],
      "metadata": {
        "id": "rCiY4p9ExW44"
      },
      "execution_count": null,
      "outputs": []
    },
    {
      "cell_type": "code",
      "source": [
        "Instructions\n",
        "100 XP\n",
        "Import the second sheet of \"urbanpop.xlsx\", but skip the first 21 rows. Make sure to set col_names = FALSE. Store the resulting data frame in a variable urbanpop_sel.\n",
        "Select the first observation from urbanpop_sel and print it out.\n",
        "\n",
        "# The readxl package is already loaded\n",
        "\n",
        "# Import the second sheet of urbanpop.xlsx, skipping the first 21 rows: urbanpop_sel\n",
        "urbanpop_sel <- read_excel(\"urbanpop.xlsx\", sheet = 2, col_names = FALSE, skip = 21)\n",
        "\n",
        "# Print out the first observation from urbanpop_sel\n",
        "urbanpop_sel[1,]\n",
        "\n"
      ],
      "metadata": {
        "id": "ZtXE6yAazH9b"
      },
      "execution_count": null,
      "outputs": []
    },
    {
      "cell_type": "code",
      "source": [
        "Instructions\n",
        "100 XP\n",
        "Load the gdata package with library(). gdata and Perl are already installed on DataCamp's Servers.\n",
        "Import the second sheet, named \"1967-1974\", of \"urbanpop.xls\" with read.xls(). Store the resulting data frame as urban_pop.\n",
        "Print the first 11 observations of urban_pop with head().\n",
        "\n",
        "# Load the gdata package\n",
        "library(gdata)\n",
        "\n",
        "# Import the second sheet of urbanpop.xls: urban_pop\n",
        "urban_pop <- read.xls(\"urbanpop.xls\", sheet = \"1967-1974\")\n",
        "\n",
        "# Print the first 11 observations using head()\n",
        "head(urban_pop, n = 11)\n"
      ],
      "metadata": {
        "id": "0WnchNbkzHnE"
      },
      "execution_count": null,
      "outputs": []
    },
    {
      "cell_type": "code",
      "source": [
        "Instructions\n",
        "100 XP\n",
        "Finish the read.xls() call that reads data from the second sheet of urbanpop.xls: skip the first 50 rows of the sheet. Make sure to set header appropriately and that the country names are not imported as factors.\n",
        "Print the first 10 observations of urban_pop with head().\n",
        "\n",
        "\n",
        "# The gdata package is alreaded loaded\n",
        "\n",
        "# Column names for urban_pop\n",
        "columns <- c(\"country\", paste0(\"year_\", 1967:1974))\n",
        "\n",
        "# Finish the read.xls call\n",
        "urban_pop <- read.xls(\"urbanpop.xls\", sheet = 2,\n",
        "                      skip = 50, header = FALSE, stringsAsFactors = FALSE,\n",
        "                      col.names = columns)\n",
        "\n",
        "# Print first 10 observation of urban_pop\n",
        "head(urban_pop, n = 10)\n"
      ],
      "metadata": {
        "id": "lcnZFIgMzHj7"
      },
      "execution_count": null,
      "outputs": []
    },
    {
      "cell_type": "code",
      "source": [
        "Instructions\n",
        "100 XP\n",
        "Add code to read the data from the third sheet in \"urbanpop.xls\". You want to end up with three data frames: urban_sheet1, urban_sheet2 and urban_sheet3.\n",
        "Extend the cbind() call so that it also includes urban_sheet3. Make sure the first column of urban_sheet2 and urban_sheet3 are removed, so you don't have duplicate columns. Store the result in urban.\n",
        "Use na.omit() on the urban data frame to remove all rows that contain NA values. Store the cleaned data frame as urban_clean.\n",
        "Print a summary of urban_clean and assert that there are no more NA values.\n",
        "\n",
        "\n",
        "# Import all sheets from urbanpop.xls\n",
        "path <- \"urbanpop.xls\"\n",
        "urban_sheet1 <- read.xls(path, sheet = 1, stringsAsFactors = FALSE)\n",
        "urban_sheet2 <- read.xls(path, sheet = 2, stringsAsFactors = FALSE)\n",
        "urban_sheet3 <- read.xls(path, sheet = 3, stringsAsFactors = FALSE)\n",
        "\n",
        "# Extend the cbind() call to include urban_sheet3: urban_all\n",
        "urban <- cbind(urban_sheet1, urban_sheet2[-1], urban_sheet3[-1])\n",
        "\n",
        "# Remove all rows with NAs from urban: urban_clean\n",
        "urban_clean <- na.omit(urban)\n",
        "\n",
        "# Print out a summary of urban_clean\n",
        "summary(urban_clean)\n"
      ],
      "metadata": {
        "id": "m_sDfUp6xW0o"
      },
      "execution_count": null,
      "outputs": []
    },
    {
      "cell_type": "markdown",
      "source": [
        "# ***4***"
      ],
      "metadata": {
        "id": "mL_ZVNv02kaC"
      }
    },
    {
      "cell_type": "code",
      "source": [
        "\n",
        "Instructions\n",
        "100 XP\n",
        "Load the XLConnect package using library(); it is already installed on DataCamp's servers.\n",
        "Use loadWorkbook() to build a connection to the \"urbanpop.xlsx\" file in R. Call the workbook my_book.\n",
        "Print out the class of my_book. What does this tell you?\n",
        "\n",
        "# urbanpop.xlsx is available in your working directory\n",
        "\n",
        "# Load the XLConnect package\n",
        "library(XLConnect)\n",
        "\n",
        "# Build connection to urbanpop.xlsx: my_book\n",
        "my_book <- loadWorkbook(\"urbanpop.xlsx\")\n",
        "\n",
        "# Print out the class of my_book\n",
        "class(my_book)\n"
      ],
      "metadata": {
        "id": "PEya72v12Tyg"
      },
      "execution_count": null,
      "outputs": []
    },
    {
      "cell_type": "code",
      "source": [
        "Instructions\n",
        "100 XP\n",
        "Print out the sheets of the Excel file that my_book links to.\n",
        "Import the second sheet in my_book as a data frame. Print it out.\n",
        "\n",
        "# XLConnect is already available\n",
        "\n",
        "# Build connection to urbanpop.xlsx\n",
        "my_book <- loadWorkbook(\"urbanpop.xlsx\")\n",
        "\n",
        "# List the sheets in my_book\n",
        "getSheets(my_book)\n",
        "\n",
        "# Import the second sheet in my_book\n",
        "readWorksheet(my_book, sheet = 2)\n"
      ],
      "metadata": {
        "id": "HlutZr572Tu7"
      },
      "execution_count": null,
      "outputs": []
    },
    {
      "cell_type": "code",
      "source": [
        "Instructions\n",
        "100 XP\n",
        "Extend the readWorksheet() command with the startCol and endCol arguments to only import the columns 3, 4, and 5 of the second sheet.\n",
        "urbanpop_sel no longer contains information about the countries now. Can you write another readWorksheet() command that imports only the first column from the second sheet? Store the resulting data frame as countries.\n",
        "Use cbind() to paste together countries and urbanpop_sel, in this order. Store the result as selection.\n",
        "\n",
        "# XLConnect is already available\n",
        "\n",
        "# Build connection to urbanpop.xlsx\n",
        "my_book <- loadWorkbook(\"urbanpop.xlsx\")\n",
        "\n",
        "# Import columns 3, 4, and 5 from second sheet in my_book: urbanpop_sel\n",
        "urbanpop_sel <- readWorksheet(my_book, sheet = 2, startCol = 3, endCol = 5)\n",
        "\n",
        "# Import first column from second sheet in my_book: countries\n",
        "countries <- readWorksheet(my_book, sheet = 2, startCol = 1, endCol = 1)\n",
        "\n",
        "# cbind() urbanpop_sel and countries together: selection\n",
        "selection <- cbind(countries, urbanpop_sel)\n",
        "\n"
      ],
      "metadata": {
        "id": "2rmktWZG2Trj"
      },
      "execution_count": null,
      "outputs": []
    },
    {
      "cell_type": "code",
      "source": [
        "Instructions\n",
        "100 XP\n",
        "Extend the readWorksheet() command with the startCol and endCol arguments to only import the columns 3, 4, and 5 of the second sheet.\n",
        "urbanpop_sel no longer contains information about the countries now. Can you write another readWorksheet() command that imports only the first column from the second sheet? Store the resulting data frame as countries.\n",
        "Use cbind() to paste together countries and urbanpop_sel, in this order. Store the result as selection.\n",
        "\n",
        "# XLConnect is already available\n",
        "\n",
        "# Build connection to urbanpop.xlsx\n",
        "my_book <- loadWorkbook(\"urbanpop.xlsx\")\n",
        "\n",
        "# Import columns 3, 4, and 5 from second sheet in my_book: urbanpop_sel\n",
        "urbanpop_sel <- readWorksheet(my_book, sheet = 2, startCol = 3, endCol = 5)\n",
        "\n",
        "# Import first column from second sheet in my_book: countries\n",
        "countries <- readWorksheet(my_book, sheet = 2, startCol = 1, endCol = 1)\n",
        "\n",
        "# cbind() urbanpop_sel and countries together: selection\n",
        "selection <- cbind(countries, urbanpop_sel)\n"
      ],
      "metadata": {
        "id": "b_VAnuCp2TnR"
      },
      "execution_count": null,
      "outputs": []
    },
    {
      "cell_type": "code",
      "source": [
        "Instructions\n",
        "100 XP\n",
        "Use createSheet(), to create a new sheet in my_book, named \"data_summary\".\n",
        "Use getSheets() to verify that my_book now represents an Excel file with four sheets.\n",
        "\n",
        "# XLConnect is already available\n",
        "\n",
        "# Build connection to urbanpop.xlsx\n",
        "my_book <- loadWorkbook(\"urbanpop.xlsx\")\n",
        "\n",
        "# Add a worksheet to my_book, named \"data_summary\"\n",
        "createSheet(my_book, \"data_summary\")\n",
        "\n",
        "# Use getSheets() on my_book\n",
        "getSheets(my_book)\n",
        "\n"
      ],
      "metadata": {
        "id": "GdqVl6TpxWyC"
      },
      "execution_count": null,
      "outputs": []
    },
    {
      "cell_type": "code",
      "source": [
        "Instructions\n",
        "100 XP\n",
        "Use writeWorksheet() to populate the \"data_summary\" sheet with the summ data frame.\n",
        "Call saveWorkbook() to store the adapted Excel workbook as a new file, \"summary.xlsx\".\n",
        "\n",
        "# XLConnect is already available\n",
        "\n",
        "# Build connection to urbanpop.xlsx\n",
        "my_book <- loadWorkbook(\"urbanpop.xlsx\")\n",
        "\n",
        "# Add a worksheet to my_book, named \"data_summary\"\n",
        "createSheet(my_book, \"data_summary\")\n",
        "\n",
        "# Create data frame: summ\n",
        "sheets <- getSheets(my_book)[1:3]\n",
        "dims <- sapply(sheets, function(x) dim(readWorksheet(my_book, sheet = x)), USE.NAMES = FALSE)\n",
        "summ <- data.frame(sheets = sheets,\n",
        "                   nrows = dims[1, ],\n",
        "                   ncols = dims[2, ])\n",
        "\n",
        "# Add data in summ to \"data_summary\" sheet\n",
        "writeWorksheet(my_book, summ, \"data_summary\")\n",
        "\n",
        "# Save workbook as summary.xlsx\n",
        "saveWorkbook(my_book, \"summary.xlsx\")\n",
        "\n"
      ],
      "metadata": {
        "id": "oyQ3DzT6-jrO"
      },
      "execution_count": null,
      "outputs": []
    },
    {
      "cell_type": "code",
      "source": [
        "Instructions\n",
        "100 XP\n",
        "Use renameSheet() to rename the fourth sheet to \"summary\".\n",
        "Next, call getSheets() on my_book to print out the sheet names.\n",
        "Finally, make sure to actually save the my_book object to a new Excel file, \"renamed.xlsx\".\n",
        "\n",
        "# Build connection to urbanpop.xlsx: my_book\n",
        "my_book <- loadWorkbook(\"urbanpop.xlsx\")\n",
        "\n",
        "# Rename \"data_summary\" sheet to \"summary\"\n",
        "renameSheet(my_book, \"data_summary\", \"summary\")\n",
        "\n",
        "# Print out sheets of my_book\n",
        "getSheets(my_book)\n",
        "\n",
        "# Save workbook to \"renamed.xlsx\"\n",
        "saveWorkbook(my_book, file = \"renamed.xlsx\")\n"
      ],
      "metadata": {
        "id": "_2AxHpdI7_Am"
      },
      "execution_count": null,
      "outputs": []
    },
    {
      "cell_type": "code",
      "source": [
        "Instructions\n",
        "100 XP\n",
        "Load the XLConnect package.\n",
        "Build a connection to \"renamed.xlsx\", the Excel file that you've built in the previous exercise; it's available in your working directory. Store this connection as my_book.\n",
        "Use removeSheet() to remove the fourth sheet from my_book. The sheet name is \"summary\". Recall that removeSheet() accepts either the index or the name of the sheet as the second argument.\n",
        "Save the resulting workbook, my_book, to a file \"clean.xlsx\".\n",
        "\n",
        "# Load the XLConnect package\n",
        "library(XLConnect)\n",
        "\n",
        "# Build connection to renamed.xlsx: my_book\n",
        "my_book <- loadWorkbook(\"renamed.xlsx\")\n",
        "\n",
        "# Remove the fourth sheet\n",
        "removeSheet(my_book, 4)\n",
        "\n",
        "# Save workbook to \"clean.xlsx\"\n",
        "saveWorkbook(my_book, file = \"clean.xlsx\")"
      ],
      "metadata": {
        "id": "bliLv5h4_neb"
      },
      "execution_count": null,
      "outputs": []
    }
  ]
}